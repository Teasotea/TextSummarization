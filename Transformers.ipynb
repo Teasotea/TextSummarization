{
  "cells": [
    {
      "cell_type": "markdown",
      "metadata": {
        "id": "view-in-github",
        "colab_type": "text"
      },
      "source": [
        "<a href=\"https://colab.research.google.com/github/Teasotea/textSummarization/blob/main/Transformers.ipynb\" target=\"_parent\"><img src=\"https://colab.research.google.com/assets/colab-badge.svg\" alt=\"Open In Colab\"/></a>"
      ]
    },
    {
      "cell_type": "markdown",
      "metadata": {
        "id": "2rPsPirQ3vJ6"
      },
      "source": [
        "# Import Libraries"
      ]
    },
    {
      "cell_type": "code",
      "execution_count": 65,
      "metadata": {
        "colab": {
          "base_uri": "https://localhost:8080/"
        },
        "id": "BK1cv21tA8W2",
        "outputId": "47a015bb-8471-4d61-ff39-21b539ca2d51"
      },
      "outputs": [
        {
          "output_type": "stream",
          "name": "stdout",
          "text": [
            "Requirement already satisfied: transformers in /usr/local/lib/python3.7/dist-packages (4.18.0)\n",
            "Requirement already satisfied: sentencepiece in /usr/local/lib/python3.7/dist-packages (0.1.96)\n",
            "Requirement already satisfied: tqdm>=4.27 in /usr/local/lib/python3.7/dist-packages (from transformers) (4.64.0)\n",
            "Requirement already satisfied: pyyaml>=5.1 in /usr/local/lib/python3.7/dist-packages (from transformers) (6.0)\n",
            "Requirement already satisfied: filelock in /usr/local/lib/python3.7/dist-packages (from transformers) (3.6.0)\n",
            "Requirement already satisfied: requests in /usr/local/lib/python3.7/dist-packages (from transformers) (2.23.0)\n",
            "Requirement already satisfied: tokenizers!=0.11.3,<0.13,>=0.11.1 in /usr/local/lib/python3.7/dist-packages (from transformers) (0.12.1)\n",
            "Requirement already satisfied: huggingface-hub<1.0,>=0.1.0 in /usr/local/lib/python3.7/dist-packages (from transformers) (0.5.1)\n",
            "Requirement already satisfied: regex!=2019.12.17 in /usr/local/lib/python3.7/dist-packages (from transformers) (2019.12.20)\n",
            "Requirement already satisfied: sacremoses in /usr/local/lib/python3.7/dist-packages (from transformers) (0.0.53)\n",
            "Requirement already satisfied: numpy>=1.17 in /usr/local/lib/python3.7/dist-packages (from transformers) (1.21.6)\n",
            "Requirement already satisfied: importlib-metadata in /usr/local/lib/python3.7/dist-packages (from transformers) (4.11.3)\n",
            "Requirement already satisfied: packaging>=20.0 in /usr/local/lib/python3.7/dist-packages (from transformers) (21.3)\n",
            "Requirement already satisfied: typing-extensions>=3.7.4.3 in /usr/local/lib/python3.7/dist-packages (from huggingface-hub<1.0,>=0.1.0->transformers) (4.2.0)\n",
            "Requirement already satisfied: pyparsing!=3.0.5,>=2.0.2 in /usr/local/lib/python3.7/dist-packages (from packaging>=20.0->transformers) (3.0.8)\n",
            "Requirement already satisfied: zipp>=0.5 in /usr/local/lib/python3.7/dist-packages (from importlib-metadata->transformers) (3.8.0)\n",
            "Requirement already satisfied: idna<3,>=2.5 in /usr/local/lib/python3.7/dist-packages (from requests->transformers) (2.10)\n",
            "Requirement already satisfied: urllib3!=1.25.0,!=1.25.1,<1.26,>=1.21.1 in /usr/local/lib/python3.7/dist-packages (from requests->transformers) (1.24.3)\n",
            "Requirement already satisfied: certifi>=2017.4.17 in /usr/local/lib/python3.7/dist-packages (from requests->transformers) (2021.10.8)\n",
            "Requirement already satisfied: chardet<4,>=3.0.2 in /usr/local/lib/python3.7/dist-packages (from requests->transformers) (3.0.4)\n",
            "Requirement already satisfied: click in /usr/local/lib/python3.7/dist-packages (from sacremoses->transformers) (7.1.2)\n",
            "Requirement already satisfied: joblib in /usr/local/lib/python3.7/dist-packages (from sacremoses->transformers) (1.1.0)\n",
            "Requirement already satisfied: six in /usr/local/lib/python3.7/dist-packages (from sacremoses->transformers) (1.15.0)\n",
            "Requirement already satisfied: sentence_transformers in /usr/local/lib/python3.7/dist-packages (2.2.0)\n",
            "Requirement already satisfied: huggingface-hub in /usr/local/lib/python3.7/dist-packages (from sentence_transformers) (0.5.1)\n",
            "Requirement already satisfied: torchvision in /usr/local/lib/python3.7/dist-packages (from sentence_transformers) (0.12.0+cu113)\n",
            "Requirement already satisfied: transformers<5.0.0,>=4.6.0 in /usr/local/lib/python3.7/dist-packages (from sentence_transformers) (4.18.0)\n",
            "Requirement already satisfied: numpy in /usr/local/lib/python3.7/dist-packages (from sentence_transformers) (1.21.6)\n",
            "Requirement already satisfied: scipy in /usr/local/lib/python3.7/dist-packages (from sentence_transformers) (1.4.1)\n",
            "Requirement already satisfied: sentencepiece in /usr/local/lib/python3.7/dist-packages (from sentence_transformers) (0.1.96)\n",
            "Requirement already satisfied: scikit-learn in /usr/local/lib/python3.7/dist-packages (from sentence_transformers) (1.0.2)\n",
            "Requirement already satisfied: nltk in /usr/local/lib/python3.7/dist-packages (from sentence_transformers) (3.2.5)\n",
            "Requirement already satisfied: tqdm in /usr/local/lib/python3.7/dist-packages (from sentence_transformers) (4.64.0)\n",
            "Requirement already satisfied: torch>=1.6.0 in /usr/local/lib/python3.7/dist-packages (from sentence_transformers) (1.11.0+cu113)\n",
            "Requirement already satisfied: typing-extensions in /usr/local/lib/python3.7/dist-packages (from torch>=1.6.0->sentence_transformers) (4.2.0)\n",
            "Requirement already satisfied: tokenizers!=0.11.3,<0.13,>=0.11.1 in /usr/local/lib/python3.7/dist-packages (from transformers<5.0.0,>=4.6.0->sentence_transformers) (0.12.1)\n",
            "Requirement already satisfied: requests in /usr/local/lib/python3.7/dist-packages (from transformers<5.0.0,>=4.6.0->sentence_transformers) (2.23.0)\n",
            "Requirement already satisfied: regex!=2019.12.17 in /usr/local/lib/python3.7/dist-packages (from transformers<5.0.0,>=4.6.0->sentence_transformers) (2019.12.20)\n",
            "Requirement already satisfied: packaging>=20.0 in /usr/local/lib/python3.7/dist-packages (from transformers<5.0.0,>=4.6.0->sentence_transformers) (21.3)\n",
            "Requirement already satisfied: filelock in /usr/local/lib/python3.7/dist-packages (from transformers<5.0.0,>=4.6.0->sentence_transformers) (3.6.0)\n",
            "Requirement already satisfied: pyyaml>=5.1 in /usr/local/lib/python3.7/dist-packages (from transformers<5.0.0,>=4.6.0->sentence_transformers) (6.0)\n",
            "Requirement already satisfied: sacremoses in /usr/local/lib/python3.7/dist-packages (from transformers<5.0.0,>=4.6.0->sentence_transformers) (0.0.53)\n",
            "Requirement already satisfied: importlib-metadata in /usr/local/lib/python3.7/dist-packages (from transformers<5.0.0,>=4.6.0->sentence_transformers) (4.11.3)\n",
            "Requirement already satisfied: pyparsing!=3.0.5,>=2.0.2 in /usr/local/lib/python3.7/dist-packages (from packaging>=20.0->transformers<5.0.0,>=4.6.0->sentence_transformers) (3.0.8)\n",
            "Requirement already satisfied: zipp>=0.5 in /usr/local/lib/python3.7/dist-packages (from importlib-metadata->transformers<5.0.0,>=4.6.0->sentence_transformers) (3.8.0)\n",
            "Requirement already satisfied: six in /usr/local/lib/python3.7/dist-packages (from nltk->sentence_transformers) (1.15.0)\n",
            "Requirement already satisfied: urllib3!=1.25.0,!=1.25.1,<1.26,>=1.21.1 in /usr/local/lib/python3.7/dist-packages (from requests->transformers<5.0.0,>=4.6.0->sentence_transformers) (1.24.3)\n",
            "Requirement already satisfied: certifi>=2017.4.17 in /usr/local/lib/python3.7/dist-packages (from requests->transformers<5.0.0,>=4.6.0->sentence_transformers) (2021.10.8)\n",
            "Requirement already satisfied: chardet<4,>=3.0.2 in /usr/local/lib/python3.7/dist-packages (from requests->transformers<5.0.0,>=4.6.0->sentence_transformers) (3.0.4)\n",
            "Requirement already satisfied: idna<3,>=2.5 in /usr/local/lib/python3.7/dist-packages (from requests->transformers<5.0.0,>=4.6.0->sentence_transformers) (2.10)\n",
            "Requirement already satisfied: joblib in /usr/local/lib/python3.7/dist-packages (from sacremoses->transformers<5.0.0,>=4.6.0->sentence_transformers) (1.1.0)\n",
            "Requirement already satisfied: click in /usr/local/lib/python3.7/dist-packages (from sacremoses->transformers<5.0.0,>=4.6.0->sentence_transformers) (7.1.2)\n",
            "Requirement already satisfied: threadpoolctl>=2.0.0 in /usr/local/lib/python3.7/dist-packages (from scikit-learn->sentence_transformers) (3.1.0)\n",
            "Requirement already satisfied: pillow!=8.3.*,>=5.3.0 in /usr/local/lib/python3.7/dist-packages (from torchvision->sentence_transformers) (7.1.2)\n"
          ]
        }
      ],
      "source": [
        "!pip install transformers sentencepiece\n",
        "!pip install sentence_transformers"
      ]
    },
    {
      "cell_type": "code",
      "execution_count": 66,
      "metadata": {
        "id": "5LXVCpcDREjn"
      },
      "outputs": [],
      "source": [
        "import numpy as np\n",
        "import pandas as pd\n",
        "import networkx as nx\n",
        "import matplotlib.pyplot as plt\n",
        "import time\n",
        "from sklearn.metrics.pairwise import cosine_similarity\n",
        "pd.set_option('display.max_colwidth', None)"
      ]
    },
    {
      "cell_type": "code",
      "execution_count": 67,
      "metadata": {
        "colab": {
          "base_uri": "https://localhost:8080/"
        },
        "id": "o0a5UjYb5XH3",
        "outputId": "6cfdb417-d7ae-4520-ab55-6a17f67cae87"
      },
      "outputs": [
        {
          "output_type": "stream",
          "name": "stdout",
          "text": [
            "Drive already mounted at /content/gdrive; to attempt to forcibly remount, call drive.mount(\"/content/gdrive\", force_remount=True).\n",
            "/content/gdrive/MyDrive/text_summ/transformers\n"
          ]
        }
      ],
      "source": [
        "# mount gdrive to save models\n",
        "from pathlib import Path\n",
        "from google.colab import drive\n",
        "\n",
        "drive.mount('/content/gdrive')\n",
        "\n",
        "GDRIVE = '/content/gdrive/MyDrive/transformers'\n",
        "WORKDIR = GDRIVE + '/sent_ranking/'\n",
        "Path(WORKDIR).mkdir(parents=True, exist_ok=True)\n",
        "\n",
        "%cd  '/content/gdrive/MyDrive/text_summ/transformers'"
      ]
    },
    {
      "cell_type": "markdown",
      "metadata": {
        "id": "ZiDLL85QPnFj"
      },
      "source": [
        "# Load Data"
      ]
    },
    {
      "cell_type": "code",
      "execution_count": 68,
      "metadata": {
        "colab": {
          "base_uri": "https://localhost:8080/",
          "height": 1000
        },
        "id": "7V7nVR3NOQcm",
        "outputId": "ef52e796-c5c0-4fb1-aa59-70c3f89a10d9"
      },
      "outputs": [
        {
          "output_type": "execute_result",
          "data": {
            "text/plain": [
              "<pandas.io.formats.style.Styler at 0x7fe52a674290>"
            ],
            "text/html": [
              "<style type=\"text/css\">\n",
              "#T_197dd_row0_col0, #T_197dd_row1_col0, #T_197dd_row2_col0, #T_197dd_row3_col0, #T_197dd_row4_col0, #T_197dd_row5_col0, #T_197dd_row6_col0, #T_197dd_row7_col0, #T_197dd_row8_col0, #T_197dd_row9_col0, #T_197dd_row10_col0, #T_197dd_row11_col0, #T_197dd_row12_col0, #T_197dd_row13_col0, #T_197dd_row14_col0, #T_197dd_row15_col0, #T_197dd_row16_col0, #T_197dd_row17_col0, #T_197dd_row18_col0 {\n",
              "  text-align: left;\n",
              "}\n",
              "</style>\n",
              "<table id=\"T_197dd_\" class=\"dataframe\">\n",
              "  <thead>\n",
              "    <tr>\n",
              "      <th class=\"blank level0\" >&nbsp;</th>\n",
              "      <th class=\"col_heading level0 col0\" >text</th>\n",
              "    </tr>\n",
              "  </thead>\n",
              "  <tbody>\n",
              "    <tr>\n",
              "      <th id=\"T_197dd_level0_row0\" class=\"row_heading level0 row0\" >0</th>\n",
              "      <td id=\"T_197dd_row0_col0\" class=\"data row0 col0\" >Психолог: Добрый день, меня зовут Ирина. Ольга, у нас с вами на сегодня назначена консультация. Надеюсь, что наш разговор будет приятным и полезным. Расскажите с каким запросом вы пришли на нашу первую встречу?</td>\n",
              "    </tr>\n",
              "    <tr>\n",
              "      <th id=\"T_197dd_level0_row1\" class=\"row_heading level0 row1\" >1</th>\n",
              "      <td id=\"T_197dd_row1_col0\" class=\"data row1 col0\" >Ольга: Добрый день, это моя первая консультация в жизни. Я не особо понимаю что именно нужно говорить. Но у меня накопилось достаточно много всего и мне просто хотелось поговорить о том, что сейчас происходит с моей жизнью, ну много чего, конечно, как и у всех, все таки война, переезды, куча всего короче. Просто хотелось чтобы кто-то услышал, помог мне немного разобраться в себе.</td>\n",
              "    </tr>\n",
              "    <tr>\n",
              "      <th id=\"T_197dd_level0_row2\" class=\"row_heading level0 row2\" >2</th>\n",
              "      <td id=\"T_197dd_row2_col0\" class=\"data row2 col0\" >Психолог: Ольга, действительно сейчас многие проживают события к которым сложно быть готовым. Давайте начнем понемногу разбираться. Расскажите о себе. Где вы сейчас находитесь, в каких условиях живете, какие события происходят вокруг вас?</td>\n",
              "    </tr>\n",
              "    <tr>\n",
              "      <th id=\"T_197dd_level0_row3\" class=\"row_heading level0 row3\" >3</th>\n",
              "      <td id=\"T_197dd_row3_col0\" class=\"data row3 col0\" >Ольга: Сейчас я чувствую себя относительно в безопасности. Мы переехали из Киева на западную Украину. Здесь можно сказать, что тихо, но я не особо понимаю что происходит. Мне словно приходится начинать все с нуля. Деньги немного есть, ээээ ну там на пару месяцев хватит, но нужно искать работу. Не пойму нужно учится на новую специальность или попытаться найти работу менеджером, как раньше? Хотя кому эти менеджеры нужны, ничего толком не работает, наверно повезло людям которые сохранили работу, прям как-то радостно за них. Потерять финансовую стабильность мне реально тяжело, ждать что что-то наладится, но ничего не наладится же. Ну даже если наладится то не скоро, рада что могла себе обеспечить эту финансовую подушку. Я реально уже думала что можно и начать инвестировать но блин, реально никогда не знаешь, теперь думаю что можно было и пол года назад параллельно с подушкой все делать, но так иногда радует что хоть стабильность в деньгах есть, я все таки смогла научиться управлять немного своими финансами. Ну и новую работу искать, ну и что я тут найду? Наверно скорее всего нужно будет учить английский, вряд ли украинские компании сейчас смогут дать хорошую оплату, надо искать что-то онлайн, стабильное. Хотя какое оно стабильное, надо открывать свое дело в интернете, может делать магазин с доставкой? Да я так и не смогла этот английский выучить сколько уже ходила на курсы. Короче искать работу это мне вообще как настоящее испытание, ну и не думаю что без английского я кому-то нужна. Пока живем в бесплатном жилье, но тоже непонятно надолго это, вообще нужно ли возвращаться, в Киеве хотя бы есть дом, родные стены, ну и удобства все под рукой, но я боюсь ходить по улице вижу везде эти новости про растяжки, бомбы в молоке. Но и помощи от волонтеров больше есть и помощь с едой и вообще дома как то проще, здесь никого не знаю, но и знакомые если честно все уже разъехались и реально жизнь как с нуля. С мужем тоже сложно, постоянно приходится принимать решения, а он как будто оттягивает, но я же тоже не могу все время все делать. Короче мне реально не понятно как вообще быть, я боюсь что-то снова начинать, потому что не понятно на долго или скоро закончится. </td>\n",
              "    </tr>\n",
              "    <tr>\n",
              "      <th id=\"T_197dd_level0_row4\" class=\"row_heading level0 row4\" >4</th>\n",
              "      <td id=\"T_197dd_row4_col0\" class=\"data row4 col0\" >Психолог: Давайте выделим вопросы, которые я услышала и продолжим работу. Сейчас у вас нет основной работы для вас большой стресс искать новую, еще вы хотите вернуться в Киев, но не можете решить для себя стоит ли это сейчас делать, также вам хочется получить поддержку от мужа, но вы не можете получить той помощи на которую рассчитываете. Но самым большим испытанием для вас является то, что необходимо начать все с нуля. верно?</td>\n",
              "    </tr>\n",
              "    <tr>\n",
              "      <th id=\"T_197dd_level0_row5\" class=\"row_heading level0 row5\" >5</th>\n",
              "      <td id=\"T_197dd_row5_col0\" class=\"data row5 col0\" >Ольга: Да, но даже не сам факт начала. Понимаете я уже несколько раз все теряла и начинала \"жизнь с этого нуля\". Поэтому мне кажется тут у меня что-то вроде иммунитета. Страх не с самой необходимости, я просто реально понимаю что если я еще раз все потеряю мне может просто не хотеться что-то делать снова. Именно когда живешь в период от нуля до \"опять все хочется\" тут самое страшное. Ощущение, что теряешь время, которого и так постоянно мало, и параллельно же ничего не улучшается, тебе еще наваливается сверху, и нужно разгребать все одновременно. Теряешь дом, нет людей рядом, начинаются долги, нет уверенности в своих силах, моложе не становишься, ну и вечная конкуренция потому что у людей еще есть запал, а тебе 35 и ты такой здрасьте, я хочу заявить о себе. Я начинаю постоянно думать в какой именно момент я перестала контролировать свою жизнь? Ведь мне нравилось жить в том потоке, что происходил. Мне реально часто везло, но прям про будущее я не думала. А теперь читаю про блекауты, теории заговора, считаю остаток бюджета и на сколько мне хватит денег при разных условиях жизни, думаю нужно ли пытаюсь выделить деньги на английский, мне постоянно прилетают дополнительные расходы. Ну и если реально готовится к блекауту, то нужно сделать закупку продуктов на месяц, а если мы вернемся обратно? или останемся тут? короче куда все это девать в итоге? Я смотрю на свою дырявую финансовую подушку безопасности и судорожно понимаю что кроме всего прочего просто никакого верного решения нет. </td>\n",
              "    </tr>\n",
              "    <tr>\n",
              "      <th id=\"T_197dd_level0_row6\" class=\"row_heading level0 row6\" >6</th>\n",
              "      <td id=\"T_197dd_row6_col0\" class=\"data row6 col0\" >Психолог: решение есть всегда, задайте себе вопрос: готовы ли брать ответственность за принятые решения на себя?</td>\n",
              "    </tr>\n",
              "    <tr>\n",
              "      <th id=\"T_197dd_level0_row7\" class=\"row_heading level0 row7\" >7</th>\n",
              "      <td id=\"T_197dd_row7_col0\" class=\"data row7 col0\" >О: Я пытаюсь балансировать между личной ответственностью за свою собственную жизнь и умении договориться. Ну типа если бы я жила одна, мне не так сложно было бы. Не надо ждать коллективного решения, а сам тихо сделала и ни у кого не спрашиваешь.</td>\n",
              "    </tr>\n",
              "    <tr>\n",
              "      <th id=\"T_197dd_level0_row8\" class=\"row_heading level0 row8\" >8</th>\n",
              "      <td id=\"T_197dd_row8_col0\" class=\"data row8 col0\" >Психолог: Расскажите подробнее, я так понимаю у вас разные точки зрения на какую то ситуацию с мужем?</td>\n",
              "    </tr>\n",
              "    <tr>\n",
              "      <th id=\"T_197dd_level0_row9\" class=\"row_heading level0 row9\" >9</th>\n",
              "      <td id=\"T_197dd_row9_col0\" class=\"data row9 col0\" >О: Я реально хочу в Киев, мне там будет проще собраться с мыслями. и если бы муж помог мне и согласился бы на переезд уже было бы проще. Каждый раз с ним говорю, а он говорит ну хочешь поезжай в киев, я потом приеду. А я не хочу ехать одна, я хочу чтобы мы вдвоем поехали, потому что ну что  я там буду делать одна, мне реально надо чтобы мы или вместе были здесь или там. Короче, типа он вообще не упрощает задачу, а как будто ждет, что что-то должно случится и что-то поменяется. Но ничего же не поменяется. Я то понимаю что придется скорее всего просто жить вот так как оно есть, потому что завтра лучше не станет, и после завтра тоже. А ракета может прилететь куда угодно или не прилететь. От нас ничего не зависит. И на правительство мы влиять не можем, только свои решения принимать, ход войны поменять нереально. Но мы же семья, и мне не ясно чего мы не можем договориться о таких простых вещах, ну скажи типа нет я не хочу ехать или хочу, но через неделю. Так он мне просто говорит едь и все, а я потом что-то решу. </td>\n",
              "    </tr>\n",
              "    <tr>\n",
              "      <th id=\"T_197dd_level0_row10\" class=\"row_heading level0 row10\" >10</th>\n",
              "      <td id=\"T_197dd_row10_col0\" class=\"data row10 col0\" >Психолог:  скажите а раньше у вас возникали ситуации, когда муж оттягивал принятие решений?</td>\n",
              "    </tr>\n",
              "    <tr>\n",
              "      <th id=\"T_197dd_level0_row11\" class=\"row_heading level0 row11\" >11</th>\n",
              "      <td id=\"T_197dd_row11_col0\" class=\"data row11 col0\" >Ольга: Ну он постоянно все на последний момент откладывает, но раньше не было таких критический ситуаций и я могла подождать или делать что я хотела а там уже как было, или мы ссорились ну понятно что потом он принимал решение и позже мне было уже проще я реально никого не напрягала, а там просто все случалось, при чем он всегда понимал что поздно начал шевелится, но мне было даже смешно. Я могла потом ходить и  смеяться, типа ты же знаешь что ты вечно все тянешь, вот опять такой же случай, зачем ты ждешь. Я и с другой стороны заходила типа смотри ты ждешь, а это влияет на меня. Вот я жду например, что мы купим билеты и полетим куда-то на отдых, мы все равно покупаем и летим, но цена выше на этот самолет мы поссоримся сто раз, вот объясни в чем дело, я просто хочу понять. Потому что мне жалко и нервов и денег. А можно просто было все спокойно сделать вовремя, потому что есть понимание того что вовремя все таки существует, ну или более удачное время, типа чего не пользоваться ситуацией? Я реально не могу уже я даже иногда думаю ну может просто взять и самой себе жить, а  я не хочу жить одна, мне нравиться наши отношения если бы не это. Блин я уже иногда думаю, а если бы мы не были вместе если мне не надо было бы постоянно ждать, где бы я уже была? Потому что в постоянном ожидании чуда жить тоже не легко.</td>\n",
              "    </tr>\n",
              "    <tr>\n",
              "      <th id=\"T_197dd_level0_row12\" class=\"row_heading level0 row12\" >12</th>\n",
              "      <td id=\"T_197dd_row12_col0\" class=\"data row12 col0\" > Психолог: Расскажите а как вы представляли вашу жизнь без отношений? Вот что происходит с вами, когда вам не нужно никого ждать?</td>\n",
              "    </tr>\n",
              "    <tr>\n",
              "      <th id=\"T_197dd_level0_row13\" class=\"row_heading level0 row13\" >13</th>\n",
              "      <td id=\"T_197dd_row13_col0\" class=\"data row13 col0\" >Ольга: ну вот в том и дело, что иногда я понимаю что если бы я осталась одна мне было бы намного проще, но я хочу быть вместе с мужем, оберегать наше партнерство.  не хочу представлять, а если бы. ну нет никаких а если бы. Мне реально нравятся наши отношения, хотя такие штуки когда приходится ждать решения прям бесят. Просто сейчас как будто это повторение -- поехали в киев, нет давай ждать, хочешь едь. Такое впечатление что он хочет от меня избавится, типа я что напрягаю его? ну короче, когда я спрашиваю все ли в порядке, он говорит все хорошо, но я не чувствую что все хорошо. Может конечно я свои переживания на него перекладываю, но блин в стране которую постоянно раздирают на части ничего хорошего ждать уже не приходится. Пусть даже со мной происходят только хорошие вещи, ну насколько это реально, ну вот даже в плане денег, все есть, понятно накопления на пару месяцев, и работу все равно придется искать, я реально хочу просто определенности, в рамках своей реальности. Но полную определенность я чувствую только когда я сама себе хозяин. Может я просто не понимаю что такое жить с партнером.</td>\n",
              "    </tr>\n",
              "    <tr>\n",
              "      <th id=\"T_197dd_level0_row14\" class=\"row_heading level0 row14\" >14</th>\n",
              "      <td id=\"T_197dd_row14_col0\" class=\"data row14 col0\" > Психолог: Каждая семья строит свои взаимоотношения, нет единственного верного решения, как правильно. Но если я вас правильно услышала, то больше всего вас тревожит именно неопределенность в решениях внутри семьи, отсутствие возможности договорится. Расскажите какие эмоции вы испытываете от этой \"неопределенности\"?</td>\n",
              "    </tr>\n",
              "    <tr>\n",
              "      <th id=\"T_197dd_level0_row15\" class=\"row_heading level0 row15\" >15</th>\n",
              "      <td id=\"T_197dd_row15_col0\" class=\"data row15 col0\" >Ольга: ну если честно я уже не знаю, я типа как смирилась что ли с тем, что происходит. меня эти затяжные штуки напрягают это точно, но вот так сказать что я чувствую? я просто знаю что они бывают и мне уже изначально плохо я как будто живу с бомбой с часовым механизмом и даже не предлагаю никаких идей, не хочу снова все проживать, просто нет сил, а вот эмоции я уже  не отслеживаю просто не приятно, но так описать не могу.</td>\n",
              "    </tr>\n",
              "    <tr>\n",
              "      <th id=\"T_197dd_level0_row16\" class=\"row_heading level0 row16\" >16</th>\n",
              "      <td id=\"T_197dd_row16_col0\" class=\"data row16 col0\" >Психолог: Давайте начнем разбираться вместе? Как домашнее задание я хочу дать вам возможность разобраться в своих эмоциях, понять что вы чувствуете, каждый раз когда у вас будет возникать ситуация, где муж будет затягивать с решением, даже если это маленькая бытовая ситуация -- вам нужно будет записывать в дневник ситуацию и свои эмоции. Как вам такая идея?</td>\n",
              "    </tr>\n",
              "    <tr>\n",
              "      <th id=\"T_197dd_level0_row17\" class=\"row_heading level0 row17\" >17</th>\n",
              "      <td id=\"T_197dd_row17_col0\" class=\"data row17 col0\" >Ольга: спасибо, реально интересно чего я вообще чувствую иногда кажется что уже ничего.</td>\n",
              "    </tr>\n",
              "    <tr>\n",
              "      <th id=\"T_197dd_level0_row18\" class=\"row_heading level0 row18\" >18</th>\n",
              "      <td id=\"T_197dd_row18_col0\" class=\"data row18 col0\" >Психолог: хорошо, тогда мы определились с первым заданием и будем понемногу начинать понимать себя, спасибо за встречу.</td>\n",
              "    </tr>\n",
              "  </tbody>\n",
              "</table>\n"
            ]
          },
          "metadata": {},
          "execution_count": 68
        }
      ],
      "source": [
        "conversation_df = pd.read_csv('https://raw.githubusercontent.com/Teasotea/textSummarization/main/data/session.csv', delimiter = \"\\t\", header=None)\n",
        "conversation_df = conversation_df.set_axis(['text'], axis=1, inplace=False)\n",
        "conversation_df.style.set_properties(**{'text-align': 'left'})"
      ]
    },
    {
      "cell_type": "code",
      "execution_count": 69,
      "metadata": {
        "colab": {
          "base_uri": "https://localhost:8080/",
          "height": 1000
        },
        "id": "VClPLs7SUiFB",
        "outputId": "d93e4093-4033-41dd-9600-6e9181b6f260"
      },
      "outputs": [
        {
          "output_type": "execute_result",
          "data": {
            "text/plain": [
              "<pandas.io.formats.style.Styler at 0x7fe52a471310>"
            ],
            "text/html": [
              "<style type=\"text/css\">\n",
              "#T_fe256_row0_col0, #T_fe256_row0_col1, #T_fe256_row1_col0, #T_fe256_row1_col1, #T_fe256_row2_col0, #T_fe256_row2_col1, #T_fe256_row3_col0, #T_fe256_row3_col1, #T_fe256_row4_col0, #T_fe256_row4_col1, #T_fe256_row5_col0, #T_fe256_row5_col1, #T_fe256_row6_col0, #T_fe256_row6_col1, #T_fe256_row7_col0, #T_fe256_row7_col1, #T_fe256_row8_col0, #T_fe256_row8_col1, #T_fe256_row9_col0, #T_fe256_row9_col1, #T_fe256_row10_col0, #T_fe256_row10_col1, #T_fe256_row11_col0, #T_fe256_row11_col1, #T_fe256_row12_col0, #T_fe256_row12_col1, #T_fe256_row13_col0, #T_fe256_row13_col1, #T_fe256_row14_col0, #T_fe256_row14_col1, #T_fe256_row15_col0, #T_fe256_row15_col1, #T_fe256_row16_col0, #T_fe256_row16_col1, #T_fe256_row17_col0, #T_fe256_row17_col1, #T_fe256_row18_col0, #T_fe256_row18_col1 {\n",
              "  text-align: left;\n",
              "}\n",
              "</style>\n",
              "<table id=\"T_fe256_\" class=\"dataframe\">\n",
              "  <thead>\n",
              "    <tr>\n",
              "      <th class=\"blank level0\" >&nbsp;</th>\n",
              "      <th class=\"col_heading level0 col0\" >text</th>\n",
              "      <th class=\"col_heading level0 col1\" >interlocutor</th>\n",
              "    </tr>\n",
              "  </thead>\n",
              "  <tbody>\n",
              "    <tr>\n",
              "      <th id=\"T_fe256_level0_row0\" class=\"row_heading level0 row0\" >0</th>\n",
              "      <td id=\"T_fe256_row0_col0\" class=\"data row0 col0\" >Добрый день, меня зовут Ирина. Ольга, у нас с вами на сегодня назначена консультация. Надеюсь, что наш разговор будет приятным и полезным. Расскажите с каким запросом вы пришли на нашу первую встречу?</td>\n",
              "      <td id=\"T_fe256_row0_col1\" class=\"data row0 col1\" >psy</td>\n",
              "    </tr>\n",
              "    <tr>\n",
              "      <th id=\"T_fe256_level0_row1\" class=\"row_heading level0 row1\" >1</th>\n",
              "      <td id=\"T_fe256_row1_col0\" class=\"data row1 col0\" >Добрый день, это моя первая консультация в жизни. Я не особо понимаю что именно нужно говорить. Но у меня накопилось достаточно много всего и мне просто хотелось поговорить о том, что сейчас происходит с моей жизнью, ну много чего, конечно, как и у всех, все таки война, переезды, куча всего короче. Просто хотелось чтобы кто-то услышал, помог мне немного разобраться в себе.</td>\n",
              "      <td id=\"T_fe256_row1_col1\" class=\"data row1 col1\" >cli</td>\n",
              "    </tr>\n",
              "    <tr>\n",
              "      <th id=\"T_fe256_level0_row2\" class=\"row_heading level0 row2\" >2</th>\n",
              "      <td id=\"T_fe256_row2_col0\" class=\"data row2 col0\" >Ольга, действительно сейчас многие проживают события к которым сложно быть готовым. Давайте начнем понемногу разбираться. Расскажите о себе. Где вы сейчас находитесь, в каких условиях живете, какие события происходят вокруг вас?</td>\n",
              "      <td id=\"T_fe256_row2_col1\" class=\"data row2 col1\" >psy</td>\n",
              "    </tr>\n",
              "    <tr>\n",
              "      <th id=\"T_fe256_level0_row3\" class=\"row_heading level0 row3\" >3</th>\n",
              "      <td id=\"T_fe256_row3_col0\" class=\"data row3 col0\" >Сейчас я чувствую себя относительно в безопасности. Мы переехали из Киева на западную Украину. Здесь можно сказать, что тихо, но я не особо понимаю что происходит. Мне словно приходится начинать все с нуля. Деньги немного есть, ээээ ну там на пару месяцев хватит, но нужно искать работу. Не пойму нужно учится на новую специальность или попытаться найти работу менеджером, как раньше? Хотя кому эти менеджеры нужны, ничего толком не работает, наверно повезло людям которые сохранили работу, прям как-то радостно за них. Потерять финансовую стабильность мне реально тяжело, ждать что что-то наладится, но ничего не наладится же. Ну даже если наладится то не скоро, рада что могла себе обеспечить эту финансовую подушку. Я реально уже думала что можно и начать инвестировать но блин, реально никогда не знаешь, теперь думаю что можно было и пол года назад параллельно с подушкой все делать, но так иногда радует что хоть стабильность в деньгах есть, я все таки смогла научиться управлять немного своими финансами. Ну и новую работу искать, ну и что я тут найду? Наверно скорее всего нужно будет учить английский, вряд ли украинские компании сейчас смогут дать хорошую оплату, надо искать что-то онлайн, стабильное. Хотя какое оно стабильное, надо открывать свое дело в интернете, может делать магазин с доставкой? Да я так и не смогла этот английский выучить сколько уже ходила на курсы. Короче искать работу это мне вообще как настоящее испытание, ну и не думаю что без английского я кому-то нужна. Пока живем в бесплатном жилье, но тоже непонятно надолго это, вообще нужно ли возвращаться, в Киеве хотя бы есть дом, родные стены, ну и удобства все под рукой, но я боюсь ходить по улице вижу везде эти новости про растяжки, бомбы в молоке. Но и помощи от волонтеров больше есть и помощь с едой и вообще дома как то проще, здесь никого не знаю, но и знакомые если честно все уже разъехались и реально жизнь как с нуля. С мужем тоже сложно, постоянно приходится принимать решения, а он как будто оттягивает, но я же тоже не могу все время все делать. Короче мне реально не понятно как вообще быть, я боюсь что-то снова начинать, потому что не понятно на долго или скоро закончится.</td>\n",
              "      <td id=\"T_fe256_row3_col1\" class=\"data row3 col1\" >cli</td>\n",
              "    </tr>\n",
              "    <tr>\n",
              "      <th id=\"T_fe256_level0_row4\" class=\"row_heading level0 row4\" >4</th>\n",
              "      <td id=\"T_fe256_row4_col0\" class=\"data row4 col0\" >Давайте выделим вопросы, которые я услышала и продолжим работу. Сейчас у вас нет основной работы для вас большой стресс искать новую, еще вы хотите вернуться в Киев, но не можете решить для себя стоит ли это сейчас делать, также вам хочется получить поддержку от мужа, но вы не можете получить той помощи на которую рассчитываете. Но самым большим испытанием для вас является то, что необходимо начать все с нуля. верно?</td>\n",
              "      <td id=\"T_fe256_row4_col1\" class=\"data row4 col1\" >psy</td>\n",
              "    </tr>\n",
              "    <tr>\n",
              "      <th id=\"T_fe256_level0_row5\" class=\"row_heading level0 row5\" >5</th>\n",
              "      <td id=\"T_fe256_row5_col0\" class=\"data row5 col0\" >Да, но даже не сам факт начала. Понимаете я уже несколько раз все теряла и начинала \"жизнь с этого нуля\". Поэтому мне кажется тут у меня что-то вроде иммунитета. Страх не с самой необходимости, я просто реально понимаю что если я еще раз все потеряю мне может просто не хотеться что-то делать снова. Именно когда живешь в период от нуля до \"опять все хочется\" тут самое страшное. Ощущение, что теряешь время, которого и так постоянно мало, и параллельно же ничего не улучшается, тебе еще наваливается сверху, и нужно разгребать все одновременно. Теряешь дом, нет людей рядом, начинаются долги, нет уверенности в своих силах, моложе не становишься, ну и вечная конкуренция потому что у людей еще есть запал, а тебе 35 и ты такой здрасьте, я хочу заявить о себе. Я начинаю постоянно думать в какой именно момент я перестала контролировать свою жизнь? Ведь мне нравилось жить в том потоке, что происходил. Мне реально часто везло, но прям про будущее я не думала. А теперь читаю про блекауты, теории заговора, считаю остаток бюджета и на сколько мне хватит денег при разных условиях жизни, думаю нужно ли пытаюсь выделить деньги на английский, мне постоянно прилетают дополнительные расходы. Ну и если реально готовится к блекауту, то нужно сделать закупку продуктов на месяц, а если мы вернемся обратно? или останемся тут? короче куда все это девать в итоге? Я смотрю на свою дырявую финансовую подушку безопасности и судорожно понимаю что кроме всего прочего просто никакого верного решения нет.</td>\n",
              "      <td id=\"T_fe256_row5_col1\" class=\"data row5 col1\" >cli</td>\n",
              "    </tr>\n",
              "    <tr>\n",
              "      <th id=\"T_fe256_level0_row6\" class=\"row_heading level0 row6\" >6</th>\n",
              "      <td id=\"T_fe256_row6_col0\" class=\"data row6 col0\" >решение есть всегда, задайте себе вопрос: готовы ли брать ответственность за принятые решения на себя?</td>\n",
              "      <td id=\"T_fe256_row6_col1\" class=\"data row6 col1\" >psy</td>\n",
              "    </tr>\n",
              "    <tr>\n",
              "      <th id=\"T_fe256_level0_row7\" class=\"row_heading level0 row7\" >7</th>\n",
              "      <td id=\"T_fe256_row7_col0\" class=\"data row7 col0\" >Я пытаюсь балансировать между личной ответственностью за свою собственную жизнь и умении договориться. Ну типа если бы я жила одна, мне не так сложно было бы. Не надо ждать коллективного решения, а сам тихо сделала и ни у кого не спрашиваешь.</td>\n",
              "      <td id=\"T_fe256_row7_col1\" class=\"data row7 col1\" >cli</td>\n",
              "    </tr>\n",
              "    <tr>\n",
              "      <th id=\"T_fe256_level0_row8\" class=\"row_heading level0 row8\" >8</th>\n",
              "      <td id=\"T_fe256_row8_col0\" class=\"data row8 col0\" >Расскажите подробнее, я так понимаю у вас разные точки зрения на какую то ситуацию с мужем?</td>\n",
              "      <td id=\"T_fe256_row8_col1\" class=\"data row8 col1\" >psy</td>\n",
              "    </tr>\n",
              "    <tr>\n",
              "      <th id=\"T_fe256_level0_row9\" class=\"row_heading level0 row9\" >9</th>\n",
              "      <td id=\"T_fe256_row9_col0\" class=\"data row9 col0\" >Я реально хочу в Киев, мне там будет проще собраться с мыслями. и если бы муж помог мне и согласился бы на переезд уже было бы проще. Каждый раз с ним говорю, а он говорит ну хочешь поезжай в киев, я потом приеду. А я не хочу ехать одна, я хочу чтобы мы вдвоем поехали, потому что ну что  я там буду делать одна, мне реально надо чтобы мы или вместе были здесь или там. Короче, типа он вообще не упрощает задачу, а как будто ждет, что что-то должно случится и что-то поменяется. Но ничего же не поменяется. Я то понимаю что придется скорее всего просто жить вот так как оно есть, потому что завтра лучше не станет, и после завтра тоже. А ракета может прилететь куда угодно или не прилететь. От нас ничего не зависит. И на правительство мы влиять не можем, только свои решения принимать, ход войны поменять нереально. Но мы же семья, и мне не ясно чего мы не можем договориться о таких простых вещах, ну скажи типа нет я не хочу ехать или хочу, но через неделю. Так он мне просто говорит едь и все, а я потом что-то решу.</td>\n",
              "      <td id=\"T_fe256_row9_col1\" class=\"data row9 col1\" >cli</td>\n",
              "    </tr>\n",
              "    <tr>\n",
              "      <th id=\"T_fe256_level0_row10\" class=\"row_heading level0 row10\" >10</th>\n",
              "      <td id=\"T_fe256_row10_col0\" class=\"data row10 col0\" > скажите а раньше у вас возникали ситуации, когда муж оттягивал принятие решений?</td>\n",
              "      <td id=\"T_fe256_row10_col1\" class=\"data row10 col1\" >psy</td>\n",
              "    </tr>\n",
              "    <tr>\n",
              "      <th id=\"T_fe256_level0_row11\" class=\"row_heading level0 row11\" >11</th>\n",
              "      <td id=\"T_fe256_row11_col0\" class=\"data row11 col0\" >Ну он постоянно все на последний момент откладывает, но раньше не было таких критический ситуаций и я могла подождать или делать что я хотела а там уже как было, или мы ссорились ну понятно что потом он принимал решение и позже мне было уже проще я реально никого не напрягала, а там просто все случалось, при чем он всегда понимал что поздно начал шевелится, но мне было даже смешно. Я могла потом ходить и  смеяться, типа ты же знаешь что ты вечно все тянешь, вот опять такой же случай, зачем ты ждешь. Я и с другой стороны заходила типа смотри ты ждешь, а это влияет на меня. Вот я жду например, что мы купим билеты и полетим куда-то на отдых, мы все равно покупаем и летим, но цена выше на этот самолет мы поссоримся сто раз, вот объясни в чем дело, я просто хочу понять. Потому что мне жалко и нервов и денег. А можно просто было все спокойно сделать вовремя, потому что есть понимание того что вовремя все таки существует, ну или более удачное время, типа чего не пользоваться ситуацией? Я реально не могу уже я даже иногда думаю ну может просто взять и самой себе жить, а  я не хочу жить одна, мне нравиться наши отношения если бы не это. Блин я уже иногда думаю, а если бы мы не были вместе если мне не надо было бы постоянно ждать, где бы я уже была? Потому что в постоянном ожидании чуда жить тоже не легко.</td>\n",
              "      <td id=\"T_fe256_row11_col1\" class=\"data row11 col1\" >cli</td>\n",
              "    </tr>\n",
              "    <tr>\n",
              "      <th id=\"T_fe256_level0_row12\" class=\"row_heading level0 row12\" >12</th>\n",
              "      <td id=\"T_fe256_row12_col0\" class=\"data row12 col0\" >Расскажите а как вы представляли вашу жизнь без отношений? Вот что происходит с вами, когда вам не нужно никого ждать?</td>\n",
              "      <td id=\"T_fe256_row12_col1\" class=\"data row12 col1\" >psy</td>\n",
              "    </tr>\n",
              "    <tr>\n",
              "      <th id=\"T_fe256_level0_row13\" class=\"row_heading level0 row13\" >13</th>\n",
              "      <td id=\"T_fe256_row13_col0\" class=\"data row13 col0\" >ну вот в том и дело, что иногда я понимаю что если бы я осталась одна мне было бы намного проще, но я хочу быть вместе с мужем, оберегать наше партнерство.  не хочу представлять, а если бы. ну нет никаких а если бы. Мне реально нравятся наши отношения, хотя такие штуки когда приходится ждать решения прям бесят. Просто сейчас как будто это повторение -- поехали в киев, нет давай ждать, хочешь едь. Такое впечатление что он хочет от меня избавится, типа я что напрягаю его? ну короче, когда я спрашиваю все ли в порядке, он говорит все хорошо, но я не чувствую что все хорошо. Может конечно я свои переживания на него перекладываю, но блин в стране которую постоянно раздирают на части ничего хорошего ждать уже не приходится. Пусть даже со мной происходят только хорошие вещи, ну насколько это реально, ну вот даже в плане денег, все есть, понятно накопления на пару месяцев, и работу все равно придется искать, я реально хочу просто определенности, в рамках своей реальности. Но полную определенность я чувствую только когда я сама себе хозяин. Может я просто не понимаю что такое жить с партнером.</td>\n",
              "      <td id=\"T_fe256_row13_col1\" class=\"data row13 col1\" >cli</td>\n",
              "    </tr>\n",
              "    <tr>\n",
              "      <th id=\"T_fe256_level0_row14\" class=\"row_heading level0 row14\" >14</th>\n",
              "      <td id=\"T_fe256_row14_col0\" class=\"data row14 col0\" >Каждая семья строит свои взаимоотношения, нет единственного верного решения, как правильно. Но если я вас правильно услышала, то больше всего вас тревожит именно неопределенность в решениях внутри семьи, отсутствие возможности договорится. Расскажите какие эмоции вы испытываете от этой \"неопределенности\"?</td>\n",
              "      <td id=\"T_fe256_row14_col1\" class=\"data row14 col1\" >psy</td>\n",
              "    </tr>\n",
              "    <tr>\n",
              "      <th id=\"T_fe256_level0_row15\" class=\"row_heading level0 row15\" >15</th>\n",
              "      <td id=\"T_fe256_row15_col0\" class=\"data row15 col0\" >ну если честно я уже не знаю, я типа как смирилась что ли с тем, что происходит. меня эти затяжные штуки напрягают это точно, но вот так сказать что я чувствую? я просто знаю что они бывают и мне уже изначально плохо я как будто живу с бомбой с часовым механизмом и даже не предлагаю никаких идей, не хочу снова все проживать, просто нет сил, а вот эмоции я уже  не отслеживаю просто не приятно, но так описать не могу.</td>\n",
              "      <td id=\"T_fe256_row15_col1\" class=\"data row15 col1\" >cli</td>\n",
              "    </tr>\n",
              "    <tr>\n",
              "      <th id=\"T_fe256_level0_row16\" class=\"row_heading level0 row16\" >16</th>\n",
              "      <td id=\"T_fe256_row16_col0\" class=\"data row16 col0\" >Давайте начнем разбираться вместе? Как домашнее задание я хочу дать вам возможность разобраться в своих эмоциях, понять что вы чувствуете, каждый раз когда у вас будет возникать ситуация, где муж будет затягивать с решением, даже если это маленькая бытовая ситуация -- вам нужно будет записывать в дневник ситуацию и свои эмоции. Как вам такая идея?</td>\n",
              "      <td id=\"T_fe256_row16_col1\" class=\"data row16 col1\" >psy</td>\n",
              "    </tr>\n",
              "    <tr>\n",
              "      <th id=\"T_fe256_level0_row17\" class=\"row_heading level0 row17\" >17</th>\n",
              "      <td id=\"T_fe256_row17_col0\" class=\"data row17 col0\" >спасибо, реально интересно чего я вообще чувствую иногда кажется что уже ничего.</td>\n",
              "      <td id=\"T_fe256_row17_col1\" class=\"data row17 col1\" >cli</td>\n",
              "    </tr>\n",
              "    <tr>\n",
              "      <th id=\"T_fe256_level0_row18\" class=\"row_heading level0 row18\" >18</th>\n",
              "      <td id=\"T_fe256_row18_col0\" class=\"data row18 col0\" >хорошо, тогда мы определились с первым заданием и будем понемногу начинать понимать себя, спасибо за встречу.</td>\n",
              "      <td id=\"T_fe256_row18_col1\" class=\"data row18 col1\" >psy</td>\n",
              "    </tr>\n",
              "  </tbody>\n",
              "</table>\n"
            ]
          },
          "metadata": {},
          "execution_count": 69
        }
      ],
      "source": [
        "conversation_df['interlocutor'] = conversation_df.apply(lambda x: 'cli' if x.text.lower().startswith('о') else 'psy', axis=1)\n",
        "conversation_df['text'] = conversation_df['text'].apply(lambda x: x.strip().split(' ', 1)[1] if x.strip().lower().startswith('психолог') | x.strip().lower().startswith('о') else x.strip())\n",
        "psy_df = conversation_df[conversation_df['interlocutor'] == 'psy']\n",
        "cli_df = conversation_df[conversation_df['interlocutor'] == 'cli']\n",
        "conversation_df.style.set_properties(**{'text-align': 'left'})"
      ]
    },
    {
      "cell_type": "code",
      "execution_count": 70,
      "metadata": {
        "colab": {
          "base_uri": "https://localhost:8080/",
          "height": 1000
        },
        "id": "f1rVbrkEBagx",
        "outputId": "908683e9-d585-4f8c-b8bb-12f160673241"
      },
      "outputs": [
        {
          "output_type": "execute_result",
          "data": {
            "text/plain": [
              "'Добрый день, меня зовут Ирина. Ольга, у нас с вами на сегодня назначена консультация. Надеюсь, что наш разговор будет приятным и полезным. Расскажите с каким запросом вы пришли на нашу первую встречу? Добрый день, это моя первая консультация в жизни. Я не особо понимаю что именно нужно говорить. Но у меня накопилось достаточно много всего и мне просто хотелось поговорить о том, что сейчас происходит с моей жизнью, ну много чего, конечно, как и у всех, все таки война, переезды, куча всего короче. Просто хотелось чтобы кто-то услышал, помог мне немного разобраться в себе. Ольга, действительно сейчас многие проживают события к которым сложно быть готовым. Давайте начнем понемногу разбираться. Расскажите о себе. Где вы сейчас находитесь, в каких условиях живете, какие события происходят вокруг вас? Сейчас я чувствую себя относительно в безопасности. Мы переехали из Киева на западную Украину. Здесь можно сказать, что тихо, но я не особо понимаю что происходит. Мне словно приходится начинать все с нуля. Деньги немного есть, ээээ ну там на пару месяцев хватит, но нужно искать работу. Не пойму нужно учится на новую специальность или попытаться найти работу менеджером, как раньше? Хотя кому эти менеджеры нужны, ничего толком не работает, наверно повезло людям которые сохранили работу, прям как-то радостно за них. Потерять финансовую стабильность мне реально тяжело, ждать что что-то наладится, но ничего не наладится же. Ну даже если наладится то не скоро, рада что могла себе обеспечить эту финансовую подушку. Я реально уже думала что можно и начать инвестировать но блин, реально никогда не знаешь, теперь думаю что можно было и пол года назад параллельно с подушкой все делать, но так иногда радует что хоть стабильность в деньгах есть, я все таки смогла научиться управлять немного своими финансами. Ну и новую работу искать, ну и что я тут найду? Наверно скорее всего нужно будет учить английский, вряд ли украинские компании сейчас смогут дать хорошую оплату, надо искать что-то онлайн, стабильное. Хотя какое оно стабильное, надо открывать свое дело в интернете, может делать магазин с доставкой? Да я так и не смогла этот английский выучить сколько уже ходила на курсы. Короче искать работу это мне вообще как настоящее испытание, ну и не думаю что без английского я кому-то нужна. Пока живем в бесплатном жилье, но тоже непонятно надолго это, вообще нужно ли возвращаться, в Киеве хотя бы есть дом, родные стены, ну и удобства все под рукой, но я боюсь ходить по улице вижу везде эти новости про растяжки, бомбы в молоке. Но и помощи от волонтеров больше есть и помощь с едой и вообще дома как то проще, здесь никого не знаю, но и знакомые если честно все уже разъехались и реально жизнь как с нуля. С мужем тоже сложно, постоянно приходится принимать решения, а он как будто оттягивает, но я же тоже не могу все время все делать. Короче мне реально не понятно как вообще быть, я боюсь что-то снова начинать, потому что не понятно на долго или скоро закончится. Давайте выделим вопросы, которые я услышала и продолжим работу. Сейчас у вас нет основной работы для вас большой стресс искать новую, еще вы хотите вернуться в Киев, но не можете решить для себя стоит ли это сейчас делать, также вам хочется получить поддержку от мужа, но вы не можете получить той помощи на которую рассчитываете. Но самым большим испытанием для вас является то, что необходимо начать все с нуля. верно? Да, но даже не сам факт начала. Понимаете я уже несколько раз все теряла и начинала \"жизнь с этого нуля\". Поэтому мне кажется тут у меня что-то вроде иммунитета. Страх не с самой необходимости, я просто реально понимаю что если я еще раз все потеряю мне может просто не хотеться что-то делать снова. Именно когда живешь в период от нуля до \"опять все хочется\" тут самое страшное. Ощущение, что теряешь время, которого и так постоянно мало, и параллельно же ничего не улучшается, тебе еще наваливается сверху, и нужно разгребать все одновременно. Теряешь дом, нет людей рядом, начинаются долги, нет уверенности в своих силах, моложе не становишься, ну и вечная конкуренция потому что у людей еще есть запал, а тебе 35 и ты такой здрасьте, я хочу заявить о себе. Я начинаю постоянно думать в какой именно момент я перестала контролировать свою жизнь? Ведь мне нравилось жить в том потоке, что происходил. Мне реально часто везло, но прям про будущее я не думала. А теперь читаю про блекауты, теории заговора, считаю остаток бюджета и на сколько мне хватит денег при разных условиях жизни, думаю нужно ли пытаюсь выделить деньги на английский, мне постоянно прилетают дополнительные расходы. Ну и если реально готовится к блекауту, то нужно сделать закупку продуктов на месяц, а если мы вернемся обратно? или останемся тут? короче куда все это девать в итоге? Я смотрю на свою дырявую финансовую подушку безопасности и судорожно понимаю что кроме всего прочего просто никакого верного решения нет. решение есть всегда, задайте себе вопрос: готовы ли брать ответственность за принятые решения на себя? Я пытаюсь балансировать между личной ответственностью за свою собственную жизнь и умении договориться. Ну типа если бы я жила одна, мне не так сложно было бы. Не надо ждать коллективного решения, а сам тихо сделала и ни у кого не спрашиваешь. Расскажите подробнее, я так понимаю у вас разные точки зрения на какую то ситуацию с мужем? Я реально хочу в Киев, мне там будет проще собраться с мыслями. и если бы муж помог мне и согласился бы на переезд уже было бы проще. Каждый раз с ним говорю, а он говорит ну хочешь поезжай в киев, я потом приеду. А я не хочу ехать одна, я хочу чтобы мы вдвоем поехали, потому что ну что  я там буду делать одна, мне реально надо чтобы мы или вместе были здесь или там. Короче, типа он вообще не упрощает задачу, а как будто ждет, что что-то должно случится и что-то поменяется. Но ничего же не поменяется. Я то понимаю что придется скорее всего просто жить вот так как оно есть, потому что завтра лучше не станет, и после завтра тоже. А ракета может прилететь куда угодно или не прилететь. От нас ничего не зависит. И на правительство мы влиять не можем, только свои решения принимать, ход войны поменять нереально. Но мы же семья, и мне не ясно чего мы не можем договориться о таких простых вещах, ну скажи типа нет я не хочу ехать или хочу, но через неделю. Так он мне просто говорит едь и все, а я потом что-то решу.  скажите а раньше у вас возникали ситуации, когда муж оттягивал принятие решений? Ну он постоянно все на последний момент откладывает, но раньше не было таких критический ситуаций и я могла подождать или делать что я хотела а там уже как было, или мы ссорились ну понятно что потом он принимал решение и позже мне было уже проще я реально никого не напрягала, а там просто все случалось, при чем он всегда понимал что поздно начал шевелится, но мне было даже смешно. Я могла потом ходить и  смеяться, типа ты же знаешь что ты вечно все тянешь, вот опять такой же случай, зачем ты ждешь. Я и с другой стороны заходила типа смотри ты ждешь, а это влияет на меня. Вот я жду например, что мы купим билеты и полетим куда-то на отдых, мы все равно покупаем и летим, но цена выше на этот самолет мы поссоримся сто раз, вот объясни в чем дело, я просто хочу понять. Потому что мне жалко и нервов и денег. А можно просто было все спокойно сделать вовремя, потому что есть понимание того что вовремя все таки существует, ну или более удачное время, типа чего не пользоваться ситуацией? Я реально не могу уже я даже иногда думаю ну может просто взять и самой себе жить, а  я не хочу жить одна, мне нравиться наши отношения если бы не это. Блин я уже иногда думаю, а если бы мы не были вместе если мне не надо было бы постоянно ждать, где бы я уже была? Потому что в постоянном ожидании чуда жить тоже не легко. Расскажите а как вы представляли вашу жизнь без отношений? Вот что происходит с вами, когда вам не нужно никого ждать? ну вот в том и дело, что иногда я понимаю что если бы я осталась одна мне было бы намного проще, но я хочу быть вместе с мужем, оберегать наше партнерство.  не хочу представлять, а если бы. ну нет никаких а если бы. Мне реально нравятся наши отношения, хотя такие штуки когда приходится ждать решения прям бесят. Просто сейчас как будто это повторение -- поехали в киев, нет давай ждать, хочешь едь. Такое впечатление что он хочет от меня избавится, типа я что напрягаю его? ну короче, когда я спрашиваю все ли в порядке, он говорит все хорошо, но я не чувствую что все хорошо. Может конечно я свои переживания на него перекладываю, но блин в стране которую постоянно раздирают на части ничего хорошего ждать уже не приходится. Пусть даже со мной происходят только хорошие вещи, ну насколько это реально, ну вот даже в плане денег, все есть, понятно накопления на пару месяцев, и работу все равно придется искать, я реально хочу просто определенности, в рамках своей реальности. Но полную определенность я чувствую только когда я сама себе хозяин. Может я просто не понимаю что такое жить с партнером. Каждая семья строит свои взаимоотношения, нет единственного верного решения, как правильно. Но если я вас правильно услышала, то больше всего вас тревожит именно неопределенность в решениях внутри семьи, отсутствие возможности договорится. Расскажите какие эмоции вы испытываете от этой \"неопределенности\"? ну если честно я уже не знаю, я типа как смирилась что ли с тем, что происходит. меня эти затяжные штуки напрягают это точно, но вот так сказать что я чувствую? я просто знаю что они бывают и мне уже изначально плохо я как будто живу с бомбой с часовым механизмом и даже не предлагаю никаких идей, не хочу снова все проживать, просто нет сил, а вот эмоции я уже  не отслеживаю просто не приятно, но так описать не могу. Давайте начнем разбираться вместе? Как домашнее задание я хочу дать вам возможность разобраться в своих эмоциях, понять что вы чувствуете, каждый раз когда у вас будет возникать ситуация, где муж будет затягивать с решением, даже если это маленькая бытовая ситуация -- вам нужно будет записывать в дневник ситуацию и свои эмоции. Как вам такая идея? спасибо, реально интересно чего я вообще чувствую иногда кажется что уже ничего. хорошо, тогда мы определились с первым заданием и будем понемногу начинать понимать себя, спасибо за встречу.'"
            ],
            "application/vnd.google.colaboratory.intrinsic+json": {
              "type": "string"
            }
          },
          "metadata": {},
          "execution_count": 70
        }
      ],
      "source": [
        "full_cli_text = ' '.join(i for i in cli_df.text.tolist()).strip()\n",
        "full_psy_text = ' '.join(i for i in psy_df.text.tolist()).strip()\n",
        "full_text = ' '.join(i for i in conversation_df.text.tolist()).strip()\n",
        "full_text"
      ]
    },
    {
      "cell_type": "markdown",
      "source": [
        "# Simple Solutions with Pretrained Transformers"
      ],
      "metadata": {
        "id": "ViWfpdVF7_HL"
      }
    },
    {
      "cell_type": "code",
      "source": [
        "def get_summary_phrases(context_list, func):\n",
        "  sums = []\n",
        "  for i in context_list:\n",
        "    sums.append(func(i))\n",
        "  return sums"
      ],
      "metadata": {
        "id": "2IobasO68A0R"
      },
      "execution_count": 71,
      "outputs": []
    },
    {
      "cell_type": "markdown",
      "source": [
        "## Bert2bert\n",
        "\n",
        "bert2bert [model](https://huggingface.co/dmitry-vorobiev/rubert_ria_headlines ), initialized with the DeepPavlov/rubert-base-cased pretrained weights and fine-tuned on the first 99% of \"Rossiya Segodnya\" news dataset for 2 epochs."
      ],
      "metadata": {
        "id": "ojn5kqOr8INo"
      }
    },
    {
      "cell_type": "code",
      "source": [
        "from transformers import AutoTokenizer, AutoModelForSeq2SeqLM\n",
        "\n",
        "MODEL_NAME = \"dmitry-vorobiev/rubert_ria_headlines\"\n",
        "\n",
        "bert2bert_tokenizer = AutoTokenizer.from_pretrained(MODEL_NAME)\n",
        "bert2bert_model = AutoModelForSeq2SeqLM.from_pretrained(MODEL_NAME)"
      ],
      "metadata": {
        "colab": {
          "base_uri": "https://localhost:8080/"
        },
        "id": "hK09IfcS8DvE",
        "outputId": "929d0ec9-88bc-42e6-891d-69d5d4d2d7da"
      },
      "execution_count": 72,
      "outputs": [
        {
          "output_type": "stream",
          "name": "stderr",
          "text": [
            "The following encoder weights were not tied to the decoder ['bert/pooler']\n",
            "The following encoder weights were not tied to the decoder ['bert/pooler']\n"
          ]
        }
      ]
    },
    {
      "cell_type": "code",
      "source": [
        "def extract_summary_bert2bert(text):\n",
        "  encoded_batch = bert2bert_tokenizer.prepare_seq2seq_batch(\n",
        "    [text],\n",
        "    return_tensors=\"pt\",\n",
        "    padding=\"max_length\",\n",
        "    truncation=True,\n",
        "    max_length=512)\n",
        "\n",
        "  output_ids = bert2bert_model.generate(\n",
        "    input_ids=encoded_batch[\"input_ids\"],\n",
        "    max_length=36,\n",
        "    no_repeat_ngram_size=3,\n",
        "    num_beams=5,\n",
        "    top_k=0\n",
        "  )\n",
        "\n",
        "  headline = bert2bert_tokenizer.decode(output_ids[0], \n",
        "                            skip_special_tokens=True, \n",
        "                            clean_up_tokenization_spaces=False)\n",
        "  return headline"
      ],
      "metadata": {
        "id": "6mwAFkZC8TJO"
      },
      "execution_count": 73,
      "outputs": []
    },
    {
      "cell_type": "code",
      "source": [
        "bert2bert_cli_sums = get_summary_phrases(cli_df.text.tolist(), extract_summary_bert2bert)\n",
        "bert2bert_psy_sums = get_summary_phrases(psy_df.text.tolist(), extract_summary_bert2bert)"
      ],
      "metadata": {
        "colab": {
          "base_uri": "https://localhost:8080/"
        },
        "id": "OpzLlllP8UBD",
        "outputId": "9f01f512-d5e1-4151-b56f-8cff974d5e4b"
      },
      "execution_count": 74,
      "outputs": [
        {
          "output_type": "stream",
          "name": "stderr",
          "text": [
            "/usr/local/lib/python3.7/dist-packages/transformers/tokenization_utils_base.py:3516: FutureWarning: \n",
            "`prepare_seq2seq_batch` is deprecated and will be removed in version 5 of HuggingFace Transformers. Use the regular\n",
            "`__call__` method to prepare your inputs and the tokenizer under the `as_target_tokenizer` context manager to prepare\n",
            "your targets.\n",
            "\n",
            "Here is a short example:\n",
            "\n",
            "model_inputs = tokenizer(src_texts, ...)\n",
            "with tokenizer.as_target_tokenizer():\n",
            "    labels = tokenizer(tgt_texts, ...)\n",
            "model_inputs[\"labels\"] = labels[\"input_ids\"]\n",
            "\n",
            "See the documentation of your specific tokenizer for more details on the specific arguments to the tokenizer of choice.\n",
            "For a more complete example, see the implementation of `prepare_seq2seq_batch`.\n",
            "\n",
            "  warnings.warn(formatted_warning, FutureWarning)\n"
          ]
        }
      ]
    },
    {
      "cell_type": "markdown",
      "source": [
        "## T5 pretrained on Telegram dataset\n",
        "Based on rut5-base [model](https://huggingface.co/IlyaGusev/rut5_base_headline_gen_telegram)"
      ],
      "metadata": {
        "id": "HGI5ddoT8X4R"
      }
    },
    {
      "cell_type": "code",
      "source": [
        "from transformers import AutoTokenizer, T5ForConditionalGeneration\n",
        "\n",
        "model_name = \"IlyaGusev/rut5_base_headline_gen_telegram\"\n",
        "t5_tokenizer = AutoTokenizer.from_pretrained(model_name)\n",
        "t5_model = T5ForConditionalGeneration.from_pretrained(model_name)"
      ],
      "metadata": {
        "id": "4-uQKu5R8W-T"
      },
      "execution_count": 75,
      "outputs": []
    },
    {
      "cell_type": "code",
      "source": [
        "def extract_summary_t5(article_text, max_length=600):\n",
        "  input_ids = t5_tokenizer(\n",
        "    [article_text],\n",
        "    max_length=600,\n",
        "    add_special_tokens=True,\n",
        "    padding=\"max_length\",\n",
        "    truncation=True,\n",
        "    return_tensors=\"pt\"\n",
        "  )[\"input_ids\"]\n",
        "\n",
        "  output_ids = t5_model.generate(\n",
        "    input_ids=input_ids\n",
        "  )[0]\n",
        "\n",
        "  headline = t5_tokenizer.decode(output_ids, skip_special_tokens=True)\n",
        "  return headline"
      ],
      "metadata": {
        "id": "gWXdGFU38duP"
      },
      "execution_count": 76,
      "outputs": []
    },
    {
      "cell_type": "code",
      "source": [
        "t5_cli_sums = get_summary_phrases(cli_df.text.tolist(), extract_summary_t5)\n",
        "t5_psy_sums = get_summary_phrases(psy_df.text.tolist(), extract_summary_t5)"
      ],
      "metadata": {
        "id": "ReV222-y8gg0"
      },
      "execution_count": 77,
      "outputs": []
    },
    {
      "cell_type": "markdown",
      "source": [
        "## T5 pretrained on Gazeta dataset\n",
        "[This](https://huggingface.co/IlyaGusev/rut5_base_sum_gazeta) is the model for abstractive summarization for Russian based on rut5-base."
      ],
      "metadata": {
        "id": "DA0AYf-78l5n"
      }
    },
    {
      "cell_type": "code",
      "source": [
        "model_name_t5_gazeta = \"IlyaGusev/rut5_base_sum_gazeta\"\n",
        "tokenizer_t5_gazeta = AutoTokenizer.from_pretrained(model_name_t5_gazeta)\n",
        "model_t5_gazeta = T5ForConditionalGeneration.from_pretrained(model_name_t5_gazeta)\n"
      ],
      "metadata": {
        "id": "ggi5xcqn8jCB"
      },
      "execution_count": 78,
      "outputs": []
    },
    {
      "cell_type": "code",
      "source": [
        "def extract_summary_t5_gazeta(article_text):\n",
        "  input_ids = tokenizer_t5_gazeta(\n",
        "    [article_text],\n",
        "    max_length=600,\n",
        "    add_special_tokens=True,\n",
        "    padding=\"max_length\",\n",
        "    truncation=True,\n",
        "    return_tensors=\"pt\"\n",
        "  )[\"input_ids\"]\n",
        "\n",
        "  output_ids = model_t5_gazeta.generate(\n",
        "    input_ids=input_ids,\n",
        "    no_repeat_ngram_size=4\n",
        "  )[0]\n",
        "\n",
        "  summary = tokenizer_t5_gazeta.decode(output_ids, skip_special_tokens=True)\n",
        "  return summary"
      ],
      "metadata": {
        "id": "AN3rC82e8XD6"
      },
      "execution_count": 79,
      "outputs": []
    },
    {
      "cell_type": "code",
      "source": [
        "t5_cli_sums_gazeta = get_summary_phrases(cli_df.text.tolist(), extract_summary_t5_gazeta)\n",
        "t5_psy_sums_gazeta = get_summary_phrases(psy_df.text.tolist(), extract_summary_t5_gazeta)"
      ],
      "metadata": {
        "id": "Y4y9gOI18O9c"
      },
      "execution_count": 80,
      "outputs": []
    },
    {
      "cell_type": "markdown",
      "source": [
        "# Analysing results"
      ],
      "metadata": {
        "id": "xidJVxrL8zs_"
      }
    },
    {
      "cell_type": "code",
      "source": [
        "def print_n(list_n):\n",
        "  for i in list_n:\n",
        "    print(i)\n",
        "  print()"
      ],
      "metadata": {
        "id": "yLOefgfH8v8G"
      },
      "execution_count": 81,
      "outputs": []
    },
    {
      "cell_type": "markdown",
      "source": [
        "Results with bert2bert "
      ],
      "metadata": {
        "id": "cILpDEoF8-PZ"
      }
    },
    {
      "cell_type": "code",
      "source": [
        "print_n(bert2bert_cli_sums)\n",
        "print_n(bert2bert_psy_sums)"
      ],
      "metadata": {
        "colab": {
          "base_uri": "https://localhost:8080/"
        },
        "id": "EQ1OxUy586_o",
        "outputId": "3150127f-a18e-492b-f6f0-0b5b4f9ae018"
      },
      "execution_count": 82,
      "outputs": [
        {
          "output_type": "stream",
          "name": "stdout",
          "text": [
            "татьяна сергеева\n",
            "украина в безопасности, или как я люблю работу с англиискими деньгами\n",
            "от нуля к блекаутым\n",
            "сергеи\n",
            "\" я не хочу ехать в киев, но через неделю \"\n",
            "\" я не хочу жить однои, а мы уже не будем жить \"\n",
            "\" я хочу быть вместе с мужем \"\n",
            "\" я уже не знаю, что я люблю, а я люблю себя? \"\n",
            "сергеи\n",
            "\n",
            "сергеи\n",
            "ольга, ольга\n",
            "\" я не знаю, что нужно начать все с нуля \"\n",
            "ответственность за принятые решения на себя?\n",
            "что делать с мужем?\n",
            "о том, что муж оттягивал принятие решении решении решении\n",
            "\" я не нужно никого ждать... \"\n",
            "как правильно договориться с семьеи. треилер фильма\n",
            "\" я хочу разобраться, что вы чувствуетеся в эмоциях \"\n",
            "сергеи сергеевич\n",
            "\n"
          ]
        }
      ]
    },
    {
      "cell_type": "markdown",
      "source": [
        "Results with T5_telegram"
      ],
      "metadata": {
        "id": "CnF6ajMW9DwB"
      }
    },
    {
      "cell_type": "code",
      "source": [
        "print_n(t5_cli_sums)\n",
        "print_n(t5_psy_sums)"
      ],
      "metadata": {
        "colab": {
          "base_uri": "https://localhost:8080/"
        },
        "id": "Iz4IE1EQ9H-h",
        "outputId": "19b6a9c0-a47e-45d9-e881-557f0c176cd5"
      },
      "execution_count": 83,
      "outputs": [
        {
          "output_type": "stream",
          "name": "stdout",
          "text": [
            "Добрый день, моя первая консультация в жизни\n",
            "Что делать, если наладится ничего не наладится, но ничего не наладится\n",
            "Страх не с самой необходимости, я уже несколько раз все теряла и начинала \"жизнь с этого нуля\"\n",
            "Не надо ждать коллективного решения, а сам тихо сделала и ни у кого не спрашиваешь\n",
            "Что делать, если бы муж помог мне и согласился бы на переезд уже было бы проще\n",
            "В постоянном ожидании чуда жить тоже не легко\n",
            "Не хочу представлять, а если бы. Мне нравятся наши отношения, хотя такие штуки когда приходится ждать решения прям бесят\n",
            "Я как будто живу с бомбой с часовым механизмом и даже не предлагаю никаких идей\n",
            "Спасибо, реально интересно чего я чувствую иногда кажется что уже ничего\n",
            "\n",
            "У нас с вами назначена консультация\n",
            "Что происходит вокруг вас?\n",
            "Что нужно знать о работе с нуля?\n",
            "Вопрос: готовы ли брать ответственность за принятые решения на себя?\n",
            "Вопрос о разводе с мужем: я так понимаю у вас разные точки зрения на какую то ситуацию с мужем?\n",
            "Муж оттягивал принятие решений, когда муж оттягивал принятие решений?\n",
            "Что происходит с вами, когда вам не нужно никого ждать?\n",
            "Какие эмоции вы испытываете от \"неопределенности\" в решениях внутри семьи\n",
            "Как домашнее задание для мужа\n",
            "Спасибо за встречу, спасибо за встречу, спасибо за встречу\n",
            "\n"
          ]
        }
      ]
    },
    {
      "cell_type": "markdown",
      "source": [
        "Results with T5_gazeta"
      ],
      "metadata": {
        "id": "4h2vxY_d9KQW"
      }
    },
    {
      "cell_type": "code",
      "source": [
        "print_n(t5_cli_sums_gazeta)\n",
        "print_n(t5_psy_sums_gazeta)"
      ],
      "metadata": {
        "colab": {
          "base_uri": "https://localhost:8080/"
        },
        "id": "TGjuDPKR9Ndd",
        "outputId": "dae85b15-8af3-4a3f-bd2a-129f7c8abc74"
      },
      "execution_count": 84,
      "outputs": [
        {
          "output_type": "stream",
          "name": "stdout",
          "text": [
            "Мне хотелось поговорить о том, что сейчас происходит с моей жизнью, а также о том как происходит сейчас. Я не особо понимаю, что именно нужно говорить. Просто хотелось чтобы кто-то услышал, помог мне разобраться в себе.\n",
            "Я живу в Киеве и хочу найти работу в интернете, но не понимаю, почему я живу в этом городе, а не в стране, а в стране очень тихо и спокойно.\n",
            "Я уже несколько раз все теряла и начинала жить в период от нуля до «опять все хочется». Мне кажется, что если я еще раз все потеряю, мне может просто не хотеться что-то делать снова.\n",
            "Я пытаюсь балансировать между личной ответственностью за собственную жизнь и умением договориться. Не надо ждать коллективного решения, а сам тихо сделала и ни у кого не спрашивает.\n",
            "Я не хочу ехать в Киев, я хочу чтобы мы вдвоем поехали, потому что завтра лучше не станет, а после завтра тоже тоже станет.\n",
            "Я не хочу жить одна, а хочу понять, как можно было бы жить, если бы мы не были вместе, потому что я не хотела бы постоянно ждать, где бы я уже была. Потому что мне жалко и нервов и денег, а в постоянном ожидании чуда жить тоже не легко.\n",
            "Я хочу быть вместе с мужем, оберегать наше партнерство, а если бы я осталась одна. Мне нравятся наши отношения, но я не понимаю, как жить с мужем.\n",
            "Мне уже изначально плохо, я просто знаю что они бывают, а вот эмоции я уже не отслеживаю. я просто не хочу снова все проживать, а также не предлагаю никаких идей. Вот вот вот так сказать что я чувствую, я как будто живу с бомбой с часовым механизмом и даже не могу снова проживать.\n",
            "Я вообще не чувствую ничего, а чувствую уже ничего. Вот я и хочу рассказать вам о том, как я чувствую иногда каждый раз кажется что уже нечего.\n",
            "\n",
            "Здравствуйте, меня зовут Ирина, у нас с вами назначена консультация на первую встречу. Мне зовут Ольга, у нас на сегодня назначена первая встреча. Надеюсь, что наш разговор будет приятным и полезным.\n",
            "Сейчас многие проживают события, к которым сложно быть готовым. Ольга, где вы находитесь, в каких условиях живете, какие события происходят вокруг вас, где живете, в какие условиях живете, что происходит вокруг вас.\n",
            "Я хочу рассказать вам о том, как я решила начать все с нуля, а также о проблемах, которые я услышала и продолжила работу.\n",
            "Ответственность за принятые решения будет брать на себя, готовы ли брать ответственность за принятие принятых решения на себя. Если принимать решение правильно, то будет ли принимать ответственность за принятое решение на себя? Если решение есть всегда, задайте себе вопрос: готовы ли готовы нести ответственность за принятое решение на себе, а готовы ли быть брать его ответственность на себя на себя и готовы ли отвечать за принятие решения.\n",
            "Я так понимаю у вас разные точки зрения на какую то ситуацию с мужем, а вот у мужа разные мысли на какие то ситуации с мужем. Муж так и не понимает у кого разные точка зрения на ситуацию с его мужем.\n",
            "Муж оттягивал принятие решений, когда муж оттягивал принятие решений. Раньше муж отказался от принятия решений и принимал решения, когда жена оттягивала принятие решения. А раньше у вас возникали проблемы с мужем, когда он оттягивал принятие решений.\n",
            "Как вы представляли свою жизнь без отношений, когда вам не нужно никого ждать, а как вы представляли ее без отношений без отношений. Вот что происходит с вами, когда никого не нужно ждать.\n",
            "Неопределенность в решениях внутри семьи, отсутствие возможности договориться, неопределенность в решениях внутри семьи. Если я правильно услышала, то больше всего вас тревожит неопределенность.\n",
            "Как домашнее задание я хочу дать вам возможность разобраться в своих эмоциях, понять что вы чувствуете, каждый раз когда у вас будет возникать ситуация, где муж будет затягивать с решением, даже если это маленькая бытовая ситуация.\n",
            "Мы определились с первым заданием и будут начинать понимать себя, спасибо за встречу, а также определились с вторым заданием.\n",
            "\n"
          ]
        }
      ]
    },
    {
      "cell_type": "markdown",
      "source": [
        "The performence of rut5-base trained on Telegram dataset is the best. Let's use it to show the main keypoints to the user"
      ],
      "metadata": {
        "id": "2bL9jLoaDj-T"
      }
    },
    {
      "cell_type": "code",
      "source": [
        "t5_sums = t5_cli_sums + t5_psy_sums\n",
        "t5_sums_text = '. '.join(t5_sums)\n",
        "t5_sums_text"
      ],
      "metadata": {
        "colab": {
          "base_uri": "https://localhost:8080/",
          "height": 203
        },
        "id": "vPohZ2crErRR",
        "outputId": "3343a5de-aa5d-4127-bbf3-cc82a2bc12fc"
      },
      "execution_count": 85,
      "outputs": [
        {
          "output_type": "execute_result",
          "data": {
            "text/plain": [
              "'Добрый день, моя первая консультация в жизни. Что делать, если наладится ничего не наладится, но ничего не наладится. Страх не с самой необходимости, я уже несколько раз все теряла и начинала \"жизнь с этого нуля\". Не надо ждать коллективного решения, а сам тихо сделала и ни у кого не спрашиваешь. Что делать, если бы муж помог мне и согласился бы на переезд уже было бы проще. В постоянном ожидании чуда жить тоже не легко. Не хочу представлять, а если бы. Мне нравятся наши отношения, хотя такие штуки когда приходится ждать решения прям бесят. Я как будто живу с бомбой с часовым механизмом и даже не предлагаю никаких идей. Спасибо, реально интересно чего я чувствую иногда кажется что уже ничего. У нас с вами назначена консультация. Что происходит вокруг вас?. Что нужно знать о работе с нуля?. Вопрос: готовы ли брать ответственность за принятые решения на себя?. Вопрос о разводе с мужем: я так понимаю у вас разные точки зрения на какую то ситуацию с мужем?. Муж оттягивал принятие решений, когда муж оттягивал принятие решений?. Что происходит с вами, когда вам не нужно никого ждать?. Какие эмоции вы испытываете от \"неопределенности\" в решениях внутри семьи. Как домашнее задание для мужа. Спасибо за встречу, спасибо за встречу, спасибо за встречу'"
            ],
            "application/vnd.google.colaboratory.intrinsic+json": {
              "type": "string"
            }
          },
          "metadata": {},
          "execution_count": 85
        }
      ]
    },
    {
      "cell_type": "markdown",
      "metadata": {
        "id": "_0WuE7pvtJF0"
      },
      "source": [
        "# Further Steps"
      ]
    },
    {
      "cell_type": "markdown",
      "metadata": {
        "id": "v9y-xGUreZm0"
      },
      "source": [
        "## Vector Representation of Sentences with SentenceTransformer\n",
        "[SentenceTransformers](https://www.sbert.net/examples/applications/computing-embeddings/README.html) is a Python framework for state-of-the-art sentence, text and image embeddings.\n",
        "### Distiluse-base-multilingual-cased\n",
        "\n",
        "This is a sentence-transformers [model](https://huggingface.co/sentence-transformers/distiluse-base-multilingual-cased): It maps sentences & paragraphs to a 512 dimensional dense vector space and can be used for tasks like clustering or semantic search.\n",
        "\n",
        "Full Model Architecture:\n",
        "```\n",
        "SentenceTransformer(\n",
        "  (0): Transformer({'max_seq_length': 128, 'do_lower_case': False}) with Transformer model: DistilBertModel \n",
        "  (1): Pooling({'word_embedding_dimension': 768, 'pooling_mode_cls_token': False, 'pooling_mode_mean_tokens': True, 'pooling_mode_max_tokens': False, 'pooling_mode_mean_sqrt_len_tokens': False})\n",
        "  (2): Dense({'in_features': 768, 'out_features': 512, 'bias': True, 'activation_function': 'torch.nn.modules.activation.Tanh'})\n",
        ")\n",
        "```\n",
        "\n"
      ]
    },
    {
      "cell_type": "code",
      "execution_count": 86,
      "metadata": {
        "colab": {
          "base_uri": "https://localhost:8080/"
        },
        "id": "NIqkdeNEVb62",
        "outputId": "e0f9c421-f950-46ed-fab5-6690d504dc0b"
      },
      "outputs": [
        {
          "output_type": "stream",
          "name": "stdout",
          "text": [
            "Requirement already satisfied: sentence-transformers in /usr/local/lib/python3.7/dist-packages (2.2.0)\n",
            "Requirement already satisfied: sentencepiece in /usr/local/lib/python3.7/dist-packages (from sentence-transformers) (0.1.96)\n",
            "Requirement already satisfied: scipy in /usr/local/lib/python3.7/dist-packages (from sentence-transformers) (1.4.1)\n",
            "Requirement already satisfied: nltk in /usr/local/lib/python3.7/dist-packages (from sentence-transformers) (3.2.5)\n",
            "Requirement already satisfied: numpy in /usr/local/lib/python3.7/dist-packages (from sentence-transformers) (1.21.6)\n",
            "Requirement already satisfied: torchvision in /usr/local/lib/python3.7/dist-packages (from sentence-transformers) (0.12.0+cu113)\n",
            "Requirement already satisfied: scikit-learn in /usr/local/lib/python3.7/dist-packages (from sentence-transformers) (1.0.2)\n",
            "Requirement already satisfied: tqdm in /usr/local/lib/python3.7/dist-packages (from sentence-transformers) (4.64.0)\n",
            "Requirement already satisfied: huggingface-hub in /usr/local/lib/python3.7/dist-packages (from sentence-transformers) (0.5.1)\n",
            "Requirement already satisfied: torch>=1.6.0 in /usr/local/lib/python3.7/dist-packages (from sentence-transformers) (1.11.0+cu113)\n",
            "Requirement already satisfied: transformers<5.0.0,>=4.6.0 in /usr/local/lib/python3.7/dist-packages (from sentence-transformers) (4.18.0)\n",
            "Requirement already satisfied: typing-extensions in /usr/local/lib/python3.7/dist-packages (from torch>=1.6.0->sentence-transformers) (4.2.0)\n",
            "Requirement already satisfied: pyyaml>=5.1 in /usr/local/lib/python3.7/dist-packages (from transformers<5.0.0,>=4.6.0->sentence-transformers) (6.0)\n",
            "Requirement already satisfied: requests in /usr/local/lib/python3.7/dist-packages (from transformers<5.0.0,>=4.6.0->sentence-transformers) (2.23.0)\n",
            "Requirement already satisfied: regex!=2019.12.17 in /usr/local/lib/python3.7/dist-packages (from transformers<5.0.0,>=4.6.0->sentence-transformers) (2019.12.20)\n",
            "Requirement already satisfied: packaging>=20.0 in /usr/local/lib/python3.7/dist-packages (from transformers<5.0.0,>=4.6.0->sentence-transformers) (21.3)\n",
            "Requirement already satisfied: importlib-metadata in /usr/local/lib/python3.7/dist-packages (from transformers<5.0.0,>=4.6.0->sentence-transformers) (4.11.3)\n",
            "Requirement already satisfied: filelock in /usr/local/lib/python3.7/dist-packages (from transformers<5.0.0,>=4.6.0->sentence-transformers) (3.6.0)\n",
            "Requirement already satisfied: tokenizers!=0.11.3,<0.13,>=0.11.1 in /usr/local/lib/python3.7/dist-packages (from transformers<5.0.0,>=4.6.0->sentence-transformers) (0.12.1)\n",
            "Requirement already satisfied: sacremoses in /usr/local/lib/python3.7/dist-packages (from transformers<5.0.0,>=4.6.0->sentence-transformers) (0.0.53)\n",
            "Requirement already satisfied: pyparsing!=3.0.5,>=2.0.2 in /usr/local/lib/python3.7/dist-packages (from packaging>=20.0->transformers<5.0.0,>=4.6.0->sentence-transformers) (3.0.8)\n",
            "Requirement already satisfied: zipp>=0.5 in /usr/local/lib/python3.7/dist-packages (from importlib-metadata->transformers<5.0.0,>=4.6.0->sentence-transformers) (3.8.0)\n",
            "Requirement already satisfied: six in /usr/local/lib/python3.7/dist-packages (from nltk->sentence-transformers) (1.15.0)\n",
            "Requirement already satisfied: certifi>=2017.4.17 in /usr/local/lib/python3.7/dist-packages (from requests->transformers<5.0.0,>=4.6.0->sentence-transformers) (2021.10.8)\n",
            "Requirement already satisfied: chardet<4,>=3.0.2 in /usr/local/lib/python3.7/dist-packages (from requests->transformers<5.0.0,>=4.6.0->sentence-transformers) (3.0.4)\n",
            "Requirement already satisfied: urllib3!=1.25.0,!=1.25.1,<1.26,>=1.21.1 in /usr/local/lib/python3.7/dist-packages (from requests->transformers<5.0.0,>=4.6.0->sentence-transformers) (1.24.3)\n",
            "Requirement already satisfied: idna<3,>=2.5 in /usr/local/lib/python3.7/dist-packages (from requests->transformers<5.0.0,>=4.6.0->sentence-transformers) (2.10)\n",
            "Requirement already satisfied: joblib in /usr/local/lib/python3.7/dist-packages (from sacremoses->transformers<5.0.0,>=4.6.0->sentence-transformers) (1.1.0)\n",
            "Requirement already satisfied: click in /usr/local/lib/python3.7/dist-packages (from sacremoses->transformers<5.0.0,>=4.6.0->sentence-transformers) (7.1.2)\n",
            "Requirement already satisfied: threadpoolctl>=2.0.0 in /usr/local/lib/python3.7/dist-packages (from scikit-learn->sentence-transformers) (3.1.0)\n",
            "Requirement already satisfied: pillow!=8.3.*,>=5.3.0 in /usr/local/lib/python3.7/dist-packages (from torchvision->sentence-transformers) (7.1.2)\n"
          ]
        }
      ],
      "source": [
        "!pip install -U sentence-transformers"
      ]
    },
    {
      "cell_type": "code",
      "execution_count": 87,
      "metadata": {
        "id": "8Ll-kGhbPCLp"
      },
      "outputs": [],
      "source": [
        "from sentence_transformers import SentenceTransformer, util, models"
      ]
    },
    {
      "cell_type": "code",
      "execution_count": 88,
      "metadata": {
        "id": "rsU8UpgoWjvh"
      },
      "outputs": [],
      "source": [
        "st_model = SentenceTransformer('sentence-transformers/distiluse-base-multilingual-cased')"
      ]
    },
    {
      "cell_type": "code",
      "execution_count": 89,
      "metadata": {
        "id": "7uBD4jtgejge"
      },
      "outputs": [],
      "source": [
        "sent_vect = lambda sentences: st_model.encode(sentences)"
      ]
    },
    {
      "cell_type": "code",
      "source": [
        "import nltk\n",
        "nltk.download('punkt')\n",
        "from nltk.tokenize import word_tokenize, sent_tokenize"
      ],
      "metadata": {
        "colab": {
          "base_uri": "https://localhost:8080/"
        },
        "id": "LL9eR-CnY1lH",
        "outputId": "4959ec73-72d1-40a3-dd52-87802b263816"
      },
      "execution_count": 96,
      "outputs": [
        {
          "output_type": "stream",
          "name": "stdout",
          "text": [
            "[nltk_data] Downloading package punkt to /root/nltk_data...\n",
            "[nltk_data]   Package punkt is already up-to-date!\n"
          ]
        }
      ]
    },
    {
      "cell_type": "code",
      "source": [
        "import nltk.data\n",
        "s_tokenizer = nltk.data.load('tokenizers/punkt/russian.pickle')"
      ],
      "metadata": {
        "id": "6Bd3YVH0Y_5t"
      },
      "execution_count": 99,
      "outputs": []
    },
    {
      "cell_type": "code",
      "source": [
        "def split_text(text):\n",
        "  return [i for i in s_tokenizer.tokenize(text)]"
      ],
      "metadata": {
        "id": "d4UWLUj_YvRb"
      },
      "execution_count": 100,
      "outputs": []
    },
    {
      "cell_type": "code",
      "source": [
        "split_t5_sums = split_text(t5_sums_text)"
      ],
      "metadata": {
        "id": "uI-Zw3GZYiEF"
      },
      "execution_count": 101,
      "outputs": []
    },
    {
      "cell_type": "code",
      "execution_count": 102,
      "metadata": {
        "id": "5FCUPHrKHwyA"
      },
      "outputs": [],
      "source": [
        "sentence_vectors = sent_vect(split_t5_sums)"
      ]
    },
    {
      "cell_type": "code",
      "source": [
        "sentence_vectors"
      ],
      "metadata": {
        "id": "Qx_DBgSRGfTh",
        "outputId": "d439bdb6-23fd-4946-b71d-2e10d13fc09e",
        "colab": {
          "base_uri": "https://localhost:8080/"
        }
      },
      "execution_count": 103,
      "outputs": [
        {
          "output_type": "execute_result",
          "data": {
            "text/plain": [
              "array([[ 0.0054105 , -0.00886872,  0.00120969, ..., -0.01570556,\n",
              "         0.00984144,  0.03023268],\n",
              "       [ 0.00178432, -0.0087492 ,  0.03183902, ...,  0.00129839,\n",
              "         0.01863876,  0.01968449],\n",
              "       [ 0.00974022,  0.07614667,  0.03124227, ..., -0.06393679,\n",
              "        -0.00111329, -0.01852025],\n",
              "       ...,\n",
              "       [-0.05058642, -0.00258173,  0.01237124, ..., -0.00330928,\n",
              "        -0.01920856, -0.02056896],\n",
              "       [-0.04808177,  0.05165537, -0.00559803, ...,  0.01668649,\n",
              "        -0.01627786, -0.01267045],\n",
              "       [ 0.02671837, -0.0282538 ,  0.01736572, ..., -0.03209884,\n",
              "        -0.01977813, -0.05262212]], dtype=float32)"
            ]
          },
          "metadata": {},
          "execution_count": 103
        }
      ]
    },
    {
      "cell_type": "code",
      "execution_count": 104,
      "metadata": {
        "colab": {
          "base_uri": "https://localhost:8080/"
        },
        "id": "jlDbPsi4PVZb",
        "outputId": "d4930cb9-8567-4bf0-8b5d-17a019e0ad9f"
      },
      "outputs": [
        {
          "output_type": "execute_result",
          "data": {
            "text/plain": [
              "(20, 512)"
            ]
          },
          "metadata": {},
          "execution_count": 104
        }
      ],
      "source": [
        "sentence_vectors.shape"
      ]
    },
    {
      "cell_type": "code",
      "execution_count": 105,
      "metadata": {
        "id": "6R6IOkdefKeG"
      },
      "outputs": [],
      "source": [
        "# similarity matrix\n",
        "def form_sim_matr(sent_vectors):\n",
        "  sim_mat = np.zeros([len(sent_vectors), len(sent_vectors)])\n",
        "  for i in range(len(sent_vectors)):\n",
        "    for j in range(len(sent_vectors)):\n",
        "      if i != j:\n",
        "        sim_mat[i][j] = cosine_similarity(sent_vectors[i].reshape(1,sent_vectors.shape[1]), sent_vectors[j].reshape(1,sent_vectors.shape[1]))[0,0]\n",
        "  return sim_mat"
      ]
    },
    {
      "cell_type": "code",
      "execution_count": 106,
      "metadata": {
        "id": "7lftzxlqKHkV"
      },
      "outputs": [],
      "source": [
        "all_sim_matr = form_sim_matr(sentence_vectors)"
      ]
    },
    {
      "cell_type": "markdown",
      "metadata": {
        "id": "oX9nPIb2sLya"
      },
      "source": [
        "## Rank Sentences"
      ]
    },
    {
      "cell_type": "code",
      "execution_count": 115,
      "metadata": {
        "id": "eRXy5wZdKRpa"
      },
      "outputs": [],
      "source": [
        "def rank_sentences(text):\n",
        "  vect = sent_vect(split_text(text))\n",
        "  sim_mat = form_sim_matr(vect)\n",
        "  nx_graph = nx.from_numpy_array(sim_mat)\n",
        "  scores = nx.pagerank(nx_graph)\n",
        "  ranked_sentences = sorted(((scores[i],s) for i,s in enumerate(split_text(text))), reverse=True)\n",
        "  return ranked_sentences"
      ]
    },
    {
      "cell_type": "code",
      "execution_count": 116,
      "metadata": {
        "id": "JxtJ_mBdfc2q"
      },
      "outputs": [],
      "source": [
        "rank_sent = rank_sentences(t5_sums_text)"
      ]
    },
    {
      "cell_type": "code",
      "execution_count": 117,
      "metadata": {
        "colab": {
          "base_uri": "https://localhost:8080/"
        },
        "id": "mJBE5sJvr4lo",
        "outputId": "58a4ad6d-5dce-4221-ea4a-140fd88f4747"
      },
      "outputs": [
        {
          "output_type": "execute_result",
          "data": {
            "text/plain": [
              "[(0.07315400099210567,\n",
              "  'Вопрос о разводе с мужем: я так понимаю у вас разные точки зрения на какую то ситуацию с мужем?.'),\n",
              " (0.07044578567919878,\n",
              "  'Что происходит с вами, когда вам не нужно никого ждать?.'),\n",
              " (0.06695937130263044,\n",
              "  'Мне нравятся наши отношения, хотя такие штуки когда приходится ждать решения прям бесят.'),\n",
              " (0.0638885914329078,\n",
              "  'Что делать, если бы муж помог мне и согласился бы на переезд уже было бы проще.'),\n",
              " (0.061058568421402885,\n",
              "  'Спасибо, реально интересно чего я чувствую иногда кажется что уже ничего.'),\n",
              " (0.06090339630404084,\n",
              "  'Муж оттягивал принятие решений, когда муж оттягивал принятие решений?.'),\n",
              " (0.05682808436738453,\n",
              "  'Не надо ждать коллективного решения, а сам тихо сделала и ни у кого не спрашиваешь.'),\n",
              " (0.05501895219268985,\n",
              "  'Что делать, если наладится ничего не наладится, но ничего не наладится.'),\n",
              " (0.05479266735012615,\n",
              "  'Какие эмоции вы испытываете от \"неопределенности\" в решениях внутри семьи.'),\n",
              " (0.053513089752605346,\n",
              "  'Я как будто живу с бомбой с часовым механизмом и даже не предлагаю никаких идей.'),\n",
              " (0.049352429465066606,\n",
              "  'Вопрос: готовы ли брать ответственность за принятые решения на себя?.'),\n",
              " (0.04816239728904762, 'Как домашнее задание для мужа.'),\n",
              " (0.04322001212584302, 'Добрый день, моя первая консультация в жизни.'),\n",
              " (0.04285070411293243, 'Что нужно знать о работе с нуля?.'),\n",
              " (0.04208660441932358,\n",
              "  'Страх не с самой необходимости, я уже несколько раз все теряла и начинала \"жизнь с этого нуля\".'),\n",
              " (0.038625459211727636, 'В постоянном ожидании чуда жить тоже не легко.'),\n",
              " (0.0357557135795919, 'Не хочу представлять, а если бы.'),\n",
              " (0.03176536022780186, 'Что происходит вокруг вас?.'),\n",
              " (0.027435797760368058,\n",
              "  'Спасибо за встречу, спасибо за встречу, спасибо за встречу'),\n",
              " (0.02418301401320508, 'У нас с вами назначена консультация.')]"
            ]
          },
          "metadata": {},
          "execution_count": 117
        }
      ],
      "source": [
        "rank_sent"
      ]
    },
    {
      "cell_type": "code",
      "execution_count": 118,
      "metadata": {
        "colab": {
          "base_uri": "https://localhost:8080/"
        },
        "id": "RGPMxx3VrlIb",
        "outputId": "8c972095-ff14-4ce0-fdd2-36b47ea11e81"
      },
      "outputs": [
        {
          "output_type": "execute_result",
          "data": {
            "text/plain": [
              "list"
            ]
          },
          "metadata": {},
          "execution_count": 118
        }
      ],
      "source": [
        "type(rank_sent)"
      ]
    },
    {
      "cell_type": "code",
      "execution_count": 120,
      "metadata": {
        "id": "zi61Kdm4ueS3"
      },
      "outputs": [],
      "source": [
        "rank_df = pd.DataFrame(rank_sent, columns=['rank', 'sent'])"
      ]
    },
    {
      "cell_type": "code",
      "execution_count": 121,
      "metadata": {
        "colab": {
          "base_uri": "https://localhost:8080/",
          "height": 677
        },
        "id": "WfftZZL3u70g",
        "outputId": "83d443ba-5a3a-402b-999f-9f8588a8aa6a"
      },
      "outputs": [
        {
          "output_type": "execute_result",
          "data": {
            "text/plain": [
              "        rank  \\\n",
              "0   0.073154   \n",
              "1   0.070446   \n",
              "2   0.066959   \n",
              "3   0.063889   \n",
              "4   0.061059   \n",
              "5   0.060903   \n",
              "6   0.056828   \n",
              "7   0.055019   \n",
              "8   0.054793   \n",
              "9   0.053513   \n",
              "10  0.049352   \n",
              "11  0.048162   \n",
              "12  0.043220   \n",
              "13  0.042851   \n",
              "14  0.042087   \n",
              "15  0.038625   \n",
              "16  0.035756   \n",
              "17  0.031765   \n",
              "18  0.027436   \n",
              "19  0.024183   \n",
              "\n",
              "                                                                                                sent  \n",
              "0   Вопрос о разводе с мужем: я так понимаю у вас разные точки зрения на какую то ситуацию с мужем?.  \n",
              "1                                           Что происходит с вами, когда вам не нужно никого ждать?.  \n",
              "2           Мне нравятся наши отношения, хотя такие штуки когда приходится ждать решения прям бесят.  \n",
              "3                    Что делать, если бы муж помог мне и согласился бы на переезд уже было бы проще.  \n",
              "4                          Спасибо, реально интересно чего я чувствую иногда кажется что уже ничего.  \n",
              "5                             Муж оттягивал принятие решений, когда муж оттягивал принятие решений?.  \n",
              "6                Не надо ждать коллективного решения, а сам тихо сделала и ни у кого не спрашиваешь.  \n",
              "7                            Что делать, если наладится ничего не наладится, но ничего не наладится.  \n",
              "8                         Какие эмоции вы испытываете от \"неопределенности\" в решениях внутри семьи.  \n",
              "9                   Я как будто живу с бомбой с часовым механизмом и даже не предлагаю никаких идей.  \n",
              "10                             Вопрос: готовы ли брать ответственность за принятые решения на себя?.  \n",
              "11                                                                    Как домашнее задание для мужа.  \n",
              "12                                                     Добрый день, моя первая консультация в жизни.  \n",
              "13                                                                 Что нужно знать о работе с нуля?.  \n",
              "14   Страх не с самой необходимости, я уже несколько раз все теряла и начинала \"жизнь с этого нуля\".  \n",
              "15                                                    В постоянном ожидании чуда жить тоже не легко.  \n",
              "16                                                                  Не хочу представлять, а если бы.  \n",
              "17                                                                       Что происходит вокруг вас?.  \n",
              "18                                        Спасибо за встречу, спасибо за встречу, спасибо за встречу  \n",
              "19                                                              У нас с вами назначена консультация.  "
            ],
            "text/html": [
              "\n",
              "  <div id=\"df-70cb1a3a-679a-4746-b9ca-a20f89f17b1e\">\n",
              "    <div class=\"colab-df-container\">\n",
              "      <div>\n",
              "<style scoped>\n",
              "    .dataframe tbody tr th:only-of-type {\n",
              "        vertical-align: middle;\n",
              "    }\n",
              "\n",
              "    .dataframe tbody tr th {\n",
              "        vertical-align: top;\n",
              "    }\n",
              "\n",
              "    .dataframe thead th {\n",
              "        text-align: right;\n",
              "    }\n",
              "</style>\n",
              "<table border=\"1\" class=\"dataframe\">\n",
              "  <thead>\n",
              "    <tr style=\"text-align: right;\">\n",
              "      <th></th>\n",
              "      <th>rank</th>\n",
              "      <th>sent</th>\n",
              "    </tr>\n",
              "  </thead>\n",
              "  <tbody>\n",
              "    <tr>\n",
              "      <th>0</th>\n",
              "      <td>0.073154</td>\n",
              "      <td>Вопрос о разводе с мужем: я так понимаю у вас разные точки зрения на какую то ситуацию с мужем?.</td>\n",
              "    </tr>\n",
              "    <tr>\n",
              "      <th>1</th>\n",
              "      <td>0.070446</td>\n",
              "      <td>Что происходит с вами, когда вам не нужно никого ждать?.</td>\n",
              "    </tr>\n",
              "    <tr>\n",
              "      <th>2</th>\n",
              "      <td>0.066959</td>\n",
              "      <td>Мне нравятся наши отношения, хотя такие штуки когда приходится ждать решения прям бесят.</td>\n",
              "    </tr>\n",
              "    <tr>\n",
              "      <th>3</th>\n",
              "      <td>0.063889</td>\n",
              "      <td>Что делать, если бы муж помог мне и согласился бы на переезд уже было бы проще.</td>\n",
              "    </tr>\n",
              "    <tr>\n",
              "      <th>4</th>\n",
              "      <td>0.061059</td>\n",
              "      <td>Спасибо, реально интересно чего я чувствую иногда кажется что уже ничего.</td>\n",
              "    </tr>\n",
              "    <tr>\n",
              "      <th>5</th>\n",
              "      <td>0.060903</td>\n",
              "      <td>Муж оттягивал принятие решений, когда муж оттягивал принятие решений?.</td>\n",
              "    </tr>\n",
              "    <tr>\n",
              "      <th>6</th>\n",
              "      <td>0.056828</td>\n",
              "      <td>Не надо ждать коллективного решения, а сам тихо сделала и ни у кого не спрашиваешь.</td>\n",
              "    </tr>\n",
              "    <tr>\n",
              "      <th>7</th>\n",
              "      <td>0.055019</td>\n",
              "      <td>Что делать, если наладится ничего не наладится, но ничего не наладится.</td>\n",
              "    </tr>\n",
              "    <tr>\n",
              "      <th>8</th>\n",
              "      <td>0.054793</td>\n",
              "      <td>Какие эмоции вы испытываете от \"неопределенности\" в решениях внутри семьи.</td>\n",
              "    </tr>\n",
              "    <tr>\n",
              "      <th>9</th>\n",
              "      <td>0.053513</td>\n",
              "      <td>Я как будто живу с бомбой с часовым механизмом и даже не предлагаю никаких идей.</td>\n",
              "    </tr>\n",
              "    <tr>\n",
              "      <th>10</th>\n",
              "      <td>0.049352</td>\n",
              "      <td>Вопрос: готовы ли брать ответственность за принятые решения на себя?.</td>\n",
              "    </tr>\n",
              "    <tr>\n",
              "      <th>11</th>\n",
              "      <td>0.048162</td>\n",
              "      <td>Как домашнее задание для мужа.</td>\n",
              "    </tr>\n",
              "    <tr>\n",
              "      <th>12</th>\n",
              "      <td>0.043220</td>\n",
              "      <td>Добрый день, моя первая консультация в жизни.</td>\n",
              "    </tr>\n",
              "    <tr>\n",
              "      <th>13</th>\n",
              "      <td>0.042851</td>\n",
              "      <td>Что нужно знать о работе с нуля?.</td>\n",
              "    </tr>\n",
              "    <tr>\n",
              "      <th>14</th>\n",
              "      <td>0.042087</td>\n",
              "      <td>Страх не с самой необходимости, я уже несколько раз все теряла и начинала \"жизнь с этого нуля\".</td>\n",
              "    </tr>\n",
              "    <tr>\n",
              "      <th>15</th>\n",
              "      <td>0.038625</td>\n",
              "      <td>В постоянном ожидании чуда жить тоже не легко.</td>\n",
              "    </tr>\n",
              "    <tr>\n",
              "      <th>16</th>\n",
              "      <td>0.035756</td>\n",
              "      <td>Не хочу представлять, а если бы.</td>\n",
              "    </tr>\n",
              "    <tr>\n",
              "      <th>17</th>\n",
              "      <td>0.031765</td>\n",
              "      <td>Что происходит вокруг вас?.</td>\n",
              "    </tr>\n",
              "    <tr>\n",
              "      <th>18</th>\n",
              "      <td>0.027436</td>\n",
              "      <td>Спасибо за встречу, спасибо за встречу, спасибо за встречу</td>\n",
              "    </tr>\n",
              "    <tr>\n",
              "      <th>19</th>\n",
              "      <td>0.024183</td>\n",
              "      <td>У нас с вами назначена консультация.</td>\n",
              "    </tr>\n",
              "  </tbody>\n",
              "</table>\n",
              "</div>\n",
              "      <button class=\"colab-df-convert\" onclick=\"convertToInteractive('df-70cb1a3a-679a-4746-b9ca-a20f89f17b1e')\"\n",
              "              title=\"Convert this dataframe to an interactive table.\"\n",
              "              style=\"display:none;\">\n",
              "        \n",
              "  <svg xmlns=\"http://www.w3.org/2000/svg\" height=\"24px\"viewBox=\"0 0 24 24\"\n",
              "       width=\"24px\">\n",
              "    <path d=\"M0 0h24v24H0V0z\" fill=\"none\"/>\n",
              "    <path d=\"M18.56 5.44l.94 2.06.94-2.06 2.06-.94-2.06-.94-.94-2.06-.94 2.06-2.06.94zm-11 1L8.5 8.5l.94-2.06 2.06-.94-2.06-.94L8.5 2.5l-.94 2.06-2.06.94zm10 10l.94 2.06.94-2.06 2.06-.94-2.06-.94-.94-2.06-.94 2.06-2.06.94z\"/><path d=\"M17.41 7.96l-1.37-1.37c-.4-.4-.92-.59-1.43-.59-.52 0-1.04.2-1.43.59L10.3 9.45l-7.72 7.72c-.78.78-.78 2.05 0 2.83L4 21.41c.39.39.9.59 1.41.59.51 0 1.02-.2 1.41-.59l7.78-7.78 2.81-2.81c.8-.78.8-2.07 0-2.86zM5.41 20L4 18.59l7.72-7.72 1.47 1.35L5.41 20z\"/>\n",
              "  </svg>\n",
              "      </button>\n",
              "      \n",
              "  <style>\n",
              "    .colab-df-container {\n",
              "      display:flex;\n",
              "      flex-wrap:wrap;\n",
              "      gap: 12px;\n",
              "    }\n",
              "\n",
              "    .colab-df-convert {\n",
              "      background-color: #E8F0FE;\n",
              "      border: none;\n",
              "      border-radius: 50%;\n",
              "      cursor: pointer;\n",
              "      display: none;\n",
              "      fill: #1967D2;\n",
              "      height: 32px;\n",
              "      padding: 0 0 0 0;\n",
              "      width: 32px;\n",
              "    }\n",
              "\n",
              "    .colab-df-convert:hover {\n",
              "      background-color: #E2EBFA;\n",
              "      box-shadow: 0px 1px 2px rgba(60, 64, 67, 0.3), 0px 1px 3px 1px rgba(60, 64, 67, 0.15);\n",
              "      fill: #174EA6;\n",
              "    }\n",
              "\n",
              "    [theme=dark] .colab-df-convert {\n",
              "      background-color: #3B4455;\n",
              "      fill: #D2E3FC;\n",
              "    }\n",
              "\n",
              "    [theme=dark] .colab-df-convert:hover {\n",
              "      background-color: #434B5C;\n",
              "      box-shadow: 0px 1px 3px 1px rgba(0, 0, 0, 0.15);\n",
              "      filter: drop-shadow(0px 1px 2px rgba(0, 0, 0, 0.3));\n",
              "      fill: #FFFFFF;\n",
              "    }\n",
              "  </style>\n",
              "\n",
              "      <script>\n",
              "        const buttonEl =\n",
              "          document.querySelector('#df-70cb1a3a-679a-4746-b9ca-a20f89f17b1e button.colab-df-convert');\n",
              "        buttonEl.style.display =\n",
              "          google.colab.kernel.accessAllowed ? 'block' : 'none';\n",
              "\n",
              "        async function convertToInteractive(key) {\n",
              "          const element = document.querySelector('#df-70cb1a3a-679a-4746-b9ca-a20f89f17b1e');\n",
              "          const dataTable =\n",
              "            await google.colab.kernel.invokeFunction('convertToInteractive',\n",
              "                                                     [key], {});\n",
              "          if (!dataTable) return;\n",
              "\n",
              "          const docLinkHtml = 'Like what you see? Visit the ' +\n",
              "            '<a target=\"_blank\" href=https://colab.research.google.com/notebooks/data_table.ipynb>data table notebook</a>'\n",
              "            + ' to learn more about interactive tables.';\n",
              "          element.innerHTML = '';\n",
              "          dataTable['output_type'] = 'display_data';\n",
              "          await google.colab.output.renderOutput(dataTable, element);\n",
              "          const docLink = document.createElement('div');\n",
              "          docLink.innerHTML = docLinkHtml;\n",
              "          element.appendChild(docLink);\n",
              "        }\n",
              "      </script>\n",
              "    </div>\n",
              "  </div>\n",
              "  "
            ]
          },
          "metadata": {},
          "execution_count": 121
        }
      ],
      "source": [
        "rank_df"
      ]
    },
    {
      "cell_type": "markdown",
      "metadata": {
        "id": "4LIaG3Q4RDcs"
      },
      "source": [
        "# End-user Approach\n",
        "\n",
        "```\n",
        "summarize_text(text, num_bull_points=5, is_dialog = False)\n",
        "```\n",
        "\n",
        "The function summarizes key points from sentences with T5 Model, then builds vector representations of sentences, ranks them and chooses the top results.\n",
        "The user can choose the number of final bullet points.\n",
        "\n",
        "```\n",
        "Parameters:\n",
        "*num_bull_points* - the number of bullet points\n",
        "*is_dialog* - tells whether there is a necessity to parse psychologist's and client's replies separately\n",
        "\n",
        "Returns: list of tuples\n",
        "```"
      ]
    },
    {
      "cell_type": "markdown",
      "source": [
        "## Summarizer"
      ],
      "metadata": {
        "id": "PXlfSqg_dJOJ"
      }
    },
    {
      "cell_type": "code",
      "source": [
        "text_p = \"Психолог: Добрый день, меня зовут Ирина. Ольга, у нас с вами на сегодня назначена консультация. Надеюсь, что наш разговор будет приятным и полезным. Расскажите с каким запросом вы пришли на нашу первую встречу? Ольга: Добрый день, это моя первая консультация в жизни. Я не особо понимаю что именно нужно говорить. Но у меня накопилось достаточно много всего и мне просто хотелось поговорить о том, что сейчас происходит с моей жизнью, ну много чего, конечно, как и у всех, все таки война, переезды, куча всего короче. Просто хотелось чтобы кто-то услышал, помог мне немного разобраться в себе. Психолог: Ольга, действительно сейчас многие проживают события к которым сложно быть готовым. Давайте начнем понемногу разбираться. Расскажите о себе. Где вы сейчас находитесь, в каких условиях живете, какие события происходят вокруг вас?\""
      ],
      "metadata": {
        "id": "dH1aAMiAvUvt"
      },
      "execution_count": 123,
      "outputs": []
    },
    {
      "cell_type": "code",
      "execution_count": 124,
      "metadata": {
        "id": "xFLvyTJWIaz0"
      },
      "outputs": [],
      "source": [
        "def parse_dialog(text):\n",
        "  test_list = text.split(' ')\n",
        "  size = len(test_list)\n",
        "  idx_list = [idx for idx, val in\n",
        "            enumerate(test_list) if val.lower().startswith('ольга:') \n",
        "            or val.lower().startswith('о:') or val.lower().startswith('психолог:')]\n",
        "  res = [test_list[i: j] for i, j in\n",
        "        zip([0] + idx_list, idx_list + \n",
        "        ([size] if idx_list[-1] != size else []))]\n",
        "  res.remove(res[0])\n",
        "  for i in res:\n",
        "    for j in i:\n",
        "      if j.lower() in ['психолог:', 'о:', 'ольга:']:\n",
        "        i.remove(j)\n",
        "  res_list = [item for sublist in res for item in sublist]\n",
        "  return ' '.join(res_list)\n"
      ]
    },
    {
      "cell_type": "code",
      "source": [
        "import random\n",
        "def split_by_three(text):\n",
        "  partitioned_t = []\n",
        "  split_t = split_text(text)\n",
        "  for i, j in enumerate(split_t):\n",
        "    if i < len(split_t)-2 and i%3!=1 and i%3!=2:\n",
        "      partitioned_t.append(split_t[i] + ' ' + split_t[i+1] + ' ' + split_t[i+2])\n",
        "  partitioned_t.append(split_t[len(split_t)-2] + ' ' +split_t[len(split_t)-1])\n",
        "  return partitioned_t"
      ],
      "metadata": {
        "id": "Su_0fQTVd1S-"
      },
      "execution_count": 143,
      "outputs": []
    },
    {
      "cell_type": "code",
      "source": [
        "split_text(full_text)"
      ],
      "metadata": {
        "colab": {
          "base_uri": "https://localhost:8080/"
        },
        "id": "NZKkV7JvgEk8",
        "outputId": "70ca08bf-b424-407d-b728-e02b6aedc14a"
      },
      "execution_count": 141,
      "outputs": [
        {
          "output_type": "execute_result",
          "data": {
            "text/plain": [
              "['Добрый день, меня зовут Ирина.',\n",
              " 'Ольга, у нас с вами на сегодня назначена консультация.',\n",
              " 'Надеюсь, что наш разговор будет приятным и полезным.',\n",
              " 'Расскажите с каким запросом вы пришли на нашу первую встречу?',\n",
              " 'Добрый день, это моя первая консультация в жизни.',\n",
              " 'Я не особо понимаю что именно нужно говорить.',\n",
              " 'Но у меня накопилось достаточно много всего и мне просто хотелось поговорить о том, что сейчас происходит с моей жизнью, ну много чего, конечно, как и у всех, все таки война, переезды, куча всего короче.',\n",
              " 'Просто хотелось чтобы кто-то услышал, помог мне немного разобраться в себе.',\n",
              " 'Ольга, действительно сейчас многие проживают события к которым сложно быть готовым.',\n",
              " 'Давайте начнем понемногу разбираться.',\n",
              " 'Расскажите о себе.',\n",
              " 'Где вы сейчас находитесь, в каких условиях живете, какие события происходят вокруг вас?',\n",
              " 'Сейчас я чувствую себя относительно в безопасности.',\n",
              " 'Мы переехали из Киева на западную Украину.',\n",
              " 'Здесь можно сказать, что тихо, но я не особо понимаю что происходит.',\n",
              " 'Мне словно приходится начинать все с нуля.',\n",
              " 'Деньги немного есть, ээээ ну там на пару месяцев хватит, но нужно искать работу.',\n",
              " 'Не пойму нужно учится на новую специальность или попытаться найти работу менеджером, как раньше?',\n",
              " 'Хотя кому эти менеджеры нужны, ничего толком не работает, наверно повезло людям которые сохранили работу, прям как-то радостно за них.',\n",
              " 'Потерять финансовую стабильность мне реально тяжело, ждать что что-то наладится, но ничего не наладится же.',\n",
              " 'Ну даже если наладится то не скоро, рада что могла себе обеспечить эту финансовую подушку.',\n",
              " 'Я реально уже думала что можно и начать инвестировать но блин, реально никогда не знаешь, теперь думаю что можно было и пол года назад параллельно с подушкой все делать, но так иногда радует что хоть стабильность в деньгах есть, я все таки смогла научиться управлять немного своими финансами.',\n",
              " 'Ну и новую работу искать, ну и что я тут найду?',\n",
              " 'Наверно скорее всего нужно будет учить английский, вряд ли украинские компании сейчас смогут дать хорошую оплату, надо искать что-то онлайн, стабильное.',\n",
              " 'Хотя какое оно стабильное, надо открывать свое дело в интернете, может делать магазин с доставкой?',\n",
              " 'Да я так и не смогла этот английский выучить сколько уже ходила на курсы.',\n",
              " 'Короче искать работу это мне вообще как настоящее испытание, ну и не думаю что без английского я кому-то нужна.',\n",
              " 'Пока живем в бесплатном жилье, но тоже непонятно надолго это, вообще нужно ли возвращаться, в Киеве хотя бы есть дом, родные стены, ну и удобства все под рукой, но я боюсь ходить по улице вижу везде эти новости про растяжки, бомбы в молоке.',\n",
              " 'Но и помощи от волонтеров больше есть и помощь с едой и вообще дома как то проще, здесь никого не знаю, но и знакомые если честно все уже разъехались и реально жизнь как с нуля.',\n",
              " 'С мужем тоже сложно, постоянно приходится принимать решения, а он как будто оттягивает, но я же тоже не могу все время все делать.',\n",
              " 'Короче мне реально не понятно как вообще быть, я боюсь что-то снова начинать, потому что не понятно на долго или скоро закончится.',\n",
              " 'Давайте выделим вопросы, которые я услышала и продолжим работу.',\n",
              " 'Сейчас у вас нет основной работы для вас большой стресс искать новую, еще вы хотите вернуться в Киев, но не можете решить для себя стоит ли это сейчас делать, также вам хочется получить поддержку от мужа, но вы не можете получить той помощи на которую рассчитываете.',\n",
              " 'Но самым большим испытанием для вас является то, что необходимо начать все с нуля.',\n",
              " 'верно?',\n",
              " 'Да, но даже не сам факт начала.',\n",
              " 'Понимаете я уже несколько раз все теряла и начинала \"жизнь с этого нуля\".',\n",
              " 'Поэтому мне кажется тут у меня что-то вроде иммунитета.',\n",
              " 'Страх не с самой необходимости, я просто реально понимаю что если я еще раз все потеряю мне может просто не хотеться что-то делать снова.',\n",
              " 'Именно когда живешь в период от нуля до \"опять все хочется\" тут самое страшное.',\n",
              " 'Ощущение, что теряешь время, которого и так постоянно мало, и параллельно же ничего не улучшается, тебе еще наваливается сверху, и нужно разгребать все одновременно.',\n",
              " 'Теряешь дом, нет людей рядом, начинаются долги, нет уверенности в своих силах, моложе не становишься, ну и вечная конкуренция потому что у людей еще есть запал, а тебе 35 и ты такой здрасьте, я хочу заявить о себе.',\n",
              " 'Я начинаю постоянно думать в какой именно момент я перестала контролировать свою жизнь?',\n",
              " 'Ведь мне нравилось жить в том потоке, что происходил.',\n",
              " 'Мне реально часто везло, но прям про будущее я не думала.',\n",
              " 'А теперь читаю про блекауты, теории заговора, считаю остаток бюджета и на сколько мне хватит денег при разных условиях жизни, думаю нужно ли пытаюсь выделить деньги на английский, мне постоянно прилетают дополнительные расходы.',\n",
              " 'Ну и если реально готовится к блекауту, то нужно сделать закупку продуктов на месяц, а если мы вернемся обратно?',\n",
              " 'или останемся тут?',\n",
              " 'короче куда все это девать в итоге?',\n",
              " 'Я смотрю на свою дырявую финансовую подушку безопасности и судорожно понимаю что кроме всего прочего просто никакого верного решения нет.',\n",
              " 'решение есть всегда, задайте себе вопрос: готовы ли брать ответственность за принятые решения на себя?',\n",
              " 'Я пытаюсь балансировать между личной ответственностью за свою собственную жизнь и умении договориться.',\n",
              " 'Ну типа если бы я жила одна, мне не так сложно было бы.',\n",
              " 'Не надо ждать коллективного решения, а сам тихо сделала и ни у кого не спрашиваешь.',\n",
              " 'Расскажите подробнее, я так понимаю у вас разные точки зрения на какую то ситуацию с мужем?',\n",
              " 'Я реально хочу в Киев, мне там будет проще собраться с мыслями.',\n",
              " 'и если бы муж помог мне и согласился бы на переезд уже было бы проще.',\n",
              " 'Каждый раз с ним говорю, а он говорит ну хочешь поезжай в киев, я потом приеду.',\n",
              " 'А я не хочу ехать одна, я хочу чтобы мы вдвоем поехали, потому что ну что  я там буду делать одна, мне реально надо чтобы мы или вместе были здесь или там.',\n",
              " 'Короче, типа он вообще не упрощает задачу, а как будто ждет, что что-то должно случится и что-то поменяется.',\n",
              " 'Но ничего же не поменяется.',\n",
              " 'Я то понимаю что придется скорее всего просто жить вот так как оно есть, потому что завтра лучше не станет, и после завтра тоже.',\n",
              " 'А ракета может прилететь куда угодно или не прилететь.',\n",
              " 'От нас ничего не зависит.',\n",
              " 'И на правительство мы влиять не можем, только свои решения принимать, ход войны поменять нереально.',\n",
              " 'Но мы же семья, и мне не ясно чего мы не можем договориться о таких простых вещах, ну скажи типа нет я не хочу ехать или хочу, но через неделю.',\n",
              " 'Так он мне просто говорит едь и все, а я потом что-то решу.',\n",
              " 'скажите а раньше у вас возникали ситуации, когда муж оттягивал принятие решений?',\n",
              " 'Ну он постоянно все на последний момент откладывает, но раньше не было таких критический ситуаций и я могла подождать или делать что я хотела а там уже как было, или мы ссорились ну понятно что потом он принимал решение и позже мне было уже проще я реально никого не напрягала, а там просто все случалось, при чем он всегда понимал что поздно начал шевелится, но мне было даже смешно.',\n",
              " 'Я могла потом ходить и  смеяться, типа ты же знаешь что ты вечно все тянешь, вот опять такой же случай, зачем ты ждешь.',\n",
              " 'Я и с другой стороны заходила типа смотри ты ждешь, а это влияет на меня.',\n",
              " 'Вот я жду например, что мы купим билеты и полетим куда-то на отдых, мы все равно покупаем и летим, но цена выше на этот самолет мы поссоримся сто раз, вот объясни в чем дело, я просто хочу понять.',\n",
              " 'Потому что мне жалко и нервов и денег.',\n",
              " 'А можно просто было все спокойно сделать вовремя, потому что есть понимание того что вовремя все таки существует, ну или более удачное время, типа чего не пользоваться ситуацией?',\n",
              " 'Я реально не могу уже я даже иногда думаю ну может просто взять и самой себе жить, а  я не хочу жить одна, мне нравиться наши отношения если бы не это.',\n",
              " 'Блин я уже иногда думаю, а если бы мы не были вместе если мне не надо было бы постоянно ждать, где бы я уже была?',\n",
              " 'Потому что в постоянном ожидании чуда жить тоже не легко.',\n",
              " 'Расскажите а как вы представляли вашу жизнь без отношений?',\n",
              " 'Вот что происходит с вами, когда вам не нужно никого ждать?',\n",
              " 'ну вот в том и дело, что иногда я понимаю что если бы я осталась одна мне было бы намного проще, но я хочу быть вместе с мужем, оберегать наше партнерство.',\n",
              " 'не хочу представлять, а если бы.',\n",
              " 'ну нет никаких а если бы.',\n",
              " 'Мне реально нравятся наши отношения, хотя такие штуки когда приходится ждать решения прям бесят.',\n",
              " 'Просто сейчас как будто это повторение -- поехали в киев, нет давай ждать, хочешь едь.',\n",
              " 'Такое впечатление что он хочет от меня избавится, типа я что напрягаю его?',\n",
              " 'ну короче, когда я спрашиваю все ли в порядке, он говорит все хорошо, но я не чувствую что все хорошо.',\n",
              " 'Может конечно я свои переживания на него перекладываю, но блин в стране которую постоянно раздирают на части ничего хорошего ждать уже не приходится.',\n",
              " 'Пусть даже со мной происходят только хорошие вещи, ну насколько это реально, ну вот даже в плане денег, все есть, понятно накопления на пару месяцев, и работу все равно придется искать, я реально хочу просто определенности, в рамках своей реальности.',\n",
              " 'Но полную определенность я чувствую только когда я сама себе хозяин.',\n",
              " 'Может я просто не понимаю что такое жить с партнером.',\n",
              " 'Каждая семья строит свои взаимоотношения, нет единственного верного решения, как правильно.',\n",
              " 'Но если я вас правильно услышала, то больше всего вас тревожит именно неопределенность в решениях внутри семьи, отсутствие возможности договорится.',\n",
              " 'Расскажите какие эмоции вы испытываете от этой \"неопределенности\"?',\n",
              " 'ну если честно я уже не знаю, я типа как смирилась что ли с тем, что происходит.',\n",
              " 'меня эти затяжные штуки напрягают это точно, но вот так сказать что я чувствую?',\n",
              " 'я просто знаю что они бывают и мне уже изначально плохо я как будто живу с бомбой с часовым механизмом и даже не предлагаю никаких идей, не хочу снова все проживать, просто нет сил, а вот эмоции я уже  не отслеживаю просто не приятно, но так описать не могу.',\n",
              " 'Давайте начнем разбираться вместе?',\n",
              " 'Как домашнее задание я хочу дать вам возможность разобраться в своих эмоциях, понять что вы чувствуете, каждый раз когда у вас будет возникать ситуация, где муж будет затягивать с решением, даже если это маленькая бытовая ситуация -- вам нужно будет записывать в дневник ситуацию и свои эмоции.',\n",
              " 'Как вам такая идея?',\n",
              " 'спасибо, реально интересно чего я вообще чувствую иногда кажется что уже ничего.',\n",
              " 'хорошо, тогда мы определились с первым заданием и будем понемногу начинать понимать себя, спасибо за встречу.']"
            ]
          },
          "metadata": {},
          "execution_count": 141
        }
      ]
    },
    {
      "cell_type": "code",
      "source": [
        "split_by_three(full_text)"
      ],
      "metadata": {
        "colab": {
          "base_uri": "https://localhost:8080/"
        },
        "id": "Uai6eVIVe1N-",
        "outputId": "8b73f24c-f96f-4ddb-a7d4-304788528caf"
      },
      "execution_count": 144,
      "outputs": [
        {
          "output_type": "execute_result",
          "data": {
            "text/plain": [
              "['Добрый день, меня зовут Ирина. Ольга, у нас с вами на сегодня назначена консультация. Надеюсь, что наш разговор будет приятным и полезным.',\n",
              " 'Расскажите с каким запросом вы пришли на нашу первую встречу? Добрый день, это моя первая консультация в жизни. Я не особо понимаю что именно нужно говорить.',\n",
              " 'Но у меня накопилось достаточно много всего и мне просто хотелось поговорить о том, что сейчас происходит с моей жизнью, ну много чего, конечно, как и у всех, все таки война, переезды, куча всего короче. Просто хотелось чтобы кто-то услышал, помог мне немного разобраться в себе. Ольга, действительно сейчас многие проживают события к которым сложно быть готовым.',\n",
              " 'Давайте начнем понемногу разбираться. Расскажите о себе. Где вы сейчас находитесь, в каких условиях живете, какие события происходят вокруг вас?',\n",
              " 'Сейчас я чувствую себя относительно в безопасности. Мы переехали из Киева на западную Украину. Здесь можно сказать, что тихо, но я не особо понимаю что происходит.',\n",
              " 'Мне словно приходится начинать все с нуля. Деньги немного есть, ээээ ну там на пару месяцев хватит, но нужно искать работу. Не пойму нужно учится на новую специальность или попытаться найти работу менеджером, как раньше?',\n",
              " 'Хотя кому эти менеджеры нужны, ничего толком не работает, наверно повезло людям которые сохранили работу, прям как-то радостно за них. Потерять финансовую стабильность мне реально тяжело, ждать что что-то наладится, но ничего не наладится же. Ну даже если наладится то не скоро, рада что могла себе обеспечить эту финансовую подушку.',\n",
              " 'Я реально уже думала что можно и начать инвестировать но блин, реально никогда не знаешь, теперь думаю что можно было и пол года назад параллельно с подушкой все делать, но так иногда радует что хоть стабильность в деньгах есть, я все таки смогла научиться управлять немного своими финансами. Ну и новую работу искать, ну и что я тут найду? Наверно скорее всего нужно будет учить английский, вряд ли украинские компании сейчас смогут дать хорошую оплату, надо искать что-то онлайн, стабильное.',\n",
              " 'Хотя какое оно стабильное, надо открывать свое дело в интернете, может делать магазин с доставкой? Да я так и не смогла этот английский выучить сколько уже ходила на курсы. Короче искать работу это мне вообще как настоящее испытание, ну и не думаю что без английского я кому-то нужна.',\n",
              " 'Пока живем в бесплатном жилье, но тоже непонятно надолго это, вообще нужно ли возвращаться, в Киеве хотя бы есть дом, родные стены, ну и удобства все под рукой, но я боюсь ходить по улице вижу везде эти новости про растяжки, бомбы в молоке. Но и помощи от волонтеров больше есть и помощь с едой и вообще дома как то проще, здесь никого не знаю, но и знакомые если честно все уже разъехались и реально жизнь как с нуля. С мужем тоже сложно, постоянно приходится принимать решения, а он как будто оттягивает, но я же тоже не могу все время все делать.',\n",
              " 'Короче мне реально не понятно как вообще быть, я боюсь что-то снова начинать, потому что не понятно на долго или скоро закончится. Давайте выделим вопросы, которые я услышала и продолжим работу. Сейчас у вас нет основной работы для вас большой стресс искать новую, еще вы хотите вернуться в Киев, но не можете решить для себя стоит ли это сейчас делать, также вам хочется получить поддержку от мужа, но вы не можете получить той помощи на которую рассчитываете.',\n",
              " 'Но самым большим испытанием для вас является то, что необходимо начать все с нуля. верно? Да, но даже не сам факт начала.',\n",
              " 'Понимаете я уже несколько раз все теряла и начинала \"жизнь с этого нуля\". Поэтому мне кажется тут у меня что-то вроде иммунитета. Страх не с самой необходимости, я просто реально понимаю что если я еще раз все потеряю мне может просто не хотеться что-то делать снова.',\n",
              " 'Именно когда живешь в период от нуля до \"опять все хочется\" тут самое страшное. Ощущение, что теряешь время, которого и так постоянно мало, и параллельно же ничего не улучшается, тебе еще наваливается сверху, и нужно разгребать все одновременно. Теряешь дом, нет людей рядом, начинаются долги, нет уверенности в своих силах, моложе не становишься, ну и вечная конкуренция потому что у людей еще есть запал, а тебе 35 и ты такой здрасьте, я хочу заявить о себе.',\n",
              " 'Я начинаю постоянно думать в какой именно момент я перестала контролировать свою жизнь? Ведь мне нравилось жить в том потоке, что происходил. Мне реально часто везло, но прям про будущее я не думала.',\n",
              " 'А теперь читаю про блекауты, теории заговора, считаю остаток бюджета и на сколько мне хватит денег при разных условиях жизни, думаю нужно ли пытаюсь выделить деньги на английский, мне постоянно прилетают дополнительные расходы. Ну и если реально готовится к блекауту, то нужно сделать закупку продуктов на месяц, а если мы вернемся обратно? или останемся тут?',\n",
              " 'короче куда все это девать в итоге? Я смотрю на свою дырявую финансовую подушку безопасности и судорожно понимаю что кроме всего прочего просто никакого верного решения нет. решение есть всегда, задайте себе вопрос: готовы ли брать ответственность за принятые решения на себя?',\n",
              " 'Я пытаюсь балансировать между личной ответственностью за свою собственную жизнь и умении договориться. Ну типа если бы я жила одна, мне не так сложно было бы. Не надо ждать коллективного решения, а сам тихо сделала и ни у кого не спрашиваешь.',\n",
              " 'Расскажите подробнее, я так понимаю у вас разные точки зрения на какую то ситуацию с мужем? Я реально хочу в Киев, мне там будет проще собраться с мыслями. и если бы муж помог мне и согласился бы на переезд уже было бы проще.',\n",
              " 'Каждый раз с ним говорю, а он говорит ну хочешь поезжай в киев, я потом приеду. А я не хочу ехать одна, я хочу чтобы мы вдвоем поехали, потому что ну что  я там буду делать одна, мне реально надо чтобы мы или вместе были здесь или там. Короче, типа он вообще не упрощает задачу, а как будто ждет, что что-то должно случится и что-то поменяется.',\n",
              " 'Но ничего же не поменяется. Я то понимаю что придется скорее всего просто жить вот так как оно есть, потому что завтра лучше не станет, и после завтра тоже. А ракета может прилететь куда угодно или не прилететь.',\n",
              " 'От нас ничего не зависит. И на правительство мы влиять не можем, только свои решения принимать, ход войны поменять нереально. Но мы же семья, и мне не ясно чего мы не можем договориться о таких простых вещах, ну скажи типа нет я не хочу ехать или хочу, но через неделю.',\n",
              " 'Так он мне просто говорит едь и все, а я потом что-то решу. скажите а раньше у вас возникали ситуации, когда муж оттягивал принятие решений? Ну он постоянно все на последний момент откладывает, но раньше не было таких критический ситуаций и я могла подождать или делать что я хотела а там уже как было, или мы ссорились ну понятно что потом он принимал решение и позже мне было уже проще я реально никого не напрягала, а там просто все случалось, при чем он всегда понимал что поздно начал шевелится, но мне было даже смешно.',\n",
              " 'Я могла потом ходить и  смеяться, типа ты же знаешь что ты вечно все тянешь, вот опять такой же случай, зачем ты ждешь. Я и с другой стороны заходила типа смотри ты ждешь, а это влияет на меня. Вот я жду например, что мы купим билеты и полетим куда-то на отдых, мы все равно покупаем и летим, но цена выше на этот самолет мы поссоримся сто раз, вот объясни в чем дело, я просто хочу понять.',\n",
              " 'Потому что мне жалко и нервов и денег. А можно просто было все спокойно сделать вовремя, потому что есть понимание того что вовремя все таки существует, ну или более удачное время, типа чего не пользоваться ситуацией? Я реально не могу уже я даже иногда думаю ну может просто взять и самой себе жить, а  я не хочу жить одна, мне нравиться наши отношения если бы не это.',\n",
              " 'Блин я уже иногда думаю, а если бы мы не были вместе если мне не надо было бы постоянно ждать, где бы я уже была? Потому что в постоянном ожидании чуда жить тоже не легко. Расскажите а как вы представляли вашу жизнь без отношений?',\n",
              " 'Вот что происходит с вами, когда вам не нужно никого ждать? ну вот в том и дело, что иногда я понимаю что если бы я осталась одна мне было бы намного проще, но я хочу быть вместе с мужем, оберегать наше партнерство. не хочу представлять, а если бы.',\n",
              " 'ну нет никаких а если бы. Мне реально нравятся наши отношения, хотя такие штуки когда приходится ждать решения прям бесят. Просто сейчас как будто это повторение -- поехали в киев, нет давай ждать, хочешь едь.',\n",
              " 'Такое впечатление что он хочет от меня избавится, типа я что напрягаю его? ну короче, когда я спрашиваю все ли в порядке, он говорит все хорошо, но я не чувствую что все хорошо. Может конечно я свои переживания на него перекладываю, но блин в стране которую постоянно раздирают на части ничего хорошего ждать уже не приходится.',\n",
              " 'Пусть даже со мной происходят только хорошие вещи, ну насколько это реально, ну вот даже в плане денег, все есть, понятно накопления на пару месяцев, и работу все равно придется искать, я реально хочу просто определенности, в рамках своей реальности. Но полную определенность я чувствую только когда я сама себе хозяин. Может я просто не понимаю что такое жить с партнером.',\n",
              " 'Каждая семья строит свои взаимоотношения, нет единственного верного решения, как правильно. Но если я вас правильно услышала, то больше всего вас тревожит именно неопределенность в решениях внутри семьи, отсутствие возможности договорится. Расскажите какие эмоции вы испытываете от этой \"неопределенности\"?',\n",
              " 'ну если честно я уже не знаю, я типа как смирилась что ли с тем, что происходит. меня эти затяжные штуки напрягают это точно, но вот так сказать что я чувствую? я просто знаю что они бывают и мне уже изначально плохо я как будто живу с бомбой с часовым механизмом и даже не предлагаю никаких идей, не хочу снова все проживать, просто нет сил, а вот эмоции я уже  не отслеживаю просто не приятно, но так описать не могу.',\n",
              " 'Давайте начнем разбираться вместе? Как домашнее задание я хочу дать вам возможность разобраться в своих эмоциях, понять что вы чувствуете, каждый раз когда у вас будет возникать ситуация, где муж будет затягивать с решением, даже если это маленькая бытовая ситуация -- вам нужно будет записывать в дневник ситуацию и свои эмоции. Как вам такая идея?',\n",
              " 'спасибо, реально интересно чего я вообще чувствую иногда кажется что уже ничего. хорошо, тогда мы определились с первым заданием и будем понемногу начинать понимать себя, спасибо за встречу.']"
            ]
          },
          "metadata": {},
          "execution_count": 144
        }
      ]
    },
    {
      "cell_type": "code",
      "execution_count": 145,
      "metadata": {
        "id": "qmF4FuxGF7Li"
      },
      "outputs": [],
      "source": [
        "def summarize_text(text, num_bull_points=5, is_dialog = False):\n",
        "  if is_dialog:\n",
        "    text = parse_dialog(text)\n",
        "  snts = '. '.join(get_summary_phrases(split_by_three(text), extract_summary_t5))\n",
        "  rank_sent = rank_sentences(snts)[:num_bull_points]\n",
        "  return rank_sent"
      ]
    },
    {
      "cell_type": "code",
      "execution_count": 146,
      "metadata": {
        "colab": {
          "base_uri": "https://localhost:8080/"
        },
        "id": "NeYu3NmjJcf4",
        "outputId": "2249c913-b7c6-4ddd-f6fe-80e583eca5b1"
      },
      "outputs": [
        {
          "output_type": "execute_result",
          "data": {
            "text/plain": [
              "[(0.15642583700955065, 'Что будет с первым заданием и что будет с ним?'),\n",
              " (0.1554790348348071,\n",
              "  'Вопрос: готовы ли брать ответственность за принятые решения на себя?.'),\n",
              " (0.13514548371780047,\n",
              "  'Что происходит с вами, когда вам не нужно никого ждать?.'),\n",
              " (0.11006592065710759,\n",
              "  'Какие эмоции вы испытываете от \"неопределенности\" в решениях внутри семьи?.'),\n",
              " (0.10553255848836135, 'Что происходит вокруг вас?')]"
            ]
          },
          "metadata": {},
          "execution_count": 146
        }
      ],
      "source": [
        "summarize_text(full_psy_text)"
      ]
    },
    {
      "cell_type": "code",
      "execution_count": 155,
      "metadata": {
        "colab": {
          "base_uri": "https://localhost:8080/"
        },
        "id": "p1cvXNzaPKuu",
        "outputId": "bf6da253-3a4e-4bba-d669-d95de128714a"
      },
      "outputs": [
        {
          "output_type": "execute_result",
          "data": {
            "text/plain": [
              "[(0.051268771624891706,\n",
              "  'Не понятно как вообще быть, я боюсь что-то снова начинать.'),\n",
              " (0.048296365321179556,\n",
              "  'Не хочу жить одна, мне нравится наши отношения если бы не это.'),\n",
              " (0.04806796000001405,\n",
              "  'Блин я уже иногда думаю, а если бы мы не были вместе, где бы я уже была?.')]"
            ]
          },
          "metadata": {},
          "execution_count": 155
        }
      ],
      "source": [
        "summarize_text(full_cli_text, num_bull_points=3)"
      ]
    },
    {
      "cell_type": "code",
      "execution_count": 147,
      "metadata": {
        "colab": {
          "base_uri": "https://localhost:8080/"
        },
        "id": "kf7hRAVQOIZK",
        "outputId": "c039e023-fa5e-4fce-d0db-7b3dc477be04"
      },
      "outputs": [
        {
          "output_type": "execute_result",
          "data": {
            "text/plain": [
              "[(0.03917125065460286,\n",
              "  'Не хочу жить одна, мне нравится наши отношения если бы не это.'),\n",
              " (0.038109096807927706,\n",
              "  'Потерять финансовую стабильность мне реально тяжело, ждать что что-то наладится, но ничего не наладится.'),\n",
              " (0.03762186009764585,\n",
              "  'Страх не с самой необходимости, я уже несколько раз все теряла и начинала \"жизнь с этого нуля\".'),\n",
              " (0.03728173800122908,\n",
              "  'Я как будто живу с бомбой с часовым механизмом и даже не предлагаю никаких идей.'),\n",
              " (0.03724113833164983, 'Не понимаю что такое жить с партнером.'),\n",
              " (0.03697364314167993,\n",
              "  'Блин я уже иногда думаю, а если бы мы не были вместе, где бы я уже была?.'),\n",
              " (0.0368034845137374,\n",
              "  'Когда живешь в период от нуля до \"опять все хочется\" это самое страшное.'),\n",
              " (0.03651416879283714,\n",
              "  'Муж постоянно откладывает принятие решений, а я потом что-то решу.'),\n",
              " (0.03599832541237095,\n",
              "  'Если бы я осталась одна мне было бы намного проще, но я хочу быть вместе с мужем, оберегать наше партнерство.'),\n",
              " (0.035798416847785536, 'Мне словно приходится начинать все с нуля.')]"
            ]
          },
          "metadata": {},
          "execution_count": 147
        }
      ],
      "source": [
        " test1 = summarize_text(full_text, num_bull_points=10)\n",
        " test1"
      ]
    },
    {
      "cell_type": "code",
      "execution_count": 153,
      "metadata": {
        "id": "g4LVZI4oUHDY"
      },
      "outputs": [],
      "source": [
        "def print_n(list_n):\n",
        "  for i, j in list_n:\n",
        "    print(j)\n",
        "  print()"
      ]
    },
    {
      "cell_type": "code",
      "source": [
        "print_n(test1)"
      ],
      "metadata": {
        "colab": {
          "base_uri": "https://localhost:8080/"
        },
        "id": "Ahf9-6AnxRSl",
        "outputId": "3d52d12b-f45e-470a-f2c1-30759520b48a"
      },
      "execution_count": 154,
      "outputs": [
        {
          "output_type": "stream",
          "name": "stdout",
          "text": [
            "Не хочу жить одна, мне нравится наши отношения если бы не это.\n",
            "Потерять финансовую стабильность мне реально тяжело, ждать что что-то наладится, но ничего не наладится.\n",
            "Страх не с самой необходимости, я уже несколько раз все теряла и начинала \"жизнь с этого нуля\".\n",
            "Я как будто живу с бомбой с часовым механизмом и даже не предлагаю никаких идей.\n",
            "Не понимаю что такое жить с партнером.\n",
            "Блин я уже иногда думаю, а если бы мы не были вместе, где бы я уже была?.\n",
            "Когда живешь в период от нуля до \"опять все хочется\" это самое страшное.\n",
            "Муж постоянно откладывает принятие решений, а я потом что-то решу.\n",
            "Если бы я осталась одна мне было бы намного проще, но я хочу быть вместе с мужем, оберегать наше партнерство.\n",
            "Мне словно приходится начинать все с нуля.\n",
            "\n"
          ]
        }
      ]
    },
    {
      "cell_type": "markdown",
      "source": [
        "# Evaluation"
      ],
      "metadata": {
        "id": "ma35TOPbz-ho"
      }
    },
    {
      "cell_type": "markdown",
      "source": [
        "## Load evaluation dataset"
      ],
      "metadata": {
        "id": "MTd31TUt4KSj"
      }
    },
    {
      "cell_type": "code",
      "source": [
        "eval_all = pd.read_csv('https://raw.githubusercontent.com/Teasotea/textSummarization/main/data/evaluation_summary_all.txt', delimiter = \"\\t\", header=None).set_axis(['summaries'], axis=1, inplace=False)\n",
        "eval_cli = pd.read_csv('https://raw.githubusercontent.com/Teasotea/textSummarization/main/data/evaluation_summary_cli.txt', delimiter = \"\\t\", header=None).set_axis(['summaries'], axis=1, inplace=False)\n",
        "eval_psy = pd.read_csv('https://raw.githubusercontent.com/Teasotea/textSummarization/main/data/evaluation_summary_psy.txt', delimiter = \"\\t\", header=None).set_axis(['summaries'], axis=1, inplace=False)\n"
      ],
      "metadata": {
        "id": "JjQHEBg-1_YW"
      },
      "execution_count": 156,
      "outputs": []
    },
    {
      "cell_type": "code",
      "source": [
        "psy_sum = summarize_text(full_psy_text, num_bull_points=9)"
      ],
      "metadata": {
        "id": "-EtEDKbe4nJu"
      },
      "execution_count": 158,
      "outputs": []
    },
    {
      "cell_type": "markdown",
      "source": [
        "## ROUGE: Evaluation​​ [Metric](https://ilmoirfan.com/rouge-an-evaluation-metric-for-text-summarization/)​​ for Text Summarization Task\n",
        "\n",
        "### ROUGE score (Recall-Oriented Understudy for Gisting Evaluation)\n",
        "\n",
        "The algorithm to compute ROUGE score considers consecutive tokens a.k.a. n-grams. The n-grams from one text (e.g. the human-written summary) are compared to the n-grams of the other text (e.g. the machine-written summary). **A large overlap of n-grams results in a high ROUGE score** and a low overlap — in a low ROUGE score.\n",
        "\n",
        "When the aim is abstractive summarization ROUGE is best used **only as an initial indicator** of how much the machine-written summary overlaps with the human written summary, because it does not take into account the semantic meaning and the factual accuracy of the summaries.\n",
        "\n",
        "Pros and cons of using [ROUGE](https://towardsdatascience.com/to-rouge-or-not-to-rouge-6a5f3552ea45)"
      ],
      "metadata": {
        "id": "lSGs0t0x8gA_"
      }
    },
    {
      "cell_type": "code",
      "source": [
        "!pip install Rouge"
      ],
      "metadata": {
        "colab": {
          "base_uri": "https://localhost:8080/"
        },
        "id": "wp4mgBYhHd4k",
        "outputId": "8dd60f0b-f963-4846-f3da-622a313f010b"
      },
      "execution_count": 160,
      "outputs": [
        {
          "output_type": "stream",
          "name": "stdout",
          "text": [
            "Collecting Rouge\n",
            "  Downloading rouge-1.0.1-py3-none-any.whl (13 kB)\n",
            "Requirement already satisfied: six in /usr/local/lib/python3.7/dist-packages (from Rouge) (1.15.0)\n",
            "Installing collected packages: Rouge\n",
            "Successfully installed Rouge-1.0.1\n"
          ]
        }
      ]
    },
    {
      "cell_type": "code",
      "source": [
        "from rouge import Rouge \n",
        "rouge = Rouge()"
      ],
      "metadata": {
        "id": "bBTMYhrjH1pN"
      },
      "execution_count": 161,
      "outputs": []
    },
    {
      "cell_type": "code",
      "source": [
        "serie_to_text = lambda s: '. '.join(s.tolist())"
      ],
      "metadata": {
        "id": "XkJvYnkZ-J6d"
      },
      "execution_count": 162,
      "outputs": []
    },
    {
      "cell_type": "code",
      "source": [
        "summary = ' '.join([j for i,j in psy_sum])\n",
        "reference = serie_to_text(eval_psy.summaries)"
      ],
      "metadata": {
        "id": "kW7hAVde8CkQ"
      },
      "execution_count": 164,
      "outputs": []
    },
    {
      "cell_type": "code",
      "source": [
        "summary # summary made by model"
      ],
      "metadata": {
        "colab": {
          "base_uri": "https://localhost:8080/",
          "height": 111
        },
        "id": "SeCIWpza9iey",
        "outputId": "7a189788-2c2e-40f2-88e1-029b87106120"
      },
      "execution_count": 165,
      "outputs": [
        {
          "output_type": "execute_result",
          "data": {
            "text/plain": [
              "'Что будет с первым заданием и что будет с ним? Вопрос: готовы ли брать ответственность за принятые решения на себя?. Что происходит с вами, когда вам не нужно никого ждать?. Какие эмоции вы испытываете от \"неопределенности\" в решениях внутри семьи?. Что происходит вокруг вас? У нас с вами на сегодня назначена консультация. Ответы на вопросы, которые я услышала и продолжим работу. Домашнее задание для мужа. Как начать все с нуля, чтобы начать все с нуля.'"
            ],
            "application/vnd.google.colaboratory.intrinsic+json": {
              "type": "string"
            }
          },
          "metadata": {},
          "execution_count": 165
        }
      ]
    },
    {
      "cell_type": "code",
      "source": [
        "reference # summary made by human"
      ],
      "metadata": {
        "colab": {
          "base_uri": "https://localhost:8080/",
          "height": 74
        },
        "id": "YU5Vi1_S9Vv2",
        "outputId": "c7f70d02-08fb-4477-fe2b-5e0951b77868"
      },
      "execution_count": 166,
      "outputs": [
        {
          "output_type": "execute_result",
          "data": {
            "text/plain": [
              "'Цель встречи. Расскажите о себе. Нет основной работы. Желание вернуться в Киев. Нет поддержки от мужа. Страх начать с нуля. Страх неопределенности. Нужно разобратся с емоциями. ДЗ: Записывать в дневник ситуацию и эмоции'"
            ],
            "application/vnd.google.colaboratory.intrinsic+json": {
              "type": "string"
            }
          },
          "metadata": {},
          "execution_count": 166
        }
      ]
    },
    {
      "cell_type": "code",
      "source": [
        "rouge.get_scores('Цель встречи', 'Цель встречи !')"
      ],
      "metadata": {
        "colab": {
          "base_uri": "https://localhost:8080/"
        },
        "id": "S5Pmr4tuIHwW",
        "outputId": "3a6c3451-fa36-4f57-de51-d74fa2b105e0"
      },
      "execution_count": 167,
      "outputs": [
        {
          "output_type": "execute_result",
          "data": {
            "text/plain": [
              "[{'rouge-1': {'f': 0.7999999952000001, 'p': 1.0, 'r': 0.6666666666666666},\n",
              "  'rouge-2': {'f': 0.6666666622222223, 'p': 1.0, 'r': 0.5},\n",
              "  'rouge-l': {'f': 0.7999999952000001, 'p': 1.0, 'r': 0.6666666666666666}}]"
            ]
          },
          "metadata": {},
          "execution_count": 167
        }
      ]
    },
    {
      "cell_type": "code",
      "source": [
        "rouge.get_scores(summary, reference)"
      ],
      "metadata": {
        "colab": {
          "base_uri": "https://localhost:8080/"
        },
        "id": "Iji1tJphGake",
        "outputId": "714a4e7a-37cb-4f3d-b125-fe73fc76653c"
      },
      "execution_count": 168,
      "outputs": [
        {
          "output_type": "execute_result",
          "data": {
            "text/plain": [
              "[{'rouge-1': {'f': 0.17777777340987666,\n",
              "   'p': 0.13114754098360656,\n",
              "   'r': 0.27586206896551724},\n",
              "  'rouge-2': {'f': 0.019607838831219707,\n",
              "   'p': 0.014285714285714285,\n",
              "   'r': 0.03125},\n",
              "  'rouge-l': {'f': 0.17777777340987666,\n",
              "   'p': 0.13114754098360656,\n",
              "   'r': 0.27586206896551724}}]"
            ]
          },
          "metadata": {},
          "execution_count": 168
        }
      ]
    },
    {
      "cell_type": "code",
      "source": [
        "rouge.get_scores(summary, full_psy_text)"
      ],
      "metadata": {
        "colab": {
          "base_uri": "https://localhost:8080/"
        },
        "id": "xKKYhEClHlrP",
        "outputId": "010c1445-32cf-47ab-99dc-0e8d258ef932"
      },
      "execution_count": 169,
      "outputs": [
        {
          "output_type": "execute_result",
          "data": {
            "text/plain": [
              "[{'rouge-1': {'f': 0.35125447687003,\n",
              "   'p': 0.8032786885245902,\n",
              "   'r': 0.22477064220183487},\n",
              "  'rouge-2': {'f': 0.21680216494737847,\n",
              "   'p': 0.5714285714285714,\n",
              "   'r': 0.13377926421404682},\n",
              "  'rouge-l': {'f': 0.35125447687003,\n",
              "   'p': 0.8032786885245902,\n",
              "   'r': 0.22477064220183487}}]"
            ]
          },
          "metadata": {},
          "execution_count": 169
        }
      ]
    },
    {
      "cell_type": "markdown",
      "source": [
        "# Some ideas for approach improvements"
      ],
      "metadata": {
        "id": "SiRXbV7ZOEZ_"
      }
    },
    {
      "cell_type": "markdown",
      "source": [
        "\n",
        "\n",
        "*   Explore dataset (EDA): do linguistical and statistical analysis, for example, word frequency calculation, normalization, considering the priority of words in a language. Fine research on that topic is in this [article](https://www.ijert.org/research/text-summarizer-using-abstractive-and-extractive-method-IJERTV3IS050821.pdf )\n",
        "*   Develop text summarization solution using RNNs and LSTM (the core idea explained [here](https://www.analyticsvidhya.com/blog/2019/06/comprehensive-guide-text-summarization-using-deep-learning-python/ )) and compare the results\n",
        "*   Improve Text Preprocessing: do the plural resolution, abbreviation resolution, synonym resolution, and remove personal information, like names, cities, and so on with the help of the NER model\n",
        "*   Fine-Tune Transformers on the custom dataset, which consists of psychological sessions recordings"
      ],
      "metadata": {
        "id": "ZMxS_6eG5d7l"
      }
    }
  ],
  "metadata": {
    "colab": {
      "collapsed_sections": [
        "2rPsPirQ3vJ6",
        "ZiDLL85QPnFj",
        "eHwudLDSTkGy",
        "_0WuE7pvtJF0",
        "JWeyODYy861u"
      ],
      "name": "Transformers for summarizing TextSummarization.ipynb",
      "toc_visible": true,
      "provenance": [],
      "mount_file_id": "1hLwFf0TnW8Jm0rbwhjlk5rUDGuWLLOyM",
      "authorship_tag": "ABX9TyMDdyefe0qsF7KOn93Xuc3x",
      "include_colab_link": true
    },
    "kernelspec": {
      "display_name": "Python 3",
      "name": "python3"
    },
    "language_info": {
      "name": "python"
    }
  },
  "nbformat": 4,
  "nbformat_minor": 0
}