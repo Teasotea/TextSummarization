{
  "cells": [
    {
      "cell_type": "markdown",
      "metadata": {
        "id": "view-in-github",
        "colab_type": "text"
      },
      "source": [
        "<a href=\"https://colab.research.google.com/github/Teasotea/textSummarization/blob/main/SentRanking_TextSummarization.ipynb\" target=\"_parent\"><img src=\"https://colab.research.google.com/assets/colab-badge.svg\" alt=\"Open In Colab\"/></a>"
      ]
    },
    {
      "cell_type": "markdown",
      "metadata": {
        "id": "3cvzFMhd35LA"
      },
      "source": [
        "Implementation of the [TextRank](https://www.analyticsvidhya.com/blog/2018/11/introduction-text-summarization-textrank-python/) Algorithm"
      ]
    },
    {
      "cell_type": "markdown",
      "metadata": {
        "id": "2rPsPirQ3vJ6"
      },
      "source": [
        "# Import Libraries"
      ]
    },
    {
      "cell_type": "code",
      "execution_count": null,
      "metadata": {
        "colab": {
          "base_uri": "https://localhost:8080/"
        },
        "id": "BK1cv21tA8W2",
        "outputId": "c17506a3-df5c-484d-a9f2-91ef6922f754"
      },
      "outputs": [
        {
          "output_type": "stream",
          "name": "stdout",
          "text": [
            "Collecting transformers\n",
            "  Downloading transformers-4.18.0-py3-none-any.whl (4.0 MB)\n",
            "\u001b[K     |████████████████████████████████| 4.0 MB 5.0 MB/s \n",
            "\u001b[?25hCollecting sentencepiece\n",
            "  Downloading sentencepiece-0.1.96-cp37-cp37m-manylinux_2_17_x86_64.manylinux2014_x86_64.whl (1.2 MB)\n",
            "\u001b[K     |████████████████████████████████| 1.2 MB 36.8 MB/s \n",
            "\u001b[?25hRequirement already satisfied: packaging>=20.0 in /usr/local/lib/python3.7/dist-packages (from transformers) (21.3)\n",
            "Collecting huggingface-hub<1.0,>=0.1.0\n",
            "  Downloading huggingface_hub-0.5.1-py3-none-any.whl (77 kB)\n",
            "\u001b[K     |████████████████████████████████| 77 kB 6.1 MB/s \n",
            "\u001b[?25hRequirement already satisfied: tqdm>=4.27 in /usr/local/lib/python3.7/dist-packages (from transformers) (4.64.0)\n",
            "Requirement already satisfied: importlib-metadata in /usr/local/lib/python3.7/dist-packages (from transformers) (4.11.3)\n",
            "Requirement already satisfied: regex!=2019.12.17 in /usr/local/lib/python3.7/dist-packages (from transformers) (2019.12.20)\n",
            "Requirement already satisfied: numpy>=1.17 in /usr/local/lib/python3.7/dist-packages (from transformers) (1.21.6)\n",
            "Requirement already satisfied: requests in /usr/local/lib/python3.7/dist-packages (from transformers) (2.23.0)\n",
            "Collecting tokenizers!=0.11.3,<0.13,>=0.11.1\n",
            "  Downloading tokenizers-0.12.1-cp37-cp37m-manylinux_2_12_x86_64.manylinux2010_x86_64.whl (6.6 MB)\n",
            "\u001b[K     |████████████████████████████████| 6.6 MB 34.3 MB/s \n",
            "\u001b[?25hRequirement already satisfied: filelock in /usr/local/lib/python3.7/dist-packages (from transformers) (3.6.0)\n",
            "Collecting pyyaml>=5.1\n",
            "  Downloading PyYAML-6.0-cp37-cp37m-manylinux_2_5_x86_64.manylinux1_x86_64.manylinux_2_12_x86_64.manylinux2010_x86_64.whl (596 kB)\n",
            "\u001b[K     |████████████████████████████████| 596 kB 53.1 MB/s \n",
            "\u001b[?25hCollecting sacremoses\n",
            "  Downloading sacremoses-0.0.53.tar.gz (880 kB)\n",
            "\u001b[K     |████████████████████████████████| 880 kB 56.5 MB/s \n",
            "\u001b[?25hRequirement already satisfied: typing-extensions>=3.7.4.3 in /usr/local/lib/python3.7/dist-packages (from huggingface-hub<1.0,>=0.1.0->transformers) (4.2.0)\n",
            "Requirement already satisfied: pyparsing!=3.0.5,>=2.0.2 in /usr/local/lib/python3.7/dist-packages (from packaging>=20.0->transformers) (3.0.8)\n",
            "Requirement already satisfied: zipp>=0.5 in /usr/local/lib/python3.7/dist-packages (from importlib-metadata->transformers) (3.8.0)\n",
            "Requirement already satisfied: chardet<4,>=3.0.2 in /usr/local/lib/python3.7/dist-packages (from requests->transformers) (3.0.4)\n",
            "Requirement already satisfied: idna<3,>=2.5 in /usr/local/lib/python3.7/dist-packages (from requests->transformers) (2.10)\n",
            "Requirement already satisfied: certifi>=2017.4.17 in /usr/local/lib/python3.7/dist-packages (from requests->transformers) (2021.10.8)\n",
            "Requirement already satisfied: urllib3!=1.25.0,!=1.25.1,<1.26,>=1.21.1 in /usr/local/lib/python3.7/dist-packages (from requests->transformers) (1.24.3)\n",
            "Requirement already satisfied: six in /usr/local/lib/python3.7/dist-packages (from sacremoses->transformers) (1.15.0)\n",
            "Requirement already satisfied: click in /usr/local/lib/python3.7/dist-packages (from sacremoses->transformers) (7.1.2)\n",
            "Requirement already satisfied: joblib in /usr/local/lib/python3.7/dist-packages (from sacremoses->transformers) (1.1.0)\n",
            "Building wheels for collected packages: sacremoses\n",
            "  Building wheel for sacremoses (setup.py) ... \u001b[?25l\u001b[?25hdone\n",
            "  Created wheel for sacremoses: filename=sacremoses-0.0.53-py3-none-any.whl size=895260 sha256=2f33619fc01bc1d66c10f1259e1b611ded037ca5529508e4131e9b970944b4cb\n",
            "  Stored in directory: /root/.cache/pip/wheels/87/39/dd/a83eeef36d0bf98e7a4d1933a4ad2d660295a40613079bafc9\n",
            "Successfully built sacremoses\n",
            "Installing collected packages: pyyaml, tokenizers, sacremoses, huggingface-hub, transformers, sentencepiece\n",
            "  Attempting uninstall: pyyaml\n",
            "    Found existing installation: PyYAML 3.13\n",
            "    Uninstalling PyYAML-3.13:\n",
            "      Successfully uninstalled PyYAML-3.13\n",
            "Successfully installed huggingface-hub-0.5.1 pyyaml-6.0 sacremoses-0.0.53 sentencepiece-0.1.96 tokenizers-0.12.1 transformers-4.18.0\n",
            "Collecting sentence_transformers\n",
            "  Downloading sentence-transformers-2.2.0.tar.gz (79 kB)\n",
            "\u001b[K     |████████████████████████████████| 79 kB 3.6 MB/s \n",
            "\u001b[?25hRequirement already satisfied: transformers<5.0.0,>=4.6.0 in /usr/local/lib/python3.7/dist-packages (from sentence_transformers) (4.18.0)\n",
            "Requirement already satisfied: tqdm in /usr/local/lib/python3.7/dist-packages (from sentence_transformers) (4.64.0)\n",
            "Requirement already satisfied: torch>=1.6.0 in /usr/local/lib/python3.7/dist-packages (from sentence_transformers) (1.11.0+cu113)\n",
            "Requirement already satisfied: torchvision in /usr/local/lib/python3.7/dist-packages (from sentence_transformers) (0.12.0+cu113)\n",
            "Requirement already satisfied: numpy in /usr/local/lib/python3.7/dist-packages (from sentence_transformers) (1.21.6)\n",
            "Requirement already satisfied: scikit-learn in /usr/local/lib/python3.7/dist-packages (from sentence_transformers) (1.0.2)\n",
            "Requirement already satisfied: scipy in /usr/local/lib/python3.7/dist-packages (from sentence_transformers) (1.4.1)\n",
            "Requirement already satisfied: nltk in /usr/local/lib/python3.7/dist-packages (from sentence_transformers) (3.2.5)\n",
            "Requirement already satisfied: sentencepiece in /usr/local/lib/python3.7/dist-packages (from sentence_transformers) (0.1.96)\n",
            "Requirement already satisfied: huggingface-hub in /usr/local/lib/python3.7/dist-packages (from sentence_transformers) (0.5.1)\n",
            "Requirement already satisfied: typing-extensions in /usr/local/lib/python3.7/dist-packages (from torch>=1.6.0->sentence_transformers) (4.2.0)\n",
            "Requirement already satisfied: requests in /usr/local/lib/python3.7/dist-packages (from transformers<5.0.0,>=4.6.0->sentence_transformers) (2.23.0)\n",
            "Requirement already satisfied: pyyaml>=5.1 in /usr/local/lib/python3.7/dist-packages (from transformers<5.0.0,>=4.6.0->sentence_transformers) (6.0)\n",
            "Requirement already satisfied: packaging>=20.0 in /usr/local/lib/python3.7/dist-packages (from transformers<5.0.0,>=4.6.0->sentence_transformers) (21.3)\n",
            "Requirement already satisfied: regex!=2019.12.17 in /usr/local/lib/python3.7/dist-packages (from transformers<5.0.0,>=4.6.0->sentence_transformers) (2019.12.20)\n",
            "Requirement already satisfied: importlib-metadata in /usr/local/lib/python3.7/dist-packages (from transformers<5.0.0,>=4.6.0->sentence_transformers) (4.11.3)\n",
            "Requirement already satisfied: tokenizers!=0.11.3,<0.13,>=0.11.1 in /usr/local/lib/python3.7/dist-packages (from transformers<5.0.0,>=4.6.0->sentence_transformers) (0.12.1)\n",
            "Requirement already satisfied: sacremoses in /usr/local/lib/python3.7/dist-packages (from transformers<5.0.0,>=4.6.0->sentence_transformers) (0.0.53)\n",
            "Requirement already satisfied: filelock in /usr/local/lib/python3.7/dist-packages (from transformers<5.0.0,>=4.6.0->sentence_transformers) (3.6.0)\n",
            "Requirement already satisfied: pyparsing!=3.0.5,>=2.0.2 in /usr/local/lib/python3.7/dist-packages (from packaging>=20.0->transformers<5.0.0,>=4.6.0->sentence_transformers) (3.0.8)\n",
            "Requirement already satisfied: zipp>=0.5 in /usr/local/lib/python3.7/dist-packages (from importlib-metadata->transformers<5.0.0,>=4.6.0->sentence_transformers) (3.8.0)\n",
            "Requirement already satisfied: six in /usr/local/lib/python3.7/dist-packages (from nltk->sentence_transformers) (1.15.0)\n",
            "Requirement already satisfied: idna<3,>=2.5 in /usr/local/lib/python3.7/dist-packages (from requests->transformers<5.0.0,>=4.6.0->sentence_transformers) (2.10)\n",
            "Requirement already satisfied: certifi>=2017.4.17 in /usr/local/lib/python3.7/dist-packages (from requests->transformers<5.0.0,>=4.6.0->sentence_transformers) (2021.10.8)\n",
            "Requirement already satisfied: urllib3!=1.25.0,!=1.25.1,<1.26,>=1.21.1 in /usr/local/lib/python3.7/dist-packages (from requests->transformers<5.0.0,>=4.6.0->sentence_transformers) (1.24.3)\n",
            "Requirement already satisfied: chardet<4,>=3.0.2 in /usr/local/lib/python3.7/dist-packages (from requests->transformers<5.0.0,>=4.6.0->sentence_transformers) (3.0.4)\n",
            "Requirement already satisfied: click in /usr/local/lib/python3.7/dist-packages (from sacremoses->transformers<5.0.0,>=4.6.0->sentence_transformers) (7.1.2)\n",
            "Requirement already satisfied: joblib in /usr/local/lib/python3.7/dist-packages (from sacremoses->transformers<5.0.0,>=4.6.0->sentence_transformers) (1.1.0)\n",
            "Requirement already satisfied: threadpoolctl>=2.0.0 in /usr/local/lib/python3.7/dist-packages (from scikit-learn->sentence_transformers) (3.1.0)\n",
            "Requirement already satisfied: pillow!=8.3.*,>=5.3.0 in /usr/local/lib/python3.7/dist-packages (from torchvision->sentence_transformers) (7.1.2)\n",
            "Building wheels for collected packages: sentence-transformers\n",
            "  Building wheel for sentence-transformers (setup.py) ... \u001b[?25l\u001b[?25hdone\n",
            "  Created wheel for sentence-transformers: filename=sentence_transformers-2.2.0-py3-none-any.whl size=120747 sha256=a779bb7482a08d339694344252fd9e5a699b245eeaa4351888bf590893fa897f\n",
            "  Stored in directory: /root/.cache/pip/wheels/83/c0/df/b6873ab7aac3f2465aa9144b6b4c41c4391cfecc027c8b07e7\n",
            "Successfully built sentence-transformers\n",
            "Installing collected packages: sentence-transformers\n",
            "Successfully installed sentence-transformers-2.2.0\n"
          ]
        }
      ],
      "source": [
        "!pip install transformers sentencepiece\n",
        "!pip install sentence_transformers"
      ]
    },
    {
      "cell_type": "code",
      "execution_count": null,
      "metadata": {
        "id": "5LXVCpcDREjn"
      },
      "outputs": [],
      "source": [
        "import numpy as np\n",
        "import pandas as pd\n",
        "import networkx as nx\n",
        "import matplotlib.pyplot as plt\n",
        "import time\n",
        "from sklearn.metrics.pairwise import cosine_similarity\n",
        "pd.set_option('display.max_colwidth', None)"
      ]
    },
    {
      "cell_type": "code",
      "execution_count": null,
      "metadata": {
        "colab": {
          "base_uri": "https://localhost:8080/"
        },
        "id": "o0a5UjYb5XH3",
        "outputId": "78ad3d4d-2e62-471d-c8d5-51be8876e74b"
      },
      "outputs": [
        {
          "output_type": "stream",
          "name": "stdout",
          "text": [
            "Mounted at /content/gdrive\n",
            "/content/gdrive/MyDrive/text_summ/sent_ranking\n"
          ]
        }
      ],
      "source": [
        "# mount gdrive to save models\n",
        "from pathlib import Path\n",
        "from google.colab import drive\n",
        "\n",
        "drive.mount('/content/gdrive')\n",
        "\n",
        "GDRIVE = '/content/gdrive/MyDrive/text_summ'\n",
        "WORKDIR = GDRIVE + '/sent_ranking/'\n",
        "Path(WORKDIR).mkdir(parents=True, exist_ok=True)\n",
        "\n",
        "%cd  '/content/gdrive/MyDrive/text_summ/sent_ranking'"
      ]
    },
    {
      "cell_type": "markdown",
      "metadata": {
        "id": "ZiDLL85QPnFj"
      },
      "source": [
        "# Load Data"
      ]
    },
    {
      "cell_type": "code",
      "execution_count": null,
      "metadata": {
        "colab": {
          "base_uri": "https://localhost:8080/",
          "height": 1000
        },
        "id": "7V7nVR3NOQcm",
        "outputId": "a41d7a61-d7c4-4578-8900-2089b823f13a"
      },
      "outputs": [
        {
          "output_type": "execute_result",
          "data": {
            "text/plain": [
              "<pandas.io.formats.style.Styler at 0x7f5092433cd0>"
            ],
            "text/html": [
              "<style type=\"text/css\">\n",
              "#T_f0389_row0_col0, #T_f0389_row1_col0, #T_f0389_row2_col0, #T_f0389_row3_col0, #T_f0389_row4_col0, #T_f0389_row5_col0, #T_f0389_row6_col0, #T_f0389_row7_col0, #T_f0389_row8_col0, #T_f0389_row9_col0, #T_f0389_row10_col0, #T_f0389_row11_col0, #T_f0389_row12_col0, #T_f0389_row13_col0, #T_f0389_row14_col0, #T_f0389_row15_col0, #T_f0389_row16_col0, #T_f0389_row17_col0, #T_f0389_row18_col0 {\n",
              "  text-align: left;\n",
              "}\n",
              "</style>\n",
              "<table id=\"T_f0389_\" class=\"dataframe\">\n",
              "  <thead>\n",
              "    <tr>\n",
              "      <th class=\"blank level0\" >&nbsp;</th>\n",
              "      <th class=\"col_heading level0 col0\" >text</th>\n",
              "    </tr>\n",
              "  </thead>\n",
              "  <tbody>\n",
              "    <tr>\n",
              "      <th id=\"T_f0389_level0_row0\" class=\"row_heading level0 row0\" >0</th>\n",
              "      <td id=\"T_f0389_row0_col0\" class=\"data row0 col0\" >Психолог: Добрый день, меня зовут Ирина. Ольга, у нас с вами на сегодня назначена консультация. Надеюсь, что наш разговор будет приятным и полезным. Расскажите с каким запросом вы пришли на нашу первую встречу?</td>\n",
              "    </tr>\n",
              "    <tr>\n",
              "      <th id=\"T_f0389_level0_row1\" class=\"row_heading level0 row1\" >1</th>\n",
              "      <td id=\"T_f0389_row1_col0\" class=\"data row1 col0\" >Ольга: Добрый день, это моя первая консультация в жизни. Я не особо понимаю что именно нужно говорить. Но у меня накопилось достаточно много всего и мне просто хотелось поговорить о том, что сейчас происходит с моей жизнью, ну много чего, конечно, как и у всех, все таки война, переезды, куча всего короче. Просто хотелось чтобы кто-то услышал, помог мне немного разобраться в себе.</td>\n",
              "    </tr>\n",
              "    <tr>\n",
              "      <th id=\"T_f0389_level0_row2\" class=\"row_heading level0 row2\" >2</th>\n",
              "      <td id=\"T_f0389_row2_col0\" class=\"data row2 col0\" >Психолог: Ольга, действительно сейчас многие проживают события к которым сложно быть готовым. Давайте начнем понемногу разбираться. Расскажите о себе. Где вы сейчас находитесь, в каких условиях живете, какие события происходят вокруг вас?</td>\n",
              "    </tr>\n",
              "    <tr>\n",
              "      <th id=\"T_f0389_level0_row3\" class=\"row_heading level0 row3\" >3</th>\n",
              "      <td id=\"T_f0389_row3_col0\" class=\"data row3 col0\" >Ольга: Сейчас я чувствую себя относительно в безопасности. Мы переехали из Киева на западную Украину. Здесь можно сказать, что тихо, но я не особо понимаю что происходит. Мне словно приходится начинать все с нуля. Деньги немного есть, ээээ ну там на пару месяцев хватит, но нужно искать работу. Не пойму нужно учится на новую специальность или попытаться найти работу менеджером, как раньше? Хотя кому эти менеджеры нужны, ничего толком не работает, наверно повезло людям которые сохранили работу, прям как-то радостно за них. Потерять финансовую стабильность мне реально тяжело, ждать что что-то наладится, но ничего не наладится же. Ну даже если наладится то не скоро, рада что могла себе обеспечить эту финансовую подушку. Я реально уже думала что можно и начать инвестировать но блин, реально никогда не знаешь, теперь думаю что можно было и пол года назад параллельно с подушкой все делать, но так иногда радует что хоть стабильность в деньгах есть, я все таки смогла научиться управлять немного своими финансами. Ну и новую работу искать, ну и что я тут найду? Наверно скорее всего нужно будет учить английский, вряд ли украинские компании сейчас смогут дать хорошую оплату, надо искать что-то онлайн, стабильное. Хотя какое оно стабильное, надо открывать свое дело в интернете, может делать магазин с доставкой? Да я так и не смогла этот английский выучить сколько уже ходила на курсы. Короче искать работу это мне вообще как настоящее испытание, ну и не думаю что без английского я кому-то нужна. Пока живем в бесплатном жилье, но тоже непонятно надолго это, вообще нужно ли возвращаться, в Киеве хотя бы есть дом, родные стены, ну и удобства все под рукой, но я боюсь ходить по улице вижу везде эти новости про растяжки, бомбы в молоке. Но и помощи от волонтеров больше есть и помощь с едой и вообще дома как то проще, здесь никого не знаю, но и знакомые если честно все уже разъехались и реально жизнь как с нуля. С мужем тоже сложно, постоянно приходится принимать решения, а он как будто оттягивает, но я же тоже не могу все время все делать. Короче мне реально не понятно как вообще быть, я боюсь что-то снова начинать, потому что не понятно на долго или скоро закончится. </td>\n",
              "    </tr>\n",
              "    <tr>\n",
              "      <th id=\"T_f0389_level0_row4\" class=\"row_heading level0 row4\" >4</th>\n",
              "      <td id=\"T_f0389_row4_col0\" class=\"data row4 col0\" >Психолог: Давайте выделим вопросы, которые я услышала и продолжим работу. Сейчас у вас нет основной работы для вас большой стресс искать новую, еще вы хотите вернуться в Киев, но не можете решить для себя стоит ли это сейчас делать, также вам хочется получить поддержку от мужа, но вы не можете получить той помощи на которую рассчитываете. Но самым большим испытанием для вас является то, что необходимо начать все с нуля. верно?</td>\n",
              "    </tr>\n",
              "    <tr>\n",
              "      <th id=\"T_f0389_level0_row5\" class=\"row_heading level0 row5\" >5</th>\n",
              "      <td id=\"T_f0389_row5_col0\" class=\"data row5 col0\" >Ольга: Да, но даже не сам факт начала. Понимаете я уже несколько раз все теряла и начинала \"жизнь с этого нуля\". Поэтому мне кажется тут у меня что-то вроде иммунитета. Страх не с самой необходимости, я просто реально понимаю что если я еще раз все потеряю мне может просто не хотеться что-то делать снова. Именно когда живешь в период от нуля до \"опять все хочется\" тут самое страшное. Ощущение, что теряешь время, которого и так постоянно мало, и параллельно же ничего не улучшается, тебе еще наваливается сверху, и нужно разгребать все одновременно. Теряешь дом, нет людей рядом, начинаются долги, нет уверенности в своих силах, моложе не становишься, ну и вечная конкуренция потому что у людей еще есть запал, а тебе 35 и ты такой здрасьте, я хочу заявить о себе. Я начинаю постоянно думать в какой именно момент я перестала контролировать свою жизнь? Ведь мне нравилось жить в том потоке, что происходил. Мне реально часто везло, но прям про будущее я не думала. А теперь читаю про блекауты, теории заговора, считаю остаток бюджета и на сколько мне хватит денег при разных условиях жизни, думаю нужно ли пытаюсь выделить деньги на английский, мне постоянно прилетают дополнительные расходы. Ну и если реально готовится к блекауту, то нужно сделать закупку продуктов на месяц, а если мы вернемся обратно? или останемся тут? короче куда все это девать в итоге? Я смотрю на свою дырявую финансовую подушку безопасности и судорожно понимаю что кроме всего прочего просто никакого верного решения нет. </td>\n",
              "    </tr>\n",
              "    <tr>\n",
              "      <th id=\"T_f0389_level0_row6\" class=\"row_heading level0 row6\" >6</th>\n",
              "      <td id=\"T_f0389_row6_col0\" class=\"data row6 col0\" >Психолог: решение есть всегда, задайте себе вопрос: готовы ли брать ответственность за принятые решения на себя?</td>\n",
              "    </tr>\n",
              "    <tr>\n",
              "      <th id=\"T_f0389_level0_row7\" class=\"row_heading level0 row7\" >7</th>\n",
              "      <td id=\"T_f0389_row7_col0\" class=\"data row7 col0\" >О: Я пытаюсь балансировать между личной ответственностью за свою собственную жизнь и умении договориться. Ну типа если бы я жила одна, мне не так сложно было бы. Не надо ждать коллективного решения, а сам тихо сделала и ни у кого не спрашиваешь.</td>\n",
              "    </tr>\n",
              "    <tr>\n",
              "      <th id=\"T_f0389_level0_row8\" class=\"row_heading level0 row8\" >8</th>\n",
              "      <td id=\"T_f0389_row8_col0\" class=\"data row8 col0\" >Психолог: Расскажите подробнее, я так понимаю у вас разные точки зрения на какую то ситуацию с мужем?</td>\n",
              "    </tr>\n",
              "    <tr>\n",
              "      <th id=\"T_f0389_level0_row9\" class=\"row_heading level0 row9\" >9</th>\n",
              "      <td id=\"T_f0389_row9_col0\" class=\"data row9 col0\" >О: Я реально хочу в Киев, мне там будет проще собраться с мыслями. и если бы муж помог мне и согласился бы на переезд уже было бы проще. Каждый раз с ним говорю, а он говорит ну хочешь поезжай в киев, я потом приеду. А я не хочу ехать одна, я хочу чтобы мы вдвоем поехали, потому что ну что  я там буду делать одна, мне реально надо чтобы мы или вместе были здесь или там. Короче, типа он вообще не упрощает задачу, а как будто ждет, что что-то должно случится и что-то поменяется. Но ничего же не поменяется. Я то понимаю что придется скорее всего просто жить вот так как оно есть, потому что завтра лучше не станет, и после завтра тоже. А ракета может прилететь куда угодно или не прилететь. От нас ничего не зависит. И на правительство мы влиять не можем, только свои решения принимать, ход войны поменять нереально. Но мы же семья, и мне не ясно чего мы не можем договориться о таких простых вещах, ну скажи типа нет я не хочу ехать или хочу, но через неделю. Так он мне просто говорит едь и все, а я потом что-то решу. </td>\n",
              "    </tr>\n",
              "    <tr>\n",
              "      <th id=\"T_f0389_level0_row10\" class=\"row_heading level0 row10\" >10</th>\n",
              "      <td id=\"T_f0389_row10_col0\" class=\"data row10 col0\" >Психолог:  скажите а раньше у вас возникали ситуации, когда муж оттягивал принятие решений?</td>\n",
              "    </tr>\n",
              "    <tr>\n",
              "      <th id=\"T_f0389_level0_row11\" class=\"row_heading level0 row11\" >11</th>\n",
              "      <td id=\"T_f0389_row11_col0\" class=\"data row11 col0\" >Ольга: Ну он постоянно все на последний момент откладывает, но раньше не было таких критический ситуаций и я могла подождать или делать что я хотела а там уже как было, или мы ссорились ну понятно что потом он принимал решение и позже мне было уже проще я реально никого не напрягала, а там просто все случалось, при чем он всегда понимал что поздно начал шевелится, но мне было даже смешно. Я могла потом ходить и  смеяться, типа ты же знаешь что ты вечно все тянешь, вот опять такой же случай, зачем ты ждешь. Я и с другой стороны заходила типа смотри ты ждешь, а это влияет на меня. Вот я жду например, что мы купим билеты и полетим куда-то на отдых, мы все равно покупаем и летим, но цена выше на этот самолет мы поссоримся сто раз, вот объясни в чем дело, я просто хочу понять. Потому что мне жалко и нервов и денег. А можно просто было все спокойно сделать вовремя, потому что есть понимание того что вовремя все таки существует, ну или более удачное время, типа чего не пользоваться ситуацией? Я реально не могу уже я даже иногда думаю ну может просто взять и самой себе жить, а  я не хочу жить одна, мне нравиться наши отношения если бы не это. Блин я уже иногда думаю, а если бы мы не были вместе если мне не надо было бы постоянно ждать, где бы я уже была? Потому что в постоянном ожидании чуда жить тоже не легко.</td>\n",
              "    </tr>\n",
              "    <tr>\n",
              "      <th id=\"T_f0389_level0_row12\" class=\"row_heading level0 row12\" >12</th>\n",
              "      <td id=\"T_f0389_row12_col0\" class=\"data row12 col0\" > Психолог: Расскажите а как вы представляли вашу жизнь без отношений? Вот что происходит с вами, когда вам не нужно никого ждать?</td>\n",
              "    </tr>\n",
              "    <tr>\n",
              "      <th id=\"T_f0389_level0_row13\" class=\"row_heading level0 row13\" >13</th>\n",
              "      <td id=\"T_f0389_row13_col0\" class=\"data row13 col0\" >Ольга: ну вот в том и дело, что иногда я понимаю что если бы я осталась одна мне было бы намного проще, но я хочу быть вместе с мужем, оберегать наше партнерство.  не хочу представлять, а если бы. ну нет никаких а если бы. Мне реально нравятся наши отношения, хотя такие штуки когда приходится ждать решения прям бесят. Просто сейчас как будто это повторение -- поехали в киев, нет давай ждать, хочешь едь. Такое впечатление что он хочет от меня избавится, типа я что напрягаю его? ну короче, когда я спрашиваю все ли в порядке, он говорит все хорошо, но я не чувствую что все хорошо. Может конечно я свои переживания на него перекладываю, но блин в стране которую постоянно раздирают на части ничего хорошего ждать уже не приходится. Пусть даже со мной происходят только хорошие вещи, ну насколько это реально, ну вот даже в плане денег, все есть, понятно накопления на пару месяцев, и работу все равно придется искать, я реально хочу просто определенности, в рамках своей реальности. Но полную определенность я чувствую только когда я сама себе хозяин. Может я просто не понимаю что такое жить с партнером.</td>\n",
              "    </tr>\n",
              "    <tr>\n",
              "      <th id=\"T_f0389_level0_row14\" class=\"row_heading level0 row14\" >14</th>\n",
              "      <td id=\"T_f0389_row14_col0\" class=\"data row14 col0\" > Психолог: Каждая семья строит свои взаимоотношения, нет единственного верного решения, как правильно. Но если я вас правильно услышала, то больше всего вас тревожит именно неопределенность в решениях внутри семьи, отсутствие возможности договорится. Расскажите какие эмоции вы испытываете от этой \"неопределенности\"?</td>\n",
              "    </tr>\n",
              "    <tr>\n",
              "      <th id=\"T_f0389_level0_row15\" class=\"row_heading level0 row15\" >15</th>\n",
              "      <td id=\"T_f0389_row15_col0\" class=\"data row15 col0\" >Ольга: ну если честно я уже не знаю, я типа как смирилась что ли с тем, что происходит. меня эти затяжные штуки напрягают это точно, но вот так сказать что я чувствую? я просто знаю что они бывают и мне уже изначально плохо я как будто живу с бомбой с часовым механизмом и даже не предлагаю никаких идей, не хочу снова все проживать, просто нет сил, а вот эмоции я уже  не отслеживаю просто не приятно, но так описать не могу.</td>\n",
              "    </tr>\n",
              "    <tr>\n",
              "      <th id=\"T_f0389_level0_row16\" class=\"row_heading level0 row16\" >16</th>\n",
              "      <td id=\"T_f0389_row16_col0\" class=\"data row16 col0\" >Психолог: Давайте начнем разбираться вместе? Как домашнее задание я хочу дать вам возможность разобраться в своих эмоциях, понять что вы чувствуете, каждый раз когда у вас будет возникать ситуация, где муж будет затягивать с решением, даже если это маленькая бытовая ситуация -- вам нужно будет записывать в дневник ситуацию и свои эмоции. Как вам такая идея?</td>\n",
              "    </tr>\n",
              "    <tr>\n",
              "      <th id=\"T_f0389_level0_row17\" class=\"row_heading level0 row17\" >17</th>\n",
              "      <td id=\"T_f0389_row17_col0\" class=\"data row17 col0\" >Ольга: спасибо, реально интересно чего я вообще чувствую иногда кажется что уже ничего.</td>\n",
              "    </tr>\n",
              "    <tr>\n",
              "      <th id=\"T_f0389_level0_row18\" class=\"row_heading level0 row18\" >18</th>\n",
              "      <td id=\"T_f0389_row18_col0\" class=\"data row18 col0\" >Психолог: хорошо, тогда мы определились с первым заданием и будем понемногу начинать понимать себя, спасибо за встречу.</td>\n",
              "    </tr>\n",
              "  </tbody>\n",
              "</table>\n"
            ]
          },
          "metadata": {},
          "execution_count": 4
        }
      ],
      "source": [
        "conversation_df = pd.read_csv('https://raw.githubusercontent.com/Teasotea/textSummarization/main/data/session.csv', delimiter = \"\\t\", header=None)\n",
        "conversation_df = conversation_df.set_axis(['text'], axis=1, inplace=False)\n",
        "conversation_df.style.set_properties(**{'text-align': 'left'})"
      ]
    },
    {
      "cell_type": "code",
      "execution_count": null,
      "metadata": {
        "colab": {
          "base_uri": "https://localhost:8080/",
          "height": 1000
        },
        "id": "VClPLs7SUiFB",
        "outputId": "60b524b3-0b1c-42f4-d882-b026d61def89"
      },
      "outputs": [
        {
          "output_type": "execute_result",
          "data": {
            "text/plain": [
              "<pandas.io.formats.style.Styler at 0x7f5092442350>"
            ],
            "text/html": [
              "<style type=\"text/css\">\n",
              "#T_eeab6_row0_col0, #T_eeab6_row0_col1, #T_eeab6_row1_col0, #T_eeab6_row1_col1, #T_eeab6_row2_col0, #T_eeab6_row2_col1, #T_eeab6_row3_col0, #T_eeab6_row3_col1, #T_eeab6_row4_col0, #T_eeab6_row4_col1, #T_eeab6_row5_col0, #T_eeab6_row5_col1, #T_eeab6_row6_col0, #T_eeab6_row6_col1, #T_eeab6_row7_col0, #T_eeab6_row7_col1, #T_eeab6_row8_col0, #T_eeab6_row8_col1, #T_eeab6_row9_col0, #T_eeab6_row9_col1, #T_eeab6_row10_col0, #T_eeab6_row10_col1, #T_eeab6_row11_col0, #T_eeab6_row11_col1, #T_eeab6_row12_col0, #T_eeab6_row12_col1, #T_eeab6_row13_col0, #T_eeab6_row13_col1, #T_eeab6_row14_col0, #T_eeab6_row14_col1, #T_eeab6_row15_col0, #T_eeab6_row15_col1, #T_eeab6_row16_col0, #T_eeab6_row16_col1, #T_eeab6_row17_col0, #T_eeab6_row17_col1, #T_eeab6_row18_col0, #T_eeab6_row18_col1 {\n",
              "  text-align: left;\n",
              "}\n",
              "</style>\n",
              "<table id=\"T_eeab6_\" class=\"dataframe\">\n",
              "  <thead>\n",
              "    <tr>\n",
              "      <th class=\"blank level0\" >&nbsp;</th>\n",
              "      <th class=\"col_heading level0 col0\" >text</th>\n",
              "      <th class=\"col_heading level0 col1\" >interlocutor</th>\n",
              "    </tr>\n",
              "  </thead>\n",
              "  <tbody>\n",
              "    <tr>\n",
              "      <th id=\"T_eeab6_level0_row0\" class=\"row_heading level0 row0\" >0</th>\n",
              "      <td id=\"T_eeab6_row0_col0\" class=\"data row0 col0\" >Добрый день, меня зовут Ирина. Ольга, у нас с вами на сегодня назначена консультация. Надеюсь, что наш разговор будет приятным и полезным. Расскажите с каким запросом вы пришли на нашу первую встречу?</td>\n",
              "      <td id=\"T_eeab6_row0_col1\" class=\"data row0 col1\" >psy</td>\n",
              "    </tr>\n",
              "    <tr>\n",
              "      <th id=\"T_eeab6_level0_row1\" class=\"row_heading level0 row1\" >1</th>\n",
              "      <td id=\"T_eeab6_row1_col0\" class=\"data row1 col0\" >Добрый день, это моя первая консультация в жизни. Я не особо понимаю что именно нужно говорить. Но у меня накопилось достаточно много всего и мне просто хотелось поговорить о том, что сейчас происходит с моей жизнью, ну много чего, конечно, как и у всех, все таки война, переезды, куча всего короче. Просто хотелось чтобы кто-то услышал, помог мне немного разобраться в себе.</td>\n",
              "      <td id=\"T_eeab6_row1_col1\" class=\"data row1 col1\" >cli</td>\n",
              "    </tr>\n",
              "    <tr>\n",
              "      <th id=\"T_eeab6_level0_row2\" class=\"row_heading level0 row2\" >2</th>\n",
              "      <td id=\"T_eeab6_row2_col0\" class=\"data row2 col0\" >Ольга, действительно сейчас многие проживают события к которым сложно быть готовым. Давайте начнем понемногу разбираться. Расскажите о себе. Где вы сейчас находитесь, в каких условиях живете, какие события происходят вокруг вас?</td>\n",
              "      <td id=\"T_eeab6_row2_col1\" class=\"data row2 col1\" >psy</td>\n",
              "    </tr>\n",
              "    <tr>\n",
              "      <th id=\"T_eeab6_level0_row3\" class=\"row_heading level0 row3\" >3</th>\n",
              "      <td id=\"T_eeab6_row3_col0\" class=\"data row3 col0\" >Сейчас я чувствую себя относительно в безопасности. Мы переехали из Киева на западную Украину. Здесь можно сказать, что тихо, но я не особо понимаю что происходит. Мне словно приходится начинать все с нуля. Деньги немного есть, ээээ ну там на пару месяцев хватит, но нужно искать работу. Не пойму нужно учится на новую специальность или попытаться найти работу менеджером, как раньше? Хотя кому эти менеджеры нужны, ничего толком не работает, наверно повезло людям которые сохранили работу, прям как-то радостно за них. Потерять финансовую стабильность мне реально тяжело, ждать что что-то наладится, но ничего не наладится же. Ну даже если наладится то не скоро, рада что могла себе обеспечить эту финансовую подушку. Я реально уже думала что можно и начать инвестировать но блин, реально никогда не знаешь, теперь думаю что можно было и пол года назад параллельно с подушкой все делать, но так иногда радует что хоть стабильность в деньгах есть, я все таки смогла научиться управлять немного своими финансами. Ну и новую работу искать, ну и что я тут найду? Наверно скорее всего нужно будет учить английский, вряд ли украинские компании сейчас смогут дать хорошую оплату, надо искать что-то онлайн, стабильное. Хотя какое оно стабильное, надо открывать свое дело в интернете, может делать магазин с доставкой? Да я так и не смогла этот английский выучить сколько уже ходила на курсы. Короче искать работу это мне вообще как настоящее испытание, ну и не думаю что без английского я кому-то нужна. Пока живем в бесплатном жилье, но тоже непонятно надолго это, вообще нужно ли возвращаться, в Киеве хотя бы есть дом, родные стены, ну и удобства все под рукой, но я боюсь ходить по улице вижу везде эти новости про растяжки, бомбы в молоке. Но и помощи от волонтеров больше есть и помощь с едой и вообще дома как то проще, здесь никого не знаю, но и знакомые если честно все уже разъехались и реально жизнь как с нуля. С мужем тоже сложно, постоянно приходится принимать решения, а он как будто оттягивает, но я же тоже не могу все время все делать. Короче мне реально не понятно как вообще быть, я боюсь что-то снова начинать, потому что не понятно на долго или скоро закончится.</td>\n",
              "      <td id=\"T_eeab6_row3_col1\" class=\"data row3 col1\" >cli</td>\n",
              "    </tr>\n",
              "    <tr>\n",
              "      <th id=\"T_eeab6_level0_row4\" class=\"row_heading level0 row4\" >4</th>\n",
              "      <td id=\"T_eeab6_row4_col0\" class=\"data row4 col0\" >Давайте выделим вопросы, которые я услышала и продолжим работу. Сейчас у вас нет основной работы для вас большой стресс искать новую, еще вы хотите вернуться в Киев, но не можете решить для себя стоит ли это сейчас делать, также вам хочется получить поддержку от мужа, но вы не можете получить той помощи на которую рассчитываете. Но самым большим испытанием для вас является то, что необходимо начать все с нуля. верно?</td>\n",
              "      <td id=\"T_eeab6_row4_col1\" class=\"data row4 col1\" >psy</td>\n",
              "    </tr>\n",
              "    <tr>\n",
              "      <th id=\"T_eeab6_level0_row5\" class=\"row_heading level0 row5\" >5</th>\n",
              "      <td id=\"T_eeab6_row5_col0\" class=\"data row5 col0\" >Да, но даже не сам факт начала. Понимаете я уже несколько раз все теряла и начинала \"жизнь с этого нуля\". Поэтому мне кажется тут у меня что-то вроде иммунитета. Страх не с самой необходимости, я просто реально понимаю что если я еще раз все потеряю мне может просто не хотеться что-то делать снова. Именно когда живешь в период от нуля до \"опять все хочется\" тут самое страшное. Ощущение, что теряешь время, которого и так постоянно мало, и параллельно же ничего не улучшается, тебе еще наваливается сверху, и нужно разгребать все одновременно. Теряешь дом, нет людей рядом, начинаются долги, нет уверенности в своих силах, моложе не становишься, ну и вечная конкуренция потому что у людей еще есть запал, а тебе 35 и ты такой здрасьте, я хочу заявить о себе. Я начинаю постоянно думать в какой именно момент я перестала контролировать свою жизнь? Ведь мне нравилось жить в том потоке, что происходил. Мне реально часто везло, но прям про будущее я не думала. А теперь читаю про блекауты, теории заговора, считаю остаток бюджета и на сколько мне хватит денег при разных условиях жизни, думаю нужно ли пытаюсь выделить деньги на английский, мне постоянно прилетают дополнительные расходы. Ну и если реально готовится к блекауту, то нужно сделать закупку продуктов на месяц, а если мы вернемся обратно? или останемся тут? короче куда все это девать в итоге? Я смотрю на свою дырявую финансовую подушку безопасности и судорожно понимаю что кроме всего прочего просто никакого верного решения нет.</td>\n",
              "      <td id=\"T_eeab6_row5_col1\" class=\"data row5 col1\" >cli</td>\n",
              "    </tr>\n",
              "    <tr>\n",
              "      <th id=\"T_eeab6_level0_row6\" class=\"row_heading level0 row6\" >6</th>\n",
              "      <td id=\"T_eeab6_row6_col0\" class=\"data row6 col0\" >решение есть всегда, задайте себе вопрос: готовы ли брать ответственность за принятые решения на себя?</td>\n",
              "      <td id=\"T_eeab6_row6_col1\" class=\"data row6 col1\" >psy</td>\n",
              "    </tr>\n",
              "    <tr>\n",
              "      <th id=\"T_eeab6_level0_row7\" class=\"row_heading level0 row7\" >7</th>\n",
              "      <td id=\"T_eeab6_row7_col0\" class=\"data row7 col0\" >Я пытаюсь балансировать между личной ответственностью за свою собственную жизнь и умении договориться. Ну типа если бы я жила одна, мне не так сложно было бы. Не надо ждать коллективного решения, а сам тихо сделала и ни у кого не спрашиваешь.</td>\n",
              "      <td id=\"T_eeab6_row7_col1\" class=\"data row7 col1\" >cli</td>\n",
              "    </tr>\n",
              "    <tr>\n",
              "      <th id=\"T_eeab6_level0_row8\" class=\"row_heading level0 row8\" >8</th>\n",
              "      <td id=\"T_eeab6_row8_col0\" class=\"data row8 col0\" >Расскажите подробнее, я так понимаю у вас разные точки зрения на какую то ситуацию с мужем?</td>\n",
              "      <td id=\"T_eeab6_row8_col1\" class=\"data row8 col1\" >psy</td>\n",
              "    </tr>\n",
              "    <tr>\n",
              "      <th id=\"T_eeab6_level0_row9\" class=\"row_heading level0 row9\" >9</th>\n",
              "      <td id=\"T_eeab6_row9_col0\" class=\"data row9 col0\" >Я реально хочу в Киев, мне там будет проще собраться с мыслями. и если бы муж помог мне и согласился бы на переезд уже было бы проще. Каждый раз с ним говорю, а он говорит ну хочешь поезжай в киев, я потом приеду. А я не хочу ехать одна, я хочу чтобы мы вдвоем поехали, потому что ну что  я там буду делать одна, мне реально надо чтобы мы или вместе были здесь или там. Короче, типа он вообще не упрощает задачу, а как будто ждет, что что-то должно случится и что-то поменяется. Но ничего же не поменяется. Я то понимаю что придется скорее всего просто жить вот так как оно есть, потому что завтра лучше не станет, и после завтра тоже. А ракета может прилететь куда угодно или не прилететь. От нас ничего не зависит. И на правительство мы влиять не можем, только свои решения принимать, ход войны поменять нереально. Но мы же семья, и мне не ясно чего мы не можем договориться о таких простых вещах, ну скажи типа нет я не хочу ехать или хочу, но через неделю. Так он мне просто говорит едь и все, а я потом что-то решу.</td>\n",
              "      <td id=\"T_eeab6_row9_col1\" class=\"data row9 col1\" >cli</td>\n",
              "    </tr>\n",
              "    <tr>\n",
              "      <th id=\"T_eeab6_level0_row10\" class=\"row_heading level0 row10\" >10</th>\n",
              "      <td id=\"T_eeab6_row10_col0\" class=\"data row10 col0\" > скажите а раньше у вас возникали ситуации, когда муж оттягивал принятие решений?</td>\n",
              "      <td id=\"T_eeab6_row10_col1\" class=\"data row10 col1\" >psy</td>\n",
              "    </tr>\n",
              "    <tr>\n",
              "      <th id=\"T_eeab6_level0_row11\" class=\"row_heading level0 row11\" >11</th>\n",
              "      <td id=\"T_eeab6_row11_col0\" class=\"data row11 col0\" >Ну он постоянно все на последний момент откладывает, но раньше не было таких критический ситуаций и я могла подождать или делать что я хотела а там уже как было, или мы ссорились ну понятно что потом он принимал решение и позже мне было уже проще я реально никого не напрягала, а там просто все случалось, при чем он всегда понимал что поздно начал шевелится, но мне было даже смешно. Я могла потом ходить и  смеяться, типа ты же знаешь что ты вечно все тянешь, вот опять такой же случай, зачем ты ждешь. Я и с другой стороны заходила типа смотри ты ждешь, а это влияет на меня. Вот я жду например, что мы купим билеты и полетим куда-то на отдых, мы все равно покупаем и летим, но цена выше на этот самолет мы поссоримся сто раз, вот объясни в чем дело, я просто хочу понять. Потому что мне жалко и нервов и денег. А можно просто было все спокойно сделать вовремя, потому что есть понимание того что вовремя все таки существует, ну или более удачное время, типа чего не пользоваться ситуацией? Я реально не могу уже я даже иногда думаю ну может просто взять и самой себе жить, а  я не хочу жить одна, мне нравиться наши отношения если бы не это. Блин я уже иногда думаю, а если бы мы не были вместе если мне не надо было бы постоянно ждать, где бы я уже была? Потому что в постоянном ожидании чуда жить тоже не легко.</td>\n",
              "      <td id=\"T_eeab6_row11_col1\" class=\"data row11 col1\" >cli</td>\n",
              "    </tr>\n",
              "    <tr>\n",
              "      <th id=\"T_eeab6_level0_row12\" class=\"row_heading level0 row12\" >12</th>\n",
              "      <td id=\"T_eeab6_row12_col0\" class=\"data row12 col0\" >Расскажите а как вы представляли вашу жизнь без отношений? Вот что происходит с вами, когда вам не нужно никого ждать?</td>\n",
              "      <td id=\"T_eeab6_row12_col1\" class=\"data row12 col1\" >psy</td>\n",
              "    </tr>\n",
              "    <tr>\n",
              "      <th id=\"T_eeab6_level0_row13\" class=\"row_heading level0 row13\" >13</th>\n",
              "      <td id=\"T_eeab6_row13_col0\" class=\"data row13 col0\" >ну вот в том и дело, что иногда я понимаю что если бы я осталась одна мне было бы намного проще, но я хочу быть вместе с мужем, оберегать наше партнерство.  не хочу представлять, а если бы. ну нет никаких а если бы. Мне реально нравятся наши отношения, хотя такие штуки когда приходится ждать решения прям бесят. Просто сейчас как будто это повторение -- поехали в киев, нет давай ждать, хочешь едь. Такое впечатление что он хочет от меня избавится, типа я что напрягаю его? ну короче, когда я спрашиваю все ли в порядке, он говорит все хорошо, но я не чувствую что все хорошо. Может конечно я свои переживания на него перекладываю, но блин в стране которую постоянно раздирают на части ничего хорошего ждать уже не приходится. Пусть даже со мной происходят только хорошие вещи, ну насколько это реально, ну вот даже в плане денег, все есть, понятно накопления на пару месяцев, и работу все равно придется искать, я реально хочу просто определенности, в рамках своей реальности. Но полную определенность я чувствую только когда я сама себе хозяин. Может я просто не понимаю что такое жить с партнером.</td>\n",
              "      <td id=\"T_eeab6_row13_col1\" class=\"data row13 col1\" >cli</td>\n",
              "    </tr>\n",
              "    <tr>\n",
              "      <th id=\"T_eeab6_level0_row14\" class=\"row_heading level0 row14\" >14</th>\n",
              "      <td id=\"T_eeab6_row14_col0\" class=\"data row14 col0\" >Каждая семья строит свои взаимоотношения, нет единственного верного решения, как правильно. Но если я вас правильно услышала, то больше всего вас тревожит именно неопределенность в решениях внутри семьи, отсутствие возможности договорится. Расскажите какие эмоции вы испытываете от этой \"неопределенности\"?</td>\n",
              "      <td id=\"T_eeab6_row14_col1\" class=\"data row14 col1\" >psy</td>\n",
              "    </tr>\n",
              "    <tr>\n",
              "      <th id=\"T_eeab6_level0_row15\" class=\"row_heading level0 row15\" >15</th>\n",
              "      <td id=\"T_eeab6_row15_col0\" class=\"data row15 col0\" >ну если честно я уже не знаю, я типа как смирилась что ли с тем, что происходит. меня эти затяжные штуки напрягают это точно, но вот так сказать что я чувствую? я просто знаю что они бывают и мне уже изначально плохо я как будто живу с бомбой с часовым механизмом и даже не предлагаю никаких идей, не хочу снова все проживать, просто нет сил, а вот эмоции я уже  не отслеживаю просто не приятно, но так описать не могу.</td>\n",
              "      <td id=\"T_eeab6_row15_col1\" class=\"data row15 col1\" >cli</td>\n",
              "    </tr>\n",
              "    <tr>\n",
              "      <th id=\"T_eeab6_level0_row16\" class=\"row_heading level0 row16\" >16</th>\n",
              "      <td id=\"T_eeab6_row16_col0\" class=\"data row16 col0\" >Давайте начнем разбираться вместе? Как домашнее задание я хочу дать вам возможность разобраться в своих эмоциях, понять что вы чувствуете, каждый раз когда у вас будет возникать ситуация, где муж будет затягивать с решением, даже если это маленькая бытовая ситуация -- вам нужно будет записывать в дневник ситуацию и свои эмоции. Как вам такая идея?</td>\n",
              "      <td id=\"T_eeab6_row16_col1\" class=\"data row16 col1\" >psy</td>\n",
              "    </tr>\n",
              "    <tr>\n",
              "      <th id=\"T_eeab6_level0_row17\" class=\"row_heading level0 row17\" >17</th>\n",
              "      <td id=\"T_eeab6_row17_col0\" class=\"data row17 col0\" >спасибо, реально интересно чего я вообще чувствую иногда кажется что уже ничего.</td>\n",
              "      <td id=\"T_eeab6_row17_col1\" class=\"data row17 col1\" >cli</td>\n",
              "    </tr>\n",
              "    <tr>\n",
              "      <th id=\"T_eeab6_level0_row18\" class=\"row_heading level0 row18\" >18</th>\n",
              "      <td id=\"T_eeab6_row18_col0\" class=\"data row18 col0\" >хорошо, тогда мы определились с первым заданием и будем понемногу начинать понимать себя, спасибо за встречу.</td>\n",
              "      <td id=\"T_eeab6_row18_col1\" class=\"data row18 col1\" >psy</td>\n",
              "    </tr>\n",
              "  </tbody>\n",
              "</table>\n"
            ]
          },
          "metadata": {},
          "execution_count": 5
        }
      ],
      "source": [
        "conversation_df['interlocutor'] = conversation_df.apply(lambda x: 'cli' if x.text.lower().startswith('о') else 'psy', axis=1)\n",
        "conversation_df['text'] = conversation_df['text'].apply(lambda x: x.strip().split(' ', 1)[1] if x.strip().lower().startswith('психолог') | x.strip().lower().startswith('о') else x.strip())\n",
        "psy_df = conversation_df[conversation_df['interlocutor'] == 'psy']\n",
        "cli_df = conversation_df[conversation_df['interlocutor'] == 'cli']\n",
        "conversation_df.style.set_properties(**{'text-align': 'left'})"
      ]
    },
    {
      "cell_type": "code",
      "execution_count": null,
      "metadata": {
        "colab": {
          "base_uri": "https://localhost:8080/",
          "height": 203
        },
        "id": "f1rVbrkEBagx",
        "outputId": "d60606bf-6e5a-4283-dbd2-ddc1954bef12"
      },
      "outputs": [
        {
          "output_type": "execute_result",
          "data": {
            "text/plain": [
              "'Добрый день, меня зовут Ирина. Ольга, у нас с вами на сегодня назначена консультация. Надеюсь, что наш разговор будет приятным и полезным. Расскажите с каким запросом вы пришли на нашу первую встречу? Добрый день, это моя первая консультация в жизни. Я не особо понимаю что именно нужно говорить. Но у меня накопилось достаточно много всего и мне просто хотелось поговорить о том, что сейчас происходит с моей жизнью, ну много чего, конечно, как и у всех, все таки война, переезды, куча всего короче. Просто хотелось чтобы кто-то услышал, помог мне немного разобраться в себе. Ольга, действительно сейчас многие проживают события к которым сложно быть готовым. Давайте начнем понемногу разбираться. Расскажите о себе. Где вы сейчас находитесь, в каких условиях живете, какие события происходят вокруг вас? Сейчас я чувствую себя относительно в безопасности. Мы переехали из Киева на западную Украину. Здесь можно сказать, что тихо, но я не особо понимаю что происходит. Мне словно приходится начинать все с нуля. Деньги немного есть, ээээ ну там на пару месяцев хватит, но нужно искать работу. Не пойму нужно учится на новую специальность или попытаться найти работу менеджером, как раньше? Хотя кому эти менеджеры нужны, ничего толком не работает, наверно повезло людям которые сохранили работу, прям как-то радостно за них. Потерять финансовую стабильность мне реально тяжело, ждать что что-то наладится, но ничего не наладится же. Ну даже если наладится то не скоро, рада что могла себе обеспечить эту финансовую подушку. Я реально уже думала что можно и начать инвестировать но блин, реально никогда не знаешь, теперь думаю что можно было и пол года назад параллельно с подушкой все делать, но так иногда радует что хоть стабильность в деньгах есть, я все таки смогла научиться управлять немного своими финансами. Ну и новую работу искать, ну и что я тут найду? Наверно скорее всего нужно будет учить английский, вряд ли украинские компании сейчас смогут дать хорошую оплату, надо искать что-то онлайн, стабильное. Хотя какое оно стабильное, надо открывать свое дело в интернете, может делать магазин с доставкой? Да я так и не смогла этот английский выучить сколько уже ходила на курсы. Короче искать работу это мне вообще как настоящее испытание, ну и не думаю что без английского я кому-то нужна. Пока живем в бесплатном жилье, но тоже непонятно надолго это, вообще нужно ли возвращаться, в Киеве хотя бы есть дом, родные стены, ну и удобства все под рукой, но я боюсь ходить по улице вижу везде эти новости про растяжки, бомбы в молоке. Но и помощи от волонтеров больше есть и помощь с едой и вообще дома как то проще, здесь никого не знаю, но и знакомые если честно все уже разъехались и реально жизнь как с нуля. С мужем тоже сложно, постоянно приходится принимать решения, а он как будто оттягивает, но я же тоже не могу все время все делать. Короче мне реально не понятно как вообще быть, я боюсь что-то снова начинать, потому что не понятно на долго или скоро закончится. Давайте выделим вопросы, которые я услышала и продолжим работу. Сейчас у вас нет основной работы для вас большой стресс искать новую, еще вы хотите вернуться в Киев, но не можете решить для себя стоит ли это сейчас делать, также вам хочется получить поддержку от мужа, но вы не можете получить той помощи на которую рассчитываете. Но самым большим испытанием для вас является то, что необходимо начать все с нуля. верно? Да, но даже не сам факт начала. Понимаете я уже несколько раз все теряла и начинала \"жизнь с этого нуля\". Поэтому мне кажется тут у меня что-то вроде иммунитета. Страх не с самой необходимости, я просто реально понимаю что если я еще раз все потеряю мне может просто не хотеться что-то делать снова. Именно когда живешь в период от нуля до \"опять все хочется\" тут самое страшное. Ощущение, что теряешь время, которого и так постоянно мало, и параллельно же ничего не улучшается, тебе еще наваливается сверху, и нужно разгребать все одновременно. Теряешь дом, нет людей рядом, начинаются долги, нет уверенности в своих силах, моложе не становишься, ну и вечная конкуренция потому что у людей еще есть запал, а тебе 35 и ты такой здрасьте, я хочу заявить о себе. Я начинаю постоянно думать в какой именно момент я перестала контролировать свою жизнь? Ведь мне нравилось жить в том потоке, что происходил. Мне реально часто везло, но прям про будущее я не думала. А теперь читаю про блекауты, теории заговора, считаю остаток бюджета и на сколько мне хватит денег при разных условиях жизни, думаю нужно ли пытаюсь выделить деньги на английский, мне постоянно прилетают дополнительные расходы. Ну и если реально готовится к блекауту, то нужно сделать закупку продуктов на месяц, а если мы вернемся обратно? или останемся тут? короче куда все это девать в итоге? Я смотрю на свою дырявую финансовую подушку безопасности и судорожно понимаю что кроме всего прочего просто никакого верного решения нет. решение есть всегда, задайте себе вопрос: готовы ли брать ответственность за принятые решения на себя? Я пытаюсь балансировать между личной ответственностью за свою собственную жизнь и умении договориться. Ну типа если бы я жила одна, мне не так сложно было бы. Не надо ждать коллективного решения, а сам тихо сделала и ни у кого не спрашиваешь. Расскажите подробнее, я так понимаю у вас разные точки зрения на какую то ситуацию с мужем? Я реально хочу в Киев, мне там будет проще собраться с мыслями. и если бы муж помог мне и согласился бы на переезд уже было бы проще. Каждый раз с ним говорю, а он говорит ну хочешь поезжай в киев, я потом приеду. А я не хочу ехать одна, я хочу чтобы мы вдвоем поехали, потому что ну что  я там буду делать одна, мне реально надо чтобы мы или вместе были здесь или там. Короче, типа он вообще не упрощает задачу, а как будто ждет, что что-то должно случится и что-то поменяется. Но ничего же не поменяется. Я то понимаю что придется скорее всего просто жить вот так как оно есть, потому что завтра лучше не станет, и после завтра тоже. А ракета может прилететь куда угодно или не прилететь. От нас ничего не зависит. И на правительство мы влиять не можем, только свои решения принимать, ход войны поменять нереально. Но мы же семья, и мне не ясно чего мы не можем договориться о таких простых вещах, ну скажи типа нет я не хочу ехать или хочу, но через неделю. Так он мне просто говорит едь и все, а я потом что-то решу.  скажите а раньше у вас возникали ситуации, когда муж оттягивал принятие решений? Ну он постоянно все на последний момент откладывает, но раньше не было таких критический ситуаций и я могла подождать или делать что я хотела а там уже как было, или мы ссорились ну понятно что потом он принимал решение и позже мне было уже проще я реально никого не напрягала, а там просто все случалось, при чем он всегда понимал что поздно начал шевелится, но мне было даже смешно. Я могла потом ходить и  смеяться, типа ты же знаешь что ты вечно все тянешь, вот опять такой же случай, зачем ты ждешь. Я и с другой стороны заходила типа смотри ты ждешь, а это влияет на меня. Вот я жду например, что мы купим билеты и полетим куда-то на отдых, мы все равно покупаем и летим, но цена выше на этот самолет мы поссоримся сто раз, вот объясни в чем дело, я просто хочу понять. Потому что мне жалко и нервов и денег. А можно просто было все спокойно сделать вовремя, потому что есть понимание того что вовремя все таки существует, ну или более удачное время, типа чего не пользоваться ситуацией? Я реально не могу уже я даже иногда думаю ну может просто взять и самой себе жить, а  я не хочу жить одна, мне нравиться наши отношения если бы не это. Блин я уже иногда думаю, а если бы мы не были вместе если мне не надо было бы постоянно ждать, где бы я уже была? Потому что в постоянном ожидании чуда жить тоже не легко. Расскажите а как вы представляли вашу жизнь без отношений? Вот что происходит с вами, когда вам не нужно никого ждать? ну вот в том и дело, что иногда я понимаю что если бы я осталась одна мне было бы намного проще, но я хочу быть вместе с мужем, оберегать наше партнерство.  не хочу представлять, а если бы. ну нет никаких а если бы. Мне реально нравятся наши отношения, хотя такие штуки когда приходится ждать решения прям бесят. Просто сейчас как будто это повторение -- поехали в киев, нет давай ждать, хочешь едь. Такое впечатление что он хочет от меня избавится, типа я что напрягаю его? ну короче, когда я спрашиваю все ли в порядке, он говорит все хорошо, но я не чувствую что все хорошо. Может конечно я свои переживания на него перекладываю, но блин в стране которую постоянно раздирают на части ничего хорошего ждать уже не приходится. Пусть даже со мной происходят только хорошие вещи, ну насколько это реально, ну вот даже в плане денег, все есть, понятно накопления на пару месяцев, и работу все равно придется искать, я реально хочу просто определенности, в рамках своей реальности. Но полную определенность я чувствую только когда я сама себе хозяин. Может я просто не понимаю что такое жить с партнером. Каждая семья строит свои взаимоотношения, нет единственного верного решения, как правильно. Но если я вас правильно услышала, то больше всего вас тревожит именно неопределенность в решениях внутри семьи, отсутствие возможности договорится. Расскажите какие эмоции вы испытываете от этой \"неопределенности\"? ну если честно я уже не знаю, я типа как смирилась что ли с тем, что происходит. меня эти затяжные штуки напрягают это точно, но вот так сказать что я чувствую? я просто знаю что они бывают и мне уже изначально плохо я как будто живу с бомбой с часовым механизмом и даже не предлагаю никаких идей, не хочу снова все проживать, просто нет сил, а вот эмоции я уже  не отслеживаю просто не приятно, но так описать не могу. Давайте начнем разбираться вместе? Как домашнее задание я хочу дать вам возможность разобраться в своих эмоциях, понять что вы чувствуете, каждый раз когда у вас будет возникать ситуация, где муж будет затягивать с решением, даже если это маленькая бытовая ситуация -- вам нужно будет записывать в дневник ситуацию и свои эмоции. Как вам такая идея? спасибо, реально интересно чего я вообще чувствую иногда кажется что уже ничего. хорошо, тогда мы определились с первым заданием и будем понемногу начинать понимать себя, спасибо за встречу.'"
            ],
            "application/vnd.google.colaboratory.intrinsic+json": {
              "type": "string"
            }
          },
          "metadata": {},
          "execution_count": 6
        }
      ],
      "source": [
        "full_cli_text = ' '.join(i for i in cli_df.text.tolist()).strip()\n",
        "full_psy_text = ' '.join(i for i in psy_df.text.tolist()).strip()\n",
        "full_text = ' '.join(i for i in conversation_df.text.tolist()).strip()\n",
        "full_text"
      ]
    },
    {
      "cell_type": "markdown",
      "metadata": {
        "id": "eHwudLDSTkGy"
      },
      "source": [
        "# Text Preprocessing"
      ]
    },
    {
      "cell_type": "code",
      "execution_count": null,
      "metadata": {
        "colab": {
          "base_uri": "https://localhost:8080/"
        },
        "id": "Fz6B4a6squcl",
        "outputId": "57c65c26-c85b-4deb-b4a8-6e27eb03a893"
      },
      "outputs": [
        {
          "output_type": "stream",
          "name": "stdout",
          "text": [
            "[nltk_data] Downloading package punkt to /root/nltk_data...\n",
            "[nltk_data]   Unzipping tokenizers/punkt.zip.\n",
            "[nltk_data] Downloading package stopwords to /root/nltk_data...\n",
            "[nltk_data]   Unzipping corpora/stopwords.zip.\n"
          ]
        }
      ],
      "source": [
        "import nltk\n",
        "nltk.download('punkt')\n",
        "from nltk.tokenize import word_tokenize, sent_tokenize\n",
        "import re\n",
        "nltk.download(\"stopwords\")\n",
        "from nltk.corpus import stopwords"
      ]
    },
    {
      "cell_type": "markdown",
      "metadata": {
        "id": "3elLZXzg1yVx"
      },
      "source": [
        "### Split Text into Sentences"
      ]
    },
    {
      "cell_type": "code",
      "execution_count": null,
      "metadata": {
        "id": "ddzY1qsnQ7dy"
      },
      "outputs": [],
      "source": [
        "def split_text(df):\n",
        "  sentences = []\n",
        "  for s in df['text']:\n",
        "    sentences.append(sent_tokenize(s))\n",
        "  return [y for x in sentences for y in x] "
      ]
    },
    {
      "cell_type": "code",
      "execution_count": null,
      "metadata": {
        "id": "eK_-LWJWPbjo"
      },
      "outputs": [],
      "source": [
        "import nltk.data\n",
        "s_tokenizer = nltk.data.load('tokenizers/punkt/russian.pickle')"
      ]
    },
    {
      "cell_type": "code",
      "execution_count": null,
      "metadata": {
        "id": "V2rJ_S8zPFT_"
      },
      "outputs": [],
      "source": [
        "def split_text2(text):\n",
        "  return [i for i in s_tokenizer.tokenize(text)]"
      ]
    },
    {
      "cell_type": "code",
      "execution_count": null,
      "metadata": {
        "colab": {
          "base_uri": "https://localhost:8080/"
        },
        "id": "fNcgW0GUP6Yp",
        "outputId": "e535c85f-ae9c-43a7-a90e-2b458649d4c5"
      },
      "outputs": [
        {
          "output_type": "execute_result",
          "data": {
            "text/plain": [
              "['Добрый день, меня зовут Ирина.',\n",
              " 'Ольга, у нас с вами на сегодня назначена консультация.',\n",
              " 'Надеюсь, что наш разговор будет приятным и полезным.',\n",
              " 'Расскажите с каким запросом вы пришли на нашу первую встречу?',\n",
              " 'Добрый день, это моя первая консультация в жизни.']"
            ]
          },
          "metadata": {},
          "execution_count": 11
        }
      ],
      "source": [
        "split_text2(full_text)[:5]"
      ]
    },
    {
      "cell_type": "code",
      "execution_count": null,
      "metadata": {
        "id": "bUSYl4MARUtm"
      },
      "outputs": [],
      "source": [
        "cli_sent = split_text(cli_df)\n",
        "psy_sent = split_text(psy_df)\n",
        "all_sent = split_text(conversation_df)"
      ]
    },
    {
      "cell_type": "code",
      "execution_count": null,
      "metadata": {
        "colab": {
          "base_uri": "https://localhost:8080/"
        },
        "id": "7_HZ8CQiRU0z",
        "outputId": "d1c3adad-8bae-4ab8-9266-7a22a838bc53"
      },
      "outputs": [
        {
          "output_type": "execute_result",
          "data": {
            "text/plain": [
              "['Добрый день, меня зовут Ирина.',\n",
              " 'Ольга, у нас с вами на сегодня назначена консультация.',\n",
              " 'Надеюсь, что наш разговор будет приятным и полезным.',\n",
              " 'Расскажите с каким запросом вы пришли на нашу первую встречу?',\n",
              " 'Добрый день, это моя первая консультация в жизни.']"
            ]
          },
          "metadata": {},
          "execution_count": 13
        }
      ],
      "source": [
        "all_sent[:5]"
      ]
    },
    {
      "cell_type": "markdown",
      "metadata": {
        "id": "j7zbqABFW6rd"
      },
      "source": [
        "### Remove punctuations, numbers and special characters"
      ]
    },
    {
      "cell_type": "code",
      "execution_count": null,
      "metadata": {
        "id": "5-gS44hNLPID"
      },
      "outputs": [],
      "source": [
        "# remove punctuations, numbers and special characters\n",
        "clean_sent = lambda sent: [s.lower() for s in pd.Series(sent).str.replace('[^\\w\\s]', '')] "
      ]
    },
    {
      "cell_type": "code",
      "execution_count": null,
      "metadata": {
        "colab": {
          "base_uri": "https://localhost:8080/"
        },
        "id": "xHOiNK1vTWST",
        "outputId": "af0354d2-ba94-435d-f247-a5c57d0509d2"
      },
      "outputs": [
        {
          "output_type": "stream",
          "name": "stderr",
          "text": [
            "/usr/local/lib/python3.7/dist-packages/ipykernel_launcher.py:2: FutureWarning: The default value of regex will change from True to False in a future version.\n",
            "  \n"
          ]
        }
      ],
      "source": [
        "clean_sentences_psy = clean_sent(psy_sent)\n",
        "clean_sentences_cli = clean_sent(cli_sent)\n",
        "clean_sentences_all = clean_sent(all_sent)"
      ]
    },
    {
      "cell_type": "code",
      "execution_count": null,
      "metadata": {
        "colab": {
          "base_uri": "https://localhost:8080/"
        },
        "id": "Pr3i774HUVy0",
        "outputId": "eabdf859-c8e7-4796-fabe-6ade17e7b7fb"
      },
      "outputs": [
        {
          "output_type": "execute_result",
          "data": {
            "text/plain": [
              "['добрый день меня зовут ирина',\n",
              " 'ольга у нас с вами на сегодня назначена консультация',\n",
              " 'надеюсь что наш разговор будет приятным и полезным',\n",
              " 'расскажите с каким запросом вы пришли на нашу первую встречу',\n",
              " 'добрый день это моя первая консультация в жизни']"
            ]
          },
          "metadata": {},
          "execution_count": 16
        }
      ],
      "source": [
        "clean_sentences_all[:5]"
      ]
    },
    {
      "cell_type": "markdown",
      "metadata": {
        "id": "A3yxRQU7pC_x"
      },
      "source": [
        "### Stop words removal"
      ]
    },
    {
      "cell_type": "code",
      "execution_count": null,
      "metadata": {
        "colab": {
          "base_uri": "https://localhost:8080/"
        },
        "id": "pa6khlvDb3t7",
        "outputId": "6e342a3d-5e87-4de5-ce37-0ca89eb45986"
      },
      "outputs": [
        {
          "output_type": "stream",
          "name": "stdout",
          "text": [
            "{'того', 'себя', 'тут', 'не', 'моя', 'так', 'она', 'больше', 'себе', 'этого', 'тем', 'эти', 'об', 'со', 'почти', 'вы', 'какая', 'им', 'было', 'ты', 'более', 'он', 'быть', 'после', 'ее', 'нибудь', 'может', 'конечно', 'перед', 'я', 'будто', 'два', 'сам', 'вам', 'они', 'тогда', 'мы', 'другой', 'да', 'нет', 'вдруг', 'чтобы', 'тебя', 'о', 'надо', 'для', 'совсем', 'хорошо', 'тоже', 'потому', 'уже', 'такой', 'ну', 'без', 'по', 'всех', 'если', 'бы', 'разве', 'меня', 'эту', 'от', 'его', 'всю', 'потом', 'во', 'через', 'свою', 'этот', 'там', 'или', 'один', 'три', 'ни', 'кто', 'нас', 'хоть', 'между', 'про', 'же', 'что', 'куда', 'наконец', 'но', 'никогда', 'ней', 'какой', 'еще', 'ей', 'даже', 'нее', 'при', 'всего', 'них', 'над', 'все', 'сейчас', 'когда', 'в', 'него', 'а', 'ли', 'мой', 'как', 'впрочем', 'вот', 'ему', 'теперь', 'где', 'этом', 'на', 'то', 'их', 'раз', 'у', 'ж', 'чуть', 'были', 'зачем', 'лучше', 'только', 'здесь', 'всегда', 'опять', 'был', 'ничего', 'из', 'есть', 'чего', 'вас', 'уж', 'с', 'этой', 'можно', 'том', 'и', 'много', 'до', 'ведь', 'мне', 'под', 'чтоб', 'будет', 'ним', 'нельзя', 'за', 'к', 'чем', 'была', 'иногда', 'тот'}\n"
          ]
        }
      ],
      "source": [
        "stop_words = set(stopwords.words(\"russian\"))\n",
        "print(stop_words)"
      ]
    },
    {
      "cell_type": "code",
      "execution_count": null,
      "metadata": {
        "colab": {
          "base_uri": "https://localhost:8080/"
        },
        "id": "zfm_VZriWXIY",
        "outputId": "cc7518c0-d06d-4505-eb15-ada82869d230"
      },
      "outputs": [
        {
          "output_type": "stream",
          "name": "stdout",
          "text": [
            "{'того', 'себя', 'тут', 'это', 'моя', 'так', 'она', 'больше', 'пока', 'себе', 'такое', 'этого', 'тем', 'эти', 'об', 'со', 'почти', 'вы', 'какая', 'им', 'было', 'ты', 'пусть', 'более', 'он', 'быть', 'после', 'ее', 'нибудь', 'может', 'конечно', 'перед', 'я', 'будто', 'два', 'сам', 'вам', 'они', 'тогда', 'мы', 'другой', 'да', 'нет', 'вдруг', 'честно', 'снова', 'куча', 'прям', 'чтобы', 'постоянно', 'тебя', 'о', 'надо', 'для', 'совсем', 'хорошо', 'тоже', 'потому', 'уже', 'ээээ', 'короче', 'просто', 'такой', 'ну', 'вечно', 'без', 'по', 'всех', 'если', 'хотя', 'бы', 'разве', 'меня', 'эту', 'от', 'всю', 'его', 'потом', 'во', 'через', 'свою', 'была', 'там', 'или', 'один', 'три', 'ни', 'кто', 'нас', 'хоть', 'между', 'про', 'нужно', 'же', 'блин', 'вообще', 'действительно', 'куда', 'наконец', 'но', 'часто', 'никогда', 'ней', 'какой', 'еще', 'ей', 'даже', 'нее', 'при', 'всего', 'них', 'над', 'все', 'сейчас', 'поэтому', 'когда', 'должно', 'в', 'него', 'а', 'ли', 'мой', 'типа', 'таки', 'особо', 'как', 'впрочем', 'вот', 'ему', 'теперь', 'где', 'этом', 'на', 'то', 'ясно', 'их', 'раз', 'у', 'ж', 'чуть', 'были', 'зачем', 'лучше', 'только', 'здесь', 'всегда', 'опять', 'был', 'ничего', 'из', 'такие', 'есть', 'чего', 'вас', 'уж', 'с', 'этой', 'можно', 'том', 'и', 'много', 'до', 'ведь', 'мне', 'под', 'реально', 'чтоб', 'будет', 'точно', 'ним', 'нельзя', 'за', 'к', 'чем', 'этот', 'иногда', 'тот'}\n"
          ]
        }
      ],
      "source": [
        "#add words-parasits\n",
        "parasite_words = ['реально', 'вообще', 'просто', 'точно','типа','поэтому', 'куча', 'ээээ','особо', 'действительно'\n",
        "                ,'честно','такое','может', 'пусть', 'постоянно', 'вечно', 'часто', 'блин', 'короче', 'это',\n",
        "                 'прям', 'хотя', 'такие', 'потому', 'ясно', 'должно', 'нужно','снова', 'пока', 'таки']\n",
        "new_stopwords_list = stop_words.union(parasite_words)\n",
        "\n",
        "#remove words that are in NLTK stopwords list\n",
        "not_stopwords = {\"не\",'что'} \n",
        "final_stop_words = set([word for word in new_stopwords_list if word not in not_stopwords])\n",
        "\n",
        "print(final_stop_words)"
      ]
    },
    {
      "cell_type": "code",
      "execution_count": null,
      "metadata": {
        "id": "J2ZqCAaESTzF"
      },
      "outputs": [],
      "source": [
        "# function to remove stopwords\n",
        "def remove_stopwords(sen):\n",
        "    sen_new = \" \".join([i for i in sen if i not in final_stop_words])\n",
        "    return sen_new"
      ]
    },
    {
      "cell_type": "code",
      "execution_count": null,
      "metadata": {
        "id": "MWicy8pWUKlN"
      },
      "outputs": [],
      "source": [
        "# remove stopwords from the sentences\n",
        "clean_sentences_psy= [remove_stopwords(r.split()) for r in clean_sentences_psy]\n",
        "clean_sentences_cli = [remove_stopwords(r.split()) for r in clean_sentences_cli]\n",
        "clean_sentences_all = [remove_stopwords(r.split()) for r in clean_sentences_all]"
      ]
    },
    {
      "cell_type": "code",
      "execution_count": null,
      "metadata": {
        "colab": {
          "base_uri": "https://localhost:8080/"
        },
        "id": "t1u76nXcV-rs",
        "outputId": "335e43c7-0d6e-41c6-8496-ed139d0d8af5"
      },
      "outputs": [
        {
          "output_type": "execute_result",
          "data": {
            "text/plain": [
              "['добрый день зовут ирина',\n",
              " 'ольга вами сегодня назначена консультация',\n",
              " 'надеюсь что наш разговор приятным полезным',\n",
              " 'расскажите каким запросом пришли нашу первую встречу',\n",
              " 'добрый день первая консультация жизни']"
            ]
          },
          "metadata": {},
          "execution_count": 21
        }
      ],
      "source": [
        "clean_sentences_all[:5]"
      ]
    },
    {
      "cell_type": "markdown",
      "metadata": {
        "id": "_0WuE7pvtJF0"
      },
      "source": [
        "# Further Steps"
      ]
    },
    {
      "cell_type": "markdown",
      "metadata": {
        "id": "v9y-xGUreZm0"
      },
      "source": [
        "## Vector Representation of Sentences with SentenceTransformer\n",
        "[SentenceTransformers](https://www.sbert.net/examples/applications/computing-embeddings/README.html) is a Python framework for state-of-the-art sentence, text and image embeddings.\n",
        "### Distiluse-base-multilingual-cased\n",
        "\n",
        "This is a sentence-transformers [model](https://huggingface.co/sentence-transformers/distiluse-base-multilingual-cased): It maps sentences & paragraphs to a 512 dimensional dense vector space and can be used for tasks like clustering or semantic search.\n",
        "\n",
        "Full Model Architecture:\n",
        "```\n",
        "SentenceTransformer(\n",
        "  (0): Transformer({'max_seq_length': 128, 'do_lower_case': False}) with Transformer model: DistilBertModel \n",
        "  (1): Pooling({'word_embedding_dimension': 768, 'pooling_mode_cls_token': False, 'pooling_mode_mean_tokens': True, 'pooling_mode_max_tokens': False, 'pooling_mode_mean_sqrt_len_tokens': False})\n",
        "  (2): Dense({'in_features': 768, 'out_features': 512, 'bias': True, 'activation_function': 'torch.nn.modules.activation.Tanh'})\n",
        ")\n",
        "```\n",
        "\n"
      ]
    },
    {
      "cell_type": "code",
      "execution_count": null,
      "metadata": {
        "colab": {
          "base_uri": "https://localhost:8080/"
        },
        "id": "NIqkdeNEVb62",
        "outputId": "b6c2c079-2550-470e-896e-0d99bfe7bf0f"
      },
      "outputs": [
        {
          "output_type": "stream",
          "name": "stdout",
          "text": [
            "Requirement already satisfied: sentence-transformers in /usr/local/lib/python3.7/dist-packages (2.2.0)\n",
            "Requirement already satisfied: numpy in /usr/local/lib/python3.7/dist-packages (from sentence-transformers) (1.21.6)\n",
            "Requirement already satisfied: tqdm in /usr/local/lib/python3.7/dist-packages (from sentence-transformers) (4.64.0)\n",
            "Requirement already satisfied: scikit-learn in /usr/local/lib/python3.7/dist-packages (from sentence-transformers) (1.0.2)\n",
            "Requirement already satisfied: torchvision in /usr/local/lib/python3.7/dist-packages (from sentence-transformers) (0.12.0+cu113)\n",
            "Requirement already satisfied: scipy in /usr/local/lib/python3.7/dist-packages (from sentence-transformers) (1.4.1)\n",
            "Requirement already satisfied: torch>=1.6.0 in /usr/local/lib/python3.7/dist-packages (from sentence-transformers) (1.11.0+cu113)\n",
            "Requirement already satisfied: huggingface-hub in /usr/local/lib/python3.7/dist-packages (from sentence-transformers) (0.5.1)\n",
            "Requirement already satisfied: sentencepiece in /usr/local/lib/python3.7/dist-packages (from sentence-transformers) (0.1.96)\n",
            "Requirement already satisfied: nltk in /usr/local/lib/python3.7/dist-packages (from sentence-transformers) (3.2.5)\n",
            "Requirement already satisfied: transformers<5.0.0,>=4.6.0 in /usr/local/lib/python3.7/dist-packages (from sentence-transformers) (4.18.0)\n",
            "Requirement already satisfied: typing-extensions in /usr/local/lib/python3.7/dist-packages (from torch>=1.6.0->sentence-transformers) (4.2.0)\n",
            "Requirement already satisfied: sacremoses in /usr/local/lib/python3.7/dist-packages (from transformers<5.0.0,>=4.6.0->sentence-transformers) (0.0.53)\n",
            "Requirement already satisfied: importlib-metadata in /usr/local/lib/python3.7/dist-packages (from transformers<5.0.0,>=4.6.0->sentence-transformers) (4.11.3)\n",
            "Requirement already satisfied: requests in /usr/local/lib/python3.7/dist-packages (from transformers<5.0.0,>=4.6.0->sentence-transformers) (2.23.0)\n",
            "Requirement already satisfied: tokenizers!=0.11.3,<0.13,>=0.11.1 in /usr/local/lib/python3.7/dist-packages (from transformers<5.0.0,>=4.6.0->sentence-transformers) (0.12.1)\n",
            "Requirement already satisfied: regex!=2019.12.17 in /usr/local/lib/python3.7/dist-packages (from transformers<5.0.0,>=4.6.0->sentence-transformers) (2019.12.20)\n",
            "Requirement already satisfied: pyyaml>=5.1 in /usr/local/lib/python3.7/dist-packages (from transformers<5.0.0,>=4.6.0->sentence-transformers) (6.0)\n",
            "Requirement already satisfied: filelock in /usr/local/lib/python3.7/dist-packages (from transformers<5.0.0,>=4.6.0->sentence-transformers) (3.6.0)\n",
            "Requirement already satisfied: packaging>=20.0 in /usr/local/lib/python3.7/dist-packages (from transformers<5.0.0,>=4.6.0->sentence-transformers) (21.3)\n",
            "Requirement already satisfied: pyparsing!=3.0.5,>=2.0.2 in /usr/local/lib/python3.7/dist-packages (from packaging>=20.0->transformers<5.0.0,>=4.6.0->sentence-transformers) (3.0.8)\n",
            "Requirement already satisfied: zipp>=0.5 in /usr/local/lib/python3.7/dist-packages (from importlib-metadata->transformers<5.0.0,>=4.6.0->sentence-transformers) (3.8.0)\n",
            "Requirement already satisfied: six in /usr/local/lib/python3.7/dist-packages (from nltk->sentence-transformers) (1.15.0)\n",
            "Requirement already satisfied: certifi>=2017.4.17 in /usr/local/lib/python3.7/dist-packages (from requests->transformers<5.0.0,>=4.6.0->sentence-transformers) (2021.10.8)\n",
            "Requirement already satisfied: urllib3!=1.25.0,!=1.25.1,<1.26,>=1.21.1 in /usr/local/lib/python3.7/dist-packages (from requests->transformers<5.0.0,>=4.6.0->sentence-transformers) (1.24.3)\n",
            "Requirement already satisfied: chardet<4,>=3.0.2 in /usr/local/lib/python3.7/dist-packages (from requests->transformers<5.0.0,>=4.6.0->sentence-transformers) (3.0.4)\n",
            "Requirement already satisfied: idna<3,>=2.5 in /usr/local/lib/python3.7/dist-packages (from requests->transformers<5.0.0,>=4.6.0->sentence-transformers) (2.10)\n",
            "Requirement already satisfied: joblib in /usr/local/lib/python3.7/dist-packages (from sacremoses->transformers<5.0.0,>=4.6.0->sentence-transformers) (1.1.0)\n",
            "Requirement already satisfied: click in /usr/local/lib/python3.7/dist-packages (from sacremoses->transformers<5.0.0,>=4.6.0->sentence-transformers) (7.1.2)\n",
            "Requirement already satisfied: threadpoolctl>=2.0.0 in /usr/local/lib/python3.7/dist-packages (from scikit-learn->sentence-transformers) (3.1.0)\n",
            "Requirement already satisfied: pillow!=8.3.*,>=5.3.0 in /usr/local/lib/python3.7/dist-packages (from torchvision->sentence-transformers) (7.1.2)\n"
          ]
        }
      ],
      "source": [
        "!pip install -U sentence-transformers"
      ]
    },
    {
      "cell_type": "code",
      "execution_count": null,
      "metadata": {
        "id": "8Ll-kGhbPCLp"
      },
      "outputs": [],
      "source": [
        "from sentence_transformers import SentenceTransformer, util, models"
      ]
    },
    {
      "cell_type": "code",
      "execution_count": null,
      "metadata": {
        "id": "rsU8UpgoWjvh"
      },
      "outputs": [],
      "source": [
        "st_model = SentenceTransformer('sentence-transformers/distiluse-base-multilingual-cased')"
      ]
    },
    {
      "cell_type": "code",
      "execution_count": null,
      "metadata": {
        "id": "7uBD4jtgejge"
      },
      "outputs": [],
      "source": [
        "sent_vect = lambda sentences: st_model.encode(sentences)"
      ]
    },
    {
      "cell_type": "code",
      "execution_count": null,
      "metadata": {
        "id": "5FCUPHrKHwyA"
      },
      "outputs": [],
      "source": [
        "cli_sentence_vectors = sent_vect(clean_sentences_cli)\n",
        "psy_sentence_vectors = sent_vect(clean_sentences_psy)\n",
        "all_sentence_vectors = sent_vect(clean_sentences_all)"
      ]
    },
    {
      "cell_type": "code",
      "execution_count": null,
      "metadata": {
        "colab": {
          "base_uri": "https://localhost:8080/"
        },
        "id": "jlDbPsi4PVZb",
        "outputId": "50153e18-ea20-4058-d883-10fbca5bcf7f"
      },
      "outputs": [
        {
          "output_type": "execute_result",
          "data": {
            "text/plain": [
              "(101, 512)"
            ]
          },
          "metadata": {},
          "execution_count": 62
        }
      ],
      "source": [
        "all_sentence_vectors.shape"
      ]
    },
    {
      "cell_type": "code",
      "execution_count": null,
      "metadata": {
        "id": "6R6IOkdefKeG"
      },
      "outputs": [],
      "source": [
        "# similarity matrix\n",
        "def form_sim_matr(sent_vectors):\n",
        "  sim_mat = np.zeros([len(sent_vectors), len(sent_vectors)])\n",
        "  for i in range(len(sent_vectors)):\n",
        "    for j in range(len(sent_vectors)):\n",
        "      if i != j:\n",
        "        sim_mat[i][j] = cosine_similarity(sent_vectors[i].reshape(1,sent_vectors.shape[1]), sent_vectors[j].reshape(1,sent_vectors.shape[1]))[0,0]\n",
        "  return sim_mat"
      ]
    },
    {
      "cell_type": "code",
      "execution_count": null,
      "metadata": {
        "id": "7lftzxlqKHkV"
      },
      "outputs": [],
      "source": [
        "all_sim_matr = form_sim_matr(all_sentence_vectors)\n",
        "psy_sim_matr = form_sim_matr(psy_sentence_vectors)\n",
        "cli_sim_matr = form_sim_matr(cli_sentence_vectors)"
      ]
    },
    {
      "cell_type": "markdown",
      "metadata": {
        "id": "oX9nPIb2sLya"
      },
      "source": [
        "## Rank Sentences"
      ]
    },
    {
      "cell_type": "code",
      "execution_count": null,
      "metadata": {
        "id": "eRXy5wZdKRpa"
      },
      "outputs": [],
      "source": [
        "def rank_sentences(text):\n",
        "  sents = [remove_stopwords(r.split()) for r in clean_sent(split_text2(text))]\n",
        "  vect = sent_vect(sents)\n",
        "  sim_mat = form_sim_matr(vect)\n",
        "  nx_graph = nx.from_numpy_array(sim_mat)\n",
        "  scores = nx.pagerank(nx_graph)\n",
        "  ranked_sentences = sorted(((scores[i],s) for i,s in enumerate(split_text2(text))), reverse=True)\n",
        "  return ranked_sentences"
      ]
    },
    {
      "cell_type": "code",
      "execution_count": null,
      "metadata": {
        "colab": {
          "base_uri": "https://localhost:8080/"
        },
        "id": "JxtJ_mBdfc2q",
        "outputId": "2f9d34cb-e937-4863-f4bc-91cddb4fe08e"
      },
      "outputs": [
        {
          "output_type": "stream",
          "name": "stderr",
          "text": [
            "/usr/local/lib/python3.7/dist-packages/ipykernel_launcher.py:2: FutureWarning: The default value of regex will change from True to False in a future version.\n",
            "  \n",
            "/usr/local/lib/python3.7/dist-packages/ipykernel_launcher.py:2: FutureWarning: The default value of regex will change from True to False in a future version.\n",
            "  \n",
            "/usr/local/lib/python3.7/dist-packages/ipykernel_launcher.py:2: FutureWarning: The default value of regex will change from True to False in a future version.\n",
            "  \n"
          ]
        }
      ],
      "source": [
        "rank_sent = rank_sentences(full_text)\n",
        "rank_sent_cli  = rank_sentences(full_cli_text)\n",
        "rank_sent_psy = rank_sentences(full_psy_text)"
      ]
    },
    {
      "cell_type": "code",
      "execution_count": null,
      "metadata": {
        "colab": {
          "base_uri": "https://localhost:8080/"
        },
        "id": "mJBE5sJvr4lo",
        "outputId": "79cd9789-99b8-401a-e2fc-d2a45fde6444"
      },
      "outputs": [
        {
          "output_type": "execute_result",
          "data": {
            "text/plain": [
              "[(0.015280488362416264,\n",
              "  'Такое впечатление что он хочет от меня избавится, типа я что напрягаю его?'),\n",
              " (0.014461914070235674,\n",
              "  'Короче мне реально не понятно как вообще быть, я боюсь что-то снова начинать, потому что не понятно на долго или скоро закончится.'),\n",
              " (0.014434574157956202,\n",
              "  'Может я просто не понимаю что такое жить с партнером.'),\n",
              " (0.014132809460087386,\n",
              "  'меня эти затяжные штуки напрягают это точно, но вот так сказать что я чувствую?'),\n",
              " (0.014124363944792877,\n",
              "  'Я реально хочу в Киев, мне там будет проще собраться с мыслями.'),\n",
              " (0.013740701258177945,\n",
              "  'Блин я уже иногда думаю, а если бы мы не были вместе если мне не надо было бы постоянно ждать, где бы я уже была?'),\n",
              " (0.013615646920378876,\n",
              "  'ну короче, когда я спрашиваю все ли в порядке, он говорит все хорошо, но я не чувствую что все хорошо.'),\n",
              " (0.012981252292721924,\n",
              "  'Потому что в постоянном ожидании чуда жить тоже не легко.'),\n",
              " (0.012902347771008764,\n",
              "  'Понимаете я уже несколько раз все теряла и начинала \"жизнь с этого нуля\".'),\n",
              " (0.012898498935153152,\n",
              "  'Страх не с самой необходимости, я просто реально понимаю что если я еще раз все потеряю мне может просто не хотеться что-то делать снова.'),\n",
              " (0.012822267836933823,\n",
              "  'Ну даже если наладится то не скоро, рада что могла себе обеспечить эту финансовую подушку.'),\n",
              " (0.012489177339359791,\n",
              "  'Я реально не могу уже я даже иногда думаю ну может просто взять и самой себе жить, а  я не хочу жить одна, мне нравиться наши отношения если бы не это.'),\n",
              " (0.0124663618002062,\n",
              "  'Здесь можно сказать, что тихо, но я не особо понимаю что происходит.'),\n",
              " (0.012369470889716074, 'Я не особо понимаю что именно нужно говорить.'),\n",
              " (0.012258301520652111, 'не хочу представлять, а если бы.'),\n",
              " (0.01218902748119496,\n",
              "  'Так он мне просто говорит едь и все, а я потом что-то решу.'),\n",
              " (0.012166942985015744, 'Потому что мне жалко и нервов и денег.'),\n",
              " (0.011852417306508208,\n",
              "  'Мне реально нравятся наши отношения, хотя такие штуки когда приходится ждать решения прям бесят.'),\n",
              " (0.011755697544677339,\n",
              "  'Именно когда живешь в период от нуля до \"опять все хочется\" тут самое страшное.'),\n",
              " (0.011734496972307874,\n",
              "  'С мужем тоже сложно, постоянно приходится принимать решения, а он как будто оттягивает, но я же тоже не могу все время все делать.'),\n",
              " (0.011608130778775098,\n",
              "  'Короче, типа он вообще не упрощает задачу, а как будто ждет, что что-то должно случится и что-то поменяется.'),\n",
              " (0.011599695035108968,\n",
              "  'ну если честно я уже не знаю, я типа как смирилась что ли с тем, что происходит.'),\n",
              " (0.011589524450381378,\n",
              "  'я просто знаю что они бывают и мне уже изначально плохо я как будто живу с бомбой с часовым механизмом и даже не предлагаю никаких идей, не хочу снова все проживать, просто нет сил, а вот эмоции я уже  не отслеживаю просто не приятно, но так описать не могу.'),\n",
              " (0.01158426557256248,\n",
              "  'А можно просто было все спокойно сделать вовремя, потому что есть понимание того что вовремя все таки существует, ну или более удачное время, типа чего не пользоваться ситуацией?'),\n",
              " (0.011542401379110435, 'Ну и новую работу искать, ну и что я тут найду?'),\n",
              " (0.01149585610962176,\n",
              "  'ну вот в том и дело, что иногда я понимаю что если бы я осталась одна мне было бы намного проще, но я хочу быть вместе с мужем, оберегать наше партнерство.'),\n",
              " (0.011495031584963488,\n",
              "  'А я не хочу ехать одна, я хочу чтобы мы вдвоем поехали, потому что ну что  я там буду делать одна, мне реально надо чтобы мы или вместе были здесь или там.'),\n",
              " (0.011490352583702651,\n",
              "  'Я смотрю на свою дырявую финансовую подушку безопасности и судорожно понимаю что кроме всего прочего просто никакого верного решения нет.'),\n",
              " (0.011385396398487539, 'Мне словно приходится начинать все с нуля.'),\n",
              " (0.011295242266251707,\n",
              "  'Я могла потом ходить и  смеяться, типа ты же знаешь что ты вечно все тянешь, вот опять такой же случай, зачем ты ждешь.'),\n",
              " (0.011273961840970655,\n",
              "  'Где вы сейчас находитесь, в каких условиях живете, какие события происходят вокруг вас?'),\n",
              " (0.011258209205497876,\n",
              "  'Я то понимаю что придется скорее всего просто жить вот так как оно есть, потому что завтра лучше не станет, и после завтра тоже.'),\n",
              " (0.011179782576417292,\n",
              "  'Потерять финансовую стабильность мне реально тяжело, ждать что что-то наладится, но ничего не наладится же.'),\n",
              " (0.01114710307424764,\n",
              "  'скажите а раньше у вас возникали ситуации, когда муж оттягивал принятие решений?'),\n",
              " (0.011145798728988065,\n",
              "  'Расскажите подробнее, я так понимаю у вас разные точки зрения на какую то ситуацию с мужем?'),\n",
              " (0.011123041034774774,\n",
              "  'Ну типа если бы я жила одна, мне не так сложно было бы.'),\n",
              " (0.010995552065065977,\n",
              "  'Я начинаю постоянно думать в какой именно момент я перестала контролировать свою жизнь?'),\n",
              " (0.010934746164886731,\n",
              "  'Но мы же семья, и мне не ясно чего мы не можем договориться о таких простых вещах, ну скажи типа нет я не хочу ехать или хочу, но через неделю.'),\n",
              " (0.01084909967700508,\n",
              "  'Не надо ждать коллективного решения, а сам тихо сделала и ни у кого не спрашиваешь.'),\n",
              " (0.010848443263479727,\n",
              "  'Мне реально часто везло, но прям про будущее я не думала.'),\n",
              " (0.010718216334286976,\n",
              "  'Вот что происходит с вами, когда вам не нужно никого ждать?'),\n",
              " (0.010702596314189168,\n",
              "  'Пусть даже со мной происходят только хорошие вещи, ну насколько это реально, ну вот даже в плане денег, все есть, понятно накопления на пару месяцев, и работу все равно придется искать, я реально хочу просто определенности, в рамках своей реальности.'),\n",
              " (0.010635439239822284, 'Давайте начнем понемногу разбираться.'),\n",
              " (0.010565016511068009,\n",
              "  'Но если я вас правильно услышала, то больше всего вас тревожит именно неопределенность в решениях внутри семьи, отсутствие возможности договорится.'),\n",
              " (0.010515700819352826,\n",
              "  'Каждый раз с ним говорю, а он говорит ну хочешь поезжай в киев, я потом приеду.'),\n",
              " (0.010498694855243405, 'Да, но даже не сам факт начала.'),\n",
              " (0.010442765267659642,\n",
              "  'Просто хотелось чтобы кто-то услышал, помог мне немного разобраться в себе.'),\n",
              " (0.01042782841704527,\n",
              "  'Расскажите а как вы представляли вашу жизнь без отношений?'),\n",
              " (0.010318415840162883,\n",
              "  'Деньги немного есть, ээээ ну там на пару месяцев хватит, но нужно искать работу.'),\n",
              " (0.010294008218917152,\n",
              "  'Просто сейчас как будто это повторение -- поехали в киев, нет давай ждать, хочешь едь.'),\n",
              " (0.01021233892308984,\n",
              "  'Но полную определенность я чувствую только когда я сама себе хозяин.'),\n",
              " (0.010171486951569135,\n",
              "  'Расскажите какие эмоции вы испытываете от этой \"неопределенности\"?'),\n",
              " (0.0101341994173499,\n",
              "  'Я пытаюсь балансировать между личной ответственностью за свою собственную жизнь и умении договориться.'),\n",
              " (0.010012421978176167,\n",
              "  'Я и с другой стороны заходила типа смотри ты ждешь, а это влияет на меня.'),\n",
              " (0.01000057595707772,\n",
              "  'Ведь мне нравилось жить в том потоке, что происходил.'),\n",
              " (0.009993656073968947,\n",
              "  'Может конечно я свои переживания на него перекладываю, но блин в стране которую постоянно раздирают на части ничего хорошего ждать уже не приходится.'),\n",
              " (0.009914799606398232,\n",
              "  'Не пойму нужно учится на новую специальность или попытаться найти работу менеджером, как раньше?'),\n",
              " (0.009902834361441648, 'Давайте начнем разбираться вместе?'),\n",
              " (0.00986657512327912, 'Надеюсь, что наш разговор будет приятным и полезным.'),\n",
              " (0.009845514721397783, 'Сейчас я чувствую себя относительно в безопасности.'),\n",
              " (0.00984457308058606,\n",
              "  'Но у меня накопилось достаточно много всего и мне просто хотелось поговорить о том, что сейчас происходит с моей жизнью, ну много чего, конечно, как и у всех, все таки война, переезды, куча всего короче.'),\n",
              " (0.009831147424730622,\n",
              "  'Я реально уже думала что можно и начать инвестировать но блин, реально никогда не знаешь, теперь думаю что можно было и пол года назад параллельно с подушкой все делать, но так иногда радует что хоть стабильность в деньгах есть, я все таки смогла научиться управлять немного своими финансами.'),\n",
              " (0.009767490079561347, 'Добрый день, это моя первая консультация в жизни.'),\n",
              " (0.009611629498482524,\n",
              "  'Ольга, действительно сейчас многие проживают события к которым сложно быть готовым.'),\n",
              " (0.009582493115412642,\n",
              "  'Короче искать работу это мне вообще как настоящее испытание, ну и не думаю что без английского я кому-то нужна.'),\n",
              " (0.009209315926201517,\n",
              "  'Ну он постоянно все на последний момент откладывает, но раньше не было таких критический ситуаций и я могла подождать или делать что я хотела а там уже как было, или мы ссорились ну понятно что потом он принимал решение и позже мне было уже проще я реально никого не напрягала, а там просто все случалось, при чем он всегда понимал что поздно начал шевелится, но мне было даже смешно.'),\n",
              " (0.00908652364721106,\n",
              "  'и если бы муж помог мне и согласился бы на переезд уже было бы проще.'),\n",
              " (0.008986509411776252,\n",
              "  'Как домашнее задание я хочу дать вам возможность разобраться в своих эмоциях, понять что вы чувствуете, каждый раз когда у вас будет возникать ситуация, где муж будет затягивать с решением, даже если это маленькая бытовая ситуация -- вам нужно будет записывать в дневник ситуацию и свои эмоции.'),\n",
              " (0.008841232827341838,\n",
              "  'решение есть всегда, задайте себе вопрос: готовы ли брать ответственность за принятые решения на себя?'),\n",
              " (0.008737725415469313,\n",
              "  'Но и помощи от волонтеров больше есть и помощь с едой и вообще дома как то проще, здесь никого не знаю, но и знакомые если честно все уже разъехались и реально жизнь как с нуля.'),\n",
              " (0.008688609009454269,\n",
              "  'Пока живем в бесплатном жилье, но тоже непонятно надолго это, вообще нужно ли возвращаться, в Киеве хотя бы есть дом, родные стены, ну и удобства все под рукой, но я боюсь ходить по улице вижу везде эти новости про растяжки, бомбы в молоке.'),\n",
              " (0.008663864423396797,\n",
              "  'Но самым большим испытанием для вас является то, что необходимо начать все с нуля.'),\n",
              " (0.008641506729351415, 'От нас ничего не зависит.'),\n",
              " (0.008631768735582622,\n",
              "  'Да я так и не смогла этот английский выучить сколько уже ходила на курсы.'),\n",
              " (0.008208121882718923,\n",
              "  'А теперь читаю про блекауты, теории заговора, считаю остаток бюджета и на сколько мне хватит денег при разных условиях жизни, думаю нужно ли пытаюсь выделить деньги на английский, мне постоянно прилетают дополнительные расходы.'),\n",
              " (0.008177575390900941,\n",
              "  'Сейчас у вас нет основной работы для вас большой стресс искать новую, еще вы хотите вернуться в Киев, но не можете решить для себя стоит ли это сейчас делать, также вам хочется получить поддержку от мужа, но вы не можете получить той помощи на которую рассчитываете.'),\n",
              " (0.00815982873429496, 'короче куда все это девать в итоге?'),\n",
              " (0.007897226431546294,\n",
              "  'Ощущение, что теряешь время, которого и так постоянно мало, и параллельно же ничего не улучшается, тебе еще наваливается сверху, и нужно разгребать все одновременно.'),\n",
              " (0.007854740492200028,\n",
              "  'Каждая семья строит свои взаимоотношения, нет единственного верного решения, как правильно.'),\n",
              " (0.007814856058420756,\n",
              "  'хорошо, тогда мы определились с первым заданием и будем понемногу начинать понимать себя, спасибо за встречу.'),\n",
              " (0.007752033979516458,\n",
              "  'И на правительство мы влиять не можем, только свои решения принимать, ход войны поменять нереально.'),\n",
              " (0.00765433640912034,\n",
              "  'Хотя кому эти менеджеры нужны, ничего толком не работает, наверно повезло людям которые сохранили работу, прям как-то радостно за них.'),\n",
              " (0.007440405152280582,\n",
              "  'А ракета может прилететь куда угодно или не прилететь.'),\n",
              " (0.007344266103189935,\n",
              "  'Теряешь дом, нет людей рядом, начинаются долги, нет уверенности в своих силах, моложе не становишься, ну и вечная конкуренция потому что у людей еще есть запал, а тебе 35 и ты такой здрасьте, я хочу заявить о себе.'),\n",
              " (0.007311649720731482, 'Но ничего же не поменяется.'),\n",
              " (0.007290363375601561,\n",
              "  'Давайте выделим вопросы, которые я услышала и продолжим работу.'),\n",
              " (0.007098295325584557,\n",
              "  'Поэтому мне кажется тут у меня что-то вроде иммунитета.'),\n",
              " (0.006977114170832137, 'Расскажите о себе.'),\n",
              " (0.006783291860971329,\n",
              "  'Ольга, у нас с вами на сегодня назначена консультация.'),\n",
              " (0.00660847735187307,\n",
              "  'Расскажите с каким запросом вы пришли на нашу первую встречу?'),\n",
              " (0.006268409073697857, 'ну нет никаких а если бы.'),\n",
              " (0.006134842440106388, 'Добрый день, меня зовут Ирина.'),\n",
              " (0.006109996369200768,\n",
              "  'спасибо, реально интересно чего я вообще чувствую иногда кажется что уже ничего.'),\n",
              " (0.00579001822706987,\n",
              "  'Вот я жду например, что мы купим билеты и полетим куда-то на отдых, мы все равно покупаем и летим, но цена выше на этот самолет мы поссоримся сто раз, вот объясни в чем дело, я просто хочу понять.'),\n",
              " (0.00567998220800927,\n",
              "  'Наверно скорее всего нужно будет учить английский, вряд ли украинские компании сейчас смогут дать хорошую оплату, надо искать что-то онлайн, стабильное.'),\n",
              " (0.005654480759398792, 'Как вам такая идея?'),\n",
              " (0.005603760838320354, 'или останемся тут?'),\n",
              " (0.005010214290377188, 'Мы переехали из Киева на западную Украину.'),\n",
              " (0.004978602891512004,\n",
              "  'Ну и если реально готовится к блекауту, то нужно сделать закупку продуктов на месяц, а если мы вернемся обратно?'),\n",
              " (0.004448127291864629, 'верно?'),\n",
              " (0.004133116274804363,\n",
              "  'Хотя какое оно стабильное, надо открывать свое дело в интернете, может делать магазин с доставкой?')]"
            ]
          },
          "metadata": {},
          "execution_count": 67
        }
      ],
      "source": [
        "rank_sent"
      ]
    },
    {
      "cell_type": "code",
      "execution_count": null,
      "metadata": {
        "colab": {
          "base_uri": "https://localhost:8080/"
        },
        "id": "RGPMxx3VrlIb",
        "outputId": "c9098217-34a1-44e8-ea64-0702f4611b90"
      },
      "outputs": [
        {
          "output_type": "execute_result",
          "data": {
            "text/plain": [
              "list"
            ]
          },
          "metadata": {},
          "execution_count": 68
        }
      ],
      "source": [
        "type(rank_sent)"
      ]
    },
    {
      "cell_type": "code",
      "execution_count": null,
      "metadata": {
        "id": "zi61Kdm4ueS3"
      },
      "outputs": [],
      "source": [
        "rank_df = pd.DataFrame(rank_sent, columns=['rank', 'sent'])\n",
        "rank_df_cli  = pd.DataFrame(rank_sent_cli, columns=['rank', 'sent'])\n",
        "rank_df_psy  = pd.DataFrame(rank_sent_psy, columns=['rank', 'sent'])"
      ]
    },
    {
      "cell_type": "code",
      "execution_count": null,
      "metadata": {
        "colab": {
          "base_uri": "https://localhost:8080/"
        },
        "id": "AaJYf464xF5I",
        "outputId": "889fcb09-5fdd-4c65-f652-faf19e0380c0"
      },
      "outputs": [
        {
          "output_type": "stream",
          "name": "stderr",
          "text": [
            "/usr/local/lib/python3.7/dist-packages/ipykernel_launcher.py:2: FutureWarning: The default value of regex will change from True to False in a future version.\n",
            "  \n"
          ]
        }
      ],
      "source": [
        "rank_df['clean_sent'] = rank_df['sent'].apply(lambda x : ''.join([remove_stopwords(r.split()) for r in clean_sent(split_text2(x))]))\n",
        "rank_df_cli['clean_sent'] = rank_df_cli['sent'].apply(lambda x : ''.join([remove_stopwords(r.split()) for r in clean_sent(split_text2(x))]))\n",
        "rank_df_psy['clean_sent'] = rank_df_psy['sent'].apply(lambda x : ''.join([remove_stopwords(r.split()) for r in clean_sent(split_text2(x))]))\n"
      ]
    },
    {
      "cell_type": "code",
      "execution_count": null,
      "metadata": {
        "colab": {
          "base_uri": "https://localhost:8080/",
          "height": 572
        },
        "id": "WfftZZL3u70g",
        "outputId": "0278463a-8550-4c95-f86f-6d6c2de03547"
      },
      "outputs": [
        {
          "output_type": "execute_result",
          "data": {
            "text/plain": [
              "         rank  \\\n",
              "0    0.015280   \n",
              "1    0.014462   \n",
              "2    0.014435   \n",
              "3    0.014133   \n",
              "4    0.014124   \n",
              "..        ...   \n",
              "96   0.005604   \n",
              "97   0.005010   \n",
              "98   0.004979   \n",
              "99   0.004448   \n",
              "100  0.004133   \n",
              "\n",
              "                                                                                                                                   sent  \\\n",
              "0                                                            Такое впечатление что он хочет от меня избавится, типа я что напрягаю его?   \n",
              "1    Короче мне реально не понятно как вообще быть, я боюсь что-то снова начинать, потому что не понятно на долго или скоро закончится.   \n",
              "2                                                                                 Может я просто не понимаю что такое жить с партнером.   \n",
              "3                                                       меня эти затяжные штуки напрягают это точно, но вот так сказать что я чувствую?   \n",
              "4                                                                       Я реально хочу в Киев, мне там будет проще собраться с мыслями.   \n",
              "..                                                                                                                                  ...   \n",
              "96                                                                                                                   или останемся тут?   \n",
              "97                                                                                           Мы переехали из Киева на западную Украину.   \n",
              "98                     Ну и если реально готовится к блекауту, то нужно сделать закупку продуктов на месяц, а если мы вернемся обратно?   \n",
              "99                                                                                                                               верно?   \n",
              "100                                  Хотя какое оно стабильное, надо открывать свое дело в интернете, может делать магазин с доставкой?   \n",
              "\n",
              "                                                                      clean_sent  \n",
              "0                                   впечатление что хочет избавится что напрягаю  \n",
              "1          не понятно боюсь чтото начинать что не понятно долго скоро закончится  \n",
              "2                                                  не понимаю что жить партнером  \n",
              "3                                  затяжные штуки напрягают сказать что чувствую  \n",
              "4                                              хочу киев проще собраться мыслями  \n",
              "..                                                                           ...  \n",
              "96                                                                     останемся  \n",
              "97                                              переехали киева западную украину  \n",
              "98           готовится блекауту сделать закупку продуктов месяц вернемся обратно  \n",
              "99                                                                         верно  \n",
              "100  какое оно стабильное открывать свое дело интернете делать магазин доставкой  \n",
              "\n",
              "[101 rows x 3 columns]"
            ],
            "text/html": [
              "\n",
              "  <div id=\"df-ea205c17-e797-4ac0-a691-2379282f94ec\">\n",
              "    <div class=\"colab-df-container\">\n",
              "      <div>\n",
              "<style scoped>\n",
              "    .dataframe tbody tr th:only-of-type {\n",
              "        vertical-align: middle;\n",
              "    }\n",
              "\n",
              "    .dataframe tbody tr th {\n",
              "        vertical-align: top;\n",
              "    }\n",
              "\n",
              "    .dataframe thead th {\n",
              "        text-align: right;\n",
              "    }\n",
              "</style>\n",
              "<table border=\"1\" class=\"dataframe\">\n",
              "  <thead>\n",
              "    <tr style=\"text-align: right;\">\n",
              "      <th></th>\n",
              "      <th>rank</th>\n",
              "      <th>sent</th>\n",
              "      <th>clean_sent</th>\n",
              "    </tr>\n",
              "  </thead>\n",
              "  <tbody>\n",
              "    <tr>\n",
              "      <th>0</th>\n",
              "      <td>0.015280</td>\n",
              "      <td>Такое впечатление что он хочет от меня избавится, типа я что напрягаю его?</td>\n",
              "      <td>впечатление что хочет избавится что напрягаю</td>\n",
              "    </tr>\n",
              "    <tr>\n",
              "      <th>1</th>\n",
              "      <td>0.014462</td>\n",
              "      <td>Короче мне реально не понятно как вообще быть, я боюсь что-то снова начинать, потому что не понятно на долго или скоро закончится.</td>\n",
              "      <td>не понятно боюсь чтото начинать что не понятно долго скоро закончится</td>\n",
              "    </tr>\n",
              "    <tr>\n",
              "      <th>2</th>\n",
              "      <td>0.014435</td>\n",
              "      <td>Может я просто не понимаю что такое жить с партнером.</td>\n",
              "      <td>не понимаю что жить партнером</td>\n",
              "    </tr>\n",
              "    <tr>\n",
              "      <th>3</th>\n",
              "      <td>0.014133</td>\n",
              "      <td>меня эти затяжные штуки напрягают это точно, но вот так сказать что я чувствую?</td>\n",
              "      <td>затяжные штуки напрягают сказать что чувствую</td>\n",
              "    </tr>\n",
              "    <tr>\n",
              "      <th>4</th>\n",
              "      <td>0.014124</td>\n",
              "      <td>Я реально хочу в Киев, мне там будет проще собраться с мыслями.</td>\n",
              "      <td>хочу киев проще собраться мыслями</td>\n",
              "    </tr>\n",
              "    <tr>\n",
              "      <th>...</th>\n",
              "      <td>...</td>\n",
              "      <td>...</td>\n",
              "      <td>...</td>\n",
              "    </tr>\n",
              "    <tr>\n",
              "      <th>96</th>\n",
              "      <td>0.005604</td>\n",
              "      <td>или останемся тут?</td>\n",
              "      <td>останемся</td>\n",
              "    </tr>\n",
              "    <tr>\n",
              "      <th>97</th>\n",
              "      <td>0.005010</td>\n",
              "      <td>Мы переехали из Киева на западную Украину.</td>\n",
              "      <td>переехали киева западную украину</td>\n",
              "    </tr>\n",
              "    <tr>\n",
              "      <th>98</th>\n",
              "      <td>0.004979</td>\n",
              "      <td>Ну и если реально готовится к блекауту, то нужно сделать закупку продуктов на месяц, а если мы вернемся обратно?</td>\n",
              "      <td>готовится блекауту сделать закупку продуктов месяц вернемся обратно</td>\n",
              "    </tr>\n",
              "    <tr>\n",
              "      <th>99</th>\n",
              "      <td>0.004448</td>\n",
              "      <td>верно?</td>\n",
              "      <td>верно</td>\n",
              "    </tr>\n",
              "    <tr>\n",
              "      <th>100</th>\n",
              "      <td>0.004133</td>\n",
              "      <td>Хотя какое оно стабильное, надо открывать свое дело в интернете, может делать магазин с доставкой?</td>\n",
              "      <td>какое оно стабильное открывать свое дело интернете делать магазин доставкой</td>\n",
              "    </tr>\n",
              "  </tbody>\n",
              "</table>\n",
              "<p>101 rows × 3 columns</p>\n",
              "</div>\n",
              "      <button class=\"colab-df-convert\" onclick=\"convertToInteractive('df-ea205c17-e797-4ac0-a691-2379282f94ec')\"\n",
              "              title=\"Convert this dataframe to an interactive table.\"\n",
              "              style=\"display:none;\">\n",
              "        \n",
              "  <svg xmlns=\"http://www.w3.org/2000/svg\" height=\"24px\"viewBox=\"0 0 24 24\"\n",
              "       width=\"24px\">\n",
              "    <path d=\"M0 0h24v24H0V0z\" fill=\"none\"/>\n",
              "    <path d=\"M18.56 5.44l.94 2.06.94-2.06 2.06-.94-2.06-.94-.94-2.06-.94 2.06-2.06.94zm-11 1L8.5 8.5l.94-2.06 2.06-.94-2.06-.94L8.5 2.5l-.94 2.06-2.06.94zm10 10l.94 2.06.94-2.06 2.06-.94-2.06-.94-.94-2.06-.94 2.06-2.06.94z\"/><path d=\"M17.41 7.96l-1.37-1.37c-.4-.4-.92-.59-1.43-.59-.52 0-1.04.2-1.43.59L10.3 9.45l-7.72 7.72c-.78.78-.78 2.05 0 2.83L4 21.41c.39.39.9.59 1.41.59.51 0 1.02-.2 1.41-.59l7.78-7.78 2.81-2.81c.8-.78.8-2.07 0-2.86zM5.41 20L4 18.59l7.72-7.72 1.47 1.35L5.41 20z\"/>\n",
              "  </svg>\n",
              "      </button>\n",
              "      \n",
              "  <style>\n",
              "    .colab-df-container {\n",
              "      display:flex;\n",
              "      flex-wrap:wrap;\n",
              "      gap: 12px;\n",
              "    }\n",
              "\n",
              "    .colab-df-convert {\n",
              "      background-color: #E8F0FE;\n",
              "      border: none;\n",
              "      border-radius: 50%;\n",
              "      cursor: pointer;\n",
              "      display: none;\n",
              "      fill: #1967D2;\n",
              "      height: 32px;\n",
              "      padding: 0 0 0 0;\n",
              "      width: 32px;\n",
              "    }\n",
              "\n",
              "    .colab-df-convert:hover {\n",
              "      background-color: #E2EBFA;\n",
              "      box-shadow: 0px 1px 2px rgba(60, 64, 67, 0.3), 0px 1px 3px 1px rgba(60, 64, 67, 0.15);\n",
              "      fill: #174EA6;\n",
              "    }\n",
              "\n",
              "    [theme=dark] .colab-df-convert {\n",
              "      background-color: #3B4455;\n",
              "      fill: #D2E3FC;\n",
              "    }\n",
              "\n",
              "    [theme=dark] .colab-df-convert:hover {\n",
              "      background-color: #434B5C;\n",
              "      box-shadow: 0px 1px 3px 1px rgba(0, 0, 0, 0.15);\n",
              "      filter: drop-shadow(0px 1px 2px rgba(0, 0, 0, 0.3));\n",
              "      fill: #FFFFFF;\n",
              "    }\n",
              "  </style>\n",
              "\n",
              "      <script>\n",
              "        const buttonEl =\n",
              "          document.querySelector('#df-ea205c17-e797-4ac0-a691-2379282f94ec button.colab-df-convert');\n",
              "        buttonEl.style.display =\n",
              "          google.colab.kernel.accessAllowed ? 'block' : 'none';\n",
              "\n",
              "        async function convertToInteractive(key) {\n",
              "          const element = document.querySelector('#df-ea205c17-e797-4ac0-a691-2379282f94ec');\n",
              "          const dataTable =\n",
              "            await google.colab.kernel.invokeFunction('convertToInteractive',\n",
              "                                                     [key], {});\n",
              "          if (!dataTable) return;\n",
              "\n",
              "          const docLinkHtml = 'Like what you see? Visit the ' +\n",
              "            '<a target=\"_blank\" href=https://colab.research.google.com/notebooks/data_table.ipynb>data table notebook</a>'\n",
              "            + ' to learn more about interactive tables.';\n",
              "          element.innerHTML = '';\n",
              "          dataTable['output_type'] = 'display_data';\n",
              "          await google.colab.output.renderOutput(dataTable, element);\n",
              "          const docLink = document.createElement('div');\n",
              "          docLink.innerHTML = docLinkHtml;\n",
              "          element.appendChild(docLink);\n",
              "        }\n",
              "      </script>\n",
              "    </div>\n",
              "  </div>\n",
              "  "
            ]
          },
          "metadata": {},
          "execution_count": 71
        }
      ],
      "source": [
        "rank_df"
      ]
    },
    {
      "cell_type": "code",
      "execution_count": null,
      "metadata": {
        "colab": {
          "base_uri": "https://localhost:8080/",
          "height": 281
        },
        "id": "mUE7YKETt5v4",
        "outputId": "cee5e099-c9ee-4bdb-e011-115c751763a3"
      },
      "outputs": [
        {
          "output_type": "display_data",
          "data": {
            "text/plain": [
              "<Figure size 432x288 with 2 Axes>"
            ],
            "image/png": "[encoded data removed]"
          },
          "metadata": {
            "needs_background": "light"
          }
        }
      ],
      "source": [
        "text_word_count = []\n",
        "summary_word_count = []\n",
        "\n",
        "for i in rank_df['sent']:\n",
        "      text_word_count.append(len(i.split()))\n",
        "\n",
        "for i in rank_df['clean_sent']:\n",
        "      summary_word_count.append(len(i.split()))\n",
        "\n",
        "length_df = pd.DataFrame({'sentences':text_word_count, 'cleaned sentences':summary_word_count})\n",
        "length_df.hist(bins = 30)\n",
        "plt.show()"
      ]
    },
    {
      "cell_type": "markdown",
      "metadata": {
        "id": "bkFS9N5C48CI"
      },
      "source": [
        "# Paraphrasing\n"
      ]
    },
    {
      "cell_type": "markdown",
      "metadata": {
        "id": "JWeyODYy861u"
      },
      "source": [
        "## GPT3 paraphraser\n",
        "[The library](https://github.com/RussianNLP/russian_paraphrasers) for Russian paraphrase generation trained on data\n",
        "\n",
        "### rugpt3large_based_on_gpt2\n",
        "\n",
        "[Model](https://huggingface.co/sberbank-ai/rugpt3large_based_on_gpt2) was trained with sequence length 1024 using transformers lib by SberDevices team on 80B tokens for 3 epochs. After that model was finetuned 1 epoch with sequence length 2048.\n",
        "\n",
        "Total training time was around 14 days on 128 GPUs for 1024 context and few days on 16 GPUs for 2048 context.\n",
        "Final perplexity on test set is 13.6."
      ]
    },
    {
      "cell_type": "code",
      "execution_count": null,
      "metadata": {
        "colab": {
          "base_uri": "https://localhost:8080/"
        },
        "id": "gD6pfHul5EWQ",
        "outputId": "10d12e1a-e630-4341-a96e-06ac8cdeb35b"
      },
      "outputs": [
        {
          "name": "stdout",
          "output_type": "stream",
          "text": [
            "Requirement already satisfied: pip in /usr/local/lib/python3.7/dist-packages (21.1.3)\n",
            "Collecting pip\n",
            "  Downloading pip-22.0.4-py3-none-any.whl (2.1 MB)\n",
            "\u001b[K     |████████████████████████████████| 2.1 MB 5.0 MB/s \n",
            "\u001b[?25hInstalling collected packages: pip\n",
            "  Attempting uninstall: pip\n",
            "    Found existing installation: pip 21.1.3\n",
            "    Uninstalling pip-21.1.3:\n",
            "      Successfully uninstalled pip-21.1.3\n",
            "Successfully installed pip-22.0.4\n",
            "\u001b[31mERROR: Could not open requirements file: [Errno 2] No such file or directory: 'requirements.txt'\u001b[0m\u001b[31m\n",
            "\u001b[0mRequirement already satisfied: russian_paraphrasers in /usr/local/lib/python3.7/dist-packages (0.0.3)\n",
            "Requirement already satisfied: scipy in /usr/local/lib/python3.7/dist-packages (from russian_paraphrasers) (1.4.1)\n",
            "Requirement already satisfied: transformers>=4.0.1 in /usr/local/lib/python3.7/dist-packages (from russian_paraphrasers) (4.18.0)\n",
            "Requirement already satisfied: nltk in /usr/local/lib/python3.7/dist-packages (from russian_paraphrasers) (3.2.5)\n",
            "Requirement already satisfied: sentence-transformers==0.4.0 in /usr/local/lib/python3.7/dist-packages (from russian_paraphrasers) (0.4.0)\n",
            "Requirement already satisfied: scikit-learn in /usr/local/lib/python3.7/dist-packages (from sentence-transformers==0.4.0->russian_paraphrasers) (1.0.2)\n",
            "Requirement already satisfied: tqdm in /usr/local/lib/python3.7/dist-packages (from sentence-transformers==0.4.0->russian_paraphrasers) (4.64.0)\n",
            "Requirement already satisfied: numpy in /usr/local/lib/python3.7/dist-packages (from sentence-transformers==0.4.0->russian_paraphrasers) (1.21.6)\n",
            "Requirement already satisfied: sentencepiece in /usr/local/lib/python3.7/dist-packages (from sentence-transformers==0.4.0->russian_paraphrasers) (0.1.96)\n",
            "Requirement already satisfied: torch>=1.6.0 in /usr/local/lib/python3.7/dist-packages (from sentence-transformers==0.4.0->russian_paraphrasers) (1.11.0+cu113)\n",
            "Requirement already satisfied: pyyaml>=5.1 in /usr/local/lib/python3.7/dist-packages (from transformers>=4.0.1->russian_paraphrasers) (6.0)\n",
            "Requirement already satisfied: sacremoses in /usr/local/lib/python3.7/dist-packages (from transformers>=4.0.1->russian_paraphrasers) (0.0.53)\n",
            "Requirement already satisfied: huggingface-hub<1.0,>=0.1.0 in /usr/local/lib/python3.7/dist-packages (from transformers>=4.0.1->russian_paraphrasers) (0.5.1)\n",
            "Requirement already satisfied: regex!=2019.12.17 in /usr/local/lib/python3.7/dist-packages (from transformers>=4.0.1->russian_paraphrasers) (2019.12.20)\n",
            "Requirement already satisfied: importlib-metadata in /usr/local/lib/python3.7/dist-packages (from transformers>=4.0.1->russian_paraphrasers) (4.11.3)\n",
            "Requirement already satisfied: tokenizers!=0.11.3,<0.13,>=0.11.1 in /usr/local/lib/python3.7/dist-packages (from transformers>=4.0.1->russian_paraphrasers) (0.12.1)\n",
            "Requirement already satisfied: requests in /usr/local/lib/python3.7/dist-packages (from transformers>=4.0.1->russian_paraphrasers) (2.23.0)\n",
            "Requirement already satisfied: packaging>=20.0 in /usr/local/lib/python3.7/dist-packages (from transformers>=4.0.1->russian_paraphrasers) (21.3)\n",
            "Requirement already satisfied: filelock in /usr/local/lib/python3.7/dist-packages (from transformers>=4.0.1->russian_paraphrasers) (3.6.0)\n",
            "Requirement already satisfied: six in /usr/local/lib/python3.7/dist-packages (from nltk->russian_paraphrasers) (1.15.0)\n",
            "Requirement already satisfied: typing-extensions>=3.7.4.3 in /usr/local/lib/python3.7/dist-packages (from huggingface-hub<1.0,>=0.1.0->transformers>=4.0.1->russian_paraphrasers) (4.2.0)\n",
            "Requirement already satisfied: pyparsing!=3.0.5,>=2.0.2 in /usr/local/lib/python3.7/dist-packages (from packaging>=20.0->transformers>=4.0.1->russian_paraphrasers) (3.0.8)\n",
            "Requirement already satisfied: zipp>=0.5 in /usr/local/lib/python3.7/dist-packages (from importlib-metadata->transformers>=4.0.1->russian_paraphrasers) (3.8.0)\n",
            "Requirement already satisfied: certifi>=2017.4.17 in /usr/local/lib/python3.7/dist-packages (from requests->transformers>=4.0.1->russian_paraphrasers) (2021.10.8)\n",
            "Requirement already satisfied: idna<3,>=2.5 in /usr/local/lib/python3.7/dist-packages (from requests->transformers>=4.0.1->russian_paraphrasers) (2.10)\n",
            "Requirement already satisfied: urllib3!=1.25.0,!=1.25.1,<1.26,>=1.21.1 in /usr/local/lib/python3.7/dist-packages (from requests->transformers>=4.0.1->russian_paraphrasers) (1.24.3)\n",
            "Requirement already satisfied: chardet<4,>=3.0.2 in /usr/local/lib/python3.7/dist-packages (from requests->transformers>=4.0.1->russian_paraphrasers) (3.0.4)\n",
            "Requirement already satisfied: click in /usr/local/lib/python3.7/dist-packages (from sacremoses->transformers>=4.0.1->russian_paraphrasers) (7.1.2)\n",
            "Requirement already satisfied: joblib in /usr/local/lib/python3.7/dist-packages (from sacremoses->transformers>=4.0.1->russian_paraphrasers) (1.1.0)\n",
            "Requirement already satisfied: threadpoolctl>=2.0.0 in /usr/local/lib/python3.7/dist-packages (from scikit-learn->sentence-transformers==0.4.0->russian_paraphrasers) (3.1.0)\n",
            "\u001b[33mWARNING: Running pip as the 'root' user can result in broken permissions and conflicting behaviour with the system package manager. It is recommended to use a virtual environment instead: https://pip.pypa.io/warnings/venv\u001b[0m\u001b[33m\n",
            "\u001b[0m"
          ]
        }
      ],
      "source": [
        "!pip install --upgrade pip\n",
        "!pip install -r requirements.txt\n",
        "!pip install russian_paraphrasers"
      ]
    },
    {
      "cell_type": "code",
      "execution_count": null,
      "metadata": {
        "colab": {
          "base_uri": "https://localhost:8080/",
          "height": 1000
        },
        "id": "jKZBwWiD5OEm",
        "outputId": "2dd4ab11-090e-4803-bd3c-2163f51f2761"
      },
      "outputs": [
        {
          "name": "stdout",
          "output_type": "stream",
          "text": [
            "Collecting git+https://github.com/RussianNLP/russian_paraphrasers@master\n",
            "  Cloning https://github.com/RussianNLP/russian_paraphrasers (to revision master) to /tmp/pip-req-build-h2ubj2cu\n",
            "  Running command git clone --filter=blob:none --quiet https://github.com/RussianNLP/russian_paraphrasers /tmp/pip-req-build-h2ubj2cu\n",
            "  Resolved https://github.com/RussianNLP/russian_paraphrasers to commit 8056005656cfa09215d84ed322a3e9f99f401097\n",
            "  Preparing metadata (setup.py) ... \u001b[?25l\u001b[?25hdone\n",
            "Collecting nlg-eval@ git+https://github.com/Maluuba/nlg-eval.git@master\n",
            "  Cloning https://github.com/Maluuba/nlg-eval.git (to revision master) to /tmp/pip-install-46r3028w/nlg-eval_3b3c4dd672394093b3d9bd80c47a8337\n",
            "  Running command git clone --filter=blob:none --quiet https://github.com/Maluuba/nlg-eval.git /tmp/pip-install-46r3028w/nlg-eval_3b3c4dd672394093b3d9bd80c47a8337\n",
            "  Resolved https://github.com/Maluuba/nlg-eval.git to commit 7f7993035a2f4729a15d20040fd904933ea58767\n",
            "  Preparing metadata (setup.py) ... \u001b[?25l\u001b[?25hdone\n",
            "Requirement already satisfied: nltk in /usr/local/lib/python3.7/dist-packages (from russian-paraphrasers==0.0.3) (3.2.5)\n",
            "Requirement already satisfied: scipy in /usr/local/lib/python3.7/dist-packages (from russian-paraphrasers==0.0.3) (1.4.1)\n",
            "Requirement already satisfied: transformers>=4.0.1 in /usr/local/lib/python3.7/dist-packages (from russian-paraphrasers==0.0.3) (4.18.0)\n",
            "Requirement already satisfied: sentence-transformers==0.4.0 in /usr/local/lib/python3.7/dist-packages (from russian-paraphrasers==0.0.3) (0.4.0)\n",
            "Requirement already satisfied: numpy in /usr/local/lib/python3.7/dist-packages (from sentence-transformers==0.4.0->russian-paraphrasers==0.0.3) (1.21.6)\n",
            "Requirement already satisfied: tqdm in /usr/local/lib/python3.7/dist-packages (from sentence-transformers==0.4.0->russian-paraphrasers==0.0.3) (4.64.0)\n",
            "Requirement already satisfied: torch>=1.6.0 in /usr/local/lib/python3.7/dist-packages (from sentence-transformers==0.4.0->russian-paraphrasers==0.0.3) (1.11.0+cu113)\n",
            "Requirement already satisfied: sentencepiece in /usr/local/lib/python3.7/dist-packages (from sentence-transformers==0.4.0->russian-paraphrasers==0.0.3) (0.1.96)\n",
            "Requirement already satisfied: scikit-learn in /usr/local/lib/python3.7/dist-packages (from sentence-transformers==0.4.0->russian-paraphrasers==0.0.3) (1.0.2)\n",
            "Requirement already satisfied: requests in /usr/local/lib/python3.7/dist-packages (from transformers>=4.0.1->russian-paraphrasers==0.0.3) (2.23.0)\n",
            "Requirement already satisfied: packaging>=20.0 in /usr/local/lib/python3.7/dist-packages (from transformers>=4.0.1->russian-paraphrasers==0.0.3) (21.3)\n",
            "Requirement already satisfied: regex!=2019.12.17 in /usr/local/lib/python3.7/dist-packages (from transformers>=4.0.1->russian-paraphrasers==0.0.3) (2019.12.20)\n",
            "Requirement already satisfied: pyyaml>=5.1 in /usr/local/lib/python3.7/dist-packages (from transformers>=4.0.1->russian-paraphrasers==0.0.3) (6.0)\n",
            "Requirement already satisfied: sacremoses in /usr/local/lib/python3.7/dist-packages (from transformers>=4.0.1->russian-paraphrasers==0.0.3) (0.0.53)\n",
            "Requirement already satisfied: tokenizers!=0.11.3,<0.13,>=0.11.1 in /usr/local/lib/python3.7/dist-packages (from transformers>=4.0.1->russian-paraphrasers==0.0.3) (0.12.1)\n",
            "Requirement already satisfied: importlib-metadata in /usr/local/lib/python3.7/dist-packages (from transformers>=4.0.1->russian-paraphrasers==0.0.3) (4.11.3)\n",
            "Requirement already satisfied: huggingface-hub<1.0,>=0.1.0 in /usr/local/lib/python3.7/dist-packages (from transformers>=4.0.1->russian-paraphrasers==0.0.3) (0.5.1)\n",
            "Requirement already satisfied: filelock in /usr/local/lib/python3.7/dist-packages (from transformers>=4.0.1->russian-paraphrasers==0.0.3) (3.6.0)\n",
            "Collecting nltk\n",
            "  Downloading nltk-3.7-py3-none-any.whl (1.5 MB)\n",
            "\u001b[2K     \u001b[90m━━━━━━━━━━━━━━━━━━━━━━━━━━━━━━━━━━━━━━━━\u001b[0m \u001b[32m1.5/1.5 MB\u001b[0m \u001b[31m17.3 MB/s\u001b[0m eta \u001b[36m0:00:00\u001b[0m\n",
            "\u001b[?25hCollecting psutil>=5.6.2\n",
            "  Downloading psutil-5.9.0-cp37-cp37m-manylinux_2_12_x86_64.manylinux2010_x86_64.manylinux_2_17_x86_64.manylinux2014_x86_64.whl (280 kB)\n",
            "\u001b[2K     \u001b[90m━━━━━━━━━━━━━━━━━━━━━━━━━━━━━━━━━━━━━━━\u001b[0m \u001b[32m280.7/280.7 KB\u001b[0m \u001b[31m7.2 MB/s\u001b[0m eta \u001b[36m0:00:00\u001b[0m\n",
            "\u001b[?25hRequirement already satisfied: six>=1.11 in /usr/local/lib/python3.7/dist-packages (from nlg-eval@ git+https://github.com/Maluuba/nlg-eval.git@master->russian-paraphrasers==0.0.3) (1.15.0)\n",
            "Requirement already satisfied: Cython>=0.28.5 in /usr/local/lib/python3.7/dist-packages (from nlg-eval@ git+https://github.com/Maluuba/nlg-eval.git@master->russian-paraphrasers==0.0.3) (0.29.28)\n",
            "Collecting gensim~=3.8.3\n",
            "  Downloading gensim-3.8.3-cp37-cp37m-manylinux1_x86_64.whl (24.2 MB)\n",
            "\u001b[2K     \u001b[90m━━━━━━━━━━━━━━━━━━━━━━━━━━━━━━━━━━━━━━━━\u001b[0m \u001b[32m24.2/24.2 MB\u001b[0m \u001b[31m10.4 MB/s\u001b[0m eta \u001b[36m0:00:00\u001b[0m\n",
            "\u001b[?25hCollecting Theano>=0.8.1\n",
            "  Downloading Theano-1.0.5.tar.gz (2.8 MB)\n",
            "\u001b[2K     \u001b[90m━━━━━━━━━━━━━━━━━━━━━━━━━━━━━━━━━━━━━━━━\u001b[0m \u001b[32m2.8/2.8 MB\u001b[0m \u001b[31m49.6 MB/s\u001b[0m eta \u001b[36m0:00:00\u001b[0m\n",
            "\u001b[?25h  Preparing metadata (setup.py) ... \u001b[?25l\u001b[?25hdone\n",
            "Collecting xdg\n",
            "  Downloading xdg-5.1.1-py3-none-any.whl (5.0 kB)\n",
            "Collecting regex!=2019.12.17\n",
            "  Downloading regex-2022.4.24-cp37-cp37m-manylinux_2_17_x86_64.manylinux2014_x86_64.whl (749 kB)\n",
            "\u001b[2K     \u001b[90m━━━━━━━━━━━━━━━━━━━━━━━━━━━━━━━━━━━━━━\u001b[0m \u001b[32m749.7/749.7 KB\u001b[0m \u001b[31m25.3 MB/s\u001b[0m eta \u001b[36m0:00:00\u001b[0m\n",
            "\u001b[?25hRequirement already satisfied: click in /usr/local/lib/python3.7/dist-packages (from nltk->russian-paraphrasers==0.0.3) (7.1.2)\n",
            "Requirement already satisfied: joblib in /usr/local/lib/python3.7/dist-packages (from nltk->russian-paraphrasers==0.0.3) (1.1.0)\n",
            "Requirement already satisfied: smart-open>=1.8.1 in /usr/local/lib/python3.7/dist-packages (from gensim~=3.8.3->nlg-eval@ git+https://github.com/Maluuba/nlg-eval.git@master->russian-paraphrasers==0.0.3) (6.0.0)\n",
            "Requirement already satisfied: typing-extensions>=3.7.4.3 in /usr/local/lib/python3.7/dist-packages (from huggingface-hub<1.0,>=0.1.0->transformers>=4.0.1->russian-paraphrasers==0.0.3) (4.2.0)\n",
            "Requirement already satisfied: pyparsing!=3.0.5,>=2.0.2 in /usr/local/lib/python3.7/dist-packages (from packaging>=20.0->transformers>=4.0.1->russian-paraphrasers==0.0.3) (3.0.8)\n",
            "Requirement already satisfied: urllib3!=1.25.0,!=1.25.1,<1.26,>=1.21.1 in /usr/local/lib/python3.7/dist-packages (from requests->transformers>=4.0.1->russian-paraphrasers==0.0.3) (1.24.3)\n",
            "Requirement already satisfied: chardet<4,>=3.0.2 in /usr/local/lib/python3.7/dist-packages (from requests->transformers>=4.0.1->russian-paraphrasers==0.0.3) (3.0.4)\n",
            "Requirement already satisfied: certifi>=2017.4.17 in /usr/local/lib/python3.7/dist-packages (from requests->transformers>=4.0.1->russian-paraphrasers==0.0.3) (2021.10.8)\n",
            "Requirement already satisfied: idna<3,>=2.5 in /usr/local/lib/python3.7/dist-packages (from requests->transformers>=4.0.1->russian-paraphrasers==0.0.3) (2.10)\n",
            "Requirement already satisfied: threadpoolctl>=2.0.0 in /usr/local/lib/python3.7/dist-packages (from scikit-learn->sentence-transformers==0.4.0->russian-paraphrasers==0.0.3) (3.1.0)\n",
            "Requirement already satisfied: zipp>=0.5 in /usr/local/lib/python3.7/dist-packages (from importlib-metadata->transformers>=4.0.1->russian-paraphrasers==0.0.3) (3.8.0)\n",
            "Building wheels for collected packages: nlg-eval, Theano\n",
            "  Building wheel for nlg-eval (setup.py) ... \u001b[?25l\u001b[?25hdone\n",
            "  Created wheel for nlg-eval: filename=nlg_eval-2.3-py3-none-any.whl size=68175165 sha256=22e4bba209719c906a58a9c99a5634fb8a27c87ab025635b414db6555308e76e\n",
            "  Stored in directory: /tmp/pip-ephem-wheel-cache-nh0_r94x/wheels/08/20/df/33ced66932f198c4323042d18ff1c2db9b9716369f0de4afb4\n",
            "  Building wheel for Theano (setup.py) ... \u001b[?25l\u001b[?25hdone\n",
            "  Created wheel for Theano: filename=Theano-1.0.5-py3-none-any.whl size=2668111 sha256=2524408c1a581767493ead3113e1539291952d68e1b477b4cbc41c76be178640\n",
            "  Stored in directory: /root/.cache/pip/wheels/26/68/6f/745330367ce7822fe0cd863712858151f5723a0a5e322cc144\n",
            "Successfully built nlg-eval Theano\n",
            "Installing collected packages: xdg, regex, psutil, Theano, nltk, gensim, nlg-eval\n",
            "  Attempting uninstall: regex\n",
            "    Found existing installation: regex 2019.12.20\n",
            "    Uninstalling regex-2019.12.20:\n",
            "      Successfully uninstalled regex-2019.12.20\n",
            "  Attempting uninstall: psutil\n",
            "    Found existing installation: psutil 5.4.8\n",
            "    Uninstalling psutil-5.4.8:\n",
            "      Successfully uninstalled psutil-5.4.8\n",
            "  Attempting uninstall: nltk\n",
            "    Found existing installation: nltk 3.2.5\n",
            "    Uninstalling nltk-3.2.5:\n",
            "      Successfully uninstalled nltk-3.2.5\n",
            "  Attempting uninstall: gensim\n",
            "    Found existing installation: gensim 3.6.0\n",
            "    Uninstalling gensim-3.6.0:\n",
            "      Successfully uninstalled gensim-3.6.0\n",
            "Successfully installed Theano-1.0.5 gensim-3.8.3 nlg-eval-2.3 nltk-3.7 psutil-5.9.0 regex-2022.4.24 xdg-5.1.1\n",
            "\u001b[33mWARNING: Running pip as the 'root' user can result in broken permissions and conflicting behaviour with the system package manager. It is recommended to use a virtual environment instead: https://pip.pypa.io/warnings/venv\u001b[0m\u001b[33m\n",
            "\u001b[0m"
          ]
        },
        {
          "data": {
            "application/vnd.colab-display-data+json": {
              "pip_warning": {
                "packages": [
                  "nltk",
                  "psutil",
                  "regex"
                ]
              }
            }
          },
          "metadata": {},
          "output_type": "display_data"
        }
      ],
      "source": [
        "!pip install git+https://github.com/RussianNLP/russian_paraphrasers@master"
      ]
    },
    {
      "cell_type": "code",
      "execution_count": null,
      "metadata": {
        "id": "zPv82qVT4-S4"
      },
      "outputs": [],
      "source": [
        "from russian_paraphrasers import GPTParaphraser\n",
        "\n",
        "paraphraser = GPTParaphraser(model_name=\"gpt3\", range_cand=False, make_eval=False)"
      ]
    },
    {
      "cell_type": "code",
      "execution_count": null,
      "metadata": {
        "colab": {
          "base_uri": "https://localhost:8080/"
        },
        "id": "v_Y3S6MH8UgI",
        "outputId": "efa1a023-d48a-4675-d187-805d0f0319a0"
      },
      "outputs": [
        {
          "name": "stderr",
          "output_type": "stream",
          "text": [
            "Setting `pad_token_id` to `eos_token_id`:50256 for open-end generation.\n"
          ]
        },
        {
          "data": {
            "text/plain": [
              "{'origin': 'Может конечно я свои переживания на него перекладываю, но блин в стране которую постоянно раздирают на части ничего хорошего ждать уже не приходится.',\n",
              " 'results': [{'predictions': ['Я бы с удовольствием ее сменила если б могла хоть часть вины за это переложить.']}]}"
            ]
          },
          "execution_count": 46,
          "metadata": {},
          "output_type": "execute_result"
        }
      ],
      "source": [
        "p = paraphraser.generate(rank_df['sent'][4], n=1, top_k=4, max_length=100, repetition_penalty=1.5)\n",
        "p"
      ]
    },
    {
      "cell_type": "code",
      "execution_count": null,
      "metadata": {
        "colab": {
          "base_uri": "https://localhost:8080/"
        },
        "id": "Y8xc8bcX6DmD",
        "outputId": "0c5d4dff-ef57-443d-e5ae-e7459e06abd4"
      },
      "outputs": [
        {
          "name": "stderr",
          "output_type": "stream",
          "text": [
            "Setting `pad_token_id` to `eos_token_id`:50256 for open-end generation.\n"
          ]
        },
        {
          "data": {
            "text/plain": [
              "{'origin': 'впечатление что хочет избавится что напрягаю',\n",
              " 'results': [{'predictions': ['впечатление, будто бы пытается избавиться от чего то тяжелого и напряженного в моей жизни?']}]}"
            ]
          },
          "execution_count": 47,
          "metadata": {},
          "output_type": "execute_result"
        }
      ],
      "source": [
        "paraphraser.generate(rank_df['clean_sent'][0], n=1, top_k=4, max_length=50, repetition_penalty=1.5)"
      ]
    },
    {
      "cell_type": "code",
      "execution_count": null,
      "metadata": {
        "colab": {
          "background_save": true,
          "base_uri": "https://localhost:8080/"
        },
        "id": "F4L2e77kCqxj",
        "outputId": "17c88f6e-8ee7-4c2b-d037-dd81efe81500"
      },
      "outputs": [
        {
          "name": "stderr",
          "output_type": "stream",
          "text": [
            "Setting `pad_token_id` to `eos_token_id`:50256 for open-end generation.\n"
          ]
        },
        {
          "data": {
            "text/plain": [
              "{'origin': 'что происходит вами не никого ждать',\n",
              " 'results': [{'predictions': ['что случается с теми кто вас ждёт ответьте на вопрос тест ответы.заранее спасибо..td&gt',\n",
              "    'происходить с тобой совершенно ни к чему никому из нас правда же ведь так дорогая моя ты в порядке родная всё хорошо однако знаешь почему да милая ну расскажи мне чего тебе хочется на самом деле',\n",
              "    'с тобой происходить ничего необычного но тебе можно верить потому что это твоя тайна и никому больше ты об этом рассказывать права нетеипически нет да если только он сам этого захочет ведь теб',\n",
              "    'с тобой происходящее происходить потому что ты никому ничего плохого ни сделала а тебе все верят и говорят при этом чего никогда раньше небыло у тебя так ведь дорогая мой цветочек сладкий моя девочка хороша',\n",
              "    'ничего с тобой происходить нормально ты в порядке окей так что все будет хорошо понимаешь о чем я говорю а то будешь потом жалеть об упущенной возможности да детка дорогая моя потому как у теб']}]}"
            ]
          },
          "execution_count": null,
          "metadata": {},
          "output_type": "execute_result"
        }
      ],
      "source": [
        "paraphraser.generate(rank_df['clean_sent'][1], n=5, top_k=10, max_length=35, repetition_penalty=2.5)"
      ]
    },
    {
      "cell_type": "markdown",
      "metadata": {
        "id": "J-rKyywSDxj5"
      },
      "source": [
        "*The model performs poorly if max_length < 50, as shown below:*"
      ]
    },
    {
      "cell_type": "code",
      "execution_count": null,
      "metadata": {
        "colab": {
          "base_uri": "https://localhost:8080/"
        },
        "id": "cYl3hGdEDpUP",
        "outputId": "0f9ef062-2361-49b8-dd98-80019721af0c"
      },
      "outputs": [
        {
          "name": "stderr",
          "output_type": "stream",
          "text": [
            "Setting `pad_token_id` to `eos_token_id`:50256 for open-end generation.\n"
          ]
        },
        {
          "data": {
            "text/plain": [
              "{'origin': 'что происходит вами не никого ждать',\n",
              " 'results': [{'predictions': ['с тобой никто ни кого здесь уж',\n",
              "    'что с тобой происходить друг мой т',\n",
              "    'происходить с тобой здесь ни кого уж',\n",
              "    'ты можешь пойти куда угодно и ожидат',\n",
              "    'что вы будете делать когда вас никт']}]}"
            ]
          },
          "execution_count": 52,
          "metadata": {},
          "output_type": "execute_result"
        }
      ],
      "source": [
        "paraphraser.generate(rank_df['clean_sent'][1], n=5, top_k=10, max_length=20, repetition_penalty=2.5)"
      ]
    },
    {
      "cell_type": "code",
      "execution_count": null,
      "metadata": {
        "id": "66QxNDIUKqy-"
      },
      "outputs": [],
      "source": [
        "def extract_res_gpt2_paraphraser(sent, len, samples = 1):\n",
        "  p = paraphraser.generate(sent, n=samples, top_k=4, max_length=len, repetition_penalty=1.5)\n",
        "  return p['results'][0]['predictions']"
      ]
    },
    {
      "cell_type": "code",
      "execution_count": null,
      "metadata": {
        "colab": {
          "base_uri": "https://localhost:8080/"
        },
        "id": "9Q2DQPnsLfrK",
        "outputId": "e4c321da-02d6-45cf-fa8f-f55bd6de3a87"
      },
      "outputs": [
        {
          "name": "stderr",
          "output_type": "stream",
          "text": [
            "Setting `pad_token_id` to `eos_token_id`:50256 for open-end generation.\n"
          ]
        },
        {
          "data": {
            "text/plain": [
              "['я только сейчас заметил насколько там всё погано когда их много',\n",
              " 'я не знал об этом раньше потому как никогда их прежде них']"
            ]
          },
          "execution_count": 53,
          "metadata": {},
          "output_type": "execute_result"
        }
      ],
      "source": [
        "extract_res_gpt2_paraphraser('я просто знаю что они бывают и мне уже изначально плохо', 50, samples = 2)"
      ]
    },
    {
      "cell_type": "markdown",
      "metadata": {
        "id": "OiovG_k-MMVG"
      },
      "source": [
        "*Conclusion: As we can see, the model changes a bit the context of sentenses, therefore it can lead to inaccurate summaries*"
      ]
    },
    {
      "cell_type": "markdown",
      "metadata": {
        "id": "8X_WWu219RLk"
      },
      "source": [
        "## RUT5-base-paraphraser\n",
        "A [paraphraser](https://huggingface.co/cointegrated/rut5-base-paraphraser?text=%D0%B7%D0%BD%D0%B0%D1%8E+%D1%87%D1%82%D0%BE+%D0%B1%D1%8B%D0%B2%D0%B0%D1%8E%D1%82+%D0%B8%D0%B7%D0%BD%D0%B0%D1%87%D0%B0%D0%BB%D1%8C%D0%BD%D0%BE+%D0%BF%D0%BB%D0%BE%D1%85%D0%BE+%D0%B6%D0%B8%D0%B2%D1%83+%D0%B1%D0%BE%D0%BC%D0%B1%D0%BE%D0%B9+%D1%87%D0%B0%D1%81%D0%BE%D0%B2%D1%8B%D0%BC+%D0%BC%D0%B5%D1%85%D0%B0%D0%BD%D0%B8%D0%B7%D0%BC%D0%BE%D0%BC+%D0%BD%D0%B5+%D0%BF%D1%80%D0%B5%D0%B4%D0%BB%D0%B0%D0%B3%D0%B0%D1%8E+%D0%BD%D0%B8%D0%BA%D0%B0%D0%BA%D0%B8%D1%85+%D0%B8%D0%B4%D0%B5%D0%B9+%D0%BD%D0%B5+%D1%85%D0%BE%D1%87%D1%83+%D0%BF%D1%80%D0%BE%D0%B6%D0%B8%D0%B2%D0%B0%D1%82%D1%8C+%D1%81%D0%B8%D0%BB+%D1%8D%D0%BC%D0%BE%D1%86%D0%B8%D0%B8+%D0%BD%D0%B5+%D0%BE%D1%82%D1%81%D0%BB%D0%B5%D0%B6%D0%B8%D0%B2%D0%B0%D1%8E+%D0%BD%D0%B5+%D0%BF%D1%80%D0%B8%D1%8F%D1%82%D0%BD%D0%BE+%D0%BE%D0%BF%D0%B8%D1%81%D0%B0%D1%82%D1%8C+%D0%BD%D0%B5+%D0%BC%D0%BE%D0%B3%D1%83) for Russian sentences described [here](https://habr.com/ru/post/564916/) trained on [Leipzig Corpus](https://wortschatz.uni-leipzig.de/en/download/Russian)."
      ]
    },
    {
      "cell_type": "code",
      "execution_count": null,
      "metadata": {
        "id": "8_kpjBI39kYQ"
      },
      "outputs": [],
      "source": [
        "from transformers import T5ForConditionalGeneration, T5Tokenizer\n",
        "MODEL_NAME = 'cointegrated/rut5-base-paraphraser'\n",
        "paraphraser2 = T5ForConditionalGeneration.from_pretrained(MODEL_NAME)\n",
        "paraphrase_tokenizer = T5Tokenizer.from_pretrained(MODEL_NAME)"
      ]
    },
    {
      "cell_type": "code",
      "execution_count": null,
      "metadata": {
        "id": "ACvMOna3_bAr"
      },
      "outputs": [],
      "source": [
        "def paraphrase_rut5(text, max_size=50, beams=5, grams=4, do_sample=False):\n",
        "    x = paraphrase_tokenizer(text, return_tensors='pt', padding=True).to(paraphraser2.device)\n",
        "    out = paraphraser2.generate(**x, encoder_no_repeat_ngram_size=grams, num_beams=beams, max_length=max_size, do_sample=do_sample)\n",
        "    return paraphrase_tokenizer.decode(out[0], skip_special_tokens=True)"
      ]
    },
    {
      "cell_type": "code",
      "execution_count": null,
      "metadata": {
        "colab": {
          "base_uri": "https://localhost:8080/",
          "height": 37
        },
        "id": "mkgJ9K72AO_U",
        "outputId": "b4f2562e-2c1f-42ea-eb91-8b0f0bb79e24"
      },
      "outputs": [
        {
          "output_type": "execute_result",
          "data": {
            "text/plain": [
              "'Я реально хочу в Киев, мне там будет проще собраться с мыслями.'"
            ],
            "application/vnd.google.colaboratory.intrinsic+json": {
              "type": "string"
            }
          },
          "metadata": {},
          "execution_count": 83
        }
      ],
      "source": [
        "rank_df['sent'][4]"
      ]
    },
    {
      "cell_type": "code",
      "execution_count": null,
      "metadata": {
        "colab": {
          "base_uri": "https://localhost:8080/",
          "height": 37
        },
        "id": "IIb5XQfR_g9_",
        "outputId": "f2b21ee4-dee3-4b79-db37-1fe9fd785379"
      },
      "outputs": [
        {
          "output_type": "execute_result",
          "data": {
            "text/plain": [
              "'Я хочу чтобы вы собрались мыслями'"
            ],
            "application/vnd.google.colaboratory.intrinsic+json": {
              "type": "string"
            }
          },
          "metadata": {},
          "execution_count": 84
        }
      ],
      "source": [
        "paraphrase_rut5(rank_df['clean_sent'][4])"
      ]
    },
    {
      "cell_type": "code",
      "execution_count": null,
      "metadata": {
        "colab": {
          "base_uri": "https://localhost:8080/",
          "height": 37
        },
        "id": "WITtC4sLAGzR",
        "outputId": "09aa930d-68f6-417d-b2e4-149c8804fee3"
      },
      "outputs": [
        {
          "output_type": "execute_result",
          "data": {
            "text/plain": [
              "'Я действительно хочу поехать'"
            ],
            "application/vnd.google.colaboratory.intrinsic+json": {
              "type": "string"
            }
          },
          "metadata": {},
          "execution_count": 85
        }
      ],
      "source": [
        "paraphrase_rut5(rank_df['sent'][4], max_size=10)"
      ]
    },
    {
      "cell_type": "code",
      "execution_count": null,
      "metadata": {
        "colab": {
          "base_uri": "https://localhost:8080/",
          "height": 37
        },
        "id": "aojdcxMbBzHx",
        "outputId": "7d9f76b4-5be5-4628-b7e5-3b9a810c236a"
      },
      "outputs": [
        {
          "output_type": "execute_result",
          "data": {
            "text/plain": [
              "'не понятно боюсь чтото начинать что не понятно долго скоро закончится'"
            ],
            "application/vnd.google.colaboratory.intrinsic+json": {
              "type": "string"
            }
          },
          "metadata": {},
          "execution_count": 86
        }
      ],
      "source": [
        "rank_df['clean_sent'][1]"
      ]
    },
    {
      "cell_type": "code",
      "execution_count": null,
      "metadata": {
        "colab": {
          "base_uri": "https://localhost:8080/",
          "height": 37
        },
        "id": "Wj28A9arEKBw",
        "outputId": "bc8a2a71-140b-4da1-bcb1-38ee4d10350e"
      },
      "outputs": [
        {
          "output_type": "execute_result",
          "data": {
            "text/plain": [
              "'Короче, я реально не понимаю, как быть вообще, боюсь'"
            ],
            "application/vnd.google.colaboratory.intrinsic+json": {
              "type": "string"
            }
          },
          "metadata": {},
          "execution_count": 87
        }
      ],
      "source": [
        "paraphrase_rut5(rank_df['sent'][1], max_size=20)"
      ]
    },
    {
      "cell_type": "code",
      "execution_count": null,
      "metadata": {
        "colab": {
          "base_uri": "https://localhost:8080/",
          "height": 37
        },
        "id": "9gZcv6LvBlwN",
        "outputId": "71d295ee-672c-4931-a934-9a95b851aa59"
      },
      "outputs": [
        {
          "output_type": "execute_result",
          "data": {
            "text/plain": [
              "'Не понимаю что это может произойти'"
            ],
            "application/vnd.google.colaboratory.intrinsic+json": {
              "type": "string"
            }
          },
          "metadata": {},
          "execution_count": 88
        }
      ],
      "source": [
        "paraphrase_rut5(rank_df['clean_sent'][1], max_size=20)"
      ]
    },
    {
      "cell_type": "markdown",
      "metadata": {
        "id": "4LIaG3Q4RDcs"
      },
      "source": [
        "# Results"
      ]
    },
    {
      "cell_type": "code",
      "source": [
        "text_p = \"Психолог: Добрый день, меня зовут Ирина. Ольга, у нас с вами на сегодня назначена консультация. Надеюсь, что наш разговор будет приятным и полезным. Расскажите с каким запросом вы пришли на нашу первую встречу? Ольга: Добрый день, это моя первая консультация в жизни. Я не особо понимаю что именно нужно говорить. Но у меня накопилось достаточно много всего и мне просто хотелось поговорить о том, что сейчас происходит с моей жизнью, ну много чего, конечно, как и у всех, все таки война, переезды, куча всего короче. Просто хотелось чтобы кто-то услышал, помог мне немного разобраться в себе. Психолог: Ольга, действительно сейчас многие проживают события к которым сложно быть готовым. Давайте начнем понемногу разбираться. Расскажите о себе. Где вы сейчас находитесь, в каких условиях живете, какие события происходят вокруг вас?\""
      ],
      "metadata": {
        "id": "dH1aAMiAvUvt"
      },
      "execution_count": null,
      "outputs": []
    },
    {
      "cell_type": "code",
      "execution_count": null,
      "metadata": {
        "id": "xFLvyTJWIaz0"
      },
      "outputs": [],
      "source": [
        "def parse_dialog(text):\n",
        "  test_list = text.split(' ')\n",
        "  size = len(test_list)\n",
        "  idx_list = [idx for idx, val in\n",
        "            enumerate(test_list) if val.lower().startswith('ольга:') \n",
        "            or val.lower().startswith('о:') or val.lower().startswith('психолог:')]\n",
        "  res = [test_list[i: j] for i, j in\n",
        "        zip([0] + idx_list, idx_list + \n",
        "        ([size] if idx_list[-1] != size else []))]\n",
        "  res.remove(res[0])\n",
        "  for i in res:\n",
        "    for j in i:\n",
        "      if j.lower() in ['психолог:', 'о:', 'ольга:']:\n",
        "        i.remove(j)\n",
        "  res_list = [item for sublist in res for item in sublist]\n",
        "  return ' '.join(res_list)\n"
      ]
    },
    {
      "cell_type": "code",
      "source": [
        "parse_dialog(input('text: '))"
      ],
      "metadata": {
        "colab": {
          "base_uri": "https://localhost:8080/",
          "height": 204
        },
        "id": "hwCllhwJ392K",
        "outputId": "f6ca6f85-c20b-4988-d7f2-4d576e7d0445"
      },
      "execution_count": null,
      "outputs": [
        {
          "name": "stdout",
          "output_type": "stream",
          "text": [
            "text: Психолог: Добрый день, меня зовут Ирина. Ольга, у нас с вами на сегодня назначена консультация. Надеюсь, что наш разговор будет приятным и полезным. Расскажите с каким запросом вы пришли на нашу первую встречу? Ольга: Добрый день, это моя первая консультация в жизни. Я не особо понимаю что именно нужно говорить. Но у меня накопилось достаточно много всего и мне просто хотелось поговорить о том, что сейчас происходит с моей жизнью, ну много чего, конечно, как и у всех, все таки война, переезды, куча всего короче. Просто хотелось чтобы кто-то услышал, помог мне немного разобраться в себе. Психолог: Ольга, действительно сейчас многие проживают события к которым сложно быть готовым. Давайте начнем понемногу разбираться. Расскажите о себе. Где вы сейчас находитесь, в каких условиях живете, какие события происходят вокруг вас?\n"
          ]
        },
        {
          "output_type": "execute_result",
          "data": {
            "text/plain": [
              "'Добрый день, меня зовут Ирина. Ольга, у нас с вами на сегодня назначена консультация. Надеюсь, что наш разговор будет приятным и полезным. Расскажите с каким запросом вы пришли на нашу первую встречу? Добрый день, это моя первая консультация в жизни. Я не особо понимаю что именно нужно говорить. Но у меня накопилось достаточно много всего и мне просто хотелось поговорить о том, что сейчас происходит с моей жизнью, ну много чего, конечно, как и у всех, все таки война, переезды, куча всего короче. Просто хотелось чтобы кто-то услышал, помог мне немного разобраться в себе. Ольга, действительно сейчас многие проживают события к которым сложно быть готовым. Давайте начнем понемногу разбираться. Расскажите о себе. Где вы сейчас находитесь, в каких условиях живете, какие события происходят вокруг вас?'"
            ],
            "application/vnd.google.colaboratory.intrinsic+json": {
              "type": "string"
            }
          },
          "metadata": {},
          "execution_count": 6
        }
      ]
    },
    {
      "cell_type": "code",
      "execution_count": null,
      "metadata": {
        "id": "qmF4FuxGF7Li"
      },
      "outputs": [],
      "source": [
        "def summarize_text(text, remove_stop_words = True, num_bull_points=5, len_of_point=50, is_dialog = False):\n",
        "  if is_dialog:\n",
        "    text = parse_dialog(text)\n",
        "  rank_sent = rank_sentences(text)[:num_bull_points]\n",
        "  rank_df = pd.DataFrame(rank_sent, columns=['rank', 'sent'])\n",
        "  if remove_stop_words:\n",
        "    rank_df['sent'] = rank_df['sent'].apply(lambda x : ''.join([remove_stopwords(r.split()) for r in clean_sent(split_text2(x))]))\n",
        "  rank_df['summaries'] = rank_df['sent'].apply(lambda x : paraphrase_rut5(x, max_size=len_of_point))\n",
        "  return rank_df"
      ]
    },
    {
      "cell_type": "code",
      "execution_count": null,
      "metadata": {
        "colab": {
          "base_uri": "https://localhost:8080/",
          "height": 361
        },
        "id": "NeYu3NmjJcf4",
        "outputId": "483b0d0c-8a08-41f0-e8a2-ad9cc941aa5c"
      },
      "outputs": [
        {
          "output_type": "stream",
          "name": "stderr",
          "text": [
            "/usr/local/lib/python3.7/dist-packages/ipykernel_launcher.py:2: FutureWarning: The default value of regex will change from True to False in a future version.\n",
            "  \n",
            "/usr/local/lib/python3.7/dist-packages/ipykernel_launcher.py:2: FutureWarning: The default value of regex will change from True to False in a future version.\n",
            "  \n"
          ]
        },
        {
          "output_type": "execute_result",
          "data": {
            "text/plain": [
              "       rank  \\\n",
              "0  0.060518   \n",
              "1  0.058329   \n",
              "2  0.057134   \n",
              "3  0.057099   \n",
              "4  0.054442   \n",
              "\n",
              "                                                                    sent  \\\n",
              "0       скажите раньше возникали ситуации муж оттягивал принятие решений   \n",
              "1                                      давайте начнем разбираться вместе   \n",
              "2  расскажите подробнее понимаю разные точки зрения какую ситуацию мужем   \n",
              "3                           расскажите представляли вашу жизнь отношений   \n",
              "4                                   давайте начнем понемногу разбираться   \n",
              "\n",
              "                                  summaries  \n",
              "0         Если раньше были проблемы с мужем  \n",
              "1           Давай начнем вместе разбираться  \n",
              "2  Скажите мне подробнее о ситуации с мужем  \n",
              "3              Расскажите мне о вашей жизни  \n",
              "4        Давай начнем разбираться понемногу  "
            ],
            "text/html": [
              "\n",
              "  <div id=\"df-280aca17-2965-44ac-bf24-59c0eeffaf94\">\n",
              "    <div class=\"colab-df-container\">\n",
              "      <div>\n",
              "<style scoped>\n",
              "    .dataframe tbody tr th:only-of-type {\n",
              "        vertical-align: middle;\n",
              "    }\n",
              "\n",
              "    .dataframe tbody tr th {\n",
              "        vertical-align: top;\n",
              "    }\n",
              "\n",
              "    .dataframe thead th {\n",
              "        text-align: right;\n",
              "    }\n",
              "</style>\n",
              "<table border=\"1\" class=\"dataframe\">\n",
              "  <thead>\n",
              "    <tr style=\"text-align: right;\">\n",
              "      <th></th>\n",
              "      <th>rank</th>\n",
              "      <th>sent</th>\n",
              "      <th>summaries</th>\n",
              "    </tr>\n",
              "  </thead>\n",
              "  <tbody>\n",
              "    <tr>\n",
              "      <th>0</th>\n",
              "      <td>0.060518</td>\n",
              "      <td>скажите раньше возникали ситуации муж оттягивал принятие решений</td>\n",
              "      <td>Если раньше были проблемы с мужем</td>\n",
              "    </tr>\n",
              "    <tr>\n",
              "      <th>1</th>\n",
              "      <td>0.058329</td>\n",
              "      <td>давайте начнем разбираться вместе</td>\n",
              "      <td>Давай начнем вместе разбираться</td>\n",
              "    </tr>\n",
              "    <tr>\n",
              "      <th>2</th>\n",
              "      <td>0.057134</td>\n",
              "      <td>расскажите подробнее понимаю разные точки зрения какую ситуацию мужем</td>\n",
              "      <td>Скажите мне подробнее о ситуации с мужем</td>\n",
              "    </tr>\n",
              "    <tr>\n",
              "      <th>3</th>\n",
              "      <td>0.057099</td>\n",
              "      <td>расскажите представляли вашу жизнь отношений</td>\n",
              "      <td>Расскажите мне о вашей жизни</td>\n",
              "    </tr>\n",
              "    <tr>\n",
              "      <th>4</th>\n",
              "      <td>0.054442</td>\n",
              "      <td>давайте начнем понемногу разбираться</td>\n",
              "      <td>Давай начнем разбираться понемногу</td>\n",
              "    </tr>\n",
              "  </tbody>\n",
              "</table>\n",
              "</div>\n",
              "      <button class=\"colab-df-convert\" onclick=\"convertToInteractive('df-280aca17-2965-44ac-bf24-59c0eeffaf94')\"\n",
              "              title=\"Convert this dataframe to an interactive table.\"\n",
              "              style=\"display:none;\">\n",
              "        \n",
              "  <svg xmlns=\"http://www.w3.org/2000/svg\" height=\"24px\"viewBox=\"0 0 24 24\"\n",
              "       width=\"24px\">\n",
              "    <path d=\"M0 0h24v24H0V0z\" fill=\"none\"/>\n",
              "    <path d=\"M18.56 5.44l.94 2.06.94-2.06 2.06-.94-2.06-.94-.94-2.06-.94 2.06-2.06.94zm-11 1L8.5 8.5l.94-2.06 2.06-.94-2.06-.94L8.5 2.5l-.94 2.06-2.06.94zm10 10l.94 2.06.94-2.06 2.06-.94-2.06-.94-.94-2.06-.94 2.06-2.06.94z\"/><path d=\"M17.41 7.96l-1.37-1.37c-.4-.4-.92-.59-1.43-.59-.52 0-1.04.2-1.43.59L10.3 9.45l-7.72 7.72c-.78.78-.78 2.05 0 2.83L4 21.41c.39.39.9.59 1.41.59.51 0 1.02-.2 1.41-.59l7.78-7.78 2.81-2.81c.8-.78.8-2.07 0-2.86zM5.41 20L4 18.59l7.72-7.72 1.47 1.35L5.41 20z\"/>\n",
              "  </svg>\n",
              "      </button>\n",
              "      \n",
              "  <style>\n",
              "    .colab-df-container {\n",
              "      display:flex;\n",
              "      flex-wrap:wrap;\n",
              "      gap: 12px;\n",
              "    }\n",
              "\n",
              "    .colab-df-convert {\n",
              "      background-color: #E8F0FE;\n",
              "      border: none;\n",
              "      border-radius: 50%;\n",
              "      cursor: pointer;\n",
              "      display: none;\n",
              "      fill: #1967D2;\n",
              "      height: 32px;\n",
              "      padding: 0 0 0 0;\n",
              "      width: 32px;\n",
              "    }\n",
              "\n",
              "    .colab-df-convert:hover {\n",
              "      background-color: #E2EBFA;\n",
              "      box-shadow: 0px 1px 2px rgba(60, 64, 67, 0.3), 0px 1px 3px 1px rgba(60, 64, 67, 0.15);\n",
              "      fill: #174EA6;\n",
              "    }\n",
              "\n",
              "    [theme=dark] .colab-df-convert {\n",
              "      background-color: #3B4455;\n",
              "      fill: #D2E3FC;\n",
              "    }\n",
              "\n",
              "    [theme=dark] .colab-df-convert:hover {\n",
              "      background-color: #434B5C;\n",
              "      box-shadow: 0px 1px 3px 1px rgba(0, 0, 0, 0.15);\n",
              "      filter: drop-shadow(0px 1px 2px rgba(0, 0, 0, 0.3));\n",
              "      fill: #FFFFFF;\n",
              "    }\n",
              "  </style>\n",
              "\n",
              "      <script>\n",
              "        const buttonEl =\n",
              "          document.querySelector('#df-280aca17-2965-44ac-bf24-59c0eeffaf94 button.colab-df-convert');\n",
              "        buttonEl.style.display =\n",
              "          google.colab.kernel.accessAllowed ? 'block' : 'none';\n",
              "\n",
              "        async function convertToInteractive(key) {\n",
              "          const element = document.querySelector('#df-280aca17-2965-44ac-bf24-59c0eeffaf94');\n",
              "          const dataTable =\n",
              "            await google.colab.kernel.invokeFunction('convertToInteractive',\n",
              "                                                     [key], {});\n",
              "          if (!dataTable) return;\n",
              "\n",
              "          const docLinkHtml = 'Like what you see? Visit the ' +\n",
              "            '<a target=\"_blank\" href=https://colab.research.google.com/notebooks/data_table.ipynb>data table notebook</a>'\n",
              "            + ' to learn more about interactive tables.';\n",
              "          element.innerHTML = '';\n",
              "          dataTable['output_type'] = 'display_data';\n",
              "          await google.colab.output.renderOutput(dataTable, element);\n",
              "          const docLink = document.createElement('div');\n",
              "          docLink.innerHTML = docLinkHtml;\n",
              "          element.appendChild(docLink);\n",
              "        }\n",
              "      </script>\n",
              "    </div>\n",
              "  </div>\n",
              "  "
            ]
          },
          "metadata": {},
          "execution_count": 106
        }
      ],
      "source": [
        "summarize_text(full_psy_text)"
      ]
    },
    {
      "cell_type": "code",
      "execution_count": null,
      "metadata": {
        "colab": {
          "base_uri": "https://localhost:8080/",
          "height": 587
        },
        "id": "kf7hRAVQOIZK",
        "outputId": "c343ba5e-c651-4db8-ab42-557c20cf2fb8"
      },
      "outputs": [
        {
          "output_type": "stream",
          "name": "stderr",
          "text": [
            "/usr/local/lib/python3.7/dist-packages/ipykernel_launcher.py:2: FutureWarning: The default value of regex will change from True to False in a future version.\n",
            "  \n",
            "/usr/local/lib/python3.7/dist-packages/ipykernel_launcher.py:2: FutureWarning: The default value of regex will change from True to False in a future version.\n",
            "  \n"
          ]
        },
        {
          "output_type": "execute_result",
          "data": {
            "text/plain": [
              "       rank  \\\n",
              "0  0.015280   \n",
              "1  0.014462   \n",
              "2  0.014435   \n",
              "3  0.014133   \n",
              "4  0.014124   \n",
              "5  0.013741   \n",
              "6  0.013616   \n",
              "7  0.012981   \n",
              "8  0.012902   \n",
              "9  0.012898   \n",
              "\n",
              "                                                                        sent  \\\n",
              "0                               впечатление что хочет избавится что напрягаю   \n",
              "1      не понятно боюсь чтото начинать что не понятно долго скоро закончится   \n",
              "2                                              не понимаю что жить партнером   \n",
              "3                              затяжные штуки напрягают сказать что чувствую   \n",
              "4                                          хочу киев проще собраться мыслями   \n",
              "5                                                   думаю не вместе не ждать   \n",
              "6                                  спрашиваю порядке говорит не чувствую что   \n",
              "7                                 что постоянном ожидании чуда жить не легко   \n",
              "8                             понимаете несколько теряла начинала жизнь нуля   \n",
              "9  страх не самой необходимости понимаю что потеряю не хотеться чтото делать   \n",
              "\n",
              "                                      summaries  \n",
              "0  Мне кажется что он хочет избавиться от этого  \n",
              "1            Не понимаю что это может произойти  \n",
              "2                Не знаю что делать с партнером  \n",
              "3        Затяжные вещи напрягают что я чувствую  \n",
              "4             Я хочу чтобы вы собрались мыслями  \n",
              "5                   Не думаю что мы будем ждать  \n",
              "6                    Не знаю что я хочу сказать  \n",
              "7      Что ж жить нелегко постоянно ожидая чуда  \n",
              "8                Вы знаете что я потеряла жизнь  \n",
              "9                       Не хочу чтобы я потерял  "
            ],
            "text/html": [
              "\n",
              "  <div id=\"df-783a3c29-e851-4765-a29e-5b69387da9d2\">\n",
              "    <div class=\"colab-df-container\">\n",
              "      <div>\n",
              "<style scoped>\n",
              "    .dataframe tbody tr th:only-of-type {\n",
              "        vertical-align: middle;\n",
              "    }\n",
              "\n",
              "    .dataframe tbody tr th {\n",
              "        vertical-align: top;\n",
              "    }\n",
              "\n",
              "    .dataframe thead th {\n",
              "        text-align: right;\n",
              "    }\n",
              "</style>\n",
              "<table border=\"1\" class=\"dataframe\">\n",
              "  <thead>\n",
              "    <tr style=\"text-align: right;\">\n",
              "      <th></th>\n",
              "      <th>rank</th>\n",
              "      <th>sent</th>\n",
              "      <th>summaries</th>\n",
              "    </tr>\n",
              "  </thead>\n",
              "  <tbody>\n",
              "    <tr>\n",
              "      <th>0</th>\n",
              "      <td>0.015280</td>\n",
              "      <td>впечатление что хочет избавится что напрягаю</td>\n",
              "      <td>Мне кажется что он хочет избавиться от этого</td>\n",
              "    </tr>\n",
              "    <tr>\n",
              "      <th>1</th>\n",
              "      <td>0.014462</td>\n",
              "      <td>не понятно боюсь чтото начинать что не понятно долго скоро закончится</td>\n",
              "      <td>Не понимаю что это может произойти</td>\n",
              "    </tr>\n",
              "    <tr>\n",
              "      <th>2</th>\n",
              "      <td>0.014435</td>\n",
              "      <td>не понимаю что жить партнером</td>\n",
              "      <td>Не знаю что делать с партнером</td>\n",
              "    </tr>\n",
              "    <tr>\n",
              "      <th>3</th>\n",
              "      <td>0.014133</td>\n",
              "      <td>затяжные штуки напрягают сказать что чувствую</td>\n",
              "      <td>Затяжные вещи напрягают что я чувствую</td>\n",
              "    </tr>\n",
              "    <tr>\n",
              "      <th>4</th>\n",
              "      <td>0.014124</td>\n",
              "      <td>хочу киев проще собраться мыслями</td>\n",
              "      <td>Я хочу чтобы вы собрались мыслями</td>\n",
              "    </tr>\n",
              "    <tr>\n",
              "      <th>5</th>\n",
              "      <td>0.013741</td>\n",
              "      <td>думаю не вместе не ждать</td>\n",
              "      <td>Не думаю что мы будем ждать</td>\n",
              "    </tr>\n",
              "    <tr>\n",
              "      <th>6</th>\n",
              "      <td>0.013616</td>\n",
              "      <td>спрашиваю порядке говорит не чувствую что</td>\n",
              "      <td>Не знаю что я хочу сказать</td>\n",
              "    </tr>\n",
              "    <tr>\n",
              "      <th>7</th>\n",
              "      <td>0.012981</td>\n",
              "      <td>что постоянном ожидании чуда жить не легко</td>\n",
              "      <td>Что ж жить нелегко постоянно ожидая чуда</td>\n",
              "    </tr>\n",
              "    <tr>\n",
              "      <th>8</th>\n",
              "      <td>0.012902</td>\n",
              "      <td>понимаете несколько теряла начинала жизнь нуля</td>\n",
              "      <td>Вы знаете что я потеряла жизнь</td>\n",
              "    </tr>\n",
              "    <tr>\n",
              "      <th>9</th>\n",
              "      <td>0.012898</td>\n",
              "      <td>страх не самой необходимости понимаю что потеряю не хотеться чтото делать</td>\n",
              "      <td>Не хочу чтобы я потерял</td>\n",
              "    </tr>\n",
              "  </tbody>\n",
              "</table>\n",
              "</div>\n",
              "      <button class=\"colab-df-convert\" onclick=\"convertToInteractive('df-783a3c29-e851-4765-a29e-5b69387da9d2')\"\n",
              "              title=\"Convert this dataframe to an interactive table.\"\n",
              "              style=\"display:none;\">\n",
              "        \n",
              "  <svg xmlns=\"http://www.w3.org/2000/svg\" height=\"24px\"viewBox=\"0 0 24 24\"\n",
              "       width=\"24px\">\n",
              "    <path d=\"M0 0h24v24H0V0z\" fill=\"none\"/>\n",
              "    <path d=\"M18.56 5.44l.94 2.06.94-2.06 2.06-.94-2.06-.94-.94-2.06-.94 2.06-2.06.94zm-11 1L8.5 8.5l.94-2.06 2.06-.94-2.06-.94L8.5 2.5l-.94 2.06-2.06.94zm10 10l.94 2.06.94-2.06 2.06-.94-2.06-.94-.94-2.06-.94 2.06-2.06.94z\"/><path d=\"M17.41 7.96l-1.37-1.37c-.4-.4-.92-.59-1.43-.59-.52 0-1.04.2-1.43.59L10.3 9.45l-7.72 7.72c-.78.78-.78 2.05 0 2.83L4 21.41c.39.39.9.59 1.41.59.51 0 1.02-.2 1.41-.59l7.78-7.78 2.81-2.81c.8-.78.8-2.07 0-2.86zM5.41 20L4 18.59l7.72-7.72 1.47 1.35L5.41 20z\"/>\n",
              "  </svg>\n",
              "      </button>\n",
              "      \n",
              "  <style>\n",
              "    .colab-df-container {\n",
              "      display:flex;\n",
              "      flex-wrap:wrap;\n",
              "      gap: 12px;\n",
              "    }\n",
              "\n",
              "    .colab-df-convert {\n",
              "      background-color: #E8F0FE;\n",
              "      border: none;\n",
              "      border-radius: 50%;\n",
              "      cursor: pointer;\n",
              "      display: none;\n",
              "      fill: #1967D2;\n",
              "      height: 32px;\n",
              "      padding: 0 0 0 0;\n",
              "      width: 32px;\n",
              "    }\n",
              "\n",
              "    .colab-df-convert:hover {\n",
              "      background-color: #E2EBFA;\n",
              "      box-shadow: 0px 1px 2px rgba(60, 64, 67, 0.3), 0px 1px 3px 1px rgba(60, 64, 67, 0.15);\n",
              "      fill: #174EA6;\n",
              "    }\n",
              "\n",
              "    [theme=dark] .colab-df-convert {\n",
              "      background-color: #3B4455;\n",
              "      fill: #D2E3FC;\n",
              "    }\n",
              "\n",
              "    [theme=dark] .colab-df-convert:hover {\n",
              "      background-color: #434B5C;\n",
              "      box-shadow: 0px 1px 3px 1px rgba(0, 0, 0, 0.15);\n",
              "      filter: drop-shadow(0px 1px 2px rgba(0, 0, 0, 0.3));\n",
              "      fill: #FFFFFF;\n",
              "    }\n",
              "  </style>\n",
              "\n",
              "      <script>\n",
              "        const buttonEl =\n",
              "          document.querySelector('#df-783a3c29-e851-4765-a29e-5b69387da9d2 button.colab-df-convert');\n",
              "        buttonEl.style.display =\n",
              "          google.colab.kernel.accessAllowed ? 'block' : 'none';\n",
              "\n",
              "        async function convertToInteractive(key) {\n",
              "          const element = document.querySelector('#df-783a3c29-e851-4765-a29e-5b69387da9d2');\n",
              "          const dataTable =\n",
              "            await google.colab.kernel.invokeFunction('convertToInteractive',\n",
              "                                                     [key], {});\n",
              "          if (!dataTable) return;\n",
              "\n",
              "          const docLinkHtml = 'Like what you see? Visit the ' +\n",
              "            '<a target=\"_blank\" href=https://colab.research.google.com/notebooks/data_table.ipynb>data table notebook</a>'\n",
              "            + ' to learn more about interactive tables.';\n",
              "          element.innerHTML = '';\n",
              "          dataTable['output_type'] = 'display_data';\n",
              "          await google.colab.output.renderOutput(dataTable, element);\n",
              "          const docLink = document.createElement('div');\n",
              "          docLink.innerHTML = docLinkHtml;\n",
              "          element.appendChild(docLink);\n",
              "        }\n",
              "      </script>\n",
              "    </div>\n",
              "  </div>\n",
              "  "
            ]
          },
          "metadata": {},
          "execution_count": 107
        }
      ],
      "source": [
        " test1 = summarize_text(full_text, num_bull_points=10, len_of_point=20)\n",
        " test1"
      ]
    },
    {
      "cell_type": "code",
      "execution_count": null,
      "metadata": {
        "id": "g4LVZI4oUHDY"
      },
      "outputs": [],
      "source": [
        "def print_n(list_n):\n",
        "  for i in list_n:\n",
        "    print(i)\n",
        "  print()"
      ]
    },
    {
      "cell_type": "code",
      "source": [
        "print_n(test1.summaries.tolist())"
      ],
      "metadata": {
        "colab": {
          "base_uri": "https://localhost:8080/"
        },
        "id": "Ahf9-6AnxRSl",
        "outputId": "fda623c1-bd09-42b0-ccdb-a241ba9c0d5b"
      },
      "execution_count": null,
      "outputs": [
        {
          "output_type": "stream",
          "name": "stdout",
          "text": [
            "Мне кажется что он хочет избавиться от этого\n",
            "Не понимаю что это может произойти\n",
            "Не знаю что делать с партнером\n",
            "Затяжные вещи напрягают что я чувствую\n",
            "Я хочу чтобы вы собрались мыслями\n",
            "Не думаю что мы будем ждать\n",
            "Не знаю что я хочу сказать\n",
            "Что ж жить нелегко постоянно ожидая чуда\n",
            "Вы знаете что я потеряла жизнь\n",
            "Не хочу чтобы я потерял\n",
            "\n"
          ]
        }
      ]
    },
    {
      "cell_type": "code",
      "execution_count": null,
      "metadata": {
        "colab": {
          "base_uri": "https://localhost:8080/",
          "height": 281
        },
        "id": "p1cvXNzaPKuu",
        "outputId": "a4688b3c-2aa2-411b-e3a4-71c4a1680d27"
      },
      "outputs": [
        {
          "output_type": "stream",
          "name": "stderr",
          "text": [
            "/usr/local/lib/python3.7/dist-packages/ipykernel_launcher.py:2: FutureWarning: The default value of regex will change from True to False in a future version.\n",
            "  \n",
            "/usr/local/lib/python3.7/dist-packages/ipykernel_launcher.py:2: FutureWarning: The default value of regex will change from True to False in a future version.\n",
            "  \n"
          ]
        },
        {
          "output_type": "execute_result",
          "data": {
            "text/plain": [
              "       rank  \\\n",
              "0  0.019326   \n",
              "1  0.019250   \n",
              "2  0.018239   \n",
              "\n",
              "                                                                    sent  \\\n",
              "0                           впечатление что хочет избавится что напрягаю   \n",
              "1  не понятно боюсь чтото начинать что не понятно долго скоро закончится   \n",
              "2                                      хочу киев проще собраться мыслями   \n",
              "\n",
              "                            summaries  \n",
              "0         Мне кажется что он хочет из  \n",
              "1  Не понимаю что это может случиться  \n",
              "2               Я хочу чтобы все было  "
            ],
            "text/html": [
              "\n",
              "  <div id=\"df-e8662d49-97da-4672-a71f-f19aefbb6219\">\n",
              "    <div class=\"colab-df-container\">\n",
              "      <div>\n",
              "<style scoped>\n",
              "    .dataframe tbody tr th:only-of-type {\n",
              "        vertical-align: middle;\n",
              "    }\n",
              "\n",
              "    .dataframe tbody tr th {\n",
              "        vertical-align: top;\n",
              "    }\n",
              "\n",
              "    .dataframe thead th {\n",
              "        text-align: right;\n",
              "    }\n",
              "</style>\n",
              "<table border=\"1\" class=\"dataframe\">\n",
              "  <thead>\n",
              "    <tr style=\"text-align: right;\">\n",
              "      <th></th>\n",
              "      <th>rank</th>\n",
              "      <th>sent</th>\n",
              "      <th>summaries</th>\n",
              "    </tr>\n",
              "  </thead>\n",
              "  <tbody>\n",
              "    <tr>\n",
              "      <th>0</th>\n",
              "      <td>0.019326</td>\n",
              "      <td>впечатление что хочет избавится что напрягаю</td>\n",
              "      <td>Мне кажется что он хочет из</td>\n",
              "    </tr>\n",
              "    <tr>\n",
              "      <th>1</th>\n",
              "      <td>0.019250</td>\n",
              "      <td>не понятно боюсь чтото начинать что не понятно долго скоро закончится</td>\n",
              "      <td>Не понимаю что это может случиться</td>\n",
              "    </tr>\n",
              "    <tr>\n",
              "      <th>2</th>\n",
              "      <td>0.018239</td>\n",
              "      <td>хочу киев проще собраться мыслями</td>\n",
              "      <td>Я хочу чтобы все было</td>\n",
              "    </tr>\n",
              "  </tbody>\n",
              "</table>\n",
              "</div>\n",
              "      <button class=\"colab-df-convert\" onclick=\"convertToInteractive('df-e8662d49-97da-4672-a71f-f19aefbb6219')\"\n",
              "              title=\"Convert this dataframe to an interactive table.\"\n",
              "              style=\"display:none;\">\n",
              "        \n",
              "  <svg xmlns=\"http://www.w3.org/2000/svg\" height=\"24px\"viewBox=\"0 0 24 24\"\n",
              "       width=\"24px\">\n",
              "    <path d=\"M0 0h24v24H0V0z\" fill=\"none\"/>\n",
              "    <path d=\"M18.56 5.44l.94 2.06.94-2.06 2.06-.94-2.06-.94-.94-2.06-.94 2.06-2.06.94zm-11 1L8.5 8.5l.94-2.06 2.06-.94-2.06-.94L8.5 2.5l-.94 2.06-2.06.94zm10 10l.94 2.06.94-2.06 2.06-.94-2.06-.94-.94-2.06-.94 2.06-2.06.94z\"/><path d=\"M17.41 7.96l-1.37-1.37c-.4-.4-.92-.59-1.43-.59-.52 0-1.04.2-1.43.59L10.3 9.45l-7.72 7.72c-.78.78-.78 2.05 0 2.83L4 21.41c.39.39.9.59 1.41.59.51 0 1.02-.2 1.41-.59l7.78-7.78 2.81-2.81c.8-.78.8-2.07 0-2.86zM5.41 20L4 18.59l7.72-7.72 1.47 1.35L5.41 20z\"/>\n",
              "  </svg>\n",
              "      </button>\n",
              "      \n",
              "  <style>\n",
              "    .colab-df-container {\n",
              "      display:flex;\n",
              "      flex-wrap:wrap;\n",
              "      gap: 12px;\n",
              "    }\n",
              "\n",
              "    .colab-df-convert {\n",
              "      background-color: #E8F0FE;\n",
              "      border: none;\n",
              "      border-radius: 50%;\n",
              "      cursor: pointer;\n",
              "      display: none;\n",
              "      fill: #1967D2;\n",
              "      height: 32px;\n",
              "      padding: 0 0 0 0;\n",
              "      width: 32px;\n",
              "    }\n",
              "\n",
              "    .colab-df-convert:hover {\n",
              "      background-color: #E2EBFA;\n",
              "      box-shadow: 0px 1px 2px rgba(60, 64, 67, 0.3), 0px 1px 3px 1px rgba(60, 64, 67, 0.15);\n",
              "      fill: #174EA6;\n",
              "    }\n",
              "\n",
              "    [theme=dark] .colab-df-convert {\n",
              "      background-color: #3B4455;\n",
              "      fill: #D2E3FC;\n",
              "    }\n",
              "\n",
              "    [theme=dark] .colab-df-convert:hover {\n",
              "      background-color: #434B5C;\n",
              "      box-shadow: 0px 1px 3px 1px rgba(0, 0, 0, 0.15);\n",
              "      filter: drop-shadow(0px 1px 2px rgba(0, 0, 0, 0.3));\n",
              "      fill: #FFFFFF;\n",
              "    }\n",
              "  </style>\n",
              "\n",
              "      <script>\n",
              "        const buttonEl =\n",
              "          document.querySelector('#df-e8662d49-97da-4672-a71f-f19aefbb6219 button.colab-df-convert');\n",
              "        buttonEl.style.display =\n",
              "          google.colab.kernel.accessAllowed ? 'block' : 'none';\n",
              "\n",
              "        async function convertToInteractive(key) {\n",
              "          const element = document.querySelector('#df-e8662d49-97da-4672-a71f-f19aefbb6219');\n",
              "          const dataTable =\n",
              "            await google.colab.kernel.invokeFunction('convertToInteractive',\n",
              "                                                     [key], {});\n",
              "          if (!dataTable) return;\n",
              "\n",
              "          const docLinkHtml = 'Like what you see? Visit the ' +\n",
              "            '<a target=\"_blank\" href=https://colab.research.google.com/notebooks/data_table.ipynb>data table notebook</a>'\n",
              "            + ' to learn more about interactive tables.';\n",
              "          element.innerHTML = '';\n",
              "          dataTable['output_type'] = 'display_data';\n",
              "          await google.colab.output.renderOutput(dataTable, element);\n",
              "          const docLink = document.createElement('div');\n",
              "          docLink.innerHTML = docLinkHtml;\n",
              "          element.appendChild(docLink);\n",
              "        }\n",
              "      </script>\n",
              "    </div>\n",
              "  </div>\n",
              "  "
            ]
          },
          "metadata": {},
          "execution_count": 110
        }
      ],
      "source": [
        "summarize_text(full_cli_text, num_bull_points=3, len_of_point=10)"
      ]
    },
    {
      "cell_type": "markdown",
      "metadata": {
        "id": "oK8_uBebO2JJ"
      },
      "source": [
        "## Visulization"
      ]
    },
    {
      "cell_type": "code",
      "execution_count": null,
      "metadata": {
        "id": "D1fD5Ac0O0RQ"
      },
      "outputs": [],
      "source": [
        "def show_length_difference(df):\n",
        "  text_word_count = []\n",
        "  summary_word_count = []\n",
        "\n",
        "  for i in df['sent']:\n",
        "      text_word_count.append(len(i.split()))\n",
        "\n",
        "  for i in df['summaries']:\n",
        "      summary_word_count.append(len(i.split()))\n",
        "\n",
        "  length_df = pd.DataFrame({'sentences':text_word_count, 'summary':summary_word_count})\n",
        "  length_df.hist(bins = df.shape[0])\n",
        "  plt.show()"
      ]
    },
    {
      "cell_type": "code",
      "execution_count": null,
      "metadata": {
        "colab": {
          "base_uri": "https://localhost:8080/",
          "height": 374
        },
        "id": "FBof-TrtPkJY",
        "outputId": "5ffedfcd-856c-49b9-d6c0-d367b20e698b"
      },
      "outputs": [
        {
          "output_type": "stream",
          "name": "stderr",
          "text": [
            "/usr/local/lib/python3.7/dist-packages/ipykernel_launcher.py:2: FutureWarning: The default value of regex will change from True to False in a future version.\n",
            "  \n",
            "/usr/local/lib/python3.7/dist-packages/ipykernel_launcher.py:2: FutureWarning: The default value of regex will change from True to False in a future version.\n",
            "  \n"
          ]
        },
        {
          "output_type": "display_data",
          "data": {
            "text/plain": [
              "<Figure size 432x288 with 2 Axes>"
            ],
            "image/png": "[encoded data removed]"
          },
          "metadata": {
            "needs_background": "light"
          }
        }
      ],
      "source": [
        "show_length_difference(summarize_text(full_psy_text, num_bull_points=10, len_of_point=10))"
      ]
    },
    {
      "cell_type": "markdown",
      "source": [
        "# Evaluation"
      ],
      "metadata": {
        "id": "ma35TOPbz-ho"
      }
    },
    {
      "cell_type": "markdown",
      "source": [
        "## Load evaluation dataset"
      ],
      "metadata": {
        "id": "MTd31TUt4KSj"
      }
    },
    {
      "cell_type": "code",
      "source": [
        "eval_all = pd.read_csv('https://raw.githubusercontent.com/Teasotea/textSummarization/main/data/evaluation_summary_all.txt', delimiter = \"\\t\", header=None).set_axis(['summaries'], axis=1, inplace=False)\n",
        "eval_cli = pd.read_csv('https://raw.githubusercontent.com/Teasotea/textSummarization/main/data/evaluation_summary_cli.txt', delimiter = \"\\t\", header=None).set_axis(['summaries'], axis=1, inplace=False)\n",
        "eval_psy = pd.read_csv('https://raw.githubusercontent.com/Teasotea/textSummarization/main/data/evaluation_summary_psy.txt', delimiter = \"\\t\", header=None).set_axis(['summaries'], axis=1, inplace=False)\n"
      ],
      "metadata": {
        "id": "JjQHEBg-1_YW"
      },
      "execution_count": null,
      "outputs": []
    },
    {
      "cell_type": "code",
      "source": [
        "psy_sum = summarize_text(full_psy_text, num_bull_points=9, len_of_point=15)"
      ],
      "metadata": {
        "colab": {
          "base_uri": "https://localhost:8080/"
        },
        "id": "-EtEDKbe4nJu",
        "outputId": "19c3e209-3d31-495d-c657-6dd81e0fd1c1"
      },
      "execution_count": null,
      "outputs": [
        {
          "output_type": "stream",
          "name": "stderr",
          "text": [
            "/usr/local/lib/python3.7/dist-packages/ipykernel_launcher.py:2: FutureWarning: The default value of regex will change from True to False in a future version.\n",
            "  \n",
            "/usr/local/lib/python3.7/dist-packages/ipykernel_launcher.py:2: FutureWarning: The default value of regex will change from True to False in a future version.\n",
            "  \n"
          ]
        }
      ]
    },
    {
      "cell_type": "markdown",
      "source": [
        "## ROUGE: Evaluation​​ [Metric](https://ilmoirfan.com/rouge-an-evaluation-metric-for-text-summarization/)​​ for Text Summarization Task\n",
        "\n",
        "### ROUGE score (Recall-Oriented Understudy for Gisting Evaluation)\n",
        "\n",
        "The algorithm to compute ROUGE score considers consecutive tokens a.k.a. n-grams. The n-grams from one text (e.g. the human-written summary) are compared to the n-grams of the other text (e.g. the machine-written summary). **A large overlap of n-grams results in a high ROUGE score** and a low overlap — in a low ROUGE score.\n",
        "\n",
        "When the aim is abstractive summarization ROUGE is best used **only as an initial indicator** of how much the machine-written summary overlaps with the human written summary, because it does not take into account the semantic meaning and the factual accuracy of the summaries.\n",
        "\n",
        "Pros and cons of using [ROUGE](https://towardsdatascience.com/to-rouge-or-not-to-rouge-6a5f3552ea45)"
      ],
      "metadata": {
        "id": "lSGs0t0x8gA_"
      }
    },
    {
      "cell_type": "code",
      "source": [
        "!pip install Rouge"
      ],
      "metadata": {
        "colab": {
          "base_uri": "https://localhost:8080/"
        },
        "id": "wp4mgBYhHd4k",
        "outputId": "59327029-a20c-4068-e408-c9375499dcdd"
      },
      "execution_count": null,
      "outputs": [
        {
          "output_type": "stream",
          "name": "stdout",
          "text": [
            "Collecting Rouge\n",
            "  Downloading rouge-1.0.1-py3-none-any.whl (13 kB)\n",
            "Requirement already satisfied: six in /usr/local/lib/python3.7/dist-packages (from Rouge) (1.15.0)\n",
            "Installing collected packages: Rouge\n",
            "Successfully installed Rouge-1.0.1\n"
          ]
        }
      ]
    },
    {
      "cell_type": "code",
      "source": [
        "from rouge import Rouge \n",
        "rouge = Rouge()"
      ],
      "metadata": {
        "id": "bBTMYhrjH1pN"
      },
      "execution_count": null,
      "outputs": []
    },
    {
      "cell_type": "code",
      "source": [
        "serie_to_text = lambda s: '. '.join(s.tolist())"
      ],
      "metadata": {
        "id": "XkJvYnkZ-J6d"
      },
      "execution_count": null,
      "outputs": []
    },
    {
      "cell_type": "code",
      "source": [
        "summary = serie_to_text(psy_sum.summaries)\n",
        "reference = serie_to_text(eval_psy.summaries)"
      ],
      "metadata": {
        "id": "kW7hAVde8CkQ"
      },
      "execution_count": null,
      "outputs": []
    },
    {
      "cell_type": "code",
      "source": [
        "summary # summary made by model"
      ],
      "metadata": {
        "colab": {
          "base_uri": "https://localhost:8080/",
          "height": 92
        },
        "id": "SeCIWpza9iey",
        "outputId": "edb42ed4-2ddb-4d6a-fd9c-1535d961c110"
      },
      "execution_count": null,
      "outputs": [
        {
          "output_type": "execute_result",
          "data": {
            "text/plain": [
              "'Если раньше были проблемы с мужем. Давай начнем вместе разбираться. Скажите мне подробнее о ситуации с мужем. Расскажите мне о вашей жизни. Давай начнем разбираться понемногу. Вы находитесь в каком состоянии живёте. Расскажите какие чувства вы чувствуете неопределенность. Вы готовы принимать ответственность за принимаемые решения. Расскажите какой запросом пришла наша первая встреча'"
            ],
            "application/vnd.google.colaboratory.intrinsic+json": {
              "type": "string"
            }
          },
          "metadata": {},
          "execution_count": 231
        }
      ]
    },
    {
      "cell_type": "code",
      "source": [
        "reference # summary made by human"
      ],
      "metadata": {
        "colab": {
          "base_uri": "https://localhost:8080/",
          "height": 74
        },
        "id": "YU5Vi1_S9Vv2",
        "outputId": "f37dbddb-1ba9-447f-e53f-7b1d03d4e291"
      },
      "execution_count": null,
      "outputs": [
        {
          "output_type": "execute_result",
          "data": {
            "text/plain": [
              "'Цель встречи. Расскажите о себе. Нет основной работы. Желание вернуться в Киев. Нет поддержки от мужа. Страх начать с нуля. Страх неопределенности. Нужно разобратся с емоциями. ДЗ: Записывать в дневник ситуацию и эмоции'"
            ],
            "application/vnd.google.colaboratory.intrinsic+json": {
              "type": "string"
            }
          },
          "metadata": {},
          "execution_count": 232
        }
      ]
    },
    {
      "cell_type": "code",
      "source": [
        "rouge.get_scores('Цель встречи', 'Цель встречи !')"
      ],
      "metadata": {
        "colab": {
          "base_uri": "https://localhost:8080/"
        },
        "id": "S5Pmr4tuIHwW",
        "outputId": "0db211d8-4f12-4e1b-fa5c-5565685b17ac"
      },
      "execution_count": null,
      "outputs": [
        {
          "output_type": "execute_result",
          "data": {
            "text/plain": [
              "[{'rouge-1': {'f': 0.7999999952000001, 'p': 1.0, 'r': 0.6666666666666666},\n",
              "  'rouge-2': {'f': 0.6666666622222223, 'p': 1.0, 'r': 0.5},\n",
              "  'rouge-l': {'f': 0.7999999952000001, 'p': 1.0, 'r': 0.6666666666666666}}]"
            ]
          },
          "metadata": {},
          "execution_count": 284
        }
      ]
    },
    {
      "cell_type": "code",
      "source": [
        "rouge.get_scores(summary, reference)"
      ],
      "metadata": {
        "colab": {
          "base_uri": "https://localhost:8080/"
        },
        "id": "Iji1tJphGake",
        "outputId": "240dae2a-82a7-43b6-82e5-67e4ec85f92f"
      },
      "execution_count": null,
      "outputs": [
        {
          "output_type": "execute_result",
          "data": {
            "text/plain": [
              "[{'rouge-1': {'f': 0.11267605150565385,\n",
              "   'p': 0.09523809523809523,\n",
              "   'r': 0.13793103448275862},\n",
              "  'rouge-2': {'f': 0.0, 'p': 0.0, 'r': 0.0},\n",
              "  'rouge-l': {'f': 0.11267605150565385,\n",
              "   'p': 0.09523809523809523,\n",
              "   'r': 0.13793103448275862}}]"
            ]
          },
          "metadata": {},
          "execution_count": 237
        }
      ]
    },
    {
      "cell_type": "code",
      "source": [
        "rouge.get_scores(summary, full_psy_text)"
      ],
      "metadata": {
        "colab": {
          "base_uri": "https://localhost:8080/"
        },
        "id": "xKKYhEClHlrP",
        "outputId": "f23503b7-c93b-4bb2-84fa-ddd938552ba6"
      },
      "execution_count": null,
      "outputs": [
        {
          "output_type": "execute_result",
          "data": {
            "text/plain": [
              "[{'rouge-1': {'f': 0.1230769203680474,\n",
              "   'p': 0.38095238095238093,\n",
              "   'r': 0.07339449541284404},\n",
              "  'rouge-2': {'f': 0.017241376890771907,\n",
              "   'p': 0.061224489795918366,\n",
              "   'r': 0.010033444816053512},\n",
              "  'rouge-l': {'f': 0.1230769203680474,\n",
              "   'p': 0.38095238095238093,\n",
              "   'r': 0.07339449541284404}}]"
            ]
          },
          "metadata": {},
          "execution_count": 238
        }
      ]
    },
    {
      "cell_type": "markdown",
      "source": [
        "# Final words about possible improvements"
      ],
      "metadata": {
        "id": "SiRXbV7ZOEZ_"
      }
    },
    {
      "cell_type": "markdown",
      "source": [
        "\n",
        "\n",
        "*   Explore dataset (EDA): do linguistical and statistical analysis, for example word frequency calculation, normalization, consider priority of words in language. Fine research on that topic is in this [article](https://www.ijert.org/research/text-summarizer-using-abstractive-and-extractive-method-IJERTV3IS050821.pdf )\n",
        "*   Try RNN and LSTM Solution (idea explained [here](https://www.analyticsvidhya.com/blog/2019/06/comprehensive-guide-text-summarization-using-deep-learning-python/ )) and compare the results\n",
        "*   Improve Text Preprocessing: do plural resolution, abbreviation resolution, synonimum resolution and remove personal information, like: names, cities and so on with the help of NER model\n",
        "*   Fine-Tune Transformers on custom dataset, which consists of psycological sessions recordings\n",
        "\n"
      ],
      "metadata": {
        "id": "ZMxS_6eG5d7l"
      }
    }
  ],
  "metadata": {
    "colab": {
      "collapsed_sections": [
        "2rPsPirQ3vJ6",
        "ZiDLL85QPnFj",
        "eHwudLDSTkGy",
        "_0WuE7pvtJF0",
        "JWeyODYy861u"
      ],
      "name": "SentRanking TextSummarization.ipynb",
      "toc_visible": true,
      "provenance": [],
      "mount_file_id": "1hLwFf0TnW8Jm0rbwhjlk5rUDGuWLLOyM",
      "authorship_tag": "ABX9TyPR89a2YXdtAjjM7elS+xhm",
      "include_colab_link": true
    },
    "kernelspec": {
      "display_name": "Python 3",
      "name": "python3"
    },
    "language_info": {
      "name": "python"
    }
  },
  "nbformat": 4,
  "nbformat_minor": 0
}