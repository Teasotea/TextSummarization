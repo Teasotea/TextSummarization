{
  "nbformat": 4,
  "nbformat_minor": 0,
  "metadata": {
    "colab": {
      "name": "SentRanking TextSummarization.ipynb",
      "provenance": [],
      "collapsed_sections": [],
      "toc_visible": true,
      "mount_file_id": "1hLwFf0TnW8Jm0rbwhjlk5rUDGuWLLOyM",
      "authorship_tag": "ABX9TyPpR9TiVBltbswQ8Po8bLwY",
      "include_colab_link": true
    },
    "kernelspec": {
      "name": "python3",
      "display_name": "Python 3"
    },
    "language_info": {
      "name": "python"
    },
    "widgets": {
      "application/vnd.jupyter.widget-state+json": {
        "adbe361036bb41df9426ad5069e518de": {
          "model_module": "@jupyter-widgets/controls",
          "model_name": "HBoxModel",
          "model_module_version": "1.5.0",
          "state": {
            "_dom_classes": [],
            "_model_module": "@jupyter-widgets/controls",
            "_model_module_version": "1.5.0",
            "_model_name": "HBoxModel",
            "_view_count": null,
            "_view_module": "@jupyter-widgets/controls",
            "_view_module_version": "1.5.0",
            "_view_name": "HBoxView",
            "box_style": "",
            "children": [
              "IPY_MODEL_6dfeda9e12794ad3b1a4e9252aa0e0da",
              "IPY_MODEL_748332814aa04af1be3aeabc6b672625",
              "IPY_MODEL_e8ae3274953e4ccaa8359947fd24679f"
            ],
            "layout": "IPY_MODEL_21a8bc7d292e41148c5fdf62db74a7f7"
          }
        },
        "6dfeda9e12794ad3b1a4e9252aa0e0da": {
          "model_module": "@jupyter-widgets/controls",
          "model_name": "HTMLModel",
          "model_module_version": "1.5.0",
          "state": {
            "_dom_classes": [],
            "_model_module": "@jupyter-widgets/controls",
            "_model_module_version": "1.5.0",
            "_model_name": "HTMLModel",
            "_view_count": null,
            "_view_module": "@jupyter-widgets/controls",
            "_view_module_version": "1.5.0",
            "_view_name": "HTMLView",
            "description": "",
            "description_tooltip": null,
            "layout": "IPY_MODEL_32d1ec6afc054486a8712894257ebd98",
            "placeholder": "​",
            "style": "IPY_MODEL_59324db6b8fd4b6488dbc2d549f49a81",
            "value": "Downloading: 100%"
          }
        },
        "748332814aa04af1be3aeabc6b672625": {
          "model_module": "@jupyter-widgets/controls",
          "model_name": "FloatProgressModel",
          "model_module_version": "1.5.0",
          "state": {
            "_dom_classes": [],
            "_model_module": "@jupyter-widgets/controls",
            "_model_module_version": "1.5.0",
            "_model_name": "FloatProgressModel",
            "_view_count": null,
            "_view_module": "@jupyter-widgets/controls",
            "_view_module_version": "1.5.0",
            "_view_name": "ProgressView",
            "bar_style": "success",
            "description": "",
            "description_tooltip": null,
            "layout": "IPY_MODEL_cdd9f2d187754f488b73270fce961b74",
            "max": 1811625,
            "min": 0,
            "orientation": "horizontal",
            "style": "IPY_MODEL_5936654c396c406990c35902c5a435df",
            "value": 1811625
          }
        },
        "e8ae3274953e4ccaa8359947fd24679f": {
          "model_module": "@jupyter-widgets/controls",
          "model_name": "HTMLModel",
          "model_module_version": "1.5.0",
          "state": {
            "_dom_classes": [],
            "_model_module": "@jupyter-widgets/controls",
            "_model_module_version": "1.5.0",
            "_model_name": "HTMLModel",
            "_view_count": null,
            "_view_module": "@jupyter-widgets/controls",
            "_view_module_version": "1.5.0",
            "_view_name": "HTMLView",
            "description": "",
            "description_tooltip": null,
            "layout": "IPY_MODEL_f33fb44284c34f6fb3187aea379f9ebe",
            "placeholder": "​",
            "style": "IPY_MODEL_6dc85b8d79814f4abff4dc0ff8a1ba6e",
            "value": " 1.73M/1.73M [00:00&lt;00:00, 5.00MB/s]"
          }
        },
        "21a8bc7d292e41148c5fdf62db74a7f7": {
          "model_module": "@jupyter-widgets/base",
          "model_name": "LayoutModel",
          "model_module_version": "1.2.0",
          "state": {
            "_model_module": "@jupyter-widgets/base",
            "_model_module_version": "1.2.0",
            "_model_name": "LayoutModel",
            "_view_count": null,
            "_view_module": "@jupyter-widgets/base",
            "_view_module_version": "1.2.0",
            "_view_name": "LayoutView",
            "align_content": null,
            "align_items": null,
            "align_self": null,
            "border": null,
            "bottom": null,
            "display": null,
            "flex": null,
            "flex_flow": null,
            "grid_area": null,
            "grid_auto_columns": null,
            "grid_auto_flow": null,
            "grid_auto_rows": null,
            "grid_column": null,
            "grid_gap": null,
            "grid_row": null,
            "grid_template_areas": null,
            "grid_template_columns": null,
            "grid_template_rows": null,
            "height": null,
            "justify_content": null,
            "justify_items": null,
            "left": null,
            "margin": null,
            "max_height": null,
            "max_width": null,
            "min_height": null,
            "min_width": null,
            "object_fit": null,
            "object_position": null,
            "order": null,
            "overflow": null,
            "overflow_x": null,
            "overflow_y": null,
            "padding": null,
            "right": null,
            "top": null,
            "visibility": null,
            "width": null
          }
        },
        "32d1ec6afc054486a8712894257ebd98": {
          "model_module": "@jupyter-widgets/base",
          "model_name": "LayoutModel",
          "model_module_version": "1.2.0",
          "state": {
            "_model_module": "@jupyter-widgets/base",
            "_model_module_version": "1.2.0",
            "_model_name": "LayoutModel",
            "_view_count": null,
            "_view_module": "@jupyter-widgets/base",
            "_view_module_version": "1.2.0",
            "_view_name": "LayoutView",
            "align_content": null,
            "align_items": null,
            "align_self": null,
            "border": null,
            "bottom": null,
            "display": null,
            "flex": null,
            "flex_flow": null,
            "grid_area": null,
            "grid_auto_columns": null,
            "grid_auto_flow": null,
            "grid_auto_rows": null,
            "grid_column": null,
            "grid_gap": null,
            "grid_row": null,
            "grid_template_areas": null,
            "grid_template_columns": null,
            "grid_template_rows": null,
            "height": null,
            "justify_content": null,
            "justify_items": null,
            "left": null,
            "margin": null,
            "max_height": null,
            "max_width": null,
            "min_height": null,
            "min_width": null,
            "object_fit": null,
            "object_position": null,
            "order": null,
            "overflow": null,
            "overflow_x": null,
            "overflow_y": null,
            "padding": null,
            "right": null,
            "top": null,
            "visibility": null,
            "width": null
          }
        },
        "59324db6b8fd4b6488dbc2d549f49a81": {
          "model_module": "@jupyter-widgets/controls",
          "model_name": "DescriptionStyleModel",
          "model_module_version": "1.5.0",
          "state": {
            "_model_module": "@jupyter-widgets/controls",
            "_model_module_version": "1.5.0",
            "_model_name": "DescriptionStyleModel",
            "_view_count": null,
            "_view_module": "@jupyter-widgets/base",
            "_view_module_version": "1.2.0",
            "_view_name": "StyleView",
            "description_width": ""
          }
        },
        "cdd9f2d187754f488b73270fce961b74": {
          "model_module": "@jupyter-widgets/base",
          "model_name": "LayoutModel",
          "model_module_version": "1.2.0",
          "state": {
            "_model_module": "@jupyter-widgets/base",
            "_model_module_version": "1.2.0",
            "_model_name": "LayoutModel",
            "_view_count": null,
            "_view_module": "@jupyter-widgets/base",
            "_view_module_version": "1.2.0",
            "_view_name": "LayoutView",
            "align_content": null,
            "align_items": null,
            "align_self": null,
            "border": null,
            "bottom": null,
            "display": null,
            "flex": null,
            "flex_flow": null,
            "grid_area": null,
            "grid_auto_columns": null,
            "grid_auto_flow": null,
            "grid_auto_rows": null,
            "grid_column": null,
            "grid_gap": null,
            "grid_row": null,
            "grid_template_areas": null,
            "grid_template_columns": null,
            "grid_template_rows": null,
            "height": null,
            "justify_content": null,
            "justify_items": null,
            "left": null,
            "margin": null,
            "max_height": null,
            "max_width": null,
            "min_height": null,
            "min_width": null,
            "object_fit": null,
            "object_position": null,
            "order": null,
            "overflow": null,
            "overflow_x": null,
            "overflow_y": null,
            "padding": null,
            "right": null,
            "top": null,
            "visibility": null,
            "width": null
          }
        },
        "5936654c396c406990c35902c5a435df": {
          "model_module": "@jupyter-widgets/controls",
          "model_name": "ProgressStyleModel",
          "model_module_version": "1.5.0",
          "state": {
            "_model_module": "@jupyter-widgets/controls",
            "_model_module_version": "1.5.0",
            "_model_name": "ProgressStyleModel",
            "_view_count": null,
            "_view_module": "@jupyter-widgets/base",
            "_view_module_version": "1.2.0",
            "_view_name": "StyleView",
            "bar_color": null,
            "description_width": ""
          }
        },
        "f33fb44284c34f6fb3187aea379f9ebe": {
          "model_module": "@jupyter-widgets/base",
          "model_name": "LayoutModel",
          "model_module_version": "1.2.0",
          "state": {
            "_model_module": "@jupyter-widgets/base",
            "_model_module_version": "1.2.0",
            "_model_name": "LayoutModel",
            "_view_count": null,
            "_view_module": "@jupyter-widgets/base",
            "_view_module_version": "1.2.0",
            "_view_name": "LayoutView",
            "align_content": null,
            "align_items": null,
            "align_self": null,
            "border": null,
            "bottom": null,
            "display": null,
            "flex": null,
            "flex_flow": null,
            "grid_area": null,
            "grid_auto_columns": null,
            "grid_auto_flow": null,
            "grid_auto_rows": null,
            "grid_column": null,
            "grid_gap": null,
            "grid_row": null,
            "grid_template_areas": null,
            "grid_template_columns": null,
            "grid_template_rows": null,
            "height": null,
            "justify_content": null,
            "justify_items": null,
            "left": null,
            "margin": null,
            "max_height": null,
            "max_width": null,
            "min_height": null,
            "min_width": null,
            "object_fit": null,
            "object_position": null,
            "order": null,
            "overflow": null,
            "overflow_x": null,
            "overflow_y": null,
            "padding": null,
            "right": null,
            "top": null,
            "visibility": null,
            "width": null
          }
        },
        "6dc85b8d79814f4abff4dc0ff8a1ba6e": {
          "model_module": "@jupyter-widgets/controls",
          "model_name": "DescriptionStyleModel",
          "model_module_version": "1.5.0",
          "state": {
            "_model_module": "@jupyter-widgets/controls",
            "_model_module_version": "1.5.0",
            "_model_name": "DescriptionStyleModel",
            "_view_count": null,
            "_view_module": "@jupyter-widgets/base",
            "_view_module_version": "1.2.0",
            "_view_name": "StyleView",
            "description_width": ""
          }
        },
        "8342c9724bcb4bc7a128c5592bf606bd": {
          "model_module": "@jupyter-widgets/controls",
          "model_name": "HBoxModel",
          "model_module_version": "1.5.0",
          "state": {
            "_dom_classes": [],
            "_model_module": "@jupyter-widgets/controls",
            "_model_module_version": "1.5.0",
            "_model_name": "HBoxModel",
            "_view_count": null,
            "_view_module": "@jupyter-widgets/controls",
            "_view_module_version": "1.5.0",
            "_view_name": "HBoxView",
            "box_style": "",
            "children": [
              "IPY_MODEL_63fb461aac594c2586f78c53bc36add0",
              "IPY_MODEL_f911af0acf3f46eaaa60529118bfdd84",
              "IPY_MODEL_19a12c7e538f48f9ad228cfcf66376d3"
            ],
            "layout": "IPY_MODEL_b8669a53880945d2b9672f044a09fb21"
          }
        },
        "63fb461aac594c2586f78c53bc36add0": {
          "model_module": "@jupyter-widgets/controls",
          "model_name": "HTMLModel",
          "model_module_version": "1.5.0",
          "state": {
            "_dom_classes": [],
            "_model_module": "@jupyter-widgets/controls",
            "_model_module_version": "1.5.0",
            "_model_name": "HTMLModel",
            "_view_count": null,
            "_view_module": "@jupyter-widgets/controls",
            "_view_module_version": "1.5.0",
            "_view_name": "HTMLView",
            "description": "",
            "description_tooltip": null,
            "layout": "IPY_MODEL_58fafa3f529745f4bb730c1707ad3cb7",
            "placeholder": "​",
            "style": "IPY_MODEL_7bd85762180f4ff2b6f9b2766b6f8352",
            "value": "Downloading: 100%"
          }
        },
        "f911af0acf3f46eaaa60529118bfdd84": {
          "model_module": "@jupyter-widgets/controls",
          "model_name": "FloatProgressModel",
          "model_module_version": "1.5.0",
          "state": {
            "_dom_classes": [],
            "_model_module": "@jupyter-widgets/controls",
            "_model_module_version": "1.5.0",
            "_model_name": "FloatProgressModel",
            "_view_count": null,
            "_view_module": "@jupyter-widgets/controls",
            "_view_module_version": "1.5.0",
            "_view_name": "ProgressView",
            "bar_style": "success",
            "description": "",
            "description_tooltip": null,
            "layout": "IPY_MODEL_3a557c63df3841718c6cdff8d284404c",
            "max": 1369443,
            "min": 0,
            "orientation": "horizontal",
            "style": "IPY_MODEL_30fa10dcd6144569a80b32a020087353",
            "value": 1369443
          }
        },
        "19a12c7e538f48f9ad228cfcf66376d3": {
          "model_module": "@jupyter-widgets/controls",
          "model_name": "HTMLModel",
          "model_module_version": "1.5.0",
          "state": {
            "_dom_classes": [],
            "_model_module": "@jupyter-widgets/controls",
            "_model_module_version": "1.5.0",
            "_model_name": "HTMLModel",
            "_view_count": null,
            "_view_module": "@jupyter-widgets/controls",
            "_view_module_version": "1.5.0",
            "_view_name": "HTMLView",
            "description": "",
            "description_tooltip": null,
            "layout": "IPY_MODEL_c7f7656ffe964dda806616afbebca770",
            "placeholder": "​",
            "style": "IPY_MODEL_49b13f461dd1492897ceba531f0cad41",
            "value": " 1.31M/1.31M [00:00&lt;00:00, 1.59MB/s]"
          }
        },
        "b8669a53880945d2b9672f044a09fb21": {
          "model_module": "@jupyter-widgets/base",
          "model_name": "LayoutModel",
          "model_module_version": "1.2.0",
          "state": {
            "_model_module": "@jupyter-widgets/base",
            "_model_module_version": "1.2.0",
            "_model_name": "LayoutModel",
            "_view_count": null,
            "_view_module": "@jupyter-widgets/base",
            "_view_module_version": "1.2.0",
            "_view_name": "LayoutView",
            "align_content": null,
            "align_items": null,
            "align_self": null,
            "border": null,
            "bottom": null,
            "display": null,
            "flex": null,
            "flex_flow": null,
            "grid_area": null,
            "grid_auto_columns": null,
            "grid_auto_flow": null,
            "grid_auto_rows": null,
            "grid_column": null,
            "grid_gap": null,
            "grid_row": null,
            "grid_template_areas": null,
            "grid_template_columns": null,
            "grid_template_rows": null,
            "height": null,
            "justify_content": null,
            "justify_items": null,
            "left": null,
            "margin": null,
            "max_height": null,
            "max_width": null,
            "min_height": null,
            "min_width": null,
            "object_fit": null,
            "object_position": null,
            "order": null,
            "overflow": null,
            "overflow_x": null,
            "overflow_y": null,
            "padding": null,
            "right": null,
            "top": null,
            "visibility": null,
            "width": null
          }
        },
        "58fafa3f529745f4bb730c1707ad3cb7": {
          "model_module": "@jupyter-widgets/base",
          "model_name": "LayoutModel",
          "model_module_version": "1.2.0",
          "state": {
            "_model_module": "@jupyter-widgets/base",
            "_model_module_version": "1.2.0",
            "_model_name": "LayoutModel",
            "_view_count": null,
            "_view_module": "@jupyter-widgets/base",
            "_view_module_version": "1.2.0",
            "_view_name": "LayoutView",
            "align_content": null,
            "align_items": null,
            "align_self": null,
            "border": null,
            "bottom": null,
            "display": null,
            "flex": null,
            "flex_flow": null,
            "grid_area": null,
            "grid_auto_columns": null,
            "grid_auto_flow": null,
            "grid_auto_rows": null,
            "grid_column": null,
            "grid_gap": null,
            "grid_row": null,
            "grid_template_areas": null,
            "grid_template_columns": null,
            "grid_template_rows": null,
            "height": null,
            "justify_content": null,
            "justify_items": null,
            "left": null,
            "margin": null,
            "max_height": null,
            "max_width": null,
            "min_height": null,
            "min_width": null,
            "object_fit": null,
            "object_position": null,
            "order": null,
            "overflow": null,
            "overflow_x": null,
            "overflow_y": null,
            "padding": null,
            "right": null,
            "top": null,
            "visibility": null,
            "width": null
          }
        },
        "7bd85762180f4ff2b6f9b2766b6f8352": {
          "model_module": "@jupyter-widgets/controls",
          "model_name": "DescriptionStyleModel",
          "model_module_version": "1.5.0",
          "state": {
            "_model_module": "@jupyter-widgets/controls",
            "_model_module_version": "1.5.0",
            "_model_name": "DescriptionStyleModel",
            "_view_count": null,
            "_view_module": "@jupyter-widgets/base",
            "_view_module_version": "1.2.0",
            "_view_name": "StyleView",
            "description_width": ""
          }
        },
        "3a557c63df3841718c6cdff8d284404c": {
          "model_module": "@jupyter-widgets/base",
          "model_name": "LayoutModel",
          "model_module_version": "1.2.0",
          "state": {
            "_model_module": "@jupyter-widgets/base",
            "_model_module_version": "1.2.0",
            "_model_name": "LayoutModel",
            "_view_count": null,
            "_view_module": "@jupyter-widgets/base",
            "_view_module_version": "1.2.0",
            "_view_name": "LayoutView",
            "align_content": null,
            "align_items": null,
            "align_self": null,
            "border": null,
            "bottom": null,
            "display": null,
            "flex": null,
            "flex_flow": null,
            "grid_area": null,
            "grid_auto_columns": null,
            "grid_auto_flow": null,
            "grid_auto_rows": null,
            "grid_column": null,
            "grid_gap": null,
            "grid_row": null,
            "grid_template_areas": null,
            "grid_template_columns": null,
            "grid_template_rows": null,
            "height": null,
            "justify_content": null,
            "justify_items": null,
            "left": null,
            "margin": null,
            "max_height": null,
            "max_width": null,
            "min_height": null,
            "min_width": null,
            "object_fit": null,
            "object_position": null,
            "order": null,
            "overflow": null,
            "overflow_x": null,
            "overflow_y": null,
            "padding": null,
            "right": null,
            "top": null,
            "visibility": null,
            "width": null
          }
        },
        "30fa10dcd6144569a80b32a020087353": {
          "model_module": "@jupyter-widgets/controls",
          "model_name": "ProgressStyleModel",
          "model_module_version": "1.5.0",
          "state": {
            "_model_module": "@jupyter-widgets/controls",
            "_model_module_version": "1.5.0",
            "_model_name": "ProgressStyleModel",
            "_view_count": null,
            "_view_module": "@jupyter-widgets/base",
            "_view_module_version": "1.2.0",
            "_view_name": "StyleView",
            "bar_color": null,
            "description_width": ""
          }
        },
        "c7f7656ffe964dda806616afbebca770": {
          "model_module": "@jupyter-widgets/base",
          "model_name": "LayoutModel",
          "model_module_version": "1.2.0",
          "state": {
            "_model_module": "@jupyter-widgets/base",
            "_model_module_version": "1.2.0",
            "_model_name": "LayoutModel",
            "_view_count": null,
            "_view_module": "@jupyter-widgets/base",
            "_view_module_version": "1.2.0",
            "_view_name": "LayoutView",
            "align_content": null,
            "align_items": null,
            "align_self": null,
            "border": null,
            "bottom": null,
            "display": null,
            "flex": null,
            "flex_flow": null,
            "grid_area": null,
            "grid_auto_columns": null,
            "grid_auto_flow": null,
            "grid_auto_rows": null,
            "grid_column": null,
            "grid_gap": null,
            "grid_row": null,
            "grid_template_areas": null,
            "grid_template_columns": null,
            "grid_template_rows": null,
            "height": null,
            "justify_content": null,
            "justify_items": null,
            "left": null,
            "margin": null,
            "max_height": null,
            "max_width": null,
            "min_height": null,
            "min_width": null,
            "object_fit": null,
            "object_position": null,
            "order": null,
            "overflow": null,
            "overflow_x": null,
            "overflow_y": null,
            "padding": null,
            "right": null,
            "top": null,
            "visibility": null,
            "width": null
          }
        },
        "49b13f461dd1492897ceba531f0cad41": {
          "model_module": "@jupyter-widgets/controls",
          "model_name": "DescriptionStyleModel",
          "model_module_version": "1.5.0",
          "state": {
            "_model_module": "@jupyter-widgets/controls",
            "_model_module_version": "1.5.0",
            "_model_name": "DescriptionStyleModel",
            "_view_count": null,
            "_view_module": "@jupyter-widgets/base",
            "_view_module_version": "1.2.0",
            "_view_name": "StyleView",
            "description_width": ""
          }
        },
        "fa5cab1303f94436bd5b7a2836a5bf5e": {
          "model_module": "@jupyter-widgets/controls",
          "model_name": "HBoxModel",
          "model_module_version": "1.5.0",
          "state": {
            "_dom_classes": [],
            "_model_module": "@jupyter-widgets/controls",
            "_model_module_version": "1.5.0",
            "_model_name": "HBoxModel",
            "_view_count": null,
            "_view_module": "@jupyter-widgets/controls",
            "_view_module_version": "1.5.0",
            "_view_name": "HBoxView",
            "box_style": "",
            "children": [
              "IPY_MODEL_f1c58cc63b5a489f970b53cb4cbdc9a2",
              "IPY_MODEL_23cf745304684793a508300c84564e3e",
              "IPY_MODEL_7626b5d315fc4c85a3496d8764eb547c"
            ],
            "layout": "IPY_MODEL_e27aa413506f4234b304d68bb154701f"
          }
        },
        "f1c58cc63b5a489f970b53cb4cbdc9a2": {
          "model_module": "@jupyter-widgets/controls",
          "model_name": "HTMLModel",
          "model_module_version": "1.5.0",
          "state": {
            "_dom_classes": [],
            "_model_module": "@jupyter-widgets/controls",
            "_model_module_version": "1.5.0",
            "_model_name": "HTMLModel",
            "_view_count": null,
            "_view_module": "@jupyter-widgets/controls",
            "_view_module_version": "1.5.0",
            "_view_name": "HTMLView",
            "description": "",
            "description_tooltip": null,
            "layout": "IPY_MODEL_2e663d7a7e6e46ee9c375c168dfbb8e2",
            "placeholder": "​",
            "style": "IPY_MODEL_5a11ac15ef184d0a918df859b1774c72",
            "value": "Downloading: 100%"
          }
        },
        "23cf745304684793a508300c84564e3e": {
          "model_module": "@jupyter-widgets/controls",
          "model_name": "FloatProgressModel",
          "model_module_version": "1.5.0",
          "state": {
            "_dom_classes": [],
            "_model_module": "@jupyter-widgets/controls",
            "_model_module_version": "1.5.0",
            "_model_name": "FloatProgressModel",
            "_view_count": null,
            "_view_module": "@jupyter-widgets/controls",
            "_view_module_version": "1.5.0",
            "_view_name": "ProgressView",
            "bar_style": "success",
            "description": "",
            "description_tooltip": null,
            "layout": "IPY_MODEL_c6e124071eb147bc88a52a3da1737d41",
            "max": 357,
            "min": 0,
            "orientation": "horizontal",
            "style": "IPY_MODEL_d9283186bac941e5a8f28a4f30429708",
            "value": 357
          }
        },
        "7626b5d315fc4c85a3496d8764eb547c": {
          "model_module": "@jupyter-widgets/controls",
          "model_name": "HTMLModel",
          "model_module_version": "1.5.0",
          "state": {
            "_dom_classes": [],
            "_model_module": "@jupyter-widgets/controls",
            "_model_module_version": "1.5.0",
            "_model_name": "HTMLModel",
            "_view_count": null,
            "_view_module": "@jupyter-widgets/controls",
            "_view_module_version": "1.5.0",
            "_view_name": "HTMLView",
            "description": "",
            "description_tooltip": null,
            "layout": "IPY_MODEL_75fa82e18d164fa090765aeb30fda6c3",
            "placeholder": "​",
            "style": "IPY_MODEL_46a61e08b2d7468786760e7efa1447e9",
            "value": " 357/357 [00:00&lt;00:00, 2.29kB/s]"
          }
        },
        "e27aa413506f4234b304d68bb154701f": {
          "model_module": "@jupyter-widgets/base",
          "model_name": "LayoutModel",
          "model_module_version": "1.2.0",
          "state": {
            "_model_module": "@jupyter-widgets/base",
            "_model_module_version": "1.2.0",
            "_model_name": "LayoutModel",
            "_view_count": null,
            "_view_module": "@jupyter-widgets/base",
            "_view_module_version": "1.2.0",
            "_view_name": "LayoutView",
            "align_content": null,
            "align_items": null,
            "align_self": null,
            "border": null,
            "bottom": null,
            "display": null,
            "flex": null,
            "flex_flow": null,
            "grid_area": null,
            "grid_auto_columns": null,
            "grid_auto_flow": null,
            "grid_auto_rows": null,
            "grid_column": null,
            "grid_gap": null,
            "grid_row": null,
            "grid_template_areas": null,
            "grid_template_columns": null,
            "grid_template_rows": null,
            "height": null,
            "justify_content": null,
            "justify_items": null,
            "left": null,
            "margin": null,
            "max_height": null,
            "max_width": null,
            "min_height": null,
            "min_width": null,
            "object_fit": null,
            "object_position": null,
            "order": null,
            "overflow": null,
            "overflow_x": null,
            "overflow_y": null,
            "padding": null,
            "right": null,
            "top": null,
            "visibility": null,
            "width": null
          }
        },
        "2e663d7a7e6e46ee9c375c168dfbb8e2": {
          "model_module": "@jupyter-widgets/base",
          "model_name": "LayoutModel",
          "model_module_version": "1.2.0",
          "state": {
            "_model_module": "@jupyter-widgets/base",
            "_model_module_version": "1.2.0",
            "_model_name": "LayoutModel",
            "_view_count": null,
            "_view_module": "@jupyter-widgets/base",
            "_view_module_version": "1.2.0",
            "_view_name": "LayoutView",
            "align_content": null,
            "align_items": null,
            "align_self": null,
            "border": null,
            "bottom": null,
            "display": null,
            "flex": null,
            "flex_flow": null,
            "grid_area": null,
            "grid_auto_columns": null,
            "grid_auto_flow": null,
            "grid_auto_rows": null,
            "grid_column": null,
            "grid_gap": null,
            "grid_row": null,
            "grid_template_areas": null,
            "grid_template_columns": null,
            "grid_template_rows": null,
            "height": null,
            "justify_content": null,
            "justify_items": null,
            "left": null,
            "margin": null,
            "max_height": null,
            "max_width": null,
            "min_height": null,
            "min_width": null,
            "object_fit": null,
            "object_position": null,
            "order": null,
            "overflow": null,
            "overflow_x": null,
            "overflow_y": null,
            "padding": null,
            "right": null,
            "top": null,
            "visibility": null,
            "width": null
          }
        },
        "5a11ac15ef184d0a918df859b1774c72": {
          "model_module": "@jupyter-widgets/controls",
          "model_name": "DescriptionStyleModel",
          "model_module_version": "1.5.0",
          "state": {
            "_model_module": "@jupyter-widgets/controls",
            "_model_module_version": "1.5.0",
            "_model_name": "DescriptionStyleModel",
            "_view_count": null,
            "_view_module": "@jupyter-widgets/base",
            "_view_module_version": "1.2.0",
            "_view_name": "StyleView",
            "description_width": ""
          }
        },
        "c6e124071eb147bc88a52a3da1737d41": {
          "model_module": "@jupyter-widgets/base",
          "model_name": "LayoutModel",
          "model_module_version": "1.2.0",
          "state": {
            "_model_module": "@jupyter-widgets/base",
            "_model_module_version": "1.2.0",
            "_model_name": "LayoutModel",
            "_view_count": null,
            "_view_module": "@jupyter-widgets/base",
            "_view_module_version": "1.2.0",
            "_view_name": "LayoutView",
            "align_content": null,
            "align_items": null,
            "align_self": null,
            "border": null,
            "bottom": null,
            "display": null,
            "flex": null,
            "flex_flow": null,
            "grid_area": null,
            "grid_auto_columns": null,
            "grid_auto_flow": null,
            "grid_auto_rows": null,
            "grid_column": null,
            "grid_gap": null,
            "grid_row": null,
            "grid_template_areas": null,
            "grid_template_columns": null,
            "grid_template_rows": null,
            "height": null,
            "justify_content": null,
            "justify_items": null,
            "left": null,
            "margin": null,
            "max_height": null,
            "max_width": null,
            "min_height": null,
            "min_width": null,
            "object_fit": null,
            "object_position": null,
            "order": null,
            "overflow": null,
            "overflow_x": null,
            "overflow_y": null,
            "padding": null,
            "right": null,
            "top": null,
            "visibility": null,
            "width": null
          }
        },
        "d9283186bac941e5a8f28a4f30429708": {
          "model_module": "@jupyter-widgets/controls",
          "model_name": "ProgressStyleModel",
          "model_module_version": "1.5.0",
          "state": {
            "_model_module": "@jupyter-widgets/controls",
            "_model_module_version": "1.5.0",
            "_model_name": "ProgressStyleModel",
            "_view_count": null,
            "_view_module": "@jupyter-widgets/base",
            "_view_module_version": "1.2.0",
            "_view_name": "StyleView",
            "bar_color": null,
            "description_width": ""
          }
        },
        "75fa82e18d164fa090765aeb30fda6c3": {
          "model_module": "@jupyter-widgets/base",
          "model_name": "LayoutModel",
          "model_module_version": "1.2.0",
          "state": {
            "_model_module": "@jupyter-widgets/base",
            "_model_module_version": "1.2.0",
            "_model_name": "LayoutModel",
            "_view_count": null,
            "_view_module": "@jupyter-widgets/base",
            "_view_module_version": "1.2.0",
            "_view_name": "LayoutView",
            "align_content": null,
            "align_items": null,
            "align_self": null,
            "border": null,
            "bottom": null,
            "display": null,
            "flex": null,
            "flex_flow": null,
            "grid_area": null,
            "grid_auto_columns": null,
            "grid_auto_flow": null,
            "grid_auto_rows": null,
            "grid_column": null,
            "grid_gap": null,
            "grid_row": null,
            "grid_template_areas": null,
            "grid_template_columns": null,
            "grid_template_rows": null,
            "height": null,
            "justify_content": null,
            "justify_items": null,
            "left": null,
            "margin": null,
            "max_height": null,
            "max_width": null,
            "min_height": null,
            "min_width": null,
            "object_fit": null,
            "object_position": null,
            "order": null,
            "overflow": null,
            "overflow_x": null,
            "overflow_y": null,
            "padding": null,
            "right": null,
            "top": null,
            "visibility": null,
            "width": null
          }
        },
        "46a61e08b2d7468786760e7efa1447e9": {
          "model_module": "@jupyter-widgets/controls",
          "model_name": "DescriptionStyleModel",
          "model_module_version": "1.5.0",
          "state": {
            "_model_module": "@jupyter-widgets/controls",
            "_model_module_version": "1.5.0",
            "_model_name": "DescriptionStyleModel",
            "_view_count": null,
            "_view_module": "@jupyter-widgets/base",
            "_view_module_version": "1.2.0",
            "_view_name": "StyleView",
            "description_width": ""
          }
        },
        "40922a07940541859c16f36c3532c5a7": {
          "model_module": "@jupyter-widgets/controls",
          "model_name": "HBoxModel",
          "model_module_version": "1.5.0",
          "state": {
            "_dom_classes": [],
            "_model_module": "@jupyter-widgets/controls",
            "_model_module_version": "1.5.0",
            "_model_name": "HBoxModel",
            "_view_count": null,
            "_view_module": "@jupyter-widgets/controls",
            "_view_module_version": "1.5.0",
            "_view_name": "HBoxView",
            "box_style": "",
            "children": [
              "IPY_MODEL_b634cafff5294ef7bb4dff946ef88a22",
              "IPY_MODEL_a4628b261e124c489b36f102a9da0b58",
              "IPY_MODEL_e5efe3730d18454baa8fc7ff4f4e6881"
            ],
            "layout": "IPY_MODEL_fa36398c880f4b9091bfd377447bb710"
          }
        },
        "b634cafff5294ef7bb4dff946ef88a22": {
          "model_module": "@jupyter-widgets/controls",
          "model_name": "HTMLModel",
          "model_module_version": "1.5.0",
          "state": {
            "_dom_classes": [],
            "_model_module": "@jupyter-widgets/controls",
            "_model_module_version": "1.5.0",
            "_model_name": "HTMLModel",
            "_view_count": null,
            "_view_module": "@jupyter-widgets/controls",
            "_view_module_version": "1.5.0",
            "_view_name": "HTMLView",
            "description": "",
            "description_tooltip": null,
            "layout": "IPY_MODEL_8e942bcf4575465b8af0806711f2e74b",
            "placeholder": "​",
            "style": "IPY_MODEL_e9b0eaedb028478694fa33d4d869da98",
            "value": "Downloading: 100%"
          }
        },
        "a4628b261e124c489b36f102a9da0b58": {
          "model_module": "@jupyter-widgets/controls",
          "model_name": "FloatProgressModel",
          "model_module_version": "1.5.0",
          "state": {
            "_dom_classes": [],
            "_model_module": "@jupyter-widgets/controls",
            "_model_module_version": "1.5.0",
            "_model_name": "FloatProgressModel",
            "_view_count": null,
            "_view_module": "@jupyter-widgets/controls",
            "_view_module_version": "1.5.0",
            "_view_name": "ProgressView",
            "bar_style": "success",
            "description": "",
            "description_tooltip": null,
            "layout": "IPY_MODEL_3b846849f1984a6fa6eb0ba4313e1fda",
            "max": 486,
            "min": 0,
            "orientation": "horizontal",
            "style": "IPY_MODEL_73deb45cc58443d08a7b6274845f5473",
            "value": 486
          }
        },
        "e5efe3730d18454baa8fc7ff4f4e6881": {
          "model_module": "@jupyter-widgets/controls",
          "model_name": "HTMLModel",
          "model_module_version": "1.5.0",
          "state": {
            "_dom_classes": [],
            "_model_module": "@jupyter-widgets/controls",
            "_model_module_version": "1.5.0",
            "_model_name": "HTMLModel",
            "_view_count": null,
            "_view_module": "@jupyter-widgets/controls",
            "_view_module_version": "1.5.0",
            "_view_name": "HTMLView",
            "description": "",
            "description_tooltip": null,
            "layout": "IPY_MODEL_f6f7a9be06cf4460b85e522b4d4e7587",
            "placeholder": "​",
            "style": "IPY_MODEL_5aa86a0865694abaa1ce46305b4b321b",
            "value": " 486/486 [00:00&lt;00:00, 3.28kB/s]"
          }
        },
        "fa36398c880f4b9091bfd377447bb710": {
          "model_module": "@jupyter-widgets/base",
          "model_name": "LayoutModel",
          "model_module_version": "1.2.0",
          "state": {
            "_model_module": "@jupyter-widgets/base",
            "_model_module_version": "1.2.0",
            "_model_name": "LayoutModel",
            "_view_count": null,
            "_view_module": "@jupyter-widgets/base",
            "_view_module_version": "1.2.0",
            "_view_name": "LayoutView",
            "align_content": null,
            "align_items": null,
            "align_self": null,
            "border": null,
            "bottom": null,
            "display": null,
            "flex": null,
            "flex_flow": null,
            "grid_area": null,
            "grid_auto_columns": null,
            "grid_auto_flow": null,
            "grid_auto_rows": null,
            "grid_column": null,
            "grid_gap": null,
            "grid_row": null,
            "grid_template_areas": null,
            "grid_template_columns": null,
            "grid_template_rows": null,
            "height": null,
            "justify_content": null,
            "justify_items": null,
            "left": null,
            "margin": null,
            "max_height": null,
            "max_width": null,
            "min_height": null,
            "min_width": null,
            "object_fit": null,
            "object_position": null,
            "order": null,
            "overflow": null,
            "overflow_x": null,
            "overflow_y": null,
            "padding": null,
            "right": null,
            "top": null,
            "visibility": null,
            "width": null
          }
        },
        "8e942bcf4575465b8af0806711f2e74b": {
          "model_module": "@jupyter-widgets/base",
          "model_name": "LayoutModel",
          "model_module_version": "1.2.0",
          "state": {
            "_model_module": "@jupyter-widgets/base",
            "_model_module_version": "1.2.0",
            "_model_name": "LayoutModel",
            "_view_count": null,
            "_view_module": "@jupyter-widgets/base",
            "_view_module_version": "1.2.0",
            "_view_name": "LayoutView",
            "align_content": null,
            "align_items": null,
            "align_self": null,
            "border": null,
            "bottom": null,
            "display": null,
            "flex": null,
            "flex_flow": null,
            "grid_area": null,
            "grid_auto_columns": null,
            "grid_auto_flow": null,
            "grid_auto_rows": null,
            "grid_column": null,
            "grid_gap": null,
            "grid_row": null,
            "grid_template_areas": null,
            "grid_template_columns": null,
            "grid_template_rows": null,
            "height": null,
            "justify_content": null,
            "justify_items": null,
            "left": null,
            "margin": null,
            "max_height": null,
            "max_width": null,
            "min_height": null,
            "min_width": null,
            "object_fit": null,
            "object_position": null,
            "order": null,
            "overflow": null,
            "overflow_x": null,
            "overflow_y": null,
            "padding": null,
            "right": null,
            "top": null,
            "visibility": null,
            "width": null
          }
        },
        "e9b0eaedb028478694fa33d4d869da98": {
          "model_module": "@jupyter-widgets/controls",
          "model_name": "DescriptionStyleModel",
          "model_module_version": "1.5.0",
          "state": {
            "_model_module": "@jupyter-widgets/controls",
            "_model_module_version": "1.5.0",
            "_model_name": "DescriptionStyleModel",
            "_view_count": null,
            "_view_module": "@jupyter-widgets/base",
            "_view_module_version": "1.2.0",
            "_view_name": "StyleView",
            "description_width": ""
          }
        },
        "3b846849f1984a6fa6eb0ba4313e1fda": {
          "model_module": "@jupyter-widgets/base",
          "model_name": "LayoutModel",
          "model_module_version": "1.2.0",
          "state": {
            "_model_module": "@jupyter-widgets/base",
            "_model_module_version": "1.2.0",
            "_model_name": "LayoutModel",
            "_view_count": null,
            "_view_module": "@jupyter-widgets/base",
            "_view_module_version": "1.2.0",
            "_view_name": "LayoutView",
            "align_content": null,
            "align_items": null,
            "align_self": null,
            "border": null,
            "bottom": null,
            "display": null,
            "flex": null,
            "flex_flow": null,
            "grid_area": null,
            "grid_auto_columns": null,
            "grid_auto_flow": null,
            "grid_auto_rows": null,
            "grid_column": null,
            "grid_gap": null,
            "grid_row": null,
            "grid_template_areas": null,
            "grid_template_columns": null,
            "grid_template_rows": null,
            "height": null,
            "justify_content": null,
            "justify_items": null,
            "left": null,
            "margin": null,
            "max_height": null,
            "max_width": null,
            "min_height": null,
            "min_width": null,
            "object_fit": null,
            "object_position": null,
            "order": null,
            "overflow": null,
            "overflow_x": null,
            "overflow_y": null,
            "padding": null,
            "right": null,
            "top": null,
            "visibility": null,
            "width": null
          }
        },
        "73deb45cc58443d08a7b6274845f5473": {
          "model_module": "@jupyter-widgets/controls",
          "model_name": "ProgressStyleModel",
          "model_module_version": "1.5.0",
          "state": {
            "_model_module": "@jupyter-widgets/controls",
            "_model_module_version": "1.5.0",
            "_model_name": "ProgressStyleModel",
            "_view_count": null,
            "_view_module": "@jupyter-widgets/base",
            "_view_module_version": "1.2.0",
            "_view_name": "StyleView",
            "bar_color": null,
            "description_width": ""
          }
        },
        "f6f7a9be06cf4460b85e522b4d4e7587": {
          "model_module": "@jupyter-widgets/base",
          "model_name": "LayoutModel",
          "model_module_version": "1.2.0",
          "state": {
            "_model_module": "@jupyter-widgets/base",
            "_model_module_version": "1.2.0",
            "_model_name": "LayoutModel",
            "_view_count": null,
            "_view_module": "@jupyter-widgets/base",
            "_view_module_version": "1.2.0",
            "_view_name": "LayoutView",
            "align_content": null,
            "align_items": null,
            "align_self": null,
            "border": null,
            "bottom": null,
            "display": null,
            "flex": null,
            "flex_flow": null,
            "grid_area": null,
            "grid_auto_columns": null,
            "grid_auto_flow": null,
            "grid_auto_rows": null,
            "grid_column": null,
            "grid_gap": null,
            "grid_row": null,
            "grid_template_areas": null,
            "grid_template_columns": null,
            "grid_template_rows": null,
            "height": null,
            "justify_content": null,
            "justify_items": null,
            "left": null,
            "margin": null,
            "max_height": null,
            "max_width": null,
            "min_height": null,
            "min_width": null,
            "object_fit": null,
            "object_position": null,
            "order": null,
            "overflow": null,
            "overflow_x": null,
            "overflow_y": null,
            "padding": null,
            "right": null,
            "top": null,
            "visibility": null,
            "width": null
          }
        },
        "5aa86a0865694abaa1ce46305b4b321b": {
          "model_module": "@jupyter-widgets/controls",
          "model_name": "DescriptionStyleModel",
          "model_module_version": "1.5.0",
          "state": {
            "_model_module": "@jupyter-widgets/controls",
            "_model_module_version": "1.5.0",
            "_model_name": "DescriptionStyleModel",
            "_view_count": null,
            "_view_module": "@jupyter-widgets/base",
            "_view_module_version": "1.2.0",
            "_view_name": "StyleView",
            "description_width": ""
          }
        },
        "ba2e7b7b05c046ccb0280fba2ab23707": {
          "model_module": "@jupyter-widgets/controls",
          "model_name": "HBoxModel",
          "model_module_version": "1.5.0",
          "state": {
            "_dom_classes": [],
            "_model_module": "@jupyter-widgets/controls",
            "_model_module_version": "1.5.0",
            "_model_name": "HBoxModel",
            "_view_count": null,
            "_view_module": "@jupyter-widgets/controls",
            "_view_module_version": "1.5.0",
            "_view_name": "HBoxView",
            "box_style": "",
            "children": [
              "IPY_MODEL_8beacce6f0a142dab353d09064540561",
              "IPY_MODEL_2c065570dca04702b82f9fb5e5eb4ff5",
              "IPY_MODEL_c75bd0a6621e400fb2b74a56e64c962c"
            ],
            "layout": "IPY_MODEL_6c61aba6bc0d4330a246dacded1d1267"
          }
        },
        "8beacce6f0a142dab353d09064540561": {
          "model_module": "@jupyter-widgets/controls",
          "model_name": "HTMLModel",
          "model_module_version": "1.5.0",
          "state": {
            "_dom_classes": [],
            "_model_module": "@jupyter-widgets/controls",
            "_model_module_version": "1.5.0",
            "_model_name": "HTMLModel",
            "_view_count": null,
            "_view_module": "@jupyter-widgets/controls",
            "_view_module_version": "1.5.0",
            "_view_name": "HTMLView",
            "description": "",
            "description_tooltip": null,
            "layout": "IPY_MODEL_6aff3806b4824e4eb0c0a3f157ca1f46",
            "placeholder": "​",
            "style": "IPY_MODEL_de8be4e3f5324ac6a40a1b24bf53010d",
            "value": "Downloading: 100%"
          }
        },
        "2c065570dca04702b82f9fb5e5eb4ff5": {
          "model_module": "@jupyter-widgets/controls",
          "model_name": "FloatProgressModel",
          "model_module_version": "1.5.0",
          "state": {
            "_dom_classes": [],
            "_model_module": "@jupyter-widgets/controls",
            "_model_module_version": "1.5.0",
            "_model_name": "FloatProgressModel",
            "_view_count": null,
            "_view_module": "@jupyter-widgets/controls",
            "_view_module_version": "1.5.0",
            "_view_name": "ProgressView",
            "bar_style": "success",
            "description": "",
            "description_tooltip": null,
            "layout": "IPY_MODEL_5660155b78a44276aa745bd12532ed4a",
            "max": 765,
            "min": 0,
            "orientation": "horizontal",
            "style": "IPY_MODEL_fa861043e1524789a0f516d26b3e92e0",
            "value": 765
          }
        },
        "c75bd0a6621e400fb2b74a56e64c962c": {
          "model_module": "@jupyter-widgets/controls",
          "model_name": "HTMLModel",
          "model_module_version": "1.5.0",
          "state": {
            "_dom_classes": [],
            "_model_module": "@jupyter-widgets/controls",
            "_model_module_version": "1.5.0",
            "_model_name": "HTMLModel",
            "_view_count": null,
            "_view_module": "@jupyter-widgets/controls",
            "_view_module_version": "1.5.0",
            "_view_name": "HTMLView",
            "description": "",
            "description_tooltip": null,
            "layout": "IPY_MODEL_f9d52771fcca4b5d92f3ade9af3769e2",
            "placeholder": "​",
            "style": "IPY_MODEL_16b2f0fea4d54321a678e8e3f0ebdf0e",
            "value": " 765/765 [00:00&lt;00:00, 6.14kB/s]"
          }
        },
        "6c61aba6bc0d4330a246dacded1d1267": {
          "model_module": "@jupyter-widgets/base",
          "model_name": "LayoutModel",
          "model_module_version": "1.2.0",
          "state": {
            "_model_module": "@jupyter-widgets/base",
            "_model_module_version": "1.2.0",
            "_model_name": "LayoutModel",
            "_view_count": null,
            "_view_module": "@jupyter-widgets/base",
            "_view_module_version": "1.2.0",
            "_view_name": "LayoutView",
            "align_content": null,
            "align_items": null,
            "align_self": null,
            "border": null,
            "bottom": null,
            "display": null,
            "flex": null,
            "flex_flow": null,
            "grid_area": null,
            "grid_auto_columns": null,
            "grid_auto_flow": null,
            "grid_auto_rows": null,
            "grid_column": null,
            "grid_gap": null,
            "grid_row": null,
            "grid_template_areas": null,
            "grid_template_columns": null,
            "grid_template_rows": null,
            "height": null,
            "justify_content": null,
            "justify_items": null,
            "left": null,
            "margin": null,
            "max_height": null,
            "max_width": null,
            "min_height": null,
            "min_width": null,
            "object_fit": null,
            "object_position": null,
            "order": null,
            "overflow": null,
            "overflow_x": null,
            "overflow_y": null,
            "padding": null,
            "right": null,
            "top": null,
            "visibility": null,
            "width": null
          }
        },
        "6aff3806b4824e4eb0c0a3f157ca1f46": {
          "model_module": "@jupyter-widgets/base",
          "model_name": "LayoutModel",
          "model_module_version": "1.2.0",
          "state": {
            "_model_module": "@jupyter-widgets/base",
            "_model_module_version": "1.2.0",
            "_model_name": "LayoutModel",
            "_view_count": null,
            "_view_module": "@jupyter-widgets/base",
            "_view_module_version": "1.2.0",
            "_view_name": "LayoutView",
            "align_content": null,
            "align_items": null,
            "align_self": null,
            "border": null,
            "bottom": null,
            "display": null,
            "flex": null,
            "flex_flow": null,
            "grid_area": null,
            "grid_auto_columns": null,
            "grid_auto_flow": null,
            "grid_auto_rows": null,
            "grid_column": null,
            "grid_gap": null,
            "grid_row": null,
            "grid_template_areas": null,
            "grid_template_columns": null,
            "grid_template_rows": null,
            "height": null,
            "justify_content": null,
            "justify_items": null,
            "left": null,
            "margin": null,
            "max_height": null,
            "max_width": null,
            "min_height": null,
            "min_width": null,
            "object_fit": null,
            "object_position": null,
            "order": null,
            "overflow": null,
            "overflow_x": null,
            "overflow_y": null,
            "padding": null,
            "right": null,
            "top": null,
            "visibility": null,
            "width": null
          }
        },
        "de8be4e3f5324ac6a40a1b24bf53010d": {
          "model_module": "@jupyter-widgets/controls",
          "model_name": "DescriptionStyleModel",
          "model_module_version": "1.5.0",
          "state": {
            "_model_module": "@jupyter-widgets/controls",
            "_model_module_version": "1.5.0",
            "_model_name": "DescriptionStyleModel",
            "_view_count": null,
            "_view_module": "@jupyter-widgets/base",
            "_view_module_version": "1.2.0",
            "_view_name": "StyleView",
            "description_width": ""
          }
        },
        "5660155b78a44276aa745bd12532ed4a": {
          "model_module": "@jupyter-widgets/base",
          "model_name": "LayoutModel",
          "model_module_version": "1.2.0",
          "state": {
            "_model_module": "@jupyter-widgets/base",
            "_model_module_version": "1.2.0",
            "_model_name": "LayoutModel",
            "_view_count": null,
            "_view_module": "@jupyter-widgets/base",
            "_view_module_version": "1.2.0",
            "_view_name": "LayoutView",
            "align_content": null,
            "align_items": null,
            "align_self": null,
            "border": null,
            "bottom": null,
            "display": null,
            "flex": null,
            "flex_flow": null,
            "grid_area": null,
            "grid_auto_columns": null,
            "grid_auto_flow": null,
            "grid_auto_rows": null,
            "grid_column": null,
            "grid_gap": null,
            "grid_row": null,
            "grid_template_areas": null,
            "grid_template_columns": null,
            "grid_template_rows": null,
            "height": null,
            "justify_content": null,
            "justify_items": null,
            "left": null,
            "margin": null,
            "max_height": null,
            "max_width": null,
            "min_height": null,
            "min_width": null,
            "object_fit": null,
            "object_position": null,
            "order": null,
            "overflow": null,
            "overflow_x": null,
            "overflow_y": null,
            "padding": null,
            "right": null,
            "top": null,
            "visibility": null,
            "width": null
          }
        },
        "fa861043e1524789a0f516d26b3e92e0": {
          "model_module": "@jupyter-widgets/controls",
          "model_name": "ProgressStyleModel",
          "model_module_version": "1.5.0",
          "state": {
            "_model_module": "@jupyter-widgets/controls",
            "_model_module_version": "1.5.0",
            "_model_name": "ProgressStyleModel",
            "_view_count": null,
            "_view_module": "@jupyter-widgets/base",
            "_view_module_version": "1.2.0",
            "_view_name": "StyleView",
            "bar_color": null,
            "description_width": ""
          }
        },
        "f9d52771fcca4b5d92f3ade9af3769e2": {
          "model_module": "@jupyter-widgets/base",
          "model_name": "LayoutModel",
          "model_module_version": "1.2.0",
          "state": {
            "_model_module": "@jupyter-widgets/base",
            "_model_module_version": "1.2.0",
            "_model_name": "LayoutModel",
            "_view_count": null,
            "_view_module": "@jupyter-widgets/base",
            "_view_module_version": "1.2.0",
            "_view_name": "LayoutView",
            "align_content": null,
            "align_items": null,
            "align_self": null,
            "border": null,
            "bottom": null,
            "display": null,
            "flex": null,
            "flex_flow": null,
            "grid_area": null,
            "grid_auto_columns": null,
            "grid_auto_flow": null,
            "grid_auto_rows": null,
            "grid_column": null,
            "grid_gap": null,
            "grid_row": null,
            "grid_template_areas": null,
            "grid_template_columns": null,
            "grid_template_rows": null,
            "height": null,
            "justify_content": null,
            "justify_items": null,
            "left": null,
            "margin": null,
            "max_height": null,
            "max_width": null,
            "min_height": null,
            "min_width": null,
            "object_fit": null,
            "object_position": null,
            "order": null,
            "overflow": null,
            "overflow_x": null,
            "overflow_y": null,
            "padding": null,
            "right": null,
            "top": null,
            "visibility": null,
            "width": null
          }
        },
        "16b2f0fea4d54321a678e8e3f0ebdf0e": {
          "model_module": "@jupyter-widgets/controls",
          "model_name": "DescriptionStyleModel",
          "model_module_version": "1.5.0",
          "state": {
            "_model_module": "@jupyter-widgets/controls",
            "_model_module_version": "1.5.0",
            "_model_name": "DescriptionStyleModel",
            "_view_count": null,
            "_view_module": "@jupyter-widgets/base",
            "_view_module_version": "1.2.0",
            "_view_name": "StyleView",
            "description_width": ""
          }
        },
        "12e8c7ec62bc4319a790c8271fbf876c": {
          "model_module": "@jupyter-widgets/controls",
          "model_name": "HBoxModel",
          "model_module_version": "1.5.0",
          "state": {
            "_dom_classes": [],
            "_model_module": "@jupyter-widgets/controls",
            "_model_module_version": "1.5.0",
            "_model_name": "HBoxModel",
            "_view_count": null,
            "_view_module": "@jupyter-widgets/controls",
            "_view_module_version": "1.5.0",
            "_view_name": "HBoxView",
            "box_style": "",
            "children": [
              "IPY_MODEL_8f522b047caa42c0a689595920353376",
              "IPY_MODEL_2b11e3363160449fabd1021a3af643d0",
              "IPY_MODEL_4b2b359f5b934e1da42691d215db554b"
            ],
            "layout": "IPY_MODEL_1e83d851b4c74b509fb75e07c3e5ca20"
          }
        },
        "8f522b047caa42c0a689595920353376": {
          "model_module": "@jupyter-widgets/controls",
          "model_name": "HTMLModel",
          "model_module_version": "1.5.0",
          "state": {
            "_dom_classes": [],
            "_model_module": "@jupyter-widgets/controls",
            "_model_module_version": "1.5.0",
            "_model_name": "HTMLModel",
            "_view_count": null,
            "_view_module": "@jupyter-widgets/controls",
            "_view_module_version": "1.5.0",
            "_view_name": "HTMLView",
            "description": "",
            "description_tooltip": null,
            "layout": "IPY_MODEL_ea129ff8b7524d5fb6c12c6d75d0e4fd",
            "placeholder": "​",
            "style": "IPY_MODEL_91651c2eaa5a467e87410778f55c57a3",
            "value": "Downloading: 100%"
          }
        },
        "2b11e3363160449fabd1021a3af643d0": {
          "model_module": "@jupyter-widgets/controls",
          "model_name": "FloatProgressModel",
          "model_module_version": "1.5.0",
          "state": {
            "_dom_classes": [],
            "_model_module": "@jupyter-widgets/controls",
            "_model_module_version": "1.5.0",
            "_model_name": "FloatProgressModel",
            "_view_count": null,
            "_view_module": "@jupyter-widgets/controls",
            "_view_module_version": "1.5.0",
            "_view_name": "ProgressView",
            "bar_style": "success",
            "description": "",
            "description_tooltip": null,
            "layout": "IPY_MODEL_b5d21d8fd578469a83b0c3c002e5fc5e",
            "max": 3133973018,
            "min": 0,
            "orientation": "horizontal",
            "style": "IPY_MODEL_3309f1d74cf94d52a5fde8ec6ca7ab00",
            "value": 3133973018
          }
        },
        "4b2b359f5b934e1da42691d215db554b": {
          "model_module": "@jupyter-widgets/controls",
          "model_name": "HTMLModel",
          "model_module_version": "1.5.0",
          "state": {
            "_dom_classes": [],
            "_model_module": "@jupyter-widgets/controls",
            "_model_module_version": "1.5.0",
            "_model_name": "HTMLModel",
            "_view_count": null,
            "_view_module": "@jupyter-widgets/controls",
            "_view_module_version": "1.5.0",
            "_view_name": "HTMLView",
            "description": "",
            "description_tooltip": null,
            "layout": "IPY_MODEL_bb44789a106d434397f2f70a8c5ebf0c",
            "placeholder": "​",
            "style": "IPY_MODEL_f85c935eb4d64d38a05e8f2786857f62",
            "value": " 2.92G/2.92G [02:30&lt;00:00, 20.1MB/s]"
          }
        },
        "1e83d851b4c74b509fb75e07c3e5ca20": {
          "model_module": "@jupyter-widgets/base",
          "model_name": "LayoutModel",
          "model_module_version": "1.2.0",
          "state": {
            "_model_module": "@jupyter-widgets/base",
            "_model_module_version": "1.2.0",
            "_model_name": "LayoutModel",
            "_view_count": null,
            "_view_module": "@jupyter-widgets/base",
            "_view_module_version": "1.2.0",
            "_view_name": "LayoutView",
            "align_content": null,
            "align_items": null,
            "align_self": null,
            "border": null,
            "bottom": null,
            "display": null,
            "flex": null,
            "flex_flow": null,
            "grid_area": null,
            "grid_auto_columns": null,
            "grid_auto_flow": null,
            "grid_auto_rows": null,
            "grid_column": null,
            "grid_gap": null,
            "grid_row": null,
            "grid_template_areas": null,
            "grid_template_columns": null,
            "grid_template_rows": null,
            "height": null,
            "justify_content": null,
            "justify_items": null,
            "left": null,
            "margin": null,
            "max_height": null,
            "max_width": null,
            "min_height": null,
            "min_width": null,
            "object_fit": null,
            "object_position": null,
            "order": null,
            "overflow": null,
            "overflow_x": null,
            "overflow_y": null,
            "padding": null,
            "right": null,
            "top": null,
            "visibility": null,
            "width": null
          }
        },
        "ea129ff8b7524d5fb6c12c6d75d0e4fd": {
          "model_module": "@jupyter-widgets/base",
          "model_name": "LayoutModel",
          "model_module_version": "1.2.0",
          "state": {
            "_model_module": "@jupyter-widgets/base",
            "_model_module_version": "1.2.0",
            "_model_name": "LayoutModel",
            "_view_count": null,
            "_view_module": "@jupyter-widgets/base",
            "_view_module_version": "1.2.0",
            "_view_name": "LayoutView",
            "align_content": null,
            "align_items": null,
            "align_self": null,
            "border": null,
            "bottom": null,
            "display": null,
            "flex": null,
            "flex_flow": null,
            "grid_area": null,
            "grid_auto_columns": null,
            "grid_auto_flow": null,
            "grid_auto_rows": null,
            "grid_column": null,
            "grid_gap": null,
            "grid_row": null,
            "grid_template_areas": null,
            "grid_template_columns": null,
            "grid_template_rows": null,
            "height": null,
            "justify_content": null,
            "justify_items": null,
            "left": null,
            "margin": null,
            "max_height": null,
            "max_width": null,
            "min_height": null,
            "min_width": null,
            "object_fit": null,
            "object_position": null,
            "order": null,
            "overflow": null,
            "overflow_x": null,
            "overflow_y": null,
            "padding": null,
            "right": null,
            "top": null,
            "visibility": null,
            "width": null
          }
        },
        "91651c2eaa5a467e87410778f55c57a3": {
          "model_module": "@jupyter-widgets/controls",
          "model_name": "DescriptionStyleModel",
          "model_module_version": "1.5.0",
          "state": {
            "_model_module": "@jupyter-widgets/controls",
            "_model_module_version": "1.5.0",
            "_model_name": "DescriptionStyleModel",
            "_view_count": null,
            "_view_module": "@jupyter-widgets/base",
            "_view_module_version": "1.2.0",
            "_view_name": "StyleView",
            "description_width": ""
          }
        },
        "b5d21d8fd578469a83b0c3c002e5fc5e": {
          "model_module": "@jupyter-widgets/base",
          "model_name": "LayoutModel",
          "model_module_version": "1.2.0",
          "state": {
            "_model_module": "@jupyter-widgets/base",
            "_model_module_version": "1.2.0",
            "_model_name": "LayoutModel",
            "_view_count": null,
            "_view_module": "@jupyter-widgets/base",
            "_view_module_version": "1.2.0",
            "_view_name": "LayoutView",
            "align_content": null,
            "align_items": null,
            "align_self": null,
            "border": null,
            "bottom": null,
            "display": null,
            "flex": null,
            "flex_flow": null,
            "grid_area": null,
            "grid_auto_columns": null,
            "grid_auto_flow": null,
            "grid_auto_rows": null,
            "grid_column": null,
            "grid_gap": null,
            "grid_row": null,
            "grid_template_areas": null,
            "grid_template_columns": null,
            "grid_template_rows": null,
            "height": null,
            "justify_content": null,
            "justify_items": null,
            "left": null,
            "margin": null,
            "max_height": null,
            "max_width": null,
            "min_height": null,
            "min_width": null,
            "object_fit": null,
            "object_position": null,
            "order": null,
            "overflow": null,
            "overflow_x": null,
            "overflow_y": null,
            "padding": null,
            "right": null,
            "top": null,
            "visibility": null,
            "width": null
          }
        },
        "3309f1d74cf94d52a5fde8ec6ca7ab00": {
          "model_module": "@jupyter-widgets/controls",
          "model_name": "ProgressStyleModel",
          "model_module_version": "1.5.0",
          "state": {
            "_model_module": "@jupyter-widgets/controls",
            "_model_module_version": "1.5.0",
            "_model_name": "ProgressStyleModel",
            "_view_count": null,
            "_view_module": "@jupyter-widgets/base",
            "_view_module_version": "1.2.0",
            "_view_name": "StyleView",
            "bar_color": null,
            "description_width": ""
          }
        },
        "bb44789a106d434397f2f70a8c5ebf0c": {
          "model_module": "@jupyter-widgets/base",
          "model_name": "LayoutModel",
          "model_module_version": "1.2.0",
          "state": {
            "_model_module": "@jupyter-widgets/base",
            "_model_module_version": "1.2.0",
            "_model_name": "LayoutModel",
            "_view_count": null,
            "_view_module": "@jupyter-widgets/base",
            "_view_module_version": "1.2.0",
            "_view_name": "LayoutView",
            "align_content": null,
            "align_items": null,
            "align_self": null,
            "border": null,
            "bottom": null,
            "display": null,
            "flex": null,
            "flex_flow": null,
            "grid_area": null,
            "grid_auto_columns": null,
            "grid_auto_flow": null,
            "grid_auto_rows": null,
            "grid_column": null,
            "grid_gap": null,
            "grid_row": null,
            "grid_template_areas": null,
            "grid_template_columns": null,
            "grid_template_rows": null,
            "height": null,
            "justify_content": null,
            "justify_items": null,
            "left": null,
            "margin": null,
            "max_height": null,
            "max_width": null,
            "min_height": null,
            "min_width": null,
            "object_fit": null,
            "object_position": null,
            "order": null,
            "overflow": null,
            "overflow_x": null,
            "overflow_y": null,
            "padding": null,
            "right": null,
            "top": null,
            "visibility": null,
            "width": null
          }
        },
        "f85c935eb4d64d38a05e8f2786857f62": {
          "model_module": "@jupyter-widgets/controls",
          "model_name": "DescriptionStyleModel",
          "model_module_version": "1.5.0",
          "state": {
            "_model_module": "@jupyter-widgets/controls",
            "_model_module_version": "1.5.0",
            "_model_name": "DescriptionStyleModel",
            "_view_count": null,
            "_view_module": "@jupyter-widgets/base",
            "_view_module_version": "1.2.0",
            "_view_name": "StyleView",
            "description_width": ""
          }
        }
      }
    }
  },
  "cells": [
    {
      "cell_type": "markdown",
      "metadata": {
        "id": "view-in-github",
        "colab_type": "text"
      },
      "source": [
        "<a href=\"https://colab.research.google.com/github/Teasotea/textSummarization/blob/main/SentRanking_TextSummarization.ipynb\" target=\"_parent\"><img src=\"https://colab.research.google.com/assets/colab-badge.svg\" alt=\"Open In Colab\"/></a>"
      ]
    },
    {
      "cell_type": "markdown",
      "source": [
        "Implementation of the [TextRank](https://www.analyticsvidhya.com/blog/2018/11/introduction-text-summarization-textrank-python/) Algorithm"
      ],
      "metadata": {
        "id": "3cvzFMhd35LA"
      }
    },
    {
      "cell_type": "markdown",
      "source": [
        "# Import Libraries"
      ],
      "metadata": {
        "id": "2rPsPirQ3vJ6"
      }
    },
    {
      "cell_type": "code",
      "source": [
        "!pip install transformers sentencepiece\n",
        "!pip install sentence_transformers"
      ],
      "metadata": {
        "colab": {
          "base_uri": "https://localhost:8080/"
        },
        "id": "BK1cv21tA8W2",
        "outputId": "eb44a7d8-21ea-48b6-9d1d-7b24bf0d018b"
      },
      "execution_count": 1,
      "outputs": [
        {
          "output_type": "stream",
          "name": "stdout",
          "text": [
            "Collecting transformers\n",
            "  Downloading transformers-4.18.0-py3-none-any.whl (4.0 MB)\n",
            "\u001b[K     |████████████████████████████████| 4.0 MB 4.3 MB/s \n",
            "\u001b[?25hCollecting sentencepiece\n",
            "  Downloading sentencepiece-0.1.96-cp37-cp37m-manylinux_2_17_x86_64.manylinux2014_x86_64.whl (1.2 MB)\n",
            "\u001b[K     |████████████████████████████████| 1.2 MB 42.5 MB/s \n",
            "\u001b[?25hRequirement already satisfied: packaging>=20.0 in /usr/local/lib/python3.7/dist-packages (from transformers) (21.3)\n",
            "Requirement already satisfied: numpy>=1.17 in /usr/local/lib/python3.7/dist-packages (from transformers) (1.21.6)\n",
            "Requirement already satisfied: requests in /usr/local/lib/python3.7/dist-packages (from transformers) (2.23.0)\n",
            "Collecting pyyaml>=5.1\n",
            "  Downloading PyYAML-6.0-cp37-cp37m-manylinux_2_5_x86_64.manylinux1_x86_64.manylinux_2_12_x86_64.manylinux2010_x86_64.whl (596 kB)\n",
            "\u001b[K     |████████████████████████████████| 596 kB 41.0 MB/s \n",
            "\u001b[?25hCollecting sacremoses\n",
            "  Downloading sacremoses-0.0.53.tar.gz (880 kB)\n",
            "\u001b[K     |████████████████████████████████| 880 kB 32.9 MB/s \n",
            "\u001b[?25hCollecting tokenizers!=0.11.3,<0.13,>=0.11.1\n",
            "  Downloading tokenizers-0.12.1-cp37-cp37m-manylinux_2_12_x86_64.manylinux2010_x86_64.whl (6.6 MB)\n",
            "\u001b[K     |████████████████████████████████| 6.6 MB 21.9 MB/s \n",
            "\u001b[?25hRequirement already satisfied: tqdm>=4.27 in /usr/local/lib/python3.7/dist-packages (from transformers) (4.64.0)\n",
            "Requirement already satisfied: regex!=2019.12.17 in /usr/local/lib/python3.7/dist-packages (from transformers) (2019.12.20)\n",
            "Collecting huggingface-hub<1.0,>=0.1.0\n",
            "  Downloading huggingface_hub-0.5.1-py3-none-any.whl (77 kB)\n",
            "\u001b[K     |████████████████████████████████| 77 kB 6.2 MB/s \n",
            "\u001b[?25hRequirement already satisfied: importlib-metadata in /usr/local/lib/python3.7/dist-packages (from transformers) (4.11.3)\n",
            "Requirement already satisfied: filelock in /usr/local/lib/python3.7/dist-packages (from transformers) (3.6.0)\n",
            "Requirement already satisfied: typing-extensions>=3.7.4.3 in /usr/local/lib/python3.7/dist-packages (from huggingface-hub<1.0,>=0.1.0->transformers) (4.2.0)\n",
            "Requirement already satisfied: pyparsing!=3.0.5,>=2.0.2 in /usr/local/lib/python3.7/dist-packages (from packaging>=20.0->transformers) (3.0.8)\n",
            "Requirement already satisfied: zipp>=0.5 in /usr/local/lib/python3.7/dist-packages (from importlib-metadata->transformers) (3.8.0)\n",
            "Requirement already satisfied: chardet<4,>=3.0.2 in /usr/local/lib/python3.7/dist-packages (from requests->transformers) (3.0.4)\n",
            "Requirement already satisfied: certifi>=2017.4.17 in /usr/local/lib/python3.7/dist-packages (from requests->transformers) (2021.10.8)\n",
            "Requirement already satisfied: urllib3!=1.25.0,!=1.25.1,<1.26,>=1.21.1 in /usr/local/lib/python3.7/dist-packages (from requests->transformers) (1.24.3)\n",
            "Requirement already satisfied: idna<3,>=2.5 in /usr/local/lib/python3.7/dist-packages (from requests->transformers) (2.10)\n",
            "Requirement already satisfied: six in /usr/local/lib/python3.7/dist-packages (from sacremoses->transformers) (1.15.0)\n",
            "Requirement already satisfied: click in /usr/local/lib/python3.7/dist-packages (from sacremoses->transformers) (7.1.2)\n",
            "Requirement already satisfied: joblib in /usr/local/lib/python3.7/dist-packages (from sacremoses->transformers) (1.1.0)\n",
            "Building wheels for collected packages: sacremoses\n",
            "  Building wheel for sacremoses (setup.py) ... \u001b[?25l\u001b[?25hdone\n",
            "  Created wheel for sacremoses: filename=sacremoses-0.0.53-py3-none-any.whl size=895260 sha256=efb5dd7db88d2d8a8a00b8114900d523846e8649bb2d7b7d1e012aac32c2b614\n",
            "  Stored in directory: /root/.cache/pip/wheels/87/39/dd/a83eeef36d0bf98e7a4d1933a4ad2d660295a40613079bafc9\n",
            "Successfully built sacremoses\n",
            "Installing collected packages: pyyaml, tokenizers, sacremoses, huggingface-hub, transformers, sentencepiece\n",
            "  Attempting uninstall: pyyaml\n",
            "    Found existing installation: PyYAML 3.13\n",
            "    Uninstalling PyYAML-3.13:\n",
            "      Successfully uninstalled PyYAML-3.13\n",
            "Successfully installed huggingface-hub-0.5.1 pyyaml-6.0 sacremoses-0.0.53 sentencepiece-0.1.96 tokenizers-0.12.1 transformers-4.18.0\n",
            "Collecting sentence_transformers\n",
            "  Downloading sentence-transformers-2.2.0.tar.gz (79 kB)\n",
            "\u001b[K     |████████████████████████████████| 79 kB 3.4 MB/s \n",
            "\u001b[?25hRequirement already satisfied: transformers<5.0.0,>=4.6.0 in /usr/local/lib/python3.7/dist-packages (from sentence_transformers) (4.18.0)\n",
            "Requirement already satisfied: tqdm in /usr/local/lib/python3.7/dist-packages (from sentence_transformers) (4.64.0)\n",
            "Requirement already satisfied: torch>=1.6.0 in /usr/local/lib/python3.7/dist-packages (from sentence_transformers) (1.11.0+cu113)\n",
            "Requirement already satisfied: torchvision in /usr/local/lib/python3.7/dist-packages (from sentence_transformers) (0.12.0+cu113)\n",
            "Requirement already satisfied: numpy in /usr/local/lib/python3.7/dist-packages (from sentence_transformers) (1.21.6)\n",
            "Requirement already satisfied: scikit-learn in /usr/local/lib/python3.7/dist-packages (from sentence_transformers) (1.0.2)\n",
            "Requirement already satisfied: scipy in /usr/local/lib/python3.7/dist-packages (from sentence_transformers) (1.4.1)\n",
            "Requirement already satisfied: nltk in /usr/local/lib/python3.7/dist-packages (from sentence_transformers) (3.2.5)\n",
            "Requirement already satisfied: sentencepiece in /usr/local/lib/python3.7/dist-packages (from sentence_transformers) (0.1.96)\n",
            "Requirement already satisfied: huggingface-hub in /usr/local/lib/python3.7/dist-packages (from sentence_transformers) (0.5.1)\n",
            "Requirement already satisfied: typing-extensions in /usr/local/lib/python3.7/dist-packages (from torch>=1.6.0->sentence_transformers) (4.2.0)\n",
            "Requirement already satisfied: regex!=2019.12.17 in /usr/local/lib/python3.7/dist-packages (from transformers<5.0.0,>=4.6.0->sentence_transformers) (2019.12.20)\n",
            "Requirement already satisfied: importlib-metadata in /usr/local/lib/python3.7/dist-packages (from transformers<5.0.0,>=4.6.0->sentence_transformers) (4.11.3)\n",
            "Requirement already satisfied: tokenizers!=0.11.3,<0.13,>=0.11.1 in /usr/local/lib/python3.7/dist-packages (from transformers<5.0.0,>=4.6.0->sentence_transformers) (0.12.1)\n",
            "Requirement already satisfied: requests in /usr/local/lib/python3.7/dist-packages (from transformers<5.0.0,>=4.6.0->sentence_transformers) (2.23.0)\n",
            "Requirement already satisfied: sacremoses in /usr/local/lib/python3.7/dist-packages (from transformers<5.0.0,>=4.6.0->sentence_transformers) (0.0.53)\n",
            "Requirement already satisfied: filelock in /usr/local/lib/python3.7/dist-packages (from transformers<5.0.0,>=4.6.0->sentence_transformers) (3.6.0)\n",
            "Requirement already satisfied: pyyaml>=5.1 in /usr/local/lib/python3.7/dist-packages (from transformers<5.0.0,>=4.6.0->sentence_transformers) (6.0)\n",
            "Requirement already satisfied: packaging>=20.0 in /usr/local/lib/python3.7/dist-packages (from transformers<5.0.0,>=4.6.0->sentence_transformers) (21.3)\n",
            "Requirement already satisfied: pyparsing!=3.0.5,>=2.0.2 in /usr/local/lib/python3.7/dist-packages (from packaging>=20.0->transformers<5.0.0,>=4.6.0->sentence_transformers) (3.0.8)\n",
            "Requirement already satisfied: zipp>=0.5 in /usr/local/lib/python3.7/dist-packages (from importlib-metadata->transformers<5.0.0,>=4.6.0->sentence_transformers) (3.8.0)\n",
            "Requirement already satisfied: six in /usr/local/lib/python3.7/dist-packages (from nltk->sentence_transformers) (1.15.0)\n",
            "Requirement already satisfied: chardet<4,>=3.0.2 in /usr/local/lib/python3.7/dist-packages (from requests->transformers<5.0.0,>=4.6.0->sentence_transformers) (3.0.4)\n",
            "Requirement already satisfied: certifi>=2017.4.17 in /usr/local/lib/python3.7/dist-packages (from requests->transformers<5.0.0,>=4.6.0->sentence_transformers) (2021.10.8)\n",
            "Requirement already satisfied: idna<3,>=2.5 in /usr/local/lib/python3.7/dist-packages (from requests->transformers<5.0.0,>=4.6.0->sentence_transformers) (2.10)\n",
            "Requirement already satisfied: urllib3!=1.25.0,!=1.25.1,<1.26,>=1.21.1 in /usr/local/lib/python3.7/dist-packages (from requests->transformers<5.0.0,>=4.6.0->sentence_transformers) (1.24.3)\n",
            "Requirement already satisfied: joblib in /usr/local/lib/python3.7/dist-packages (from sacremoses->transformers<5.0.0,>=4.6.0->sentence_transformers) (1.1.0)\n",
            "Requirement already satisfied: click in /usr/local/lib/python3.7/dist-packages (from sacremoses->transformers<5.0.0,>=4.6.0->sentence_transformers) (7.1.2)\n",
            "Requirement already satisfied: threadpoolctl>=2.0.0 in /usr/local/lib/python3.7/dist-packages (from scikit-learn->sentence_transformers) (3.1.0)\n",
            "Requirement already satisfied: pillow!=8.3.*,>=5.3.0 in /usr/local/lib/python3.7/dist-packages (from torchvision->sentence_transformers) (7.1.2)\n",
            "Building wheels for collected packages: sentence-transformers\n",
            "  Building wheel for sentence-transformers (setup.py) ... \u001b[?25l\u001b[?25hdone\n",
            "  Created wheel for sentence-transformers: filename=sentence_transformers-2.2.0-py3-none-any.whl size=120747 sha256=803b036dd054a9fc5b049fb0cb4e6429557c525855ea0a2294b34092d0e77e40\n",
            "  Stored in directory: /root/.cache/pip/wheels/83/c0/df/b6873ab7aac3f2465aa9144b6b4c41c4391cfecc027c8b07e7\n",
            "Successfully built sentence-transformers\n",
            "Installing collected packages: sentence-transformers\n",
            "Successfully installed sentence-transformers-2.2.0\n"
          ]
        }
      ]
    },
    {
      "cell_type": "code",
      "source": [
        "import numpy as np\n",
        "import pandas as pd\n",
        "import networkx as nx\n",
        "import matplotlib.pyplot as plt\n",
        "import time\n",
        "from sklearn.metrics.pairwise import cosine_similarity\n",
        "pd.set_option('display.max_colwidth', None)"
      ],
      "metadata": {
        "id": "5LXVCpcDREjn"
      },
      "execution_count": 121,
      "outputs": []
    },
    {
      "cell_type": "code",
      "source": [
        "# mount gdrive to save models\n",
        "from pathlib import Path\n",
        "from google.colab import drive\n",
        "\n",
        "drive.mount('/content/gdrive')\n",
        "\n",
        "GDRIVE = '/content/gdrive/MyDrive/text_summ'\n",
        "WORKDIR = GDRIVE + '/sent_ranking/'\n",
        "Path(WORKDIR).mkdir(parents=True, exist_ok=True)\n",
        "\n",
        "%cd  '/content/gdrive/MyDrive/text_summ/sent_ranking'"
      ],
      "metadata": {
        "colab": {
          "base_uri": "https://localhost:8080/"
        },
        "id": "o0a5UjYb5XH3",
        "outputId": "811ff262-1134-4f10-bfa9-ce5499be7c22"
      },
      "execution_count": 3,
      "outputs": [
        {
          "output_type": "stream",
          "name": "stdout",
          "text": [
            "Mounted at /content/gdrive\n",
            "/content/gdrive/MyDrive/text_summ/sent_ranking\n"
          ]
        }
      ]
    },
    {
      "cell_type": "markdown",
      "source": [
        "# Load Data"
      ],
      "metadata": {
        "id": "ZiDLL85QPnFj"
      }
    },
    {
      "cell_type": "code",
      "source": [
        "conversation_df = pd.read_csv('https://raw.githubusercontent.com/Teasotea/textSummarization/main/data/session.csv', delimiter = \"\\t\", header=None)\n",
        "conversation_df = conversation_df.set_axis(['text'], axis=1, inplace=False)\n",
        "conversation_df.style.set_properties(**{'text-align': 'left'})"
      ],
      "metadata": {
        "id": "7V7nVR3NOQcm",
        "colab": {
          "base_uri": "https://localhost:8080/",
          "height": 1000
        },
        "outputId": "7e02a4a1-d572-4979-d101-3309c704f76f"
      },
      "execution_count": 43,
      "outputs": [
        {
          "output_type": "execute_result",
          "data": {
            "text/plain": [
              "<pandas.io.formats.style.Styler at 0x7fb20413cf10>"
            ],
            "text/html": [
              "<style type=\"text/css\">\n",
              "#T_76066_row0_col0, #T_76066_row1_col0, #T_76066_row2_col0, #T_76066_row3_col0, #T_76066_row4_col0, #T_76066_row5_col0, #T_76066_row6_col0, #T_76066_row7_col0, #T_76066_row8_col0, #T_76066_row9_col0, #T_76066_row10_col0, #T_76066_row11_col0, #T_76066_row12_col0, #T_76066_row13_col0, #T_76066_row14_col0, #T_76066_row15_col0, #T_76066_row16_col0, #T_76066_row17_col0, #T_76066_row18_col0 {\n",
              "  text-align: left;\n",
              "}\n",
              "</style>\n",
              "<table id=\"T_76066_\" class=\"dataframe\">\n",
              "  <thead>\n",
              "    <tr>\n",
              "      <th class=\"blank level0\" >&nbsp;</th>\n",
              "      <th class=\"col_heading level0 col0\" >text</th>\n",
              "    </tr>\n",
              "  </thead>\n",
              "  <tbody>\n",
              "    <tr>\n",
              "      <th id=\"T_76066_level0_row0\" class=\"row_heading level0 row0\" >0</th>\n",
              "      <td id=\"T_76066_row0_col0\" class=\"data row0 col0\" >Психолог: Добрый день, меня зовут Ирина. Ольга, у нас с вами на сегодня назначена консультация. Надеюсь, что наш разговор будет приятным и полезным. Расскажите с каким запросом вы пришли на нашу первую встречу?</td>\n",
              "    </tr>\n",
              "    <tr>\n",
              "      <th id=\"T_76066_level0_row1\" class=\"row_heading level0 row1\" >1</th>\n",
              "      <td id=\"T_76066_row1_col0\" class=\"data row1 col0\" >Ольга: Добрый день, это моя первая консультация в жизни. Я не особо понимаю что именно нужно говорить. Но у меня накопилось достаточно много всего и мне просто хотелось поговорить о том, что сейчас происходит с моей жизнью, ну много чего, конечно, как и у всех, все таки война, переезды, куча всего короче. Просто хотелось чтобы кто-то услышал, помог мне немного разобраться в себе.</td>\n",
              "    </tr>\n",
              "    <tr>\n",
              "      <th id=\"T_76066_level0_row2\" class=\"row_heading level0 row2\" >2</th>\n",
              "      <td id=\"T_76066_row2_col0\" class=\"data row2 col0\" >Психолог: Ольга, действительно сейчас многие проживают события к которым сложно быть готовым. Давайте начнем понемногу разбираться. Расскажите о себе. Где вы сейчас находитесь, в каких условиях живете, какие события происходят вокруг вас?</td>\n",
              "    </tr>\n",
              "    <tr>\n",
              "      <th id=\"T_76066_level0_row3\" class=\"row_heading level0 row3\" >3</th>\n",
              "      <td id=\"T_76066_row3_col0\" class=\"data row3 col0\" >Ольга: Сейчас я чувствую себя относительно в безопасности. Мы переехали из Киева на западную Украину. Здесь можно сказать, что тихо, но я не особо понимаю что происходит. Мне словно приходится начинать все с нуля. Деньги немного есть, ээээ ну там на пару месяцев хватит, но нужно искать работу. Не пойму нужно учится на новую специальность или попытаться найти работу менеджером, как раньше? Хотя кому эти менеджеры нужны, ничего толком не работает, наверно повезло людям которые сохранили работу, прям как-то радостно за них. Потерять финансовую стабильность мне реально тяжело, ждать что что-то наладится, но ничего не наладится же. Ну даже если наладится то не скоро, рада что могла себе обеспечить эту финансовую подушку. Я реально уже думала что можно и начать инвестировать но блин, реально никогда не знаешь, теперь думаю что можно было и пол года назад параллельно с подушкой все делать, но так иногда радует что хоть стабильность в деньгах есть, я все таки смогла научиться управлять немного своими финансами. Ну и новую работу искать, ну и что я тут найду? Наверно скорее всего нужно будет учить английский, вряд ли украинские компании сейчас смогут дать хорошую оплату, надо искать что-то онлайн, стабильное. Хотя какое оно стабильное, надо открывать свое дело в интернете, может делать магазин с доставкой? Да я так и не смогла этот английский выучить сколько уже ходила на курсы. Короче искать работу это мне вообще как настоящее испытание, ну и не думаю что без английского я кому-то нужна. Пока живем в бесплатном жилье, но тоже непонятно надолго это, вообще нужно ли возвращаться, в Киеве хотя бы есть дом, родные стены, ну и удобства все под рукой, но я боюсь ходить по улице вижу везде эти новости про растяжки, бомбы в молоке. Но и помощи от волонтеров больше есть и помощь с едой и вообще дома как то проще, здесь никого не знаю, но и знакомые если честно все уже разъехались и реально жизнь как с нуля. С мужем тоже сложно, постоянно приходится принимать решения, а он как будто оттягивает, но я же тоже не могу все время все делать. Короче мне реально не понятно как вообще быть, я боюсь что-то снова начинать, потому что не понятно на долго или скоро закончится. </td>\n",
              "    </tr>\n",
              "    <tr>\n",
              "      <th id=\"T_76066_level0_row4\" class=\"row_heading level0 row4\" >4</th>\n",
              "      <td id=\"T_76066_row4_col0\" class=\"data row4 col0\" >Психолог: Давайте выделим вопросы, которые я услышала и продолжим работу. Сейчас у вас нет основной работы для вас большой стресс искать новую, еще вы хотите вернуться в Киев, но не можете решить для себя стоит ли это сейчас делать, также вам хочется получить поддержку от мужа, но вы не можете получить той помощи на которую рассчитываете. Но самым большим испытанием для вас является то, что необходимо начать все с нуля. верно?</td>\n",
              "    </tr>\n",
              "    <tr>\n",
              "      <th id=\"T_76066_level0_row5\" class=\"row_heading level0 row5\" >5</th>\n",
              "      <td id=\"T_76066_row5_col0\" class=\"data row5 col0\" >Ольга: Да, но даже не сам факт начала. Понимаете я уже несколько раз все теряла и начинала \"жизнь с этого нуля\". Поэтому мне кажется тут у меня что-то вроде иммунитета. Страх не с самой необходимости, я просто реально понимаю что если я еще раз все потеряю мне может просто не хотеться что-то делать снова. Именно когда живешь в период от нуля до \"опять все хочется\" тут самое страшное. Ощущение, что теряешь время, которого и так постоянно мало, и параллельно же ничего не улучшается, тебе еще наваливается сверху, и нужно разгребать все одновременно. Теряешь дом, нет людей рядом, начинаются долги, нет уверенности в своих силах, моложе не становишься, ну и вечная конкуренция потому что у людей еще есть запал, а тебе 35 и ты такой здрасьте, я хочу заявить о себе. Я начинаю постоянно думать в какой именно момент я перестала контролировать свою жизнь? Ведь мне нравилось жить в том потоке, что происходил. Мне реально часто везло, но прям про будущее я не думала. А теперь читаю про блекауты, теории заговора, считаю остаток бюджета и на сколько мне хватит денег при разных условиях жизни, думаю нужно ли пытаюсь выделить деньги на английский, мне постоянно прилетают дополнительные расходы. Ну и если реально готовится к блекауту, то нужно сделать закупку продуктов на месяц, а если мы вернемся обратно? или останемся тут? короче куда все это девать в итоге? Я смотрю на свою дырявую финансовую подушку безопасности и судорожно понимаю что кроме всего прочего просто никакого верного решения нет. </td>\n",
              "    </tr>\n",
              "    <tr>\n",
              "      <th id=\"T_76066_level0_row6\" class=\"row_heading level0 row6\" >6</th>\n",
              "      <td id=\"T_76066_row6_col0\" class=\"data row6 col0\" >Психолог: решение есть всегда, задайте себе вопрос: готовы ли брать ответственность за принятые решения на себя?</td>\n",
              "    </tr>\n",
              "    <tr>\n",
              "      <th id=\"T_76066_level0_row7\" class=\"row_heading level0 row7\" >7</th>\n",
              "      <td id=\"T_76066_row7_col0\" class=\"data row7 col0\" >О: Я пытаюсь балансировать между личной ответственностью за свою собственную жизнь и умении договориться. Ну типа если бы я жила одна, мне не так сложно было бы. Не надо ждать коллективного решения, а сам тихо сделала и ни у кого не спрашиваешь.</td>\n",
              "    </tr>\n",
              "    <tr>\n",
              "      <th id=\"T_76066_level0_row8\" class=\"row_heading level0 row8\" >8</th>\n",
              "      <td id=\"T_76066_row8_col0\" class=\"data row8 col0\" >Психолог: Расскажите подробнее, я так понимаю у вас разные точки зрения на какую то ситуацию с мужем?</td>\n",
              "    </tr>\n",
              "    <tr>\n",
              "      <th id=\"T_76066_level0_row9\" class=\"row_heading level0 row9\" >9</th>\n",
              "      <td id=\"T_76066_row9_col0\" class=\"data row9 col0\" >О: Я реально хочу в Киев, мне там будет проще собраться с мыслями. и если бы муж помог мне и согласился бы на переезд уже было бы проще. Каждый раз с ним говорю, а он говорит ну хочешь поезжай в киев, я потом приеду. А я не хочу ехать одна, я хочу чтобы мы вдвоем поехали, потому что ну что  я там буду делать одна, мне реально надо чтобы мы или вместе были здесь или там. Короче, типа он вообще не упрощает задачу, а как будто ждет, что что-то должно случится и что-то поменяется. Но ничего же не поменяется. Я то понимаю что придется скорее всего просто жить вот так как оно есть, потому что завтра лучше не станет, и после завтра тоже. А ракета может прилететь куда угодно или не прилететь. От нас ничего не зависит. И на правительство мы влиять не можем, только свои решения принимать, ход войны поменять нереально. Но мы же семья, и мне не ясно чего мы не можем договориться о таких простых вещах, ну скажи типа нет я не хочу ехать или хочу, но через неделю. Так он мне просто говорит едь и все, а я потом что-то решу. </td>\n",
              "    </tr>\n",
              "    <tr>\n",
              "      <th id=\"T_76066_level0_row10\" class=\"row_heading level0 row10\" >10</th>\n",
              "      <td id=\"T_76066_row10_col0\" class=\"data row10 col0\" >Психолог:  скажите а раньше у вас возникали ситуации, когда муж оттягивал принятие решений?</td>\n",
              "    </tr>\n",
              "    <tr>\n",
              "      <th id=\"T_76066_level0_row11\" class=\"row_heading level0 row11\" >11</th>\n",
              "      <td id=\"T_76066_row11_col0\" class=\"data row11 col0\" >Ольга: Ну он постоянно все на последний момент откладывает, но раньше не было таких критический ситуаций и я могла подождать или делать что я хотела а там уже как было, или мы ссорились ну понятно что потом он принимал решение и позже мне было уже проще я реально никого не напрягала, а там просто все случалось, при чем он всегда понимал что поздно начал шевелится, но мне было даже смешно. Я могла потом ходить и  смеяться, типа ты же знаешь что ты вечно все тянешь, вот опять такой же случай, зачем ты ждешь. Я и с другой стороны заходила типа смотри ты ждешь, а это влияет на меня. Вот я жду например, что мы купим билеты и полетим куда-то на отдых, мы все равно покупаем и летим, но цена выше на этот самолет мы поссоримся сто раз, вот объясни в чем дело, я просто хочу понять. Потому что мне жалко и нервов и денег. А можно просто было все спокойно сделать вовремя, потому что есть понимание того что вовремя все таки существует, ну или более удачное время, типа чего не пользоваться ситуацией? Я реально не могу уже я даже иногда думаю ну может просто взять и самой себе жить, а  я не хочу жить одна, мне нравиться наши отношения если бы не это. Блин я уже иногда думаю, а если бы мы не были вместе если мне не надо было бы постоянно ждать, где бы я уже была? Потому что в постоянном ожидании чуда жить тоже не легко.</td>\n",
              "    </tr>\n",
              "    <tr>\n",
              "      <th id=\"T_76066_level0_row12\" class=\"row_heading level0 row12\" >12</th>\n",
              "      <td id=\"T_76066_row12_col0\" class=\"data row12 col0\" > Психолог: Расскажите а как вы представляли вашу жизнь без отношений? Вот что происходит с вами, когда вам не нужно никого ждать?</td>\n",
              "    </tr>\n",
              "    <tr>\n",
              "      <th id=\"T_76066_level0_row13\" class=\"row_heading level0 row13\" >13</th>\n",
              "      <td id=\"T_76066_row13_col0\" class=\"data row13 col0\" >Ольга: ну вот в том и дело, что иногда я понимаю что если бы я осталась одна мне было бы намного проще, но я хочу быть вместе с мужем, оберегать наше партнерство.  не хочу представлять, а если бы. ну нет никаких а если бы. Мне реально нравятся наши отношения, хотя такие штуки когда приходится ждать решения прям бесят. Просто сейчас как будто это повторение -- поехали в киев, нет давай ждать, хочешь едь. Такое впечатление что он хочет от меня избавится, типа я что напрягаю его? ну короче, когда я спрашиваю все ли в порядке, он говорит все хорошо, но я не чувствую что все хорошо. Может конечно я свои переживания на него перекладываю, но блин в стране которую постоянно раздирают на части ничего хорошего ждать уже не приходится. Пусть даже со мной происходят только хорошие вещи, ну насколько это реально, ну вот даже в плане денег, все есть, понятно накопления на пару месяцев, и работу все равно придется искать, я реально хочу просто определенности, в рамках своей реальности. Но полную определенность я чувствую только когда я сама себе хозяин. Может я просто не понимаю что такое жить с партнером.</td>\n",
              "    </tr>\n",
              "    <tr>\n",
              "      <th id=\"T_76066_level0_row14\" class=\"row_heading level0 row14\" >14</th>\n",
              "      <td id=\"T_76066_row14_col0\" class=\"data row14 col0\" > Психолог: Каждая семья строит свои взаимоотношения, нет единственного верного решения, как правильно. Но если я вас правильно услышала, то больше всего вас тревожит именно неопределенность в решениях внутри семьи, отсутствие возможности договорится. Расскажите какие эмоции вы испытываете от этой \"неопределенности\"?</td>\n",
              "    </tr>\n",
              "    <tr>\n",
              "      <th id=\"T_76066_level0_row15\" class=\"row_heading level0 row15\" >15</th>\n",
              "      <td id=\"T_76066_row15_col0\" class=\"data row15 col0\" >Ольга: ну если честно я уже не знаю, я типа как смирилась что ли с тем, что происходит. меня эти затяжные штуки напрягают это точно, но вот так сказать что я чувствую? я просто знаю что они бывают и мне уже изначально плохо я как будто живу с бомбой с часовым механизмом и даже не предлагаю никаких идей, не хочу снова все проживать, просто нет сил, а вот эмоции я уже  не отслеживаю просто не приятно, но так описать не могу.</td>\n",
              "    </tr>\n",
              "    <tr>\n",
              "      <th id=\"T_76066_level0_row16\" class=\"row_heading level0 row16\" >16</th>\n",
              "      <td id=\"T_76066_row16_col0\" class=\"data row16 col0\" >Психолог: Давайте начнем разбираться вместе? Как домашнее задание я хочу дать вам возможность разобраться в своих эмоциях, понять что вы чувствуете, каждый раз когда у вас будет возникать ситуация, где муж будет затягивать с решением, даже если это маленькая бытовая ситуация -- вам нужно будет записывать в дневник ситуацию и свои эмоции. Как вам такая идея?</td>\n",
              "    </tr>\n",
              "    <tr>\n",
              "      <th id=\"T_76066_level0_row17\" class=\"row_heading level0 row17\" >17</th>\n",
              "      <td id=\"T_76066_row17_col0\" class=\"data row17 col0\" >Ольга: спасибо, реально интересно чего я вообще чувствую иногда кажется что уже ничего.</td>\n",
              "    </tr>\n",
              "    <tr>\n",
              "      <th id=\"T_76066_level0_row18\" class=\"row_heading level0 row18\" >18</th>\n",
              "      <td id=\"T_76066_row18_col0\" class=\"data row18 col0\" >Психолог: хорошо, тогда мы определились с первым заданием и будем понемногу начинать понимать себя, спасибо за встречу.</td>\n",
              "    </tr>\n",
              "  </tbody>\n",
              "</table>\n"
            ]
          },
          "metadata": {},
          "execution_count": 43
        }
      ]
    },
    {
      "cell_type": "code",
      "source": [
        "conversation_df['interlocutor'] = conversation_df.apply(lambda x: 'cli' if x.text.lower().startswith('о') else 'psy', axis=1)\n",
        "conversation_df['text'] = conversation_df['text'].apply(lambda x: x.strip().split(' ', 1)[1] if x.strip().lower().startswith('психолог') | x.strip().lower().startswith('о') else x.strip())\n",
        "psy_df = conversation_df[conversation_df['interlocutor'] == 'psy']\n",
        "cli_df = conversation_df[conversation_df['interlocutor'] == 'cli']\n",
        "conversation_df.style.set_properties(**{'text-align': 'left'})"
      ],
      "metadata": {
        "id": "VClPLs7SUiFB",
        "colab": {
          "base_uri": "https://localhost:8080/",
          "height": 1000
        },
        "outputId": "83288774-00e3-49c4-a5cd-d16149af7047"
      },
      "execution_count": 44,
      "outputs": [
        {
          "output_type": "execute_result",
          "data": {
            "text/plain": [
              "<pandas.io.formats.style.Styler at 0x7fb2051a3510>"
            ],
            "text/html": [
              "<style type=\"text/css\">\n",
              "#T_4dd89_row0_col0, #T_4dd89_row0_col1, #T_4dd89_row1_col0, #T_4dd89_row1_col1, #T_4dd89_row2_col0, #T_4dd89_row2_col1, #T_4dd89_row3_col0, #T_4dd89_row3_col1, #T_4dd89_row4_col0, #T_4dd89_row4_col1, #T_4dd89_row5_col0, #T_4dd89_row5_col1, #T_4dd89_row6_col0, #T_4dd89_row6_col1, #T_4dd89_row7_col0, #T_4dd89_row7_col1, #T_4dd89_row8_col0, #T_4dd89_row8_col1, #T_4dd89_row9_col0, #T_4dd89_row9_col1, #T_4dd89_row10_col0, #T_4dd89_row10_col1, #T_4dd89_row11_col0, #T_4dd89_row11_col1, #T_4dd89_row12_col0, #T_4dd89_row12_col1, #T_4dd89_row13_col0, #T_4dd89_row13_col1, #T_4dd89_row14_col0, #T_4dd89_row14_col1, #T_4dd89_row15_col0, #T_4dd89_row15_col1, #T_4dd89_row16_col0, #T_4dd89_row16_col1, #T_4dd89_row17_col0, #T_4dd89_row17_col1, #T_4dd89_row18_col0, #T_4dd89_row18_col1 {\n",
              "  text-align: left;\n",
              "}\n",
              "</style>\n",
              "<table id=\"T_4dd89_\" class=\"dataframe\">\n",
              "  <thead>\n",
              "    <tr>\n",
              "      <th class=\"blank level0\" >&nbsp;</th>\n",
              "      <th class=\"col_heading level0 col0\" >text</th>\n",
              "      <th class=\"col_heading level0 col1\" >interlocutor</th>\n",
              "    </tr>\n",
              "  </thead>\n",
              "  <tbody>\n",
              "    <tr>\n",
              "      <th id=\"T_4dd89_level0_row0\" class=\"row_heading level0 row0\" >0</th>\n",
              "      <td id=\"T_4dd89_row0_col0\" class=\"data row0 col0\" >Добрый день, меня зовут Ирина. Ольга, у нас с вами на сегодня назначена консультация. Надеюсь, что наш разговор будет приятным и полезным. Расскажите с каким запросом вы пришли на нашу первую встречу?</td>\n",
              "      <td id=\"T_4dd89_row0_col1\" class=\"data row0 col1\" >psy</td>\n",
              "    </tr>\n",
              "    <tr>\n",
              "      <th id=\"T_4dd89_level0_row1\" class=\"row_heading level0 row1\" >1</th>\n",
              "      <td id=\"T_4dd89_row1_col0\" class=\"data row1 col0\" >Добрый день, это моя первая консультация в жизни. Я не особо понимаю что именно нужно говорить. Но у меня накопилось достаточно много всего и мне просто хотелось поговорить о том, что сейчас происходит с моей жизнью, ну много чего, конечно, как и у всех, все таки война, переезды, куча всего короче. Просто хотелось чтобы кто-то услышал, помог мне немного разобраться в себе.</td>\n",
              "      <td id=\"T_4dd89_row1_col1\" class=\"data row1 col1\" >cli</td>\n",
              "    </tr>\n",
              "    <tr>\n",
              "      <th id=\"T_4dd89_level0_row2\" class=\"row_heading level0 row2\" >2</th>\n",
              "      <td id=\"T_4dd89_row2_col0\" class=\"data row2 col0\" >Ольга, действительно сейчас многие проживают события к которым сложно быть готовым. Давайте начнем понемногу разбираться. Расскажите о себе. Где вы сейчас находитесь, в каких условиях живете, какие события происходят вокруг вас?</td>\n",
              "      <td id=\"T_4dd89_row2_col1\" class=\"data row2 col1\" >psy</td>\n",
              "    </tr>\n",
              "    <tr>\n",
              "      <th id=\"T_4dd89_level0_row3\" class=\"row_heading level0 row3\" >3</th>\n",
              "      <td id=\"T_4dd89_row3_col0\" class=\"data row3 col0\" >Сейчас я чувствую себя относительно в безопасности. Мы переехали из Киева на западную Украину. Здесь можно сказать, что тихо, но я не особо понимаю что происходит. Мне словно приходится начинать все с нуля. Деньги немного есть, ээээ ну там на пару месяцев хватит, но нужно искать работу. Не пойму нужно учится на новую специальность или попытаться найти работу менеджером, как раньше? Хотя кому эти менеджеры нужны, ничего толком не работает, наверно повезло людям которые сохранили работу, прям как-то радостно за них. Потерять финансовую стабильность мне реально тяжело, ждать что что-то наладится, но ничего не наладится же. Ну даже если наладится то не скоро, рада что могла себе обеспечить эту финансовую подушку. Я реально уже думала что можно и начать инвестировать но блин, реально никогда не знаешь, теперь думаю что можно было и пол года назад параллельно с подушкой все делать, но так иногда радует что хоть стабильность в деньгах есть, я все таки смогла научиться управлять немного своими финансами. Ну и новую работу искать, ну и что я тут найду? Наверно скорее всего нужно будет учить английский, вряд ли украинские компании сейчас смогут дать хорошую оплату, надо искать что-то онлайн, стабильное. Хотя какое оно стабильное, надо открывать свое дело в интернете, может делать магазин с доставкой? Да я так и не смогла этот английский выучить сколько уже ходила на курсы. Короче искать работу это мне вообще как настоящее испытание, ну и не думаю что без английского я кому-то нужна. Пока живем в бесплатном жилье, но тоже непонятно надолго это, вообще нужно ли возвращаться, в Киеве хотя бы есть дом, родные стены, ну и удобства все под рукой, но я боюсь ходить по улице вижу везде эти новости про растяжки, бомбы в молоке. Но и помощи от волонтеров больше есть и помощь с едой и вообще дома как то проще, здесь никого не знаю, но и знакомые если честно все уже разъехались и реально жизнь как с нуля. С мужем тоже сложно, постоянно приходится принимать решения, а он как будто оттягивает, но я же тоже не могу все время все делать. Короче мне реально не понятно как вообще быть, я боюсь что-то снова начинать, потому что не понятно на долго или скоро закончится.</td>\n",
              "      <td id=\"T_4dd89_row3_col1\" class=\"data row3 col1\" >cli</td>\n",
              "    </tr>\n",
              "    <tr>\n",
              "      <th id=\"T_4dd89_level0_row4\" class=\"row_heading level0 row4\" >4</th>\n",
              "      <td id=\"T_4dd89_row4_col0\" class=\"data row4 col0\" >Давайте выделим вопросы, которые я услышала и продолжим работу. Сейчас у вас нет основной работы для вас большой стресс искать новую, еще вы хотите вернуться в Киев, но не можете решить для себя стоит ли это сейчас делать, также вам хочется получить поддержку от мужа, но вы не можете получить той помощи на которую рассчитываете. Но самым большим испытанием для вас является то, что необходимо начать все с нуля. верно?</td>\n",
              "      <td id=\"T_4dd89_row4_col1\" class=\"data row4 col1\" >psy</td>\n",
              "    </tr>\n",
              "    <tr>\n",
              "      <th id=\"T_4dd89_level0_row5\" class=\"row_heading level0 row5\" >5</th>\n",
              "      <td id=\"T_4dd89_row5_col0\" class=\"data row5 col0\" >Да, но даже не сам факт начала. Понимаете я уже несколько раз все теряла и начинала \"жизнь с этого нуля\". Поэтому мне кажется тут у меня что-то вроде иммунитета. Страх не с самой необходимости, я просто реально понимаю что если я еще раз все потеряю мне может просто не хотеться что-то делать снова. Именно когда живешь в период от нуля до \"опять все хочется\" тут самое страшное. Ощущение, что теряешь время, которого и так постоянно мало, и параллельно же ничего не улучшается, тебе еще наваливается сверху, и нужно разгребать все одновременно. Теряешь дом, нет людей рядом, начинаются долги, нет уверенности в своих силах, моложе не становишься, ну и вечная конкуренция потому что у людей еще есть запал, а тебе 35 и ты такой здрасьте, я хочу заявить о себе. Я начинаю постоянно думать в какой именно момент я перестала контролировать свою жизнь? Ведь мне нравилось жить в том потоке, что происходил. Мне реально часто везло, но прям про будущее я не думала. А теперь читаю про блекауты, теории заговора, считаю остаток бюджета и на сколько мне хватит денег при разных условиях жизни, думаю нужно ли пытаюсь выделить деньги на английский, мне постоянно прилетают дополнительные расходы. Ну и если реально готовится к блекауту, то нужно сделать закупку продуктов на месяц, а если мы вернемся обратно? или останемся тут? короче куда все это девать в итоге? Я смотрю на свою дырявую финансовую подушку безопасности и судорожно понимаю что кроме всего прочего просто никакого верного решения нет.</td>\n",
              "      <td id=\"T_4dd89_row5_col1\" class=\"data row5 col1\" >cli</td>\n",
              "    </tr>\n",
              "    <tr>\n",
              "      <th id=\"T_4dd89_level0_row6\" class=\"row_heading level0 row6\" >6</th>\n",
              "      <td id=\"T_4dd89_row6_col0\" class=\"data row6 col0\" >решение есть всегда, задайте себе вопрос: готовы ли брать ответственность за принятые решения на себя?</td>\n",
              "      <td id=\"T_4dd89_row6_col1\" class=\"data row6 col1\" >psy</td>\n",
              "    </tr>\n",
              "    <tr>\n",
              "      <th id=\"T_4dd89_level0_row7\" class=\"row_heading level0 row7\" >7</th>\n",
              "      <td id=\"T_4dd89_row7_col0\" class=\"data row7 col0\" >Я пытаюсь балансировать между личной ответственностью за свою собственную жизнь и умении договориться. Ну типа если бы я жила одна, мне не так сложно было бы. Не надо ждать коллективного решения, а сам тихо сделала и ни у кого не спрашиваешь.</td>\n",
              "      <td id=\"T_4dd89_row7_col1\" class=\"data row7 col1\" >cli</td>\n",
              "    </tr>\n",
              "    <tr>\n",
              "      <th id=\"T_4dd89_level0_row8\" class=\"row_heading level0 row8\" >8</th>\n",
              "      <td id=\"T_4dd89_row8_col0\" class=\"data row8 col0\" >Расскажите подробнее, я так понимаю у вас разные точки зрения на какую то ситуацию с мужем?</td>\n",
              "      <td id=\"T_4dd89_row8_col1\" class=\"data row8 col1\" >psy</td>\n",
              "    </tr>\n",
              "    <tr>\n",
              "      <th id=\"T_4dd89_level0_row9\" class=\"row_heading level0 row9\" >9</th>\n",
              "      <td id=\"T_4dd89_row9_col0\" class=\"data row9 col0\" >Я реально хочу в Киев, мне там будет проще собраться с мыслями. и если бы муж помог мне и согласился бы на переезд уже было бы проще. Каждый раз с ним говорю, а он говорит ну хочешь поезжай в киев, я потом приеду. А я не хочу ехать одна, я хочу чтобы мы вдвоем поехали, потому что ну что  я там буду делать одна, мне реально надо чтобы мы или вместе были здесь или там. Короче, типа он вообще не упрощает задачу, а как будто ждет, что что-то должно случится и что-то поменяется. Но ничего же не поменяется. Я то понимаю что придется скорее всего просто жить вот так как оно есть, потому что завтра лучше не станет, и после завтра тоже. А ракета может прилететь куда угодно или не прилететь. От нас ничего не зависит. И на правительство мы влиять не можем, только свои решения принимать, ход войны поменять нереально. Но мы же семья, и мне не ясно чего мы не можем договориться о таких простых вещах, ну скажи типа нет я не хочу ехать или хочу, но через неделю. Так он мне просто говорит едь и все, а я потом что-то решу.</td>\n",
              "      <td id=\"T_4dd89_row9_col1\" class=\"data row9 col1\" >cli</td>\n",
              "    </tr>\n",
              "    <tr>\n",
              "      <th id=\"T_4dd89_level0_row10\" class=\"row_heading level0 row10\" >10</th>\n",
              "      <td id=\"T_4dd89_row10_col0\" class=\"data row10 col0\" > скажите а раньше у вас возникали ситуации, когда муж оттягивал принятие решений?</td>\n",
              "      <td id=\"T_4dd89_row10_col1\" class=\"data row10 col1\" >psy</td>\n",
              "    </tr>\n",
              "    <tr>\n",
              "      <th id=\"T_4dd89_level0_row11\" class=\"row_heading level0 row11\" >11</th>\n",
              "      <td id=\"T_4dd89_row11_col0\" class=\"data row11 col0\" >Ну он постоянно все на последний момент откладывает, но раньше не было таких критический ситуаций и я могла подождать или делать что я хотела а там уже как было, или мы ссорились ну понятно что потом он принимал решение и позже мне было уже проще я реально никого не напрягала, а там просто все случалось, при чем он всегда понимал что поздно начал шевелится, но мне было даже смешно. Я могла потом ходить и  смеяться, типа ты же знаешь что ты вечно все тянешь, вот опять такой же случай, зачем ты ждешь. Я и с другой стороны заходила типа смотри ты ждешь, а это влияет на меня. Вот я жду например, что мы купим билеты и полетим куда-то на отдых, мы все равно покупаем и летим, но цена выше на этот самолет мы поссоримся сто раз, вот объясни в чем дело, я просто хочу понять. Потому что мне жалко и нервов и денег. А можно просто было все спокойно сделать вовремя, потому что есть понимание того что вовремя все таки существует, ну или более удачное время, типа чего не пользоваться ситуацией? Я реально не могу уже я даже иногда думаю ну может просто взять и самой себе жить, а  я не хочу жить одна, мне нравиться наши отношения если бы не это. Блин я уже иногда думаю, а если бы мы не были вместе если мне не надо было бы постоянно ждать, где бы я уже была? Потому что в постоянном ожидании чуда жить тоже не легко.</td>\n",
              "      <td id=\"T_4dd89_row11_col1\" class=\"data row11 col1\" >cli</td>\n",
              "    </tr>\n",
              "    <tr>\n",
              "      <th id=\"T_4dd89_level0_row12\" class=\"row_heading level0 row12\" >12</th>\n",
              "      <td id=\"T_4dd89_row12_col0\" class=\"data row12 col0\" >Расскажите а как вы представляли вашу жизнь без отношений? Вот что происходит с вами, когда вам не нужно никого ждать?</td>\n",
              "      <td id=\"T_4dd89_row12_col1\" class=\"data row12 col1\" >psy</td>\n",
              "    </tr>\n",
              "    <tr>\n",
              "      <th id=\"T_4dd89_level0_row13\" class=\"row_heading level0 row13\" >13</th>\n",
              "      <td id=\"T_4dd89_row13_col0\" class=\"data row13 col0\" >ну вот в том и дело, что иногда я понимаю что если бы я осталась одна мне было бы намного проще, но я хочу быть вместе с мужем, оберегать наше партнерство.  не хочу представлять, а если бы. ну нет никаких а если бы. Мне реально нравятся наши отношения, хотя такие штуки когда приходится ждать решения прям бесят. Просто сейчас как будто это повторение -- поехали в киев, нет давай ждать, хочешь едь. Такое впечатление что он хочет от меня избавится, типа я что напрягаю его? ну короче, когда я спрашиваю все ли в порядке, он говорит все хорошо, но я не чувствую что все хорошо. Может конечно я свои переживания на него перекладываю, но блин в стране которую постоянно раздирают на части ничего хорошего ждать уже не приходится. Пусть даже со мной происходят только хорошие вещи, ну насколько это реально, ну вот даже в плане денег, все есть, понятно накопления на пару месяцев, и работу все равно придется искать, я реально хочу просто определенности, в рамках своей реальности. Но полную определенность я чувствую только когда я сама себе хозяин. Может я просто не понимаю что такое жить с партнером.</td>\n",
              "      <td id=\"T_4dd89_row13_col1\" class=\"data row13 col1\" >cli</td>\n",
              "    </tr>\n",
              "    <tr>\n",
              "      <th id=\"T_4dd89_level0_row14\" class=\"row_heading level0 row14\" >14</th>\n",
              "      <td id=\"T_4dd89_row14_col0\" class=\"data row14 col0\" >Каждая семья строит свои взаимоотношения, нет единственного верного решения, как правильно. Но если я вас правильно услышала, то больше всего вас тревожит именно неопределенность в решениях внутри семьи, отсутствие возможности договорится. Расскажите какие эмоции вы испытываете от этой \"неопределенности\"?</td>\n",
              "      <td id=\"T_4dd89_row14_col1\" class=\"data row14 col1\" >psy</td>\n",
              "    </tr>\n",
              "    <tr>\n",
              "      <th id=\"T_4dd89_level0_row15\" class=\"row_heading level0 row15\" >15</th>\n",
              "      <td id=\"T_4dd89_row15_col0\" class=\"data row15 col0\" >ну если честно я уже не знаю, я типа как смирилась что ли с тем, что происходит. меня эти затяжные штуки напрягают это точно, но вот так сказать что я чувствую? я просто знаю что они бывают и мне уже изначально плохо я как будто живу с бомбой с часовым механизмом и даже не предлагаю никаких идей, не хочу снова все проживать, просто нет сил, а вот эмоции я уже  не отслеживаю просто не приятно, но так описать не могу.</td>\n",
              "      <td id=\"T_4dd89_row15_col1\" class=\"data row15 col1\" >cli</td>\n",
              "    </tr>\n",
              "    <tr>\n",
              "      <th id=\"T_4dd89_level0_row16\" class=\"row_heading level0 row16\" >16</th>\n",
              "      <td id=\"T_4dd89_row16_col0\" class=\"data row16 col0\" >Давайте начнем разбираться вместе? Как домашнее задание я хочу дать вам возможность разобраться в своих эмоциях, понять что вы чувствуете, каждый раз когда у вас будет возникать ситуация, где муж будет затягивать с решением, даже если это маленькая бытовая ситуация -- вам нужно будет записывать в дневник ситуацию и свои эмоции. Как вам такая идея?</td>\n",
              "      <td id=\"T_4dd89_row16_col1\" class=\"data row16 col1\" >psy</td>\n",
              "    </tr>\n",
              "    <tr>\n",
              "      <th id=\"T_4dd89_level0_row17\" class=\"row_heading level0 row17\" >17</th>\n",
              "      <td id=\"T_4dd89_row17_col0\" class=\"data row17 col0\" >спасибо, реально интересно чего я вообще чувствую иногда кажется что уже ничего.</td>\n",
              "      <td id=\"T_4dd89_row17_col1\" class=\"data row17 col1\" >cli</td>\n",
              "    </tr>\n",
              "    <tr>\n",
              "      <th id=\"T_4dd89_level0_row18\" class=\"row_heading level0 row18\" >18</th>\n",
              "      <td id=\"T_4dd89_row18_col0\" class=\"data row18 col0\" >хорошо, тогда мы определились с первым заданием и будем понемногу начинать понимать себя, спасибо за встречу.</td>\n",
              "      <td id=\"T_4dd89_row18_col1\" class=\"data row18 col1\" >psy</td>\n",
              "    </tr>\n",
              "  </tbody>\n",
              "</table>\n"
            ]
          },
          "metadata": {},
          "execution_count": 44
        }
      ]
    },
    {
      "cell_type": "code",
      "source": [
        "full_cli_text = ' '.join(i for i in cli_df.text.tolist()).strip()\n",
        "full_psy_text = ' '.join(i for i in psy_df.text.tolist()).strip()\n",
        "full_text = ' '.join(i for i in conversation_df.text.tolist()).strip()\n",
        "full_text"
      ],
      "metadata": {
        "colab": {
          "base_uri": "https://localhost:8080/",
          "height": 203
        },
        "id": "f1rVbrkEBagx",
        "outputId": "456900fe-3130-4f57-c155-8f98526a17d7"
      },
      "execution_count": 45,
      "outputs": [
        {
          "output_type": "execute_result",
          "data": {
            "text/plain": [
              "'Добрый день, меня зовут Ирина. Ольга, у нас с вами на сегодня назначена консультация. Надеюсь, что наш разговор будет приятным и полезным. Расскажите с каким запросом вы пришли на нашу первую встречу? Добрый день, это моя первая консультация в жизни. Я не особо понимаю что именно нужно говорить. Но у меня накопилось достаточно много всего и мне просто хотелось поговорить о том, что сейчас происходит с моей жизнью, ну много чего, конечно, как и у всех, все таки война, переезды, куча всего короче. Просто хотелось чтобы кто-то услышал, помог мне немного разобраться в себе. Ольга, действительно сейчас многие проживают события к которым сложно быть готовым. Давайте начнем понемногу разбираться. Расскажите о себе. Где вы сейчас находитесь, в каких условиях живете, какие события происходят вокруг вас? Сейчас я чувствую себя относительно в безопасности. Мы переехали из Киева на западную Украину. Здесь можно сказать, что тихо, но я не особо понимаю что происходит. Мне словно приходится начинать все с нуля. Деньги немного есть, ээээ ну там на пару месяцев хватит, но нужно искать работу. Не пойму нужно учится на новую специальность или попытаться найти работу менеджером, как раньше? Хотя кому эти менеджеры нужны, ничего толком не работает, наверно повезло людям которые сохранили работу, прям как-то радостно за них. Потерять финансовую стабильность мне реально тяжело, ждать что что-то наладится, но ничего не наладится же. Ну даже если наладится то не скоро, рада что могла себе обеспечить эту финансовую подушку. Я реально уже думала что можно и начать инвестировать но блин, реально никогда не знаешь, теперь думаю что можно было и пол года назад параллельно с подушкой все делать, но так иногда радует что хоть стабильность в деньгах есть, я все таки смогла научиться управлять немного своими финансами. Ну и новую работу искать, ну и что я тут найду? Наверно скорее всего нужно будет учить английский, вряд ли украинские компании сейчас смогут дать хорошую оплату, надо искать что-то онлайн, стабильное. Хотя какое оно стабильное, надо открывать свое дело в интернете, может делать магазин с доставкой? Да я так и не смогла этот английский выучить сколько уже ходила на курсы. Короче искать работу это мне вообще как настоящее испытание, ну и не думаю что без английского я кому-то нужна. Пока живем в бесплатном жилье, но тоже непонятно надолго это, вообще нужно ли возвращаться, в Киеве хотя бы есть дом, родные стены, ну и удобства все под рукой, но я боюсь ходить по улице вижу везде эти новости про растяжки, бомбы в молоке. Но и помощи от волонтеров больше есть и помощь с едой и вообще дома как то проще, здесь никого не знаю, но и знакомые если честно все уже разъехались и реально жизнь как с нуля. С мужем тоже сложно, постоянно приходится принимать решения, а он как будто оттягивает, но я же тоже не могу все время все делать. Короче мне реально не понятно как вообще быть, я боюсь что-то снова начинать, потому что не понятно на долго или скоро закончится. Давайте выделим вопросы, которые я услышала и продолжим работу. Сейчас у вас нет основной работы для вас большой стресс искать новую, еще вы хотите вернуться в Киев, но не можете решить для себя стоит ли это сейчас делать, также вам хочется получить поддержку от мужа, но вы не можете получить той помощи на которую рассчитываете. Но самым большим испытанием для вас является то, что необходимо начать все с нуля. верно? Да, но даже не сам факт начала. Понимаете я уже несколько раз все теряла и начинала \"жизнь с этого нуля\". Поэтому мне кажется тут у меня что-то вроде иммунитета. Страх не с самой необходимости, я просто реально понимаю что если я еще раз все потеряю мне может просто не хотеться что-то делать снова. Именно когда живешь в период от нуля до \"опять все хочется\" тут самое страшное. Ощущение, что теряешь время, которого и так постоянно мало, и параллельно же ничего не улучшается, тебе еще наваливается сверху, и нужно разгребать все одновременно. Теряешь дом, нет людей рядом, начинаются долги, нет уверенности в своих силах, моложе не становишься, ну и вечная конкуренция потому что у людей еще есть запал, а тебе 35 и ты такой здрасьте, я хочу заявить о себе. Я начинаю постоянно думать в какой именно момент я перестала контролировать свою жизнь? Ведь мне нравилось жить в том потоке, что происходил. Мне реально часто везло, но прям про будущее я не думала. А теперь читаю про блекауты, теории заговора, считаю остаток бюджета и на сколько мне хватит денег при разных условиях жизни, думаю нужно ли пытаюсь выделить деньги на английский, мне постоянно прилетают дополнительные расходы. Ну и если реально готовится к блекауту, то нужно сделать закупку продуктов на месяц, а если мы вернемся обратно? или останемся тут? короче куда все это девать в итоге? Я смотрю на свою дырявую финансовую подушку безопасности и судорожно понимаю что кроме всего прочего просто никакого верного решения нет. решение есть всегда, задайте себе вопрос: готовы ли брать ответственность за принятые решения на себя? Я пытаюсь балансировать между личной ответственностью за свою собственную жизнь и умении договориться. Ну типа если бы я жила одна, мне не так сложно было бы. Не надо ждать коллективного решения, а сам тихо сделала и ни у кого не спрашиваешь. Расскажите подробнее, я так понимаю у вас разные точки зрения на какую то ситуацию с мужем? Я реально хочу в Киев, мне там будет проще собраться с мыслями. и если бы муж помог мне и согласился бы на переезд уже было бы проще. Каждый раз с ним говорю, а он говорит ну хочешь поезжай в киев, я потом приеду. А я не хочу ехать одна, я хочу чтобы мы вдвоем поехали, потому что ну что  я там буду делать одна, мне реально надо чтобы мы или вместе были здесь или там. Короче, типа он вообще не упрощает задачу, а как будто ждет, что что-то должно случится и что-то поменяется. Но ничего же не поменяется. Я то понимаю что придется скорее всего просто жить вот так как оно есть, потому что завтра лучше не станет, и после завтра тоже. А ракета может прилететь куда угодно или не прилететь. От нас ничего не зависит. И на правительство мы влиять не можем, только свои решения принимать, ход войны поменять нереально. Но мы же семья, и мне не ясно чего мы не можем договориться о таких простых вещах, ну скажи типа нет я не хочу ехать или хочу, но через неделю. Так он мне просто говорит едь и все, а я потом что-то решу.  скажите а раньше у вас возникали ситуации, когда муж оттягивал принятие решений? Ну он постоянно все на последний момент откладывает, но раньше не было таких критический ситуаций и я могла подождать или делать что я хотела а там уже как было, или мы ссорились ну понятно что потом он принимал решение и позже мне было уже проще я реально никого не напрягала, а там просто все случалось, при чем он всегда понимал что поздно начал шевелится, но мне было даже смешно. Я могла потом ходить и  смеяться, типа ты же знаешь что ты вечно все тянешь, вот опять такой же случай, зачем ты ждешь. Я и с другой стороны заходила типа смотри ты ждешь, а это влияет на меня. Вот я жду например, что мы купим билеты и полетим куда-то на отдых, мы все равно покупаем и летим, но цена выше на этот самолет мы поссоримся сто раз, вот объясни в чем дело, я просто хочу понять. Потому что мне жалко и нервов и денег. А можно просто было все спокойно сделать вовремя, потому что есть понимание того что вовремя все таки существует, ну или более удачное время, типа чего не пользоваться ситуацией? Я реально не могу уже я даже иногда думаю ну может просто взять и самой себе жить, а  я не хочу жить одна, мне нравиться наши отношения если бы не это. Блин я уже иногда думаю, а если бы мы не были вместе если мне не надо было бы постоянно ждать, где бы я уже была? Потому что в постоянном ожидании чуда жить тоже не легко. Расскажите а как вы представляли вашу жизнь без отношений? Вот что происходит с вами, когда вам не нужно никого ждать? ну вот в том и дело, что иногда я понимаю что если бы я осталась одна мне было бы намного проще, но я хочу быть вместе с мужем, оберегать наше партнерство.  не хочу представлять, а если бы. ну нет никаких а если бы. Мне реально нравятся наши отношения, хотя такие штуки когда приходится ждать решения прям бесят. Просто сейчас как будто это повторение -- поехали в киев, нет давай ждать, хочешь едь. Такое впечатление что он хочет от меня избавится, типа я что напрягаю его? ну короче, когда я спрашиваю все ли в порядке, он говорит все хорошо, но я не чувствую что все хорошо. Может конечно я свои переживания на него перекладываю, но блин в стране которую постоянно раздирают на части ничего хорошего ждать уже не приходится. Пусть даже со мной происходят только хорошие вещи, ну насколько это реально, ну вот даже в плане денег, все есть, понятно накопления на пару месяцев, и работу все равно придется искать, я реально хочу просто определенности, в рамках своей реальности. Но полную определенность я чувствую только когда я сама себе хозяин. Может я просто не понимаю что такое жить с партнером. Каждая семья строит свои взаимоотношения, нет единственного верного решения, как правильно. Но если я вас правильно услышала, то больше всего вас тревожит именно неопределенность в решениях внутри семьи, отсутствие возможности договорится. Расскажите какие эмоции вы испытываете от этой \"неопределенности\"? ну если честно я уже не знаю, я типа как смирилась что ли с тем, что происходит. меня эти затяжные штуки напрягают это точно, но вот так сказать что я чувствую? я просто знаю что они бывают и мне уже изначально плохо я как будто живу с бомбой с часовым механизмом и даже не предлагаю никаких идей, не хочу снова все проживать, просто нет сил, а вот эмоции я уже  не отслеживаю просто не приятно, но так описать не могу. Давайте начнем разбираться вместе? Как домашнее задание я хочу дать вам возможность разобраться в своих эмоциях, понять что вы чувствуете, каждый раз когда у вас будет возникать ситуация, где муж будет затягивать с решением, даже если это маленькая бытовая ситуация -- вам нужно будет записывать в дневник ситуацию и свои эмоции. Как вам такая идея? спасибо, реально интересно чего я вообще чувствую иногда кажется что уже ничего. хорошо, тогда мы определились с первым заданием и будем понемногу начинать понимать себя, спасибо за встречу.'"
            ],
            "application/vnd.google.colaboratory.intrinsic+json": {
              "type": "string"
            }
          },
          "metadata": {},
          "execution_count": 45
        }
      ]
    },
    {
      "cell_type": "markdown",
      "source": [
        "# Text Preprocessing"
      ],
      "metadata": {
        "id": "eHwudLDSTkGy"
      }
    },
    {
      "cell_type": "code",
      "source": [
        "import nltk\n",
        "nltk.download('punkt')\n",
        "from nltk.tokenize import word_tokenize, sent_tokenize\n",
        "import re\n",
        "nltk.download(\"stopwords\")\n",
        "from nltk.corpus import stopwords"
      ],
      "metadata": {
        "colab": {
          "base_uri": "https://localhost:8080/"
        },
        "id": "Fz6B4a6squcl",
        "outputId": "927a4967-8170-40c1-cb93-287fa175775a"
      },
      "execution_count": 7,
      "outputs": [
        {
          "output_type": "stream",
          "name": "stdout",
          "text": [
            "[nltk_data] Downloading package punkt to /root/nltk_data...\n",
            "[nltk_data]   Unzipping tokenizers/punkt.zip.\n",
            "[nltk_data] Downloading package stopwords to /root/nltk_data...\n",
            "[nltk_data]   Unzipping corpora/stopwords.zip.\n"
          ]
        }
      ]
    },
    {
      "cell_type": "markdown",
      "source": [
        "### Split Text into Sentences"
      ],
      "metadata": {
        "id": "3elLZXzg1yVx"
      }
    },
    {
      "cell_type": "code",
      "source": [
        "def split_text(df):\n",
        "  sentences = []\n",
        "  for s in df['text']:\n",
        "    sentences.append(sent_tokenize(s))\n",
        "  return [y for x in sentences for y in x] "
      ],
      "metadata": {
        "id": "ddzY1qsnQ7dy"
      },
      "execution_count": 29,
      "outputs": []
    },
    {
      "cell_type": "code",
      "source": [
        "import nltk.data\n",
        "s_tokenizer = nltk.data.load('tokenizers/punkt/russian.pickle')"
      ],
      "metadata": {
        "id": "eK_-LWJWPbjo"
      },
      "execution_count": 30,
      "outputs": []
    },
    {
      "cell_type": "code",
      "source": [
        "def split_text2(text):\n",
        "  return [i for i in s_tokenizer.tokenize(text)]"
      ],
      "metadata": {
        "id": "V2rJ_S8zPFT_"
      },
      "execution_count": 31,
      "outputs": []
    },
    {
      "cell_type": "code",
      "source": [
        "split_text2(full_text)[:5]"
      ],
      "metadata": {
        "colab": {
          "base_uri": "https://localhost:8080/"
        },
        "id": "fNcgW0GUP6Yp",
        "outputId": "7b6b7056-4e29-4b72-a877-af95f3ef23b9"
      },
      "execution_count": 32,
      "outputs": [
        {
          "output_type": "execute_result",
          "data": {
            "text/plain": [
              "['Добрый день, меня зовут Ирина.',\n",
              " 'Ольга, у нас с вами на сегодня назначена консультация.',\n",
              " 'Надеюсь, что наш разговор будет приятным и полезным.',\n",
              " 'Расскажите с каким запросом вы пришли на нашу первую встречу?',\n",
              " 'Добрый день, это моя первая консультация в жизни.']"
            ]
          },
          "metadata": {},
          "execution_count": 32
        }
      ]
    },
    {
      "cell_type": "code",
      "source": [
        "cli_sent = split_text(cli_df)\n",
        "psy_sent = split_text(psy_df)\n",
        "all_sent = split_text(conversation_df)"
      ],
      "metadata": {
        "id": "bUSYl4MARUtm"
      },
      "execution_count": 33,
      "outputs": []
    },
    {
      "cell_type": "code",
      "source": [
        "all_sent[:5]"
      ],
      "metadata": {
        "colab": {
          "base_uri": "https://localhost:8080/"
        },
        "id": "7_HZ8CQiRU0z",
        "outputId": "ddd5fca8-c5f2-4ca6-c9c4-d29daf286f4d"
      },
      "execution_count": 34,
      "outputs": [
        {
          "output_type": "execute_result",
          "data": {
            "text/plain": [
              "['Добрый день, меня зовут Ирина.',\n",
              " 'Ольга, у нас с вами на сегодня назначена консультация.',\n",
              " 'Надеюсь, что наш разговор будет приятным и полезным.',\n",
              " 'Расскажите с каким запросом вы пришли на нашу первую встречу?',\n",
              " 'Добрый день, это моя первая консультация в жизни.']"
            ]
          },
          "metadata": {},
          "execution_count": 34
        }
      ]
    },
    {
      "cell_type": "markdown",
      "source": [
        "### Remove punctuations, numbers and special characters"
      ],
      "metadata": {
        "id": "j7zbqABFW6rd"
      }
    },
    {
      "cell_type": "code",
      "source": [
        "# remove punctuations, numbers and special characters\n",
        "clean_sent = lambda sent: [s.lower() for s in pd.Series(sent).str.replace('[^\\w\\s]', '')] "
      ],
      "metadata": {
        "id": "5-gS44hNLPID"
      },
      "execution_count": 35,
      "outputs": []
    },
    {
      "cell_type": "code",
      "source": [
        "clean_sentences_psy = clean_sent(psy_sent)\n",
        "clean_sentences_cli = clean_sent(cli_sent)\n",
        "clean_sentences_all = clean_sent(all_sent)"
      ],
      "metadata": {
        "id": "xHOiNK1vTWST",
        "colab": {
          "base_uri": "https://localhost:8080/"
        },
        "outputId": "cd39371f-4cfb-4e28-aa1d-6bd4a4510b9a"
      },
      "execution_count": 36,
      "outputs": [
        {
          "output_type": "stream",
          "name": "stderr",
          "text": [
            "/usr/local/lib/python3.7/dist-packages/ipykernel_launcher.py:2: FutureWarning: The default value of regex will change from True to False in a future version.\n",
            "  \n"
          ]
        }
      ]
    },
    {
      "cell_type": "code",
      "source": [
        "clean_sentences_all[:5]"
      ],
      "metadata": {
        "colab": {
          "base_uri": "https://localhost:8080/"
        },
        "id": "Pr3i774HUVy0",
        "outputId": "41d7f699-87bb-49d4-c9ff-bed0f223b060"
      },
      "execution_count": 37,
      "outputs": [
        {
          "output_type": "execute_result",
          "data": {
            "text/plain": [
              "['добрый день меня зовут ирина',\n",
              " 'ольга у нас с вами на сегодня назначена консультация',\n",
              " 'надеюсь что наш разговор будет приятным и полезным',\n",
              " 'расскажите с каким запросом вы пришли на нашу первую встречу',\n",
              " 'добрый день это моя первая консультация в жизни']"
            ]
          },
          "metadata": {},
          "execution_count": 37
        }
      ]
    },
    {
      "cell_type": "markdown",
      "source": [
        "### Stop words removal"
      ],
      "metadata": {
        "id": "A3yxRQU7pC_x"
      }
    },
    {
      "cell_type": "code",
      "source": [
        "stop_words = set(stopwords.words(\"russian\"))\n",
        "print(stop_words)"
      ],
      "metadata": {
        "colab": {
          "base_uri": "https://localhost:8080/"
        },
        "id": "pa6khlvDb3t7",
        "outputId": "108345dd-5a4d-45a3-a576-f4719560cb36"
      },
      "execution_count": 38,
      "outputs": [
        {
          "output_type": "stream",
          "name": "stdout",
          "text": [
            "{'то', 'ну', 'них', 'перед', 'можно', 'к', 'на', 'ней', 'ничего', 'о', 'только', 'тебя', 'того', 'или', 'тоже', 'по', 'где', 'чего', 'этот', 'и', 'были', 'куда', 'наконец', 'у', 'что', 'между', 'если', 'никогда', 'него', 'раз', 'же', 'уж', 'без', 'зачем', 'три', 'нельзя', 'хорошо', 'разве', 'один', 'этом', 'вам', 'опять', 'все', 'тот', 'был', 'свою', 'но', 'вот', 'тут', 'мы', 'нее', 'даже', 'в', 'его', 'чтоб', 'до', 'их', 'какой', 'не', 'тем', 'нибудь', 'другой', 'было', 'через', 'бы', 'со', 'как', 'надо', 'сейчас', 'себя', 'мне', 'ведь', 'кто', 'когда', 'после', 'сам', 'себе', 'иногда', 'из', 'всего', 'так', 'есть', 'про', 'они', 'вы', 'а', 'совсем', 'им', 'ж', 'я', 'эту', 'хоть', 'всю', 'он', 'ей', 'более', 'ее', 'быть', 'ли', 'тогда', 'да', 'об', 'всегда', 'там', 'будет', 'вдруг', 'она', 'чуть', 'от', 'два', 'над', 'ним', 'мой', 'для', 'уже', 'этой', 'этого', 'моя', 'еще', 'такой', 'вас', 'потому', 'больше', 'под', 'была', 'во', 'конечно', 'здесь', 'эти', 'за', 'всех', 'том', 'ему', 'теперь', 'чем', 'меня', 'будто', 'почти', 'чтобы', 'при', 'впрочем', 'нас', 'лучше', 'с', 'нет', 'ни', 'много', 'может', 'ты', 'потом', 'какая'}\n"
          ]
        }
      ]
    },
    {
      "cell_type": "code",
      "source": [
        "#add words-parasits\n",
        "parasite_words = ['реально', 'вообще', 'просто', 'точно','типа','поэтому', 'куча', 'ээээ','особо', 'действительно'\n",
        "                ,'честно','такое','может', 'пусть', 'постоянно', 'вечно', 'часто', 'блин', 'короче', 'это',\n",
        "                 'прям', 'хотя', 'такие', 'потому', 'ясно', 'должно', 'нужно','снова', 'пока', 'таки']\n",
        "new_stopwords_list = stop_words.union(parasite_words)\n",
        "\n",
        "#remove words that are in NLTK stopwords list\n",
        "not_stopwords = {\"не\",'что'} \n",
        "final_stop_words = set([word for word in new_stopwords_list if word not in not_stopwords])\n",
        "\n",
        "print(final_stop_words)"
      ],
      "metadata": {
        "colab": {
          "base_uri": "https://localhost:8080/"
        },
        "id": "zfm_VZriWXIY",
        "outputId": "9721a470-58fa-45da-84eb-3c8196139274"
      },
      "execution_count": 39,
      "outputs": [
        {
          "output_type": "stream",
          "name": "stdout",
          "text": [
            "{'то', 'ну', 'них', 'перед', 'можно', 'нужно', 'к', 'на', 'ней', 'короче', 'ничего', 'о', 'только', 'тебя', 'того', 'или', 'тоже', 'такие', 'по', 'где', 'чего', 'этот', 'просто', 'и', 'были', 'куда', 'наконец', 'у', 'между', 'если', 'никогда', 'него', 'раз', 'же', 'уж', 'без', 'зачем', 'три', 'нельзя', 'хорошо', 'пока', 'разве', 'один', 'этом', 'вам', 'опять', 'все', 'тот', 'поэтому', 'был', 'свою', 'но', 'вот', 'тут', 'мы', 'нее', 'даже', 'куча', 'в', 'его', 'чтоб', 'до', 'их', 'какой', 'тем', 'такое', 'нибудь', 'другой', 'было', 'действительно', 'через', 'бы', 'со', 'пусть', 'как', 'надо', 'сейчас', 'себя', 'мне', 'ведь', 'кто', 'когда', 'точно', 'после', 'сам', 'вообще', 'себе', 'иногда', 'особо', 'из', 'всего', 'так', 'есть', 'честно', 'про', 'часто', 'таки', 'они', 'вы', 'а', 'совсем', 'им', 'прям', 'ж', 'ээээ', 'я', 'эту', 'хоть', 'всю', 'он', 'ей', 'более', 'ее', 'быть', 'ясно', 'ли', 'тогда', 'да', 'вечно', 'об', 'это', 'всегда', 'постоянно', 'там', 'хотя', 'будет', 'вдруг', 'блин', 'она', 'типа', 'чуть', 'от', 'должно', 'два', 'над', 'ним', 'мой', 'для', 'уже', 'этой', 'этого', 'моя', 'еще', 'такой', 'вас', 'потому', 'больше', 'под', 'была', 'во', 'конечно', 'здесь', 'эти', 'за', 'всех', 'том', 'ему', 'теперь', 'чем', 'меня', 'будто', 'почти', 'чтобы', 'при', 'впрочем', 'нас', 'лучше', 'с', 'нет', 'ни', 'много', 'может', 'ты', 'потом', 'какая', 'снова', 'реально'}\n"
          ]
        }
      ]
    },
    {
      "cell_type": "code",
      "source": [
        "# function to remove stopwords\n",
        "def remove_stopwords(sen):\n",
        "    sen_new = \" \".join([i for i in sen if i not in final_stop_words])\n",
        "    return sen_new"
      ],
      "metadata": {
        "id": "J2ZqCAaESTzF"
      },
      "execution_count": 40,
      "outputs": []
    },
    {
      "cell_type": "code",
      "source": [
        "# remove stopwords from the sentences\n",
        "clean_sentences_psy= [remove_stopwords(r.split()) for r in clean_sentences_psy]\n",
        "clean_sentences_cli = [remove_stopwords(r.split()) for r in clean_sentences_cli]\n",
        "clean_sentences_all = [remove_stopwords(r.split()) for r in clean_sentences_all]"
      ],
      "metadata": {
        "id": "MWicy8pWUKlN"
      },
      "execution_count": 41,
      "outputs": []
    },
    {
      "cell_type": "code",
      "source": [
        "clean_sentences_all[:5]"
      ],
      "metadata": {
        "colab": {
          "base_uri": "https://localhost:8080/"
        },
        "id": "t1u76nXcV-rs",
        "outputId": "663f1db7-e710-4e00-dfc5-cc0992e208d7"
      },
      "execution_count": 42,
      "outputs": [
        {
          "output_type": "execute_result",
          "data": {
            "text/plain": [
              "['добрый день зовут ирина',\n",
              " 'ольга вами сегодня назначена консультация',\n",
              " 'надеюсь что наш разговор приятным полезным',\n",
              " 'расскажите каким запросом пришли нашу первую встречу',\n",
              " 'добрый день первая консультация жизни']"
            ]
          },
          "metadata": {},
          "execution_count": 42
        }
      ]
    },
    {
      "cell_type": "markdown",
      "source": [
        "# Futher Steps"
      ],
      "metadata": {
        "id": "_0WuE7pvtJF0"
      }
    },
    {
      "cell_type": "markdown",
      "source": [
        "## Vector Representation of Sentences with SentenceTransformer\n",
        "[SentenceTransformers](https://www.sbert.net/examples/applications/computing-embeddings/README.html) is a Python framework for state-of-the-art sentence, text and image embeddings. "
      ],
      "metadata": {
        "id": "v9y-xGUreZm0"
      }
    },
    {
      "cell_type": "code",
      "source": [
        "from sentence_transformers import SentenceTransformer, util\n",
        "st_model = SentenceTransformer('multi-qa-MiniLM-L6-cos-v1')"
      ],
      "metadata": {
        "id": "8Ll-kGhbPCLp"
      },
      "execution_count": 71,
      "outputs": []
    },
    {
      "cell_type": "code",
      "source": [
        "sent_vect = lambda sentences: st_model.encode(sentences)"
      ],
      "metadata": {
        "id": "7uBD4jtgejge"
      },
      "execution_count": 69,
      "outputs": []
    },
    {
      "cell_type": "code",
      "source": [
        "cli_sentence_vectors = sent_vect(clean_sentences_cli)\n",
        "psy_sentence_vectors = sent_vect(clean_sentences_psy)\n",
        "all_sentence_vectors = sent_vect(clean_sentences_all)"
      ],
      "metadata": {
        "id": "5FCUPHrKHwyA"
      },
      "execution_count": 70,
      "outputs": []
    },
    {
      "cell_type": "code",
      "source": [
        "all_sentence_vectors.shape"
      ],
      "metadata": {
        "colab": {
          "base_uri": "https://localhost:8080/"
        },
        "id": "jlDbPsi4PVZb",
        "outputId": "739819ea-730a-4809-f235-1ec09a7c72bc"
      },
      "execution_count": 59,
      "outputs": [
        {
          "output_type": "execute_result",
          "data": {
            "text/plain": [
              "(101, 384)"
            ]
          },
          "metadata": {},
          "execution_count": 59
        }
      ]
    },
    {
      "cell_type": "code",
      "source": [
        "# similarity matrix\n",
        "def form_sim_matr(sent_vectors):\n",
        "  sim_mat = np.zeros([len(sent_vectors), len(sent_vectors)])\n",
        "  for i in range(len(sent_vectors)):\n",
        "    for j in range(len(sent_vectors)):\n",
        "      if i != j:\n",
        "        sim_mat[i][j] = cosine_similarity(sent_vectors[i].reshape(1,sent_vectors.shape[1]), sent_vectors[j].reshape(1,sent_vectors.shape[1]))[0,0]\n",
        "  return sim_mat"
      ],
      "metadata": {
        "id": "6R6IOkdefKeG"
      },
      "execution_count": 63,
      "outputs": []
    },
    {
      "cell_type": "code",
      "source": [
        "all_sim_matr = form_sim_matr(all_sentence_vectors)\n",
        "psy_sim_matr = form_sim_matr(psy_sentence_vectors)\n",
        "cli_sim_matr = form_sim_matr(cli_sentence_vectors)"
      ],
      "metadata": {
        "id": "7lftzxlqKHkV"
      },
      "execution_count": 64,
      "outputs": []
    },
    {
      "cell_type": "markdown",
      "source": [
        "## Rank Sentences"
      ],
      "metadata": {
        "id": "oX9nPIb2sLya"
      }
    },
    {
      "cell_type": "code",
      "source": [
        "def rank_sentences(text):\n",
        "  sents = [remove_stopwords(r.split()) for r in clean_sent(split_text2(text))]\n",
        "  vect = sent_vect(sents)\n",
        "  sim_mat = form_sim_matr(vect)\n",
        "  nx_graph = nx.from_numpy_array(sim_mat)\n",
        "  scores = nx.pagerank(nx_graph)\n",
        "  ranked_sentences = sorted(((scores[i],s) for i,s in enumerate(split_text2(text))), reverse=True)\n",
        "  return ranked_sentences"
      ],
      "metadata": {
        "id": "eRXy5wZdKRpa"
      },
      "execution_count": 102,
      "outputs": []
    },
    {
      "cell_type": "code",
      "source": [
        "rank_sent = rank_sentences(full_text)\n",
        "rank_sent_cli  = rank_sentences(full_cli_text)\n",
        "rank_sent_psy = rank_sentences(full_psy_text)"
      ],
      "metadata": {
        "id": "JxtJ_mBdfc2q",
        "colab": {
          "base_uri": "https://localhost:8080/"
        },
        "outputId": "0a1bef04-96f1-430e-f0b9-f673cb8100ac"
      },
      "execution_count": 103,
      "outputs": [
        {
          "output_type": "stream",
          "name": "stderr",
          "text": [
            "/usr/local/lib/python3.7/dist-packages/ipykernel_launcher.py:2: FutureWarning: The default value of regex will change from True to False in a future version.\n",
            "  \n",
            "/usr/local/lib/python3.7/dist-packages/ipykernel_launcher.py:2: FutureWarning: The default value of regex will change from True to False in a future version.\n",
            "  \n",
            "/usr/local/lib/python3.7/dist-packages/ipykernel_launcher.py:2: FutureWarning: The default value of regex will change from True to False in a future version.\n",
            "  \n"
          ]
        }
      ]
    },
    {
      "cell_type": "code",
      "source": [
        "rank_sent"
      ],
      "metadata": {
        "colab": {
          "base_uri": "https://localhost:8080/"
        },
        "id": "mJBE5sJvr4lo",
        "outputId": "b499e352-1de9-4524-a44a-6870a2c321b6"
      },
      "execution_count": 104,
      "outputs": [
        {
          "output_type": "execute_result",
          "data": {
            "text/plain": [
              "[(0.01198429845014805,\n",
              "  'Может конечно я свои переживания на него перекладываю, но блин в стране которую постоянно раздирают на части ничего хорошего ждать уже не приходится.'),\n",
              " (0.011364823022747826,\n",
              "  'Ощущение, что теряешь время, которого и так постоянно мало, и параллельно же ничего не улучшается, тебе еще наваливается сверху, и нужно разгребать все одновременно.'),\n",
              " (0.0113094795957749,\n",
              "  'Я реально уже думала что можно и начать инвестировать но блин, реально никогда не знаешь, теперь думаю что можно было и пол года назад параллельно с подушкой все делать, но так иногда радует что хоть стабильность в деньгах есть, я все таки смогла научиться управлять немного своими финансами.'),\n",
              " (0.011255789030990806,\n",
              "  'Я смотрю на свою дырявую финансовую подушку безопасности и судорожно понимаю что кроме всего прочего просто никакого верного решения нет.'),\n",
              " (0.011243712679875909,\n",
              "  'я просто знаю что они бывают и мне уже изначально плохо я как будто живу с бомбой с часовым механизмом и даже не предлагаю никаких идей, не хочу снова все проживать, просто нет сил, а вот эмоции я уже  не отслеживаю просто не приятно, но так описать не могу.'),\n",
              " (0.011206830506439825,\n",
              "  'Но если я вас правильно услышала, то больше всего вас тревожит именно неопределенность в решениях внутри семьи, отсутствие возможности договорится.'),\n",
              " (0.011188592752318066,\n",
              "  'А теперь читаю про блекауты, теории заговора, считаю остаток бюджета и на сколько мне хватит денег при разных условиях жизни, думаю нужно ли пытаюсь выделить деньги на английский, мне постоянно прилетают дополнительные расходы.'),\n",
              " (0.01117401042293707,\n",
              "  'Ну он постоянно все на последний момент откладывает, но раньше не было таких критический ситуаций и я могла подождать или делать что я хотела а там уже как было, или мы ссорились ну понятно что потом он принимал решение и позже мне было уже проще я реально никого не напрягала, а там просто все случалось, при чем он всегда понимал что поздно начал шевелится, но мне было даже смешно.'),\n",
              " (0.011149127630915811,\n",
              "  'Как домашнее задание я хочу дать вам возможность разобраться в своих эмоциях, понять что вы чувствуете, каждый раз когда у вас будет возникать ситуация, где муж будет затягивать с решением, даже если это маленькая бытовая ситуация -- вам нужно будет записывать в дневник ситуацию и свои эмоции.'),\n",
              " (0.011135538614608758,\n",
              "  'Сейчас у вас нет основной работы для вас большой стресс искать новую, еще вы хотите вернуться в Киев, но не можете решить для себя стоит ли это сейчас делать, также вам хочется получить поддержку от мужа, но вы не можете получить той помощи на которую рассчитываете.'),\n",
              " (0.011042328037147664,\n",
              "  'ну вот в том и дело, что иногда я понимаю что если бы я осталась одна мне было бы намного проще, но я хочу быть вместе с мужем, оберегать наше партнерство.'),\n",
              " (0.011021950619695837,\n",
              "  'Пока живем в бесплатном жилье, но тоже непонятно надолго это, вообще нужно ли возвращаться, в Киеве хотя бы есть дом, родные стены, ну и удобства все под рукой, но я боюсь ходить по улице вижу везде эти новости про растяжки, бомбы в молоке.'),\n",
              " (0.011010042706214376,\n",
              "  'Но у меня накопилось достаточно много всего и мне просто хотелось поговорить о том, что сейчас происходит с моей жизнью, ну много чего, конечно, как и у всех, все таки война, переезды, куча всего короче.'),\n",
              " (0.010979825812871628,\n",
              "  'Пусть даже со мной происходят только хорошие вещи, ну насколько это реально, ну вот даже в плане денег, все есть, понятно накопления на пару месяцев, и работу все равно придется искать, я реально хочу просто определенности, в рамках своей реальности.'),\n",
              " (0.010944832818150183,\n",
              "  'Страх не с самой необходимости, я просто реально понимаю что если я еще раз все потеряю мне может просто не хотеться что-то делать снова.'),\n",
              " (0.01090866774540318,\n",
              "  'Теряешь дом, нет людей рядом, начинаются долги, нет уверенности в своих силах, моложе не становишься, ну и вечная конкуренция потому что у людей еще есть запал, а тебе 35 и ты такой здрасьте, я хочу заявить о себе.'),\n",
              " (0.010906306680751309,\n",
              "  'С мужем тоже сложно, постоянно приходится принимать решения, а он как будто оттягивает, но я же тоже не могу все время все делать.'),\n",
              " (0.010901096406229726,\n",
              "  'Хотя кому эти менеджеры нужны, ничего толком не работает, наверно повезло людям которые сохранили работу, прям как-то радостно за них.'),\n",
              " (0.010860313077511001,\n",
              "  'Вот что происходит с вами, когда вам не нужно никого ждать?'),\n",
              " (0.01083981810658364,\n",
              "  'Наверно скорее всего нужно будет учить английский, вряд ли украинские компании сейчас смогут дать хорошую оплату, надо искать что-то онлайн, стабильное.'),\n",
              " (0.010814192772511054,\n",
              "  'Каждая семья строит свои взаимоотношения, нет единственного верного решения, как правильно.'),\n",
              " (0.010766968128722446,\n",
              "  'Деньги немного есть, ээээ ну там на пару месяцев хватит, но нужно искать работу.'),\n",
              " (0.01076192865653868,\n",
              "  'Но самым большим испытанием для вас является то, что необходимо начать все с нуля.'),\n",
              " (0.01066468962220604,\n",
              "  'Я пытаюсь балансировать между личной ответственностью за свою собственную жизнь и умении договориться.'),\n",
              " (0.010633130156010563,\n",
              "  'А можно просто было все спокойно сделать вовремя, потому что есть понимание того что вовремя все таки существует, ну или более удачное время, типа чего не пользоваться ситуацией?'),\n",
              " (0.010607185598713736,\n",
              "  'Расскажите подробнее, я так понимаю у вас разные точки зрения на какую то ситуацию с мужем?'),\n",
              " (0.010573207011473996,\n",
              "  'Просто сейчас как будто это повторение -- поехали в киев, нет давай ждать, хочешь едь.'),\n",
              " (0.010547985283083513,\n",
              "  'Ведь мне нравилось жить в том потоке, что происходил.'),\n",
              " (0.010529072732128324,\n",
              "  'Ну даже если наладится то не скоро, рада что могла себе обеспечить эту финансовую подушку.'),\n",
              " (0.01046811952087565,\n",
              "  'И на правительство мы влиять не можем, только свои решения принимать, ход войны поменять нереально.'),\n",
              " (0.010463975974266763,\n",
              "  'Я начинаю постоянно думать в какой именно момент я перестала контролировать свою жизнь?'),\n",
              " (0.010449837419500365,\n",
              "  'Но мы же семья, и мне не ясно чего мы не можем договориться о таких простых вещах, ну скажи типа нет я не хочу ехать или хочу, но через неделю.'),\n",
              " (0.010445239567284572,\n",
              "  'ну если честно я уже не знаю, я типа как смирилась что ли с тем, что происходит.'),\n",
              " (0.01035909230757013,\n",
              "  'Не пойму нужно учится на новую специальность или попытаться найти работу менеджером, как раньше?'),\n",
              " (0.010340039199934942,\n",
              "  'Короче искать работу это мне вообще как настоящее испытание, ну и не думаю что без английского я кому-то нужна.'),\n",
              " (0.010303804121391579, 'Давайте начнем понемногу разбираться.'),\n",
              " (0.010297754651717412,\n",
              "  'Надеюсь, что наш разговор будет приятным и полезным.'),\n",
              " (0.01025227153894316,\n",
              "  'Здесь можно сказать, что тихо, но я не особо понимаю что происходит.'),\n",
              " (0.010236660875695342,\n",
              "  'Вот я жду например, что мы купим билеты и полетим куда-то на отдых, мы все равно покупаем и летим, но цена выше на этот самолет мы поссоримся сто раз, вот объясни в чем дело, я просто хочу понять.'),\n",
              " (0.010225781614135303,\n",
              "  'Но полную определенность я чувствую только когда я сама себе хозяин.'),\n",
              " (0.010215199847747934,\n",
              "  'Не надо ждать коллективного решения, а сам тихо сделала и ни у кого не спрашиваешь.'),\n",
              " (0.010209247091715636,\n",
              "  'Давайте выделим вопросы, которые я услышала и продолжим работу.'),\n",
              " (0.010182741343867497,\n",
              "  'Потерять финансовую стабильность мне реально тяжело, ждать что что-то наладится, но ничего не наладится же.'),\n",
              " (0.010144086925996314,\n",
              "  'Мне реально нравятся наши отношения, хотя такие штуки когда приходится ждать решения прям бесят.'),\n",
              " (0.010133832099510206,\n",
              "  'Каждый раз с ним говорю, а он говорит ну хочешь поезжай в киев, я потом приеду.'),\n",
              " (0.010127893325206316,\n",
              "  'Просто хотелось чтобы кто-то услышал, помог мне немного разобраться в себе.'),\n",
              " (0.01012326006410569,\n",
              "  'Где вы сейчас находитесь, в каких условиях живете, какие события происходят вокруг вас?'),\n",
              " (0.01010492413790208,\n",
              "  'Я реально не могу уже я даже иногда думаю ну может просто взять и самой себе жить, а  я не хочу жить одна, мне нравиться наши отношения если бы не это.'),\n",
              " (0.010078284026805094,\n",
              "  'Я реально хочу в Киев, мне там будет проще собраться с мыслями.'),\n",
              " (0.009958444566147253,\n",
              "  'Расскажите а как вы представляли вашу жизнь без отношений?'),\n",
              " (0.009954373086817092,\n",
              "  'Понимаете я уже несколько раз все теряла и начинала \"жизнь с этого нуля\".'),\n",
              " (0.00992389497152508,\n",
              "  'решение есть всегда, задайте себе вопрос: готовы ли брать ответственность за принятые решения на себя?'),\n",
              " (0.009923067903195354,\n",
              "  'ну короче, когда я спрашиваю все ли в порядке, он говорит все хорошо, но я не чувствую что все хорошо.'),\n",
              " (0.009917223317967275,\n",
              "  'Расскажите с каким запросом вы пришли на нашу первую встречу?'),\n",
              " (0.009916409093905931,\n",
              "  'меня эти затяжные штуки напрягают это точно, но вот так сказать что я чувствую?'),\n",
              " (0.009903664448146568,\n",
              "  'Хотя какое оно стабильное, надо открывать свое дело в интернете, может делать магазин с доставкой?'),\n",
              " (0.009881490117279911, 'не хочу представлять, а если бы.'),\n",
              " (0.009880708896017486,\n",
              "  'Именно когда живешь в период от нуля до \"опять все хочется\" тут самое страшное.'),\n",
              " (0.009875592898101554,\n",
              "  'Может я просто не понимаю что такое жить с партнером.'),\n",
              " (0.009875573780234506,\n",
              "  'Потому что в постоянном ожидании чуда жить тоже не легко.'),\n",
              " (0.009844390823729565, 'Мне словно приходится начинать все с нуля.'),\n",
              " (0.009843562074912179,\n",
              "  'Я и с другой стороны заходила типа смотри ты ждешь, а это влияет на меня.'),\n",
              " (0.00980453372886871, 'Я не особо понимаю что именно нужно говорить.'),\n",
              " (0.009804506969865257, 'Ну и новую работу искать, ну и что я тут найду?'),\n",
              " (0.009799473446039776, 'Потому что мне жалко и нервов и денег.'),\n",
              " (0.009786666741751552,\n",
              "  'скажите а раньше у вас возникали ситуации, когда муж оттягивал принятие решений?'),\n",
              " (0.009778145833492409,\n",
              "  'хорошо, тогда мы определились с первым заданием и будем понемногу начинать понимать себя, спасибо за встречу.'),\n",
              " (0.009747200074280501,\n",
              "  'Поэтому мне кажется тут у меня что-то вроде иммунитета.'),\n",
              " (0.009707795195616806, 'Добрый день, это моя первая консультация в жизни.'),\n",
              " (0.009673471791314609,\n",
              "  'А я не хочу ехать одна, я хочу чтобы мы вдвоем поехали, потому что ну что  я там буду делать одна, мне реально надо чтобы мы или вместе были здесь или там.'),\n",
              " (0.009653111430271677,\n",
              "  'Расскажите какие эмоции вы испытываете от этой \"неопределенности\"?'),\n",
              " (0.009630388492911555,\n",
              "  'Короче, типа он вообще не упрощает задачу, а как будто ждет, что что-то должно случится и что-то поменяется.'),\n",
              " (0.009600775245321708, 'Давайте начнем разбираться вместе?'),\n",
              " (0.009586884263451601,\n",
              "  'Ну и если реально готовится к блекауту, то нужно сделать закупку продуктов на месяц, а если мы вернемся обратно?'),\n",
              " (0.00958012276441885,\n",
              "  'Да я так и не смогла этот английский выучить сколько уже ходила на курсы.'),\n",
              " (0.009574678164880175,\n",
              "  'спасибо, реально интересно чего я вообще чувствую иногда кажется что уже ничего.'),\n",
              " (0.009552113591990234,\n",
              "  'Но и помощи от волонтеров больше есть и помощь с едой и вообще дома как то проще, здесь никого не знаю, но и знакомые если честно все уже разъехались и реально жизнь как с нуля.'),\n",
              " (0.009550198034754754, 'Мы переехали из Киева на западную Украину.'),\n",
              " (0.009539860919282515, 'Сейчас я чувствую себя относительно в безопасности.'),\n",
              " (0.00950850926709539,\n",
              "  'Ольга, действительно сейчас многие проживают события к которым сложно быть готовым.'),\n",
              " (0.009459153645578726,\n",
              "  'Короче мне реально не понятно как вообще быть, я боюсь что-то снова начинать, потому что не понятно на долго или скоро закончится.'),\n",
              " (0.009366405462123044,\n",
              "  'Ольга, у нас с вами на сегодня назначена консультация.'),\n",
              " (0.009363054235794647,\n",
              "  'Я то понимаю что придется скорее всего просто жить вот так как оно есть, потому что завтра лучше не станет, и после завтра тоже.'),\n",
              " (0.009325632185820656,\n",
              "  'А ракета может прилететь куда угодно или не прилететь.'),\n",
              " (0.00928658098257715,\n",
              "  'Я могла потом ходить и  смеяться, типа ты же знаешь что ты вечно все тянешь, вот опять такой же случай, зачем ты ждешь.'),\n",
              " (0.009280078787831946,\n",
              "  'Так он мне просто говорит едь и все, а я потом что-то решу.'),\n",
              " (0.009263180744466899,\n",
              "  'Такое впечатление что он хочет от меня избавится, типа я что напрягаю его?'),\n",
              " (0.009070154129464898,\n",
              "  'и если бы муж помог мне и согласился бы на переезд уже было бы проще.'),\n",
              " (0.008919432230529772,\n",
              "  'Блин я уже иногда думаю, а если бы мы не были вместе если мне не надо было бы постоянно ждать, где бы я уже была?'),\n",
              " (0.008495137235779236,\n",
              "  'Ну типа если бы я жила одна, мне не так сложно было бы.'),\n",
              " (0.008182360626637278, 'Но ничего же не поменяется.'),\n",
              " (0.008160106740394893, 'Добрый день, меня зовут Ирина.'),\n",
              " (0.00811322717429896, 'Расскажите о себе.'),\n",
              " (0.008065411660007512,\n",
              "  'Мне реально часто везло, но прям про будущее я не думала.'),\n",
              " (0.007656082788717439, 'или останемся тут?'),\n",
              " (0.007374174668108639, 'короче куда все это девать в итоге?'),\n",
              " (0.00720012207822469, 'От нас ничего не зависит.'),\n",
              " (0.007039959355257017, 'Да, но даже не сам факт начала.'),\n",
              " (0.006890377663042476, 'верно?'),\n",
              " (0.006885763231759286, 'ну нет никаких а если бы.'),\n",
              " (0.006538982107120984, 'Как вам такая идея?')]"
            ]
          },
          "metadata": {},
          "execution_count": 104
        }
      ]
    },
    {
      "cell_type": "code",
      "source": [
        "type(rank_sent)"
      ],
      "metadata": {
        "colab": {
          "base_uri": "https://localhost:8080/"
        },
        "id": "RGPMxx3VrlIb",
        "outputId": "7eee33fb-0fba-4989-d886-fd7683b320bd"
      },
      "execution_count": 77,
      "outputs": [
        {
          "output_type": "execute_result",
          "data": {
            "text/plain": [
              "list"
            ]
          },
          "metadata": {},
          "execution_count": 77
        }
      ]
    },
    {
      "cell_type": "code",
      "source": [
        "rank_df = pd.DataFrame(rank_sent, columns=['rank', 'sent'])\n",
        "rank_df_cli  = pd.DataFrame(rank_sent_cli, columns=['rank', 'sent'])\n",
        "rank_df_psy  = pd.DataFrame(rank_sent_psy, columns=['rank', 'sent'])"
      ],
      "metadata": {
        "id": "zi61Kdm4ueS3"
      },
      "execution_count": 116,
      "outputs": []
    },
    {
      "cell_type": "code",
      "source": [
        "rank_df['clean_sent'] = rank_df['sent'].apply(lambda x : ''.join([remove_stopwords(r.split()) for r in clean_sent(split_text2(x))]))\n",
        "rank_df_cli['clean_sent'] = rank_df_cli['sent'].apply(lambda x : ''.join([remove_stopwords(r.split()) for r in clean_sent(split_text2(x))]))\n",
        "rank_df_psy['clean_sent'] = rank_df_psy['sent'].apply(lambda x : ''.join([remove_stopwords(r.split()) for r in clean_sent(split_text2(x))]))\n"
      ],
      "metadata": {
        "colab": {
          "base_uri": "https://localhost:8080/"
        },
        "id": "AaJYf464xF5I",
        "outputId": "a3d77203-9eba-461f-a4de-69914afb6ff2"
      },
      "execution_count": 118,
      "outputs": [
        {
          "output_type": "stream",
          "name": "stderr",
          "text": [
            "/usr/local/lib/python3.7/dist-packages/ipykernel_launcher.py:2: FutureWarning: The default value of regex will change from True to False in a future version.\n",
            "  \n"
          ]
        }
      ]
    },
    {
      "cell_type": "code",
      "source": [
        "rank_df"
      ],
      "metadata": {
        "colab": {
          "base_uri": "https://localhost:8080/",
          "height": 728
        },
        "id": "WfftZZL3u70g",
        "outputId": "8d5bb626-2d92-4bb1-efae-cf24500cb3ff"
      },
      "execution_count": 119,
      "outputs": [
        {
          "output_type": "execute_result",
          "data": {
            "text/plain": [
              "         rank  \\\n",
              "0    0.011984   \n",
              "1    0.011365   \n",
              "2    0.011309   \n",
              "3    0.011256   \n",
              "4    0.011244   \n",
              "..        ...   \n",
              "96   0.007200   \n",
              "97   0.007040   \n",
              "98   0.006890   \n",
              "99   0.006886   \n",
              "100  0.006539   \n",
              "\n",
              "                                                                                                                                                                                                                                                                                                     sent  \\\n",
              "0                                                                                                                                                   Может конечно я свои переживания на него перекладываю, но блин в стране которую постоянно раздирают на части ничего хорошего ждать уже не приходится.   \n",
              "1                                                                                                                                   Ощущение, что теряешь время, которого и так постоянно мало, и параллельно же ничего не улучшается, тебе еще наваливается сверху, и нужно разгребать все одновременно.   \n",
              "2    Я реально уже думала что можно и начать инвестировать но блин, реально никогда не знаешь, теперь думаю что можно было и пол года назад параллельно с подушкой все делать, но так иногда радует что хоть стабильность в деньгах есть, я все таки смогла научиться управлять немного своими финансами.   \n",
              "3                                                                                                                                                               Я смотрю на свою дырявую финансовую подушку безопасности и судорожно понимаю что кроме всего прочего просто никакого верного решения нет.   \n",
              "4                                      я просто знаю что они бывают и мне уже изначально плохо я как будто живу с бомбой с часовым механизмом и даже не предлагаю никаких идей, не хочу снова все проживать, просто нет сил, а вот эмоции я уже  не отслеживаю просто не приятно, но так описать не могу.   \n",
              "..                                                                                                                                                                                                                                                                                                    ...   \n",
              "96                                                                                                                                                                                                                                                                              От нас ничего не зависит.   \n",
              "97                                                                                                                                                                                                                                                                        Да, но даже не сам факт начала.   \n",
              "98                                                                                                                                                                                                                                                                                                 верно?   \n",
              "99                                                                                                                                                                                                                                                                              ну нет никаких а если бы.   \n",
              "100                                                                                                                                                                                                                                                                                   Как вам такая идея?   \n",
              "\n",
              "                                                                                                                                                                             clean_sent  \n",
              "0                                                                                             свои переживания перекладываю стране которую раздирают части хорошего ждать не приходится  \n",
              "1                                                                   ощущение что теряешь время которого мало параллельно не улучшается тебе наваливается сверху разгребать одновременно  \n",
              "2    думала что начать инвестировать не знаешь думаю что пол года назад параллельно подушкой делать радует что стабильность деньгах смогла научиться управлять немного своими финансами  \n",
              "3                                                                           смотрю дырявую финансовую подушку безопасности судорожно понимаю что кроме прочего никакого верного решения  \n",
              "4                       знаю что бывают изначально плохо живу бомбой часовым механизмом не предлагаю никаких идей не хочу проживать сил эмоции не отслеживаю не приятно описать не могу  \n",
              "..                                                                                                                                                                                  ...  \n",
              "96                                                                                                                                                                           не зависит  \n",
              "97                                                                                                                                                                       не факт начала  \n",
              "98                                                                                                                                                                                верно  \n",
              "99                                                                                                                                                                              никаких  \n",
              "100                                                                                                                                                                          такая идея  \n",
              "\n",
              "[101 rows x 3 columns]"
            ],
            "text/html": [
              "\n",
              "  <div id=\"df-f19c9c44-22ca-487a-ac70-bc4824a31cfc\">\n",
              "    <div class=\"colab-df-container\">\n",
              "      <div>\n",
              "<style scoped>\n",
              "    .dataframe tbody tr th:only-of-type {\n",
              "        vertical-align: middle;\n",
              "    }\n",
              "\n",
              "    .dataframe tbody tr th {\n",
              "        vertical-align: top;\n",
              "    }\n",
              "\n",
              "    .dataframe thead th {\n",
              "        text-align: right;\n",
              "    }\n",
              "</style>\n",
              "<table border=\"1\" class=\"dataframe\">\n",
              "  <thead>\n",
              "    <tr style=\"text-align: right;\">\n",
              "      <th></th>\n",
              "      <th>rank</th>\n",
              "      <th>sent</th>\n",
              "      <th>clean_sent</th>\n",
              "    </tr>\n",
              "  </thead>\n",
              "  <tbody>\n",
              "    <tr>\n",
              "      <th>0</th>\n",
              "      <td>0.011984</td>\n",
              "      <td>Может конечно я свои переживания на него перекладываю, но блин в стране которую постоянно раздирают на части ничего хорошего ждать уже не приходится.</td>\n",
              "      <td>свои переживания перекладываю стране которую раздирают части хорошего ждать не приходится</td>\n",
              "    </tr>\n",
              "    <tr>\n",
              "      <th>1</th>\n",
              "      <td>0.011365</td>\n",
              "      <td>Ощущение, что теряешь время, которого и так постоянно мало, и параллельно же ничего не улучшается, тебе еще наваливается сверху, и нужно разгребать все одновременно.</td>\n",
              "      <td>ощущение что теряешь время которого мало параллельно не улучшается тебе наваливается сверху разгребать одновременно</td>\n",
              "    </tr>\n",
              "    <tr>\n",
              "      <th>2</th>\n",
              "      <td>0.011309</td>\n",
              "      <td>Я реально уже думала что можно и начать инвестировать но блин, реально никогда не знаешь, теперь думаю что можно было и пол года назад параллельно с подушкой все делать, но так иногда радует что хоть стабильность в деньгах есть, я все таки смогла научиться управлять немного своими финансами.</td>\n",
              "      <td>думала что начать инвестировать не знаешь думаю что пол года назад параллельно подушкой делать радует что стабильность деньгах смогла научиться управлять немного своими финансами</td>\n",
              "    </tr>\n",
              "    <tr>\n",
              "      <th>3</th>\n",
              "      <td>0.011256</td>\n",
              "      <td>Я смотрю на свою дырявую финансовую подушку безопасности и судорожно понимаю что кроме всего прочего просто никакого верного решения нет.</td>\n",
              "      <td>смотрю дырявую финансовую подушку безопасности судорожно понимаю что кроме прочего никакого верного решения</td>\n",
              "    </tr>\n",
              "    <tr>\n",
              "      <th>4</th>\n",
              "      <td>0.011244</td>\n",
              "      <td>я просто знаю что они бывают и мне уже изначально плохо я как будто живу с бомбой с часовым механизмом и даже не предлагаю никаких идей, не хочу снова все проживать, просто нет сил, а вот эмоции я уже  не отслеживаю просто не приятно, но так описать не могу.</td>\n",
              "      <td>знаю что бывают изначально плохо живу бомбой часовым механизмом не предлагаю никаких идей не хочу проживать сил эмоции не отслеживаю не приятно описать не могу</td>\n",
              "    </tr>\n",
              "    <tr>\n",
              "      <th>...</th>\n",
              "      <td>...</td>\n",
              "      <td>...</td>\n",
              "      <td>...</td>\n",
              "    </tr>\n",
              "    <tr>\n",
              "      <th>96</th>\n",
              "      <td>0.007200</td>\n",
              "      <td>От нас ничего не зависит.</td>\n",
              "      <td>не зависит</td>\n",
              "    </tr>\n",
              "    <tr>\n",
              "      <th>97</th>\n",
              "      <td>0.007040</td>\n",
              "      <td>Да, но даже не сам факт начала.</td>\n",
              "      <td>не факт начала</td>\n",
              "    </tr>\n",
              "    <tr>\n",
              "      <th>98</th>\n",
              "      <td>0.006890</td>\n",
              "      <td>верно?</td>\n",
              "      <td>верно</td>\n",
              "    </tr>\n",
              "    <tr>\n",
              "      <th>99</th>\n",
              "      <td>0.006886</td>\n",
              "      <td>ну нет никаких а если бы.</td>\n",
              "      <td>никаких</td>\n",
              "    </tr>\n",
              "    <tr>\n",
              "      <th>100</th>\n",
              "      <td>0.006539</td>\n",
              "      <td>Как вам такая идея?</td>\n",
              "      <td>такая идея</td>\n",
              "    </tr>\n",
              "  </tbody>\n",
              "</table>\n",
              "<p>101 rows × 3 columns</p>\n",
              "</div>\n",
              "      <button class=\"colab-df-convert\" onclick=\"convertToInteractive('df-f19c9c44-22ca-487a-ac70-bc4824a31cfc')\"\n",
              "              title=\"Convert this dataframe to an interactive table.\"\n",
              "              style=\"display:none;\">\n",
              "        \n",
              "  <svg xmlns=\"http://www.w3.org/2000/svg\" height=\"24px\"viewBox=\"0 0 24 24\"\n",
              "       width=\"24px\">\n",
              "    <path d=\"M0 0h24v24H0V0z\" fill=\"none\"/>\n",
              "    <path d=\"M18.56 5.44l.94 2.06.94-2.06 2.06-.94-2.06-.94-.94-2.06-.94 2.06-2.06.94zm-11 1L8.5 8.5l.94-2.06 2.06-.94-2.06-.94L8.5 2.5l-.94 2.06-2.06.94zm10 10l.94 2.06.94-2.06 2.06-.94-2.06-.94-.94-2.06-.94 2.06-2.06.94z\"/><path d=\"M17.41 7.96l-1.37-1.37c-.4-.4-.92-.59-1.43-.59-.52 0-1.04.2-1.43.59L10.3 9.45l-7.72 7.72c-.78.78-.78 2.05 0 2.83L4 21.41c.39.39.9.59 1.41.59.51 0 1.02-.2 1.41-.59l7.78-7.78 2.81-2.81c.8-.78.8-2.07 0-2.86zM5.41 20L4 18.59l7.72-7.72 1.47 1.35L5.41 20z\"/>\n",
              "  </svg>\n",
              "      </button>\n",
              "      \n",
              "  <style>\n",
              "    .colab-df-container {\n",
              "      display:flex;\n",
              "      flex-wrap:wrap;\n",
              "      gap: 12px;\n",
              "    }\n",
              "\n",
              "    .colab-df-convert {\n",
              "      background-color: #E8F0FE;\n",
              "      border: none;\n",
              "      border-radius: 50%;\n",
              "      cursor: pointer;\n",
              "      display: none;\n",
              "      fill: #1967D2;\n",
              "      height: 32px;\n",
              "      padding: 0 0 0 0;\n",
              "      width: 32px;\n",
              "    }\n",
              "\n",
              "    .colab-df-convert:hover {\n",
              "      background-color: #E2EBFA;\n",
              "      box-shadow: 0px 1px 2px rgba(60, 64, 67, 0.3), 0px 1px 3px 1px rgba(60, 64, 67, 0.15);\n",
              "      fill: #174EA6;\n",
              "    }\n",
              "\n",
              "    [theme=dark] .colab-df-convert {\n",
              "      background-color: #3B4455;\n",
              "      fill: #D2E3FC;\n",
              "    }\n",
              "\n",
              "    [theme=dark] .colab-df-convert:hover {\n",
              "      background-color: #434B5C;\n",
              "      box-shadow: 0px 1px 3px 1px rgba(0, 0, 0, 0.15);\n",
              "      filter: drop-shadow(0px 1px 2px rgba(0, 0, 0, 0.3));\n",
              "      fill: #FFFFFF;\n",
              "    }\n",
              "  </style>\n",
              "\n",
              "      <script>\n",
              "        const buttonEl =\n",
              "          document.querySelector('#df-f19c9c44-22ca-487a-ac70-bc4824a31cfc button.colab-df-convert');\n",
              "        buttonEl.style.display =\n",
              "          google.colab.kernel.accessAllowed ? 'block' : 'none';\n",
              "\n",
              "        async function convertToInteractive(key) {\n",
              "          const element = document.querySelector('#df-f19c9c44-22ca-487a-ac70-bc4824a31cfc');\n",
              "          const dataTable =\n",
              "            await google.colab.kernel.invokeFunction('convertToInteractive',\n",
              "                                                     [key], {});\n",
              "          if (!dataTable) return;\n",
              "\n",
              "          const docLinkHtml = 'Like what you see? Visit the ' +\n",
              "            '<a target=\"_blank\" href=https://colab.research.google.com/notebooks/data_table.ipynb>data table notebook</a>'\n",
              "            + ' to learn more about interactive tables.';\n",
              "          element.innerHTML = '';\n",
              "          dataTable['output_type'] = 'display_data';\n",
              "          await google.colab.output.renderOutput(dataTable, element);\n",
              "          const docLink = document.createElement('div');\n",
              "          docLink.innerHTML = docLinkHtml;\n",
              "          element.appendChild(docLink);\n",
              "        }\n",
              "      </script>\n",
              "    </div>\n",
              "  </div>\n",
              "  "
            ]
          },
          "metadata": {},
          "execution_count": 119
        }
      ]
    },
    {
      "cell_type": "code",
      "source": [
        "text_word_count = []\n",
        "summary_word_count = []\n",
        "\n",
        "for i in rank_df['sent']:\n",
        "      text_word_count.append(len(i.split()))\n",
        "\n",
        "for i in rank_df['clean_sent']:\n",
        "      summary_word_count.append(len(i.split()))\n",
        "\n",
        "length_df = pd.DataFrame({'sentences':text_word_count, 'cleaned sentences':summary_word_count})\n",
        "length_df.hist(bins = 30)\n",
        "plt.show()"
      ],
      "metadata": {
        "colab": {
          "base_uri": "https://localhost:8080/",
          "height": 281
        },
        "id": "mUE7YKETt5v4",
        "outputId": "c36df28e-c290-410d-ee3e-337adf8598b8"
      },
      "execution_count": 141,
      "outputs": [
        {
          "output_type": "display_data",
          "data": {
            "text/plain": [
              "<Figure size 432x288 with 2 Axes>"
            ],
            "image/png": "[encoded data removed]"
          },
          "metadata": {
            "needs_background": "light"
          }
        }
      ]
    },
    {
      "cell_type": "markdown",
      "source": [
        "# Paraphrasing\n"
      ],
      "metadata": {
        "id": "bkFS9N5C48CI"
      }
    },
    {
      "cell_type": "markdown",
      "source": [
        "## GPT2 paraphraser\n",
        "[The library](https://github.com/RussianNLP/russian_paraphrasers) for Russian paraphrase generation trained on data\n",
        "\n",
        "GPT2-Large [Model](https://huggingface.co/sberbank-ai/rugpt2large) was trained with sequence length 1024 using transformers by SberDevices team on 170Gb data on 64 GPUs 3 weeks."
      ],
      "metadata": {
        "id": "JWeyODYy861u"
      }
    },
    {
      "cell_type": "code",
      "source": [
        "!pip install --upgrade pip\n",
        "!pip install -r requirements.txt\n",
        "!pip install russian_paraphrasers"
      ],
      "metadata": {
        "colab": {
          "base_uri": "https://localhost:8080/"
        },
        "id": "gD6pfHul5EWQ",
        "outputId": "10d12e1a-e630-4341-a96e-06ac8cdeb35b"
      },
      "execution_count": 147,
      "outputs": [
        {
          "output_type": "stream",
          "name": "stdout",
          "text": [
            "Requirement already satisfied: pip in /usr/local/lib/python3.7/dist-packages (21.1.3)\n",
            "Collecting pip\n",
            "  Downloading pip-22.0.4-py3-none-any.whl (2.1 MB)\n",
            "\u001b[K     |████████████████████████████████| 2.1 MB 5.0 MB/s \n",
            "\u001b[?25hInstalling collected packages: pip\n",
            "  Attempting uninstall: pip\n",
            "    Found existing installation: pip 21.1.3\n",
            "    Uninstalling pip-21.1.3:\n",
            "      Successfully uninstalled pip-21.1.3\n",
            "Successfully installed pip-22.0.4\n",
            "\u001b[31mERROR: Could not open requirements file: [Errno 2] No such file or directory: 'requirements.txt'\u001b[0m\u001b[31m\n",
            "\u001b[0mRequirement already satisfied: russian_paraphrasers in /usr/local/lib/python3.7/dist-packages (0.0.3)\n",
            "Requirement already satisfied: scipy in /usr/local/lib/python3.7/dist-packages (from russian_paraphrasers) (1.4.1)\n",
            "Requirement already satisfied: transformers>=4.0.1 in /usr/local/lib/python3.7/dist-packages (from russian_paraphrasers) (4.18.0)\n",
            "Requirement already satisfied: nltk in /usr/local/lib/python3.7/dist-packages (from russian_paraphrasers) (3.2.5)\n",
            "Requirement already satisfied: sentence-transformers==0.4.0 in /usr/local/lib/python3.7/dist-packages (from russian_paraphrasers) (0.4.0)\n",
            "Requirement already satisfied: scikit-learn in /usr/local/lib/python3.7/dist-packages (from sentence-transformers==0.4.0->russian_paraphrasers) (1.0.2)\n",
            "Requirement already satisfied: tqdm in /usr/local/lib/python3.7/dist-packages (from sentence-transformers==0.4.0->russian_paraphrasers) (4.64.0)\n",
            "Requirement already satisfied: numpy in /usr/local/lib/python3.7/dist-packages (from sentence-transformers==0.4.0->russian_paraphrasers) (1.21.6)\n",
            "Requirement already satisfied: sentencepiece in /usr/local/lib/python3.7/dist-packages (from sentence-transformers==0.4.0->russian_paraphrasers) (0.1.96)\n",
            "Requirement already satisfied: torch>=1.6.0 in /usr/local/lib/python3.7/dist-packages (from sentence-transformers==0.4.0->russian_paraphrasers) (1.11.0+cu113)\n",
            "Requirement already satisfied: pyyaml>=5.1 in /usr/local/lib/python3.7/dist-packages (from transformers>=4.0.1->russian_paraphrasers) (6.0)\n",
            "Requirement already satisfied: sacremoses in /usr/local/lib/python3.7/dist-packages (from transformers>=4.0.1->russian_paraphrasers) (0.0.53)\n",
            "Requirement already satisfied: huggingface-hub<1.0,>=0.1.0 in /usr/local/lib/python3.7/dist-packages (from transformers>=4.0.1->russian_paraphrasers) (0.5.1)\n",
            "Requirement already satisfied: regex!=2019.12.17 in /usr/local/lib/python3.7/dist-packages (from transformers>=4.0.1->russian_paraphrasers) (2019.12.20)\n",
            "Requirement already satisfied: importlib-metadata in /usr/local/lib/python3.7/dist-packages (from transformers>=4.0.1->russian_paraphrasers) (4.11.3)\n",
            "Requirement already satisfied: tokenizers!=0.11.3,<0.13,>=0.11.1 in /usr/local/lib/python3.7/dist-packages (from transformers>=4.0.1->russian_paraphrasers) (0.12.1)\n",
            "Requirement already satisfied: requests in /usr/local/lib/python3.7/dist-packages (from transformers>=4.0.1->russian_paraphrasers) (2.23.0)\n",
            "Requirement already satisfied: packaging>=20.0 in /usr/local/lib/python3.7/dist-packages (from transformers>=4.0.1->russian_paraphrasers) (21.3)\n",
            "Requirement already satisfied: filelock in /usr/local/lib/python3.7/dist-packages (from transformers>=4.0.1->russian_paraphrasers) (3.6.0)\n",
            "Requirement already satisfied: six in /usr/local/lib/python3.7/dist-packages (from nltk->russian_paraphrasers) (1.15.0)\n",
            "Requirement already satisfied: typing-extensions>=3.7.4.3 in /usr/local/lib/python3.7/dist-packages (from huggingface-hub<1.0,>=0.1.0->transformers>=4.0.1->russian_paraphrasers) (4.2.0)\n",
            "Requirement already satisfied: pyparsing!=3.0.5,>=2.0.2 in /usr/local/lib/python3.7/dist-packages (from packaging>=20.0->transformers>=4.0.1->russian_paraphrasers) (3.0.8)\n",
            "Requirement already satisfied: zipp>=0.5 in /usr/local/lib/python3.7/dist-packages (from importlib-metadata->transformers>=4.0.1->russian_paraphrasers) (3.8.0)\n",
            "Requirement already satisfied: certifi>=2017.4.17 in /usr/local/lib/python3.7/dist-packages (from requests->transformers>=4.0.1->russian_paraphrasers) (2021.10.8)\n",
            "Requirement already satisfied: idna<3,>=2.5 in /usr/local/lib/python3.7/dist-packages (from requests->transformers>=4.0.1->russian_paraphrasers) (2.10)\n",
            "Requirement already satisfied: urllib3!=1.25.0,!=1.25.1,<1.26,>=1.21.1 in /usr/local/lib/python3.7/dist-packages (from requests->transformers>=4.0.1->russian_paraphrasers) (1.24.3)\n",
            "Requirement already satisfied: chardet<4,>=3.0.2 in /usr/local/lib/python3.7/dist-packages (from requests->transformers>=4.0.1->russian_paraphrasers) (3.0.4)\n",
            "Requirement already satisfied: click in /usr/local/lib/python3.7/dist-packages (from sacremoses->transformers>=4.0.1->russian_paraphrasers) (7.1.2)\n",
            "Requirement already satisfied: joblib in /usr/local/lib/python3.7/dist-packages (from sacremoses->transformers>=4.0.1->russian_paraphrasers) (1.1.0)\n",
            "Requirement already satisfied: threadpoolctl>=2.0.0 in /usr/local/lib/python3.7/dist-packages (from scikit-learn->sentence-transformers==0.4.0->russian_paraphrasers) (3.1.0)\n",
            "\u001b[33mWARNING: Running pip as the 'root' user can result in broken permissions and conflicting behaviour with the system package manager. It is recommended to use a virtual environment instead: https://pip.pypa.io/warnings/venv\u001b[0m\u001b[33m\n",
            "\u001b[0m"
          ]
        }
      ]
    },
    {
      "cell_type": "code",
      "source": [
        "!pip install git+https://github.com/RussianNLP/russian_paraphrasers@master"
      ],
      "metadata": {
        "colab": {
          "base_uri": "https://localhost:8080/",
          "height": 1000
        },
        "id": "jKZBwWiD5OEm",
        "outputId": "2dd4ab11-090e-4803-bd3c-2163f51f2761"
      },
      "execution_count": 149,
      "outputs": [
        {
          "output_type": "stream",
          "name": "stdout",
          "text": [
            "Collecting git+https://github.com/RussianNLP/russian_paraphrasers@master\n",
            "  Cloning https://github.com/RussianNLP/russian_paraphrasers (to revision master) to /tmp/pip-req-build-h2ubj2cu\n",
            "  Running command git clone --filter=blob:none --quiet https://github.com/RussianNLP/russian_paraphrasers /tmp/pip-req-build-h2ubj2cu\n",
            "  Resolved https://github.com/RussianNLP/russian_paraphrasers to commit 8056005656cfa09215d84ed322a3e9f99f401097\n",
            "  Preparing metadata (setup.py) ... \u001b[?25l\u001b[?25hdone\n",
            "Collecting nlg-eval@ git+https://github.com/Maluuba/nlg-eval.git@master\n",
            "  Cloning https://github.com/Maluuba/nlg-eval.git (to revision master) to /tmp/pip-install-46r3028w/nlg-eval_3b3c4dd672394093b3d9bd80c47a8337\n",
            "  Running command git clone --filter=blob:none --quiet https://github.com/Maluuba/nlg-eval.git /tmp/pip-install-46r3028w/nlg-eval_3b3c4dd672394093b3d9bd80c47a8337\n",
            "  Resolved https://github.com/Maluuba/nlg-eval.git to commit 7f7993035a2f4729a15d20040fd904933ea58767\n",
            "  Preparing metadata (setup.py) ... \u001b[?25l\u001b[?25hdone\n",
            "Requirement already satisfied: nltk in /usr/local/lib/python3.7/dist-packages (from russian-paraphrasers==0.0.3) (3.2.5)\n",
            "Requirement already satisfied: scipy in /usr/local/lib/python3.7/dist-packages (from russian-paraphrasers==0.0.3) (1.4.1)\n",
            "Requirement already satisfied: transformers>=4.0.1 in /usr/local/lib/python3.7/dist-packages (from russian-paraphrasers==0.0.3) (4.18.0)\n",
            "Requirement already satisfied: sentence-transformers==0.4.0 in /usr/local/lib/python3.7/dist-packages (from russian-paraphrasers==0.0.3) (0.4.0)\n",
            "Requirement already satisfied: numpy in /usr/local/lib/python3.7/dist-packages (from sentence-transformers==0.4.0->russian-paraphrasers==0.0.3) (1.21.6)\n",
            "Requirement already satisfied: tqdm in /usr/local/lib/python3.7/dist-packages (from sentence-transformers==0.4.0->russian-paraphrasers==0.0.3) (4.64.0)\n",
            "Requirement already satisfied: torch>=1.6.0 in /usr/local/lib/python3.7/dist-packages (from sentence-transformers==0.4.0->russian-paraphrasers==0.0.3) (1.11.0+cu113)\n",
            "Requirement already satisfied: sentencepiece in /usr/local/lib/python3.7/dist-packages (from sentence-transformers==0.4.0->russian-paraphrasers==0.0.3) (0.1.96)\n",
            "Requirement already satisfied: scikit-learn in /usr/local/lib/python3.7/dist-packages (from sentence-transformers==0.4.0->russian-paraphrasers==0.0.3) (1.0.2)\n",
            "Requirement already satisfied: requests in /usr/local/lib/python3.7/dist-packages (from transformers>=4.0.1->russian-paraphrasers==0.0.3) (2.23.0)\n",
            "Requirement already satisfied: packaging>=20.0 in /usr/local/lib/python3.7/dist-packages (from transformers>=4.0.1->russian-paraphrasers==0.0.3) (21.3)\n",
            "Requirement already satisfied: regex!=2019.12.17 in /usr/local/lib/python3.7/dist-packages (from transformers>=4.0.1->russian-paraphrasers==0.0.3) (2019.12.20)\n",
            "Requirement already satisfied: pyyaml>=5.1 in /usr/local/lib/python3.7/dist-packages (from transformers>=4.0.1->russian-paraphrasers==0.0.3) (6.0)\n",
            "Requirement already satisfied: sacremoses in /usr/local/lib/python3.7/dist-packages (from transformers>=4.0.1->russian-paraphrasers==0.0.3) (0.0.53)\n",
            "Requirement already satisfied: tokenizers!=0.11.3,<0.13,>=0.11.1 in /usr/local/lib/python3.7/dist-packages (from transformers>=4.0.1->russian-paraphrasers==0.0.3) (0.12.1)\n",
            "Requirement already satisfied: importlib-metadata in /usr/local/lib/python3.7/dist-packages (from transformers>=4.0.1->russian-paraphrasers==0.0.3) (4.11.3)\n",
            "Requirement already satisfied: huggingface-hub<1.0,>=0.1.0 in /usr/local/lib/python3.7/dist-packages (from transformers>=4.0.1->russian-paraphrasers==0.0.3) (0.5.1)\n",
            "Requirement already satisfied: filelock in /usr/local/lib/python3.7/dist-packages (from transformers>=4.0.1->russian-paraphrasers==0.0.3) (3.6.0)\n",
            "Collecting nltk\n",
            "  Downloading nltk-3.7-py3-none-any.whl (1.5 MB)\n",
            "\u001b[2K     \u001b[90m━━━━━━━━━━━━━━━━━━━━━━━━━━━━━━━━━━━━━━━━\u001b[0m \u001b[32m1.5/1.5 MB\u001b[0m \u001b[31m17.3 MB/s\u001b[0m eta \u001b[36m0:00:00\u001b[0m\n",
            "\u001b[?25hCollecting psutil>=5.6.2\n",
            "  Downloading psutil-5.9.0-cp37-cp37m-manylinux_2_12_x86_64.manylinux2010_x86_64.manylinux_2_17_x86_64.manylinux2014_x86_64.whl (280 kB)\n",
            "\u001b[2K     \u001b[90m━━━━━━━━━━━━━━━━━━━━━━━━━━━━━━━━━━━━━━━\u001b[0m \u001b[32m280.7/280.7 KB\u001b[0m \u001b[31m7.2 MB/s\u001b[0m eta \u001b[36m0:00:00\u001b[0m\n",
            "\u001b[?25hRequirement already satisfied: six>=1.11 in /usr/local/lib/python3.7/dist-packages (from nlg-eval@ git+https://github.com/Maluuba/nlg-eval.git@master->russian-paraphrasers==0.0.3) (1.15.0)\n",
            "Requirement already satisfied: Cython>=0.28.5 in /usr/local/lib/python3.7/dist-packages (from nlg-eval@ git+https://github.com/Maluuba/nlg-eval.git@master->russian-paraphrasers==0.0.3) (0.29.28)\n",
            "Collecting gensim~=3.8.3\n",
            "  Downloading gensim-3.8.3-cp37-cp37m-manylinux1_x86_64.whl (24.2 MB)\n",
            "\u001b[2K     \u001b[90m━━━━━━━━━━━━━━━━━━━━━━━━━━━━━━━━━━━━━━━━\u001b[0m \u001b[32m24.2/24.2 MB\u001b[0m \u001b[31m10.4 MB/s\u001b[0m eta \u001b[36m0:00:00\u001b[0m\n",
            "\u001b[?25hCollecting Theano>=0.8.1\n",
            "  Downloading Theano-1.0.5.tar.gz (2.8 MB)\n",
            "\u001b[2K     \u001b[90m━━━━━━━━━━━━━━━━━━━━━━━━━━━━━━━━━━━━━━━━\u001b[0m \u001b[32m2.8/2.8 MB\u001b[0m \u001b[31m49.6 MB/s\u001b[0m eta \u001b[36m0:00:00\u001b[0m\n",
            "\u001b[?25h  Preparing metadata (setup.py) ... \u001b[?25l\u001b[?25hdone\n",
            "Collecting xdg\n",
            "  Downloading xdg-5.1.1-py3-none-any.whl (5.0 kB)\n",
            "Collecting regex!=2019.12.17\n",
            "  Downloading regex-2022.4.24-cp37-cp37m-manylinux_2_17_x86_64.manylinux2014_x86_64.whl (749 kB)\n",
            "\u001b[2K     \u001b[90m━━━━━━━━━━━━━━━━━━━━━━━━━━━━━━━━━━━━━━\u001b[0m \u001b[32m749.7/749.7 KB\u001b[0m \u001b[31m25.3 MB/s\u001b[0m eta \u001b[36m0:00:00\u001b[0m\n",
            "\u001b[?25hRequirement already satisfied: click in /usr/local/lib/python3.7/dist-packages (from nltk->russian-paraphrasers==0.0.3) (7.1.2)\n",
            "Requirement already satisfied: joblib in /usr/local/lib/python3.7/dist-packages (from nltk->russian-paraphrasers==0.0.3) (1.1.0)\n",
            "Requirement already satisfied: smart-open>=1.8.1 in /usr/local/lib/python3.7/dist-packages (from gensim~=3.8.3->nlg-eval@ git+https://github.com/Maluuba/nlg-eval.git@master->russian-paraphrasers==0.0.3) (6.0.0)\n",
            "Requirement already satisfied: typing-extensions>=3.7.4.3 in /usr/local/lib/python3.7/dist-packages (from huggingface-hub<1.0,>=0.1.0->transformers>=4.0.1->russian-paraphrasers==0.0.3) (4.2.0)\n",
            "Requirement already satisfied: pyparsing!=3.0.5,>=2.0.2 in /usr/local/lib/python3.7/dist-packages (from packaging>=20.0->transformers>=4.0.1->russian-paraphrasers==0.0.3) (3.0.8)\n",
            "Requirement already satisfied: urllib3!=1.25.0,!=1.25.1,<1.26,>=1.21.1 in /usr/local/lib/python3.7/dist-packages (from requests->transformers>=4.0.1->russian-paraphrasers==0.0.3) (1.24.3)\n",
            "Requirement already satisfied: chardet<4,>=3.0.2 in /usr/local/lib/python3.7/dist-packages (from requests->transformers>=4.0.1->russian-paraphrasers==0.0.3) (3.0.4)\n",
            "Requirement already satisfied: certifi>=2017.4.17 in /usr/local/lib/python3.7/dist-packages (from requests->transformers>=4.0.1->russian-paraphrasers==0.0.3) (2021.10.8)\n",
            "Requirement already satisfied: idna<3,>=2.5 in /usr/local/lib/python3.7/dist-packages (from requests->transformers>=4.0.1->russian-paraphrasers==0.0.3) (2.10)\n",
            "Requirement already satisfied: threadpoolctl>=2.0.0 in /usr/local/lib/python3.7/dist-packages (from scikit-learn->sentence-transformers==0.4.0->russian-paraphrasers==0.0.3) (3.1.0)\n",
            "Requirement already satisfied: zipp>=0.5 in /usr/local/lib/python3.7/dist-packages (from importlib-metadata->transformers>=4.0.1->russian-paraphrasers==0.0.3) (3.8.0)\n",
            "Building wheels for collected packages: nlg-eval, Theano\n",
            "  Building wheel for nlg-eval (setup.py) ... \u001b[?25l\u001b[?25hdone\n",
            "  Created wheel for nlg-eval: filename=nlg_eval-2.3-py3-none-any.whl size=68175165 sha256=22e4bba209719c906a58a9c99a5634fb8a27c87ab025635b414db6555308e76e\n",
            "  Stored in directory: /tmp/pip-ephem-wheel-cache-nh0_r94x/wheels/08/20/df/33ced66932f198c4323042d18ff1c2db9b9716369f0de4afb4\n",
            "  Building wheel for Theano (setup.py) ... \u001b[?25l\u001b[?25hdone\n",
            "  Created wheel for Theano: filename=Theano-1.0.5-py3-none-any.whl size=2668111 sha256=2524408c1a581767493ead3113e1539291952d68e1b477b4cbc41c76be178640\n",
            "  Stored in directory: /root/.cache/pip/wheels/26/68/6f/745330367ce7822fe0cd863712858151f5723a0a5e322cc144\n",
            "Successfully built nlg-eval Theano\n",
            "Installing collected packages: xdg, regex, psutil, Theano, nltk, gensim, nlg-eval\n",
            "  Attempting uninstall: regex\n",
            "    Found existing installation: regex 2019.12.20\n",
            "    Uninstalling regex-2019.12.20:\n",
            "      Successfully uninstalled regex-2019.12.20\n",
            "  Attempting uninstall: psutil\n",
            "    Found existing installation: psutil 5.4.8\n",
            "    Uninstalling psutil-5.4.8:\n",
            "      Successfully uninstalled psutil-5.4.8\n",
            "  Attempting uninstall: nltk\n",
            "    Found existing installation: nltk 3.2.5\n",
            "    Uninstalling nltk-3.2.5:\n",
            "      Successfully uninstalled nltk-3.2.5\n",
            "  Attempting uninstall: gensim\n",
            "    Found existing installation: gensim 3.6.0\n",
            "    Uninstalling gensim-3.6.0:\n",
            "      Successfully uninstalled gensim-3.6.0\n",
            "Successfully installed Theano-1.0.5 gensim-3.8.3 nlg-eval-2.3 nltk-3.7 psutil-5.9.0 regex-2022.4.24 xdg-5.1.1\n",
            "\u001b[33mWARNING: Running pip as the 'root' user can result in broken permissions and conflicting behaviour with the system package manager. It is recommended to use a virtual environment instead: https://pip.pypa.io/warnings/venv\u001b[0m\u001b[33m\n",
            "\u001b[0m"
          ]
        },
        {
          "output_type": "display_data",
          "data": {
            "application/vnd.colab-display-data+json": {
              "pip_warning": {
                "packages": [
                  "nltk",
                  "psutil",
                  "regex"
                ]
              }
            }
          },
          "metadata": {}
        }
      ]
    },
    {
      "cell_type": "code",
      "source": [
        "from russian_paraphrasers import GPTParaphraser\n",
        "\n",
        "paraphraser = GPTParaphraser(model_name=\"gpt2\", range_cand=False, make_eval=False)"
      ],
      "metadata": {
        "colab": {
          "base_uri": "https://localhost:8080/",
          "height": 209,
          "referenced_widgets": [
            "adbe361036bb41df9426ad5069e518de",
            "6dfeda9e12794ad3b1a4e9252aa0e0da",
            "748332814aa04af1be3aeabc6b672625",
            "e8ae3274953e4ccaa8359947fd24679f",
            "21a8bc7d292e41148c5fdf62db74a7f7",
            "32d1ec6afc054486a8712894257ebd98",
            "59324db6b8fd4b6488dbc2d549f49a81",
            "cdd9f2d187754f488b73270fce961b74",
            "5936654c396c406990c35902c5a435df",
            "f33fb44284c34f6fb3187aea379f9ebe",
            "6dc85b8d79814f4abff4dc0ff8a1ba6e",
            "8342c9724bcb4bc7a128c5592bf606bd",
            "63fb461aac594c2586f78c53bc36add0",
            "f911af0acf3f46eaaa60529118bfdd84",
            "19a12c7e538f48f9ad228cfcf66376d3",
            "b8669a53880945d2b9672f044a09fb21",
            "58fafa3f529745f4bb730c1707ad3cb7",
            "7bd85762180f4ff2b6f9b2766b6f8352",
            "3a557c63df3841718c6cdff8d284404c",
            "30fa10dcd6144569a80b32a020087353",
            "c7f7656ffe964dda806616afbebca770",
            "49b13f461dd1492897ceba531f0cad41",
            "fa5cab1303f94436bd5b7a2836a5bf5e",
            "f1c58cc63b5a489f970b53cb4cbdc9a2",
            "23cf745304684793a508300c84564e3e",
            "7626b5d315fc4c85a3496d8764eb547c",
            "e27aa413506f4234b304d68bb154701f",
            "2e663d7a7e6e46ee9c375c168dfbb8e2",
            "5a11ac15ef184d0a918df859b1774c72",
            "c6e124071eb147bc88a52a3da1737d41",
            "d9283186bac941e5a8f28a4f30429708",
            "75fa82e18d164fa090765aeb30fda6c3",
            "46a61e08b2d7468786760e7efa1447e9",
            "40922a07940541859c16f36c3532c5a7",
            "b634cafff5294ef7bb4dff946ef88a22",
            "a4628b261e124c489b36f102a9da0b58",
            "e5efe3730d18454baa8fc7ff4f4e6881",
            "fa36398c880f4b9091bfd377447bb710",
            "8e942bcf4575465b8af0806711f2e74b",
            "e9b0eaedb028478694fa33d4d869da98",
            "3b846849f1984a6fa6eb0ba4313e1fda",
            "73deb45cc58443d08a7b6274845f5473",
            "f6f7a9be06cf4460b85e522b4d4e7587",
            "5aa86a0865694abaa1ce46305b4b321b",
            "ba2e7b7b05c046ccb0280fba2ab23707",
            "8beacce6f0a142dab353d09064540561",
            "2c065570dca04702b82f9fb5e5eb4ff5",
            "c75bd0a6621e400fb2b74a56e64c962c",
            "6c61aba6bc0d4330a246dacded1d1267",
            "6aff3806b4824e4eb0c0a3f157ca1f46",
            "de8be4e3f5324ac6a40a1b24bf53010d",
            "5660155b78a44276aa745bd12532ed4a",
            "fa861043e1524789a0f516d26b3e92e0",
            "f9d52771fcca4b5d92f3ade9af3769e2",
            "16b2f0fea4d54321a678e8e3f0ebdf0e",
            "12e8c7ec62bc4319a790c8271fbf876c",
            "8f522b047caa42c0a689595920353376",
            "2b11e3363160449fabd1021a3af643d0",
            "4b2b359f5b934e1da42691d215db554b",
            "1e83d851b4c74b509fb75e07c3e5ca20",
            "ea129ff8b7524d5fb6c12c6d75d0e4fd",
            "91651c2eaa5a467e87410778f55c57a3",
            "b5d21d8fd578469a83b0c3c002e5fc5e",
            "3309f1d74cf94d52a5fde8ec6ca7ab00",
            "bb44789a106d434397f2f70a8c5ebf0c",
            "f85c935eb4d64d38a05e8f2786857f62"
          ]
        },
        "id": "zPv82qVT4-S4",
        "outputId": "87cab3dc-aa2c-4697-dda6-153f7fee5f82"
      },
      "execution_count": 150,
      "outputs": [
        {
          "output_type": "display_data",
          "data": {
            "text/plain": [
              "Downloading:   0%|          | 0.00/1.73M [00:00<?, ?B/s]"
            ],
            "application/vnd.jupyter.widget-view+json": {
              "version_major": 2,
              "version_minor": 0,
              "model_id": "adbe361036bb41df9426ad5069e518de"
            }
          },
          "metadata": {}
        },
        {
          "output_type": "display_data",
          "data": {
            "text/plain": [
              "Downloading:   0%|          | 0.00/1.31M [00:00<?, ?B/s]"
            ],
            "application/vnd.jupyter.widget-view+json": {
              "version_major": 2,
              "version_minor": 0,
              "model_id": "8342c9724bcb4bc7a128c5592bf606bd"
            }
          },
          "metadata": {}
        },
        {
          "output_type": "display_data",
          "data": {
            "text/plain": [
              "Downloading:   0%|          | 0.00/357 [00:00<?, ?B/s]"
            ],
            "application/vnd.jupyter.widget-view+json": {
              "version_major": 2,
              "version_minor": 0,
              "model_id": "fa5cab1303f94436bd5b7a2836a5bf5e"
            }
          },
          "metadata": {}
        },
        {
          "output_type": "display_data",
          "data": {
            "text/plain": [
              "Downloading:   0%|          | 0.00/486 [00:00<?, ?B/s]"
            ],
            "application/vnd.jupyter.widget-view+json": {
              "version_major": 2,
              "version_minor": 0,
              "model_id": "40922a07940541859c16f36c3532c5a7"
            }
          },
          "metadata": {}
        },
        {
          "output_type": "display_data",
          "data": {
            "text/plain": [
              "Downloading:   0%|          | 0.00/765 [00:00<?, ?B/s]"
            ],
            "application/vnd.jupyter.widget-view+json": {
              "version_major": 2,
              "version_minor": 0,
              "model_id": "ba2e7b7b05c046ccb0280fba2ab23707"
            }
          },
          "metadata": {}
        },
        {
          "output_type": "display_data",
          "data": {
            "text/plain": [
              "Downloading:   0%|          | 0.00/2.92G [00:00<?, ?B/s]"
            ],
            "application/vnd.jupyter.widget-view+json": {
              "version_major": 2,
              "version_minor": 0,
              "model_id": "12e8c7ec62bc4319a790c8271fbf876c"
            }
          },
          "metadata": {}
        }
      ]
    },
    {
      "cell_type": "code",
      "source": [
        "p = paraphraser.generate(rank_df['sent'][4], n=1, top_k=4, max_length=100, repetition_penalty=1.5)\n",
        "p"
      ],
      "metadata": {
        "colab": {
          "base_uri": "https://localhost:8080/"
        },
        "id": "v_Y3S6MH8UgI",
        "outputId": "f99bd52d-8040-4eee-eb15-b74396b49a3c"
      },
      "execution_count": 213,
      "outputs": [
        {
          "output_type": "stream",
          "name": "stderr",
          "text": [
            "Setting `pad_token_id` to `eos_token_id`:50256 for open-end generation.\n"
          ]
        },
        {
          "output_type": "execute_result",
          "data": {
            "text/plain": [
              "{'origin': 'я просто знаю что они бывают и мне уже изначально плохо я как будто живу с бомбой с часовым механизмом и даже не предлагаю никаких идей, не хочу снова все проживать, просто нет сил, а вот эмоции я уже  не отслеживаю просто не приятно, но так описать не могу.',\n",
              " 'results': [{'predictions': ['Я только точно помню то ощущение когда узнала об их свадьбе']}]}"
            ]
          },
          "metadata": {},
          "execution_count": 213
        }
      ]
    },
    {
      "cell_type": "code",
      "source": [
        "paraphraser.generate(rank_df['clean_sent'][0], n=1, top_k=4, max_length=50, repetition_penalty=1.5)"
      ],
      "metadata": {
        "colab": {
          "base_uri": "https://localhost:8080/"
        },
        "id": "Y8xc8bcX6DmD",
        "outputId": "d91c208c-f10a-4706-b707-91fff2456d05"
      },
      "execution_count": 192,
      "outputs": [
        {
          "output_type": "stream",
          "name": "stderr",
          "text": [
            "Setting `pad_token_id` to `eos_token_id`:50256 for open-end generation.\n"
          ]
        },
        {
          "output_type": "execute_result",
          "data": {
            "text/plain": [
              "{'origin': 'свои переживания перекладываю стране которую раздирают части хорошего ждать не приходится',\n",
              " 'results': [{'predictions': ['свои негативные эмоции я переношу на страну, в которой живу']}]}"
            ]
          },
          "metadata": {},
          "execution_count": 192
        }
      ]
    },
    {
      "cell_type": "code",
      "source": [
        "paraphraser.generate(rank_df['clean_sent'][1], n=5, top_k=10, max_length=50, repetition_penalty=2.5)"
      ],
      "metadata": {
        "colab": {
          "base_uri": "https://localhost:8080/"
        },
        "id": "F4L2e77kCqxj",
        "outputId": "dedb5f99-bd62-4cb8-a8ad-29bd9cfd1a51"
      },
      "execution_count": 202,
      "outputs": [
        {
          "output_type": "stream",
          "name": "stderr",
          "text": [
            "Setting `pad_token_id` to `eos_token_id`:50256 for open-end generation.\n"
          ]
        },
        {
          "output_type": "execute_result",
          "data": {
            "text/plain": [
              "{'origin': 'ощущение что теряешь время которого мало параллельно не улучшается тебе наваливается сверху разгребать одновременно',\n",
              " 'results': [{'predictions': ['ощущение,что упускаешь нечто важное в жизни которое может тебя омолодит..time ne 6',\n",
              "    'Появились первые признаки того,что времени в обрез и его нужно экономить..show metho',\n",
              "    'ощущение того,что времени у тебя в обрез и его катастрофически много на это наплеват.sencesu',\n",
              "    'ощущение того,что упускаешь массу времени которое можно было бы провести с пользо..cd.2 fi',\n",
              "    'ощущение,что времени в обрез и ты его тратишь невпроворот а потом оно начинает заканчиватьс.']}]}"
            ]
          },
          "metadata": {},
          "execution_count": 202
        }
      ]
    },
    {
      "cell_type": "markdown",
      "source": [
        "*The model performs poorly if max_length < 50, as shown below:*"
      ],
      "metadata": {
        "id": "J-rKyywSDxj5"
      }
    },
    {
      "cell_type": "code",
      "source": [
        "paraphraser.generate(rank_df['clean_sent'][1], n=5, top_k=10, max_length=30, repetition_penalty=2.5)"
      ],
      "metadata": {
        "colab": {
          "base_uri": "https://localhost:8080/"
        },
        "id": "cYl3hGdEDpUP",
        "outputId": "a10e0fec-803d-4e9e-9e8f-2a5581ae18c3"
      },
      "execution_count": 203,
      "outputs": [
        {
          "output_type": "stream",
          "name": "stderr",
          "text": [
            "Setting `pad_token_id` to `eos_token_id`:50256 for open-end generation.\n"
          ]
        },
        {
          "output_type": "execute_result",
          "data": {
            "text/plain": [
              "{'origin': 'ощущение что теряешь время которого мало параллельно не улучшается тебе наваливается сверху разгребать одновременно',\n",
              " 'results': [{'predictions': ['ощущение того',\n",
              "    'ощущение того',\n",
              "    'ощущение будто потеря',\n",
              "    'ощущение,чт',\n",
              "    'ощущение,чт']}]}"
            ]
          },
          "metadata": {},
          "execution_count": 203
        }
      ]
    },
    {
      "cell_type": "code",
      "source": [
        "def extract_res_gpt2_paraphraser(sent, len, samples = 1):\n",
        "  p = paraphraser.generate(sent, n=samples, top_k=4, max_length=len, repetition_penalty=1.5)\n",
        "  return p['results'][0]['predictions']"
      ],
      "metadata": {
        "id": "66QxNDIUKqy-"
      },
      "execution_count": 226,
      "outputs": []
    },
    {
      "cell_type": "code",
      "source": [
        "extract_res_gpt2_paraphraser('я просто знаю что они бывают и мне уже изначально плохо', 50, samples = 2)"
      ],
      "metadata": {
        "colab": {
          "base_uri": "https://localhost:8080/"
        },
        "id": "9Q2DQPnsLfrK",
        "outputId": "c4ce8f27-298e-4b91-97d0-d4553496fcad"
      },
      "execution_count": 228,
      "outputs": [
        {
          "output_type": "stream",
          "name": "stderr",
          "text": [
            "Setting `pad_token_id` to `eos_token_id`:50256 for open-end generation.\n"
          ]
        },
        {
          "output_type": "execute_result",
          "data": {
            "text/plain": [
              "['я знала ты не будешь злиться',\n",
              " 'я только знала про то,что у меня есть коты но никогда их не видела']"
            ]
          },
          "metadata": {},
          "execution_count": 228
        }
      ]
    },
    {
      "cell_type": "markdown",
      "source": [
        "*Conclusion: As we can see, the model changes a bit the context of sentenses, therefore it can lead to inaccurate summaries*"
      ],
      "metadata": {
        "id": "OiovG_k-MMVG"
      }
    },
    {
      "cell_type": "markdown",
      "source": [
        "## RUT5-base-paraphraser\n",
        "A [paraphraser](https://huggingface.co/cointegrated/rut5-base-paraphraser?text=%D0%B7%D0%BD%D0%B0%D1%8E+%D1%87%D1%82%D0%BE+%D0%B1%D1%8B%D0%B2%D0%B0%D1%8E%D1%82+%D0%B8%D0%B7%D0%BD%D0%B0%D1%87%D0%B0%D0%BB%D1%8C%D0%BD%D0%BE+%D0%BF%D0%BB%D0%BE%D1%85%D0%BE+%D0%B6%D0%B8%D0%B2%D1%83+%D0%B1%D0%BE%D0%BC%D0%B1%D0%BE%D0%B9+%D1%87%D0%B0%D1%81%D0%BE%D0%B2%D1%8B%D0%BC+%D0%BC%D0%B5%D1%85%D0%B0%D0%BD%D0%B8%D0%B7%D0%BC%D0%BE%D0%BC+%D0%BD%D0%B5+%D0%BF%D1%80%D0%B5%D0%B4%D0%BB%D0%B0%D0%B3%D0%B0%D1%8E+%D0%BD%D0%B8%D0%BA%D0%B0%D0%BA%D0%B8%D1%85+%D0%B8%D0%B4%D0%B5%D0%B9+%D0%BD%D0%B5+%D1%85%D0%BE%D1%87%D1%83+%D0%BF%D1%80%D0%BE%D0%B6%D0%B8%D0%B2%D0%B0%D1%82%D1%8C+%D1%81%D0%B8%D0%BB+%D1%8D%D0%BC%D0%BE%D1%86%D0%B8%D0%B8+%D0%BD%D0%B5+%D0%BE%D1%82%D1%81%D0%BB%D0%B5%D0%B6%D0%B8%D0%B2%D0%B0%D1%8E+%D0%BD%D0%B5+%D0%BF%D1%80%D0%B8%D1%8F%D1%82%D0%BD%D0%BE+%D0%BE%D0%BF%D0%B8%D1%81%D0%B0%D1%82%D1%8C+%D0%BD%D0%B5+%D0%BC%D0%BE%D0%B3%D1%83) for Russian sentences described [here](https://habr.com/ru/post/564916/) trained on Leipzig [Corpus](https://wortschatz.uni-leipzig.de/en/download/Russian)."
      ],
      "metadata": {
        "id": "8X_WWu219RLk"
      }
    },
    {
      "cell_type": "code",
      "source": [
        "from transformers import T5ForConditionalGeneration, T5Tokenizer\n",
        "MODEL_NAME = 'cointegrated/rut5-base-paraphraser'\n",
        "paraphraser2 = T5ForConditionalGeneration.from_pretrained(MODEL_NAME)\n",
        "paraphrase_tokenizer = T5Tokenizer.from_pretrained(MODEL_NAME)"
      ],
      "metadata": {
        "id": "8_kpjBI39kYQ"
      },
      "execution_count": 164,
      "outputs": []
    },
    {
      "cell_type": "code",
      "source": [
        "def paraphrase_rut5(text, max_size=50, beams=5, grams=4, do_sample=False):\n",
        "    x = paraphrase_tokenizer(text, return_tensors='pt', padding=True).to(paraphraser2.device)\n",
        "    out = paraphraser2.generate(**x, encoder_no_repeat_ngram_size=grams, num_beams=beams, max_length=max_size, do_sample=do_sample)\n",
        "    return paraphrase_tokenizer.decode(out[0], skip_special_tokens=True)"
      ],
      "metadata": {
        "id": "ACvMOna3_bAr"
      },
      "execution_count": 178,
      "outputs": []
    },
    {
      "cell_type": "code",
      "source": [
        "rank_df['sent'][4]"
      ],
      "metadata": {
        "colab": {
          "base_uri": "https://localhost:8080/",
          "height": 74
        },
        "id": "mkgJ9K72AO_U",
        "outputId": "7de7b319-e096-404e-fee4-a143d2e83d50"
      },
      "execution_count": 170,
      "outputs": [
        {
          "output_type": "execute_result",
          "data": {
            "text/plain": [
              "'я просто знаю что они бывают и мне уже изначально плохо я как будто живу с бомбой с часовым механизмом и даже не предлагаю никаких идей, не хочу снова все проживать, просто нет сил, а вот эмоции я уже  не отслеживаю просто не приятно, но так описать не могу.'"
            ],
            "application/vnd.google.colaboratory.intrinsic+json": {
              "type": "string"
            }
          },
          "metadata": {},
          "execution_count": 170
        }
      ]
    },
    {
      "cell_type": "code",
      "source": [
        "paraphrase_rut5(rank_df['clean_sent'][4])"
      ],
      "metadata": {
        "colab": {
          "base_uri": "https://localhost:8080/",
          "height": 37
        },
        "id": "IIb5XQfR_g9_",
        "outputId": "771fe7ac-98d4-47ec-de39-abe4b5ad1ea0"
      },
      "execution_count": 189,
      "outputs": [
        {
          "output_type": "execute_result",
          "data": {
            "text/plain": [
              "'Я знаю что происходит изначально не знаю что происходит'"
            ],
            "application/vnd.google.colaboratory.intrinsic+json": {
              "type": "string"
            }
          },
          "metadata": {},
          "execution_count": 189
        }
      ]
    },
    {
      "cell_type": "code",
      "source": [
        "paraphrase_rut5(rank_df['sent'][4], max_size=10)"
      ],
      "metadata": {
        "colab": {
          "base_uri": "https://localhost:8080/",
          "height": 37
        },
        "id": "WITtC4sLAGzR",
        "outputId": "dd969ba0-5516-40d6-b976-a7dca3fb8aca"
      },
      "execution_count": 191,
      "outputs": [
        {
          "output_type": "execute_result",
          "data": {
            "text/plain": [
              "'Я просто знаю, что они есть'"
            ],
            "application/vnd.google.colaboratory.intrinsic+json": {
              "type": "string"
            }
          },
          "metadata": {},
          "execution_count": 191
        }
      ]
    },
    {
      "cell_type": "code",
      "source": [
        "rank_df['clean_sent'][1]"
      ],
      "metadata": {
        "colab": {
          "base_uri": "https://localhost:8080/",
          "height": 56
        },
        "id": "aojdcxMbBzHx",
        "outputId": "16c4e36d-a26c-457a-b124-d61939263212"
      },
      "execution_count": 186,
      "outputs": [
        {
          "output_type": "execute_result",
          "data": {
            "text/plain": [
              "'ощущение что теряешь время которого мало параллельно не улучшается тебе наваливается сверху разгребать одновременно'"
            ],
            "application/vnd.google.colaboratory.intrinsic+json": {
              "type": "string"
            }
          },
          "metadata": {},
          "execution_count": 186
        }
      ]
    },
    {
      "cell_type": "code",
      "source": [
        "paraphrase_rut5(rank_df['sent'][1], max_size=20)"
      ],
      "metadata": {
        "colab": {
          "base_uri": "https://localhost:8080/",
          "height": 37
        },
        "id": "Wj28A9arEKBw",
        "outputId": "59343f08-0733-4b60-a367-789db0aa80d3"
      },
      "execution_count": 204,
      "outputs": [
        {
          "output_type": "execute_result",
          "data": {
            "text/plain": [
              "'Ощущение того, что вы теряете время, которое постоянно'"
            ],
            "application/vnd.google.colaboratory.intrinsic+json": {
              "type": "string"
            }
          },
          "metadata": {},
          "execution_count": 204
        }
      ]
    },
    {
      "cell_type": "code",
      "source": [
        "paraphrase_rut5(rank_df['clean_sent'][1], max_size=20)"
      ],
      "metadata": {
        "colab": {
          "base_uri": "https://localhost:8080/",
          "height": 37
        },
        "id": "9gZcv6LvBlwN",
        "outputId": "5975d0cb-d4e5-4f6a-cacd-200578ec7594"
      },
      "execution_count": 187,
      "outputs": [
        {
          "output_type": "execute_result",
          "data": {
            "text/plain": [
              "'Ощущение что ты теряешь много времени'"
            ],
            "application/vnd.google.colaboratory.intrinsic+json": {
              "type": "string"
            }
          },
          "metadata": {},
          "execution_count": 187
        }
      ]
    },
    {
      "cell_type": "markdown",
      "source": [
        "# Evaluation "
      ],
      "metadata": {
        "id": "kKiMhPUkQs3B"
      }
    },
    {
      "cell_type": "code",
      "source": [
        "def print_n(list_n):\n",
        "  for i in list_n:\n",
        "    print(i)\n",
        "  print()"
      ],
      "metadata": {
        "id": "g4LVZI4oUHDY"
      },
      "execution_count": null,
      "outputs": []
    },
    {
      "cell_type": "code",
      "source": [
        "!pip install rouge"
      ],
      "metadata": {
        "id": "fjoieERmabW5",
        "colab": {
          "base_uri": "https://localhost:8080/"
        },
        "outputId": "b33e8021-c54d-4c5d-8e3d-1624d6e8912e"
      },
      "execution_count": null,
      "outputs": [
        {
          "output_type": "stream",
          "name": "stdout",
          "text": [
            "Collecting rouge\n",
            "  Downloading rouge-1.0.1-py3-none-any.whl (13 kB)\n",
            "Requirement already satisfied: six in /usr/local/lib/python3.7/dist-packages (from rouge) (1.15.0)\n",
            "Installing collected packages: rouge\n",
            "Successfully installed rouge-1.0.1\n"
          ]
        }
      ]
    },
    {
      "cell_type": "code",
      "source": [
        "from rouge import Rouge  \n",
        "r = Rouge()"
      ],
      "metadata": {
        "id": "gVOnD48RaYin"
      },
      "execution_count": null,
      "outputs": []
    },
    {
      "cell_type": "code",
      "source": [
        "!pip install summ-eval"
      ],
      "metadata": {
        "id": "L0ERhKMJetB4",
        "colab": {
          "base_uri": "https://localhost:8080/",
          "height": 1000
        },
        "outputId": "c068fa49-7244-496e-9c15-952f9bf1e85e"
      },
      "execution_count": null,
      "outputs": [
        {
          "output_type": "stream",
          "name": "stdout",
          "text": [
            "Collecting summ-eval\n",
            "  Downloading summ_eval-0.892-py3-none-any.whl (111 kB)\n",
            "\u001b[K     |████████████████████████████████| 111 kB 5.4 MB/s \n",
            "\u001b[?25hRequirement already satisfied: nltk in /usr/local/lib/python3.7/dist-packages (from summ-eval) (3.2.5)\n",
            "Requirement already satisfied: sacremoses in /usr/local/lib/python3.7/dist-packages (from summ-eval) (0.0.53)\n",
            "Requirement already satisfied: pyemd==0.5.1 in /usr/local/lib/python3.7/dist-packages (from summ-eval) (0.5.1)\n",
            "Requirement already satisfied: gin-config in /usr/local/lib/python3.7/dist-packages (from summ-eval) (0.5.0)\n",
            "Requirement already satisfied: psutil in /usr/local/lib/python3.7/dist-packages (from summ-eval) (5.4.8)\n",
            "Requirement already satisfied: networkx in /usr/local/lib/python3.7/dist-packages (from summ-eval) (2.6.3)\n",
            "Requirement already satisfied: transformers>=2.2.0 in /usr/local/lib/python3.7/dist-packages (from summ-eval) (4.18.0)\n",
            "Collecting pytorch-pretrained-bert\n",
            "  Downloading pytorch_pretrained_bert-0.6.2-py3-none-any.whl (123 kB)\n",
            "\u001b[K     |████████████████████████████████| 123 kB 35.3 MB/s \n",
            "\u001b[?25hCollecting sacrebleu\n",
            "  Downloading sacrebleu-2.0.0-py3-none-any.whl (90 kB)\n",
            "\u001b[K     |████████████████████████████████| 90 kB 9.9 MB/s \n",
            "\u001b[?25hRequirement already satisfied: scipy in /usr/local/lib/python3.7/dist-packages (from summ-eval) (1.4.1)\n",
            "Collecting bert-score\n",
            "  Downloading bert_score-0.3.11-py3-none-any.whl (60 kB)\n",
            "\u001b[K     |████████████████████████████████| 60 kB 6.3 MB/s \n",
            "\u001b[?25hCollecting blanc\n",
            "  Downloading blanc-0.2.7-py3-none-any.whl (28 kB)\n",
            "Requirement already satisfied: click in /usr/local/lib/python3.7/dist-packages (from summ-eval) (7.1.2)\n",
            "Requirement already satisfied: cython in /usr/local/lib/python3.7/dist-packages (from summ-eval) (0.29.28)\n",
            "Requirement already satisfied: six in /usr/local/lib/python3.7/dist-packages (from summ-eval) (1.15.0)\n",
            "Requirement already satisfied: numpy>=1.11.0 in /usr/local/lib/python3.7/dist-packages (from summ-eval) (1.21.6)\n",
            "Requirement already satisfied: spacy>=2.2.0 in /usr/local/lib/python3.7/dist-packages (from summ-eval) (2.2.4)\n",
            "Collecting moverscore\n",
            "  Downloading moverscore-1.0.3.tar.gz (7.7 kB)\n",
            "Collecting stanza\n",
            "  Downloading stanza-1.4.0-py3-none-any.whl (574 kB)\n",
            "\u001b[K     |████████████████████████████████| 574 kB 52.6 MB/s \n",
            "\u001b[?25hRequirement already satisfied: tqdm<5.0.0,>=4.38.0 in /usr/local/lib/python3.7/dist-packages (from spacy>=2.2.0->summ-eval) (4.64.0)\n",
            "Requirement already satisfied: cymem<2.1.0,>=2.0.2 in /usr/local/lib/python3.7/dist-packages (from spacy>=2.2.0->summ-eval) (2.0.6)\n",
            "Requirement already satisfied: requests<3.0.0,>=2.13.0 in /usr/local/lib/python3.7/dist-packages (from spacy>=2.2.0->summ-eval) (2.23.0)\n",
            "Requirement already satisfied: thinc==7.4.0 in /usr/local/lib/python3.7/dist-packages (from spacy>=2.2.0->summ-eval) (7.4.0)\n",
            "Requirement already satisfied: wasabi<1.1.0,>=0.4.0 in /usr/local/lib/python3.7/dist-packages (from spacy>=2.2.0->summ-eval) (0.9.1)\n",
            "Requirement already satisfied: srsly<1.1.0,>=1.0.2 in /usr/local/lib/python3.7/dist-packages (from spacy>=2.2.0->summ-eval) (1.0.5)\n",
            "Requirement already satisfied: setuptools in /usr/local/lib/python3.7/dist-packages (from spacy>=2.2.0->summ-eval) (57.4.0)\n",
            "Requirement already satisfied: preshed<3.1.0,>=3.0.2 in /usr/local/lib/python3.7/dist-packages (from spacy>=2.2.0->summ-eval) (3.0.6)\n",
            "Requirement already satisfied: blis<0.5.0,>=0.4.0 in /usr/local/lib/python3.7/dist-packages (from spacy>=2.2.0->summ-eval) (0.4.1)\n",
            "Requirement already satisfied: plac<1.2.0,>=0.9.6 in /usr/local/lib/python3.7/dist-packages (from spacy>=2.2.0->summ-eval) (1.1.3)\n",
            "Requirement already satisfied: murmurhash<1.1.0,>=0.28.0 in /usr/local/lib/python3.7/dist-packages (from spacy>=2.2.0->summ-eval) (1.0.7)\n",
            "Requirement already satisfied: catalogue<1.1.0,>=0.0.7 in /usr/local/lib/python3.7/dist-packages (from spacy>=2.2.0->summ-eval) (1.0.0)\n",
            "Requirement already satisfied: importlib-metadata>=0.20 in /usr/local/lib/python3.7/dist-packages (from catalogue<1.1.0,>=0.0.7->spacy>=2.2.0->summ-eval) (4.11.3)\n",
            "Requirement already satisfied: zipp>=0.5 in /usr/local/lib/python3.7/dist-packages (from importlib-metadata>=0.20->catalogue<1.1.0,>=0.0.7->spacy>=2.2.0->summ-eval) (3.8.0)\n",
            "Requirement already satisfied: typing-extensions>=3.6.4 in /usr/local/lib/python3.7/dist-packages (from importlib-metadata>=0.20->catalogue<1.1.0,>=0.0.7->spacy>=2.2.0->summ-eval) (4.2.0)\n",
            "Requirement already satisfied: idna<3,>=2.5 in /usr/local/lib/python3.7/dist-packages (from requests<3.0.0,>=2.13.0->spacy>=2.2.0->summ-eval) (2.10)\n",
            "Requirement already satisfied: chardet<4,>=3.0.2 in /usr/local/lib/python3.7/dist-packages (from requests<3.0.0,>=2.13.0->spacy>=2.2.0->summ-eval) (3.0.4)\n",
            "Requirement already satisfied: certifi>=2017.4.17 in /usr/local/lib/python3.7/dist-packages (from requests<3.0.0,>=2.13.0->spacy>=2.2.0->summ-eval) (2021.10.8)\n",
            "Requirement already satisfied: urllib3!=1.25.0,!=1.25.1,<1.26,>=1.21.1 in /usr/local/lib/python3.7/dist-packages (from requests<3.0.0,>=2.13.0->spacy>=2.2.0->summ-eval) (1.24.3)\n",
            "Requirement already satisfied: regex!=2019.12.17 in /usr/local/lib/python3.7/dist-packages (from transformers>=2.2.0->summ-eval) (2019.12.20)\n",
            "Requirement already satisfied: pyyaml>=5.1 in /usr/local/lib/python3.7/dist-packages (from transformers>=2.2.0->summ-eval) (6.0)\n",
            "Requirement already satisfied: packaging>=20.0 in /usr/local/lib/python3.7/dist-packages (from transformers>=2.2.0->summ-eval) (21.3)\n",
            "Requirement already satisfied: filelock in /usr/local/lib/python3.7/dist-packages (from transformers>=2.2.0->summ-eval) (3.6.0)\n",
            "Requirement already satisfied: tokenizers!=0.11.3,<0.13,>=0.11.1 in /usr/local/lib/python3.7/dist-packages (from transformers>=2.2.0->summ-eval) (0.12.1)\n",
            "Requirement already satisfied: huggingface-hub<1.0,>=0.1.0 in /usr/local/lib/python3.7/dist-packages (from transformers>=2.2.0->summ-eval) (0.5.1)\n",
            "Requirement already satisfied: pyparsing!=3.0.5,>=2.0.2 in /usr/local/lib/python3.7/dist-packages (from packaging>=20.0->transformers>=2.2.0->summ-eval) (3.0.8)\n",
            "Requirement already satisfied: pandas>=1.0.1 in /usr/local/lib/python3.7/dist-packages (from bert-score->summ-eval) (1.3.5)\n",
            "Requirement already satisfied: matplotlib in /usr/local/lib/python3.7/dist-packages (from bert-score->summ-eval) (3.2.2)\n",
            "Requirement already satisfied: torch>=1.0.0 in /usr/local/lib/python3.7/dist-packages (from bert-score->summ-eval) (1.11.0+cu113)\n",
            "Requirement already satisfied: python-dateutil>=2.7.3 in /usr/local/lib/python3.7/dist-packages (from pandas>=1.0.1->bert-score->summ-eval) (2.8.2)\n",
            "Requirement already satisfied: pytz>=2017.3 in /usr/local/lib/python3.7/dist-packages (from pandas>=1.0.1->bert-score->summ-eval) (2022.1)\n",
            "Requirement already satisfied: cycler>=0.10 in /usr/local/lib/python3.7/dist-packages (from matplotlib->bert-score->summ-eval) (0.11.0)\n",
            "Requirement already satisfied: kiwisolver>=1.0.1 in /usr/local/lib/python3.7/dist-packages (from matplotlib->bert-score->summ-eval) (1.4.2)\n",
            "Collecting typing\n",
            "  Downloading typing-3.7.4.3.tar.gz (78 kB)\n",
            "\u001b[K     |████████████████████████████████| 78 kB 6.8 MB/s \n",
            "\u001b[?25hCollecting portalocker\n",
            "  Downloading portalocker-2.4.0-py2.py3-none-any.whl (16 kB)\n",
            "Collecting boto3\n",
            "  Downloading boto3-1.22.5-py3-none-any.whl (132 kB)\n",
            "\u001b[K     |████████████████████████████████| 132 kB 56.6 MB/s \n",
            "\u001b[?25hCollecting s3transfer<0.6.0,>=0.5.0\n",
            "  Downloading s3transfer-0.5.2-py3-none-any.whl (79 kB)\n",
            "\u001b[K     |████████████████████████████████| 79 kB 6.9 MB/s \n",
            "\u001b[?25hCollecting jmespath<2.0.0,>=0.7.1\n",
            "  Downloading jmespath-1.0.0-py3-none-any.whl (23 kB)\n",
            "Collecting botocore<1.26.0,>=1.25.5\n",
            "  Downloading botocore-1.25.5-py3-none-any.whl (8.7 MB)\n",
            "\u001b[K     |████████████████████████████████| 8.7 MB 512 kB/s \n",
            "\u001b[?25hCollecting urllib3!=1.25.0,!=1.25.1,<1.26,>=1.21.1\n",
            "  Downloading urllib3-1.25.11-py2.py3-none-any.whl (127 kB)\n",
            "\u001b[K     |████████████████████████████████| 127 kB 48.4 MB/s \n",
            "\u001b[?25hCollecting colorama\n",
            "  Downloading colorama-0.4.4-py2.py3-none-any.whl (16 kB)\n",
            "Requirement already satisfied: tabulate>=0.8.9 in /usr/local/lib/python3.7/dist-packages (from sacrebleu->summ-eval) (0.8.9)\n",
            "Requirement already satisfied: joblib in /usr/local/lib/python3.7/dist-packages (from sacremoses->summ-eval) (1.1.0)\n",
            "Requirement already satisfied: protobuf in /usr/local/lib/python3.7/dist-packages (from stanza->summ-eval) (3.17.3)\n",
            "Collecting emoji\n",
            "  Downloading emoji-1.7.0.tar.gz (175 kB)\n",
            "\u001b[K     |████████████████████████████████| 175 kB 31.9 MB/s \n",
            "\u001b[?25hBuilding wheels for collected packages: moverscore, emoji, typing\n",
            "  Building wheel for moverscore (setup.py) ... \u001b[?25l\u001b[?25hdone\n",
            "  Created wheel for moverscore: filename=moverscore-1.0.3-py3-none-any.whl size=7966 sha256=81d59111392802003707a4213eaaebfa94820631ea5c28e1945f65c5e44465a2\n",
            "  Stored in directory: /root/.cache/pip/wheels/57/48/8c/2934d05194bf99de323ef6015a98c8da46dc010752700341be\n",
            "  Building wheel for emoji (setup.py) ... \u001b[?25l\u001b[?25hdone\n",
            "  Created wheel for emoji: filename=emoji-1.7.0-py3-none-any.whl size=171046 sha256=51e84a6ba8bb7d87ec00451ad7e6e4e4b10b525a0bb6790a41d50bcbfaee16b9\n",
            "  Stored in directory: /root/.cache/pip/wheels/8a/4e/b6/57b01db010d17ef6ea9b40300af725ef3e210cb1acfb7ac8b6\n",
            "  Building wheel for typing (setup.py) ... \u001b[?25l\u001b[?25hdone\n",
            "  Created wheel for typing: filename=typing-3.7.4.3-py3-none-any.whl size=26325 sha256=48106e13134057764e1ee93cc38b09235701ff5c0e1c9182bc3f2d3cd283bc0b\n",
            "  Stored in directory: /root/.cache/pip/wheels/35/f3/15/01aa6571f0a72ee6ae7b827c1491c37a1f72d686fd22b43b0e\n",
            "Successfully built moverscore emoji typing\n",
            "Installing collected packages: urllib3, jmespath, botocore, s3transfer, typing, portalocker, emoji, colorama, boto3, stanza, sacrebleu, pytorch-pretrained-bert, moverscore, blanc, bert-score, summ-eval\n",
            "  Attempting uninstall: urllib3\n",
            "    Found existing installation: urllib3 1.24.3\n",
            "    Uninstalling urllib3-1.24.3:\n",
            "      Successfully uninstalled urllib3-1.24.3\n",
            "\u001b[31mERROR: pip's dependency resolver does not currently take into account all the packages that are installed. This behaviour is the source of the following dependency conflicts.\n",
            "datascience 0.10.6 requires folium==0.2.1, but you have folium 0.8.3 which is incompatible.\u001b[0m\n",
            "Successfully installed bert-score-0.3.11 blanc-0.2.7 boto3-1.22.5 botocore-1.25.5 colorama-0.4.4 emoji-1.7.0 jmespath-1.0.0 moverscore-1.0.3 portalocker-2.4.0 pytorch-pretrained-bert-0.6.2 s3transfer-0.5.2 sacrebleu-2.0.0 stanza-1.4.0 summ-eval-0.892 typing-3.7.4.3 urllib3-1.25.11\n"
          ]
        },
        {
          "output_type": "display_data",
          "data": {
            "application/vnd.colab-display-data+json": {
              "pip_warning": {
                "packages": [
                  "typing"
                ]
              }
            }
          },
          "metadata": {}
        }
      ]
    },
    {
      "cell_type": "code",
      "source": [
        "!pip install -U  git+https://github.com/bheinzerling/pyrouge.git'"
      ],
      "metadata": {
        "id": "S-0XA8qFfgjA",
        "colab": {
          "base_uri": "https://localhost:8080/"
        },
        "outputId": "a65447b5-7658-44a8-9891-edc9e7f56978"
      },
      "execution_count": null,
      "outputs": [
        {
          "output_type": "stream",
          "name": "stdout",
          "text": [
            "/bin/bash: -c: line 0: unexpected EOF while looking for matching `''\n",
            "/bin/bash: -c: line 1: syntax error: unexpected end of file\n"
          ]
        }
      ]
    },
    {
      "cell_type": "markdown",
      "source": [
        "## ROUGE metric"
      ],
      "metadata": {
        "id": "bUSQ_FuefV-B"
      }
    },
    {
      "cell_type": "code",
      "source": [
        "import summ_eval"
      ],
      "metadata": {
        "id": "7Ct03U1Mf450"
      },
      "execution_count": null,
      "outputs": []
    },
    {
      "cell_type": "code",
      "source": [
        "!export ROUGE_HOME=/usr/local/lib/python3.7/dist-packages/summ_eval/ROUGE-1.5.5/\n",
        "!pip install -U  git+https://github.com/bheinzerling/pyrouge.git"
      ],
      "metadata": {
        "id": "3R-qkkxMgBPM",
        "colab": {
          "base_uri": "https://localhost:8080/"
        },
        "outputId": "9d0914f8-9808-4a5e-8622-07c2e171213d"
      },
      "execution_count": null,
      "outputs": [
        {
          "output_type": "stream",
          "name": "stdout",
          "text": [
            "Collecting git+https://github.com/bheinzerling/pyrouge.git\n",
            "  Cloning https://github.com/bheinzerling/pyrouge.git to /tmp/pip-req-build-rh89kohd\n",
            "  Running command git clone -q https://github.com/bheinzerling/pyrouge.git /tmp/pip-req-build-rh89kohd\n",
            "Building wheels for collected packages: pyrouge\n",
            "  Building wheel for pyrouge (setup.py) ... \u001b[?25l\u001b[?25hdone\n",
            "  Created wheel for pyrouge: filename=pyrouge-0.1.3-py3-none-any.whl size=191924 sha256=e0cd34da7a1b7b412c8a85d767716e39de12cb09047df68b3d5ae12d9a0f67c4\n",
            "  Stored in directory: /tmp/pip-ephem-wheel-cache-rtyl9xa7/wheels/2f/1c/55/4e264b4e45f2a6f39a50e95cff45e57b54f202db830f125bb2\n",
            "Successfully built pyrouge\n",
            "Installing collected packages: pyrouge\n",
            "Successfully installed pyrouge-0.1.3\n"
          ]
        }
      ]
    },
    {
      "cell_type": "code",
      "source": [
        "from pyrouge import Rouge155"
      ],
      "metadata": {
        "id": "J12JKhBegYiR"
      },
      "execution_count": null,
      "outputs": []
    },
    {
      "cell_type": "markdown",
      "source": [
        "# Results"
      ],
      "metadata": {
        "id": "4LIaG3Q4RDcs"
      }
    },
    {
      "cell_type": "code",
      "source": [
        "#parse dialog!!!\n",
        "def parse_dialog(text):\n",
        "  df_with_text = pd.DataFrame([text]).set_axis(['text'], axis=1, inplace=False)\n",
        "  return df_with_text"
      ],
      "metadata": {
        "id": "xFLvyTJWIaz0"
      },
      "execution_count": null,
      "outputs": []
    },
    {
      "cell_type": "code",
      "source": [
        "def summarize_text(text, remove_stop_words = True, num_bull_points=5, len_of_point=50, is_dialog = False):\n",
        "  if is_dialog:\n",
        "    parse_dialog(text)\n",
        "  rank_sent = rank_sentences(text)[:num_bull_points]\n",
        "  rank_df = pd.DataFrame(rank_sent, columns=['rank', 'sent'])\n",
        "  if remove_stop_words:\n",
        "    rank_df['sent'] = rank_df['sent'].apply(lambda x : ''.join([remove_stopwords(r.split()) for r in clean_sent(split_text2(x))]))\n",
        "  rank_df['summuries'] = rank_df['sent'].apply(lambda x : paraphrase_rut5(x, max_size=len_of_point))\n",
        "  return rank_df"
      ],
      "metadata": {
        "id": "qmF4FuxGF7Li"
      },
      "execution_count": 230,
      "outputs": []
    },
    {
      "cell_type": "code",
      "source": [
        "summarize_text(full_psy_text)"
      ],
      "metadata": {
        "colab": {
          "base_uri": "https://localhost:8080/",
          "height": 517
        },
        "id": "NeYu3NmjJcf4",
        "outputId": "d8ea99d8-e5aa-46cc-f696-79b2b95649d1"
      },
      "execution_count": 235,
      "outputs": [
        {
          "output_type": "stream",
          "name": "stderr",
          "text": [
            "/usr/local/lib/python3.7/dist-packages/ipykernel_launcher.py:2: FutureWarning: The default value of regex will change from True to False in a future version.\n",
            "  \n",
            "/usr/local/lib/python3.7/dist-packages/ipykernel_launcher.py:2: FutureWarning: The default value of regex will change from True to False in a future version.\n",
            "  \n"
          ]
        },
        {
          "output_type": "execute_result",
          "data": {
            "text/plain": [
              "       rank  \\\n",
              "0  0.049499   \n",
              "1  0.048077   \n",
              "2  0.047891   \n",
              "3  0.047858   \n",
              "4  0.046009   \n",
              "\n",
              "                                                                                                                                                                                                          sent  \\\n",
              "0                                                                                                 правильно услышала тревожит именно неопределенность решениях внутри семьи отсутствие возможности договорится   \n",
              "1                                                                                                                                        расскажите подробнее понимаю разные точки зрения какую ситуацию мужем   \n",
              "2                                                                                                                             каждая семья строит свои взаимоотношения единственного верного решения правильно   \n",
              "3  домашнее задание хочу дать возможность разобраться своих эмоциях понять что чувствуете каждый возникать ситуация муж затягивать решением маленькая бытовая ситуация записывать дневник ситуацию свои эмоции   \n",
              "4                    основной работы большой стресс искать новую хотите вернуться киев не можете решить стоит делать также хочется получить поддержку мужа не можете получить той помощи которую рассчитываете   \n",
              "\n",
              "                                                                  summuries  \n",
              "0  Неопределенность между решениями внутри семьи невозможность договориться  \n",
              "1                                  Скажите мне подробнее о ситуации с мужем  \n",
              "2          Все семьи строят свои отношения единственным правильным решением  \n",
              "3         Мне нужно разобраться с эмоциями каждый из нас возникает ситуация  \n",
              "4                                   Большой стресс хочется вернуться в киев  "
            ],
            "text/html": [
              "\n",
              "  <div id=\"df-bc6f897b-40f6-4747-8280-d599f1986867\">\n",
              "    <div class=\"colab-df-container\">\n",
              "      <div>\n",
              "<style scoped>\n",
              "    .dataframe tbody tr th:only-of-type {\n",
              "        vertical-align: middle;\n",
              "    }\n",
              "\n",
              "    .dataframe tbody tr th {\n",
              "        vertical-align: top;\n",
              "    }\n",
              "\n",
              "    .dataframe thead th {\n",
              "        text-align: right;\n",
              "    }\n",
              "</style>\n",
              "<table border=\"1\" class=\"dataframe\">\n",
              "  <thead>\n",
              "    <tr style=\"text-align: right;\">\n",
              "      <th></th>\n",
              "      <th>rank</th>\n",
              "      <th>sent</th>\n",
              "      <th>summuries</th>\n",
              "    </tr>\n",
              "  </thead>\n",
              "  <tbody>\n",
              "    <tr>\n",
              "      <th>0</th>\n",
              "      <td>0.049499</td>\n",
              "      <td>правильно услышала тревожит именно неопределенность решениях внутри семьи отсутствие возможности договорится</td>\n",
              "      <td>Неопределенность между решениями внутри семьи невозможность договориться</td>\n",
              "    </tr>\n",
              "    <tr>\n",
              "      <th>1</th>\n",
              "      <td>0.048077</td>\n",
              "      <td>расскажите подробнее понимаю разные точки зрения какую ситуацию мужем</td>\n",
              "      <td>Скажите мне подробнее о ситуации с мужем</td>\n",
              "    </tr>\n",
              "    <tr>\n",
              "      <th>2</th>\n",
              "      <td>0.047891</td>\n",
              "      <td>каждая семья строит свои взаимоотношения единственного верного решения правильно</td>\n",
              "      <td>Все семьи строят свои отношения единственным правильным решением</td>\n",
              "    </tr>\n",
              "    <tr>\n",
              "      <th>3</th>\n",
              "      <td>0.047858</td>\n",
              "      <td>домашнее задание хочу дать возможность разобраться своих эмоциях понять что чувствуете каждый возникать ситуация муж затягивать решением маленькая бытовая ситуация записывать дневник ситуацию свои эмоции</td>\n",
              "      <td>Мне нужно разобраться с эмоциями каждый из нас возникает ситуация</td>\n",
              "    </tr>\n",
              "    <tr>\n",
              "      <th>4</th>\n",
              "      <td>0.046009</td>\n",
              "      <td>основной работы большой стресс искать новую хотите вернуться киев не можете решить стоит делать также хочется получить поддержку мужа не можете получить той помощи которую рассчитываете</td>\n",
              "      <td>Большой стресс хочется вернуться в киев</td>\n",
              "    </tr>\n",
              "  </tbody>\n",
              "</table>\n",
              "</div>\n",
              "      <button class=\"colab-df-convert\" onclick=\"convertToInteractive('df-bc6f897b-40f6-4747-8280-d599f1986867')\"\n",
              "              title=\"Convert this dataframe to an interactive table.\"\n",
              "              style=\"display:none;\">\n",
              "        \n",
              "  <svg xmlns=\"http://www.w3.org/2000/svg\" height=\"24px\"viewBox=\"0 0 24 24\"\n",
              "       width=\"24px\">\n",
              "    <path d=\"M0 0h24v24H0V0z\" fill=\"none\"/>\n",
              "    <path d=\"M18.56 5.44l.94 2.06.94-2.06 2.06-.94-2.06-.94-.94-2.06-.94 2.06-2.06.94zm-11 1L8.5 8.5l.94-2.06 2.06-.94-2.06-.94L8.5 2.5l-.94 2.06-2.06.94zm10 10l.94 2.06.94-2.06 2.06-.94-2.06-.94-.94-2.06-.94 2.06-2.06.94z\"/><path d=\"M17.41 7.96l-1.37-1.37c-.4-.4-.92-.59-1.43-.59-.52 0-1.04.2-1.43.59L10.3 9.45l-7.72 7.72c-.78.78-.78 2.05 0 2.83L4 21.41c.39.39.9.59 1.41.59.51 0 1.02-.2 1.41-.59l7.78-7.78 2.81-2.81c.8-.78.8-2.07 0-2.86zM5.41 20L4 18.59l7.72-7.72 1.47 1.35L5.41 20z\"/>\n",
              "  </svg>\n",
              "      </button>\n",
              "      \n",
              "  <style>\n",
              "    .colab-df-container {\n",
              "      display:flex;\n",
              "      flex-wrap:wrap;\n",
              "      gap: 12px;\n",
              "    }\n",
              "\n",
              "    .colab-df-convert {\n",
              "      background-color: #E8F0FE;\n",
              "      border: none;\n",
              "      border-radius: 50%;\n",
              "      cursor: pointer;\n",
              "      display: none;\n",
              "      fill: #1967D2;\n",
              "      height: 32px;\n",
              "      padding: 0 0 0 0;\n",
              "      width: 32px;\n",
              "    }\n",
              "\n",
              "    .colab-df-convert:hover {\n",
              "      background-color: #E2EBFA;\n",
              "      box-shadow: 0px 1px 2px rgba(60, 64, 67, 0.3), 0px 1px 3px 1px rgba(60, 64, 67, 0.15);\n",
              "      fill: #174EA6;\n",
              "    }\n",
              "\n",
              "    [theme=dark] .colab-df-convert {\n",
              "      background-color: #3B4455;\n",
              "      fill: #D2E3FC;\n",
              "    }\n",
              "\n",
              "    [theme=dark] .colab-df-convert:hover {\n",
              "      background-color: #434B5C;\n",
              "      box-shadow: 0px 1px 3px 1px rgba(0, 0, 0, 0.15);\n",
              "      filter: drop-shadow(0px 1px 2px rgba(0, 0, 0, 0.3));\n",
              "      fill: #FFFFFF;\n",
              "    }\n",
              "  </style>\n",
              "\n",
              "      <script>\n",
              "        const buttonEl =\n",
              "          document.querySelector('#df-bc6f897b-40f6-4747-8280-d599f1986867 button.colab-df-convert');\n",
              "        buttonEl.style.display =\n",
              "          google.colab.kernel.accessAllowed ? 'block' : 'none';\n",
              "\n",
              "        async function convertToInteractive(key) {\n",
              "          const element = document.querySelector('#df-bc6f897b-40f6-4747-8280-d599f1986867');\n",
              "          const dataTable =\n",
              "            await google.colab.kernel.invokeFunction('convertToInteractive',\n",
              "                                                     [key], {});\n",
              "          if (!dataTable) return;\n",
              "\n",
              "          const docLinkHtml = 'Like what you see? Visit the ' +\n",
              "            '<a target=\"_blank\" href=https://colab.research.google.com/notebooks/data_table.ipynb>data table notebook</a>'\n",
              "            + ' to learn more about interactive tables.';\n",
              "          element.innerHTML = '';\n",
              "          dataTable['output_type'] = 'display_data';\n",
              "          await google.colab.output.renderOutput(dataTable, element);\n",
              "          const docLink = document.createElement('div');\n",
              "          docLink.innerHTML = docLinkHtml;\n",
              "          element.appendChild(docLink);\n",
              "        }\n",
              "      </script>\n",
              "    </div>\n",
              "  </div>\n",
              "  "
            ]
          },
          "metadata": {},
          "execution_count": 235
        }
      ]
    },
    {
      "cell_type": "code",
      "source": [
        "summarize_text(full_text, num_bull_points=10, len_of_point=20)"
      ],
      "metadata": {
        "colab": {
          "base_uri": "https://localhost:8080/",
          "height": 848
        },
        "id": "kf7hRAVQOIZK",
        "outputId": "802bbfbd-4c11-42e2-a76f-5eaa821b8e6e"
      },
      "execution_count": 233,
      "outputs": [
        {
          "output_type": "stream",
          "name": "stderr",
          "text": [
            "/usr/local/lib/python3.7/dist-packages/ipykernel_launcher.py:2: FutureWarning: The default value of regex will change from True to False in a future version.\n",
            "  \n",
            "/usr/local/lib/python3.7/dist-packages/ipykernel_launcher.py:2: FutureWarning: The default value of regex will change from True to False in a future version.\n",
            "  \n"
          ]
        },
        {
          "output_type": "execute_result",
          "data": {
            "text/plain": [
              "       rank  \\\n",
              "0  0.011984   \n",
              "1  0.011365   \n",
              "2  0.011309   \n",
              "3  0.011256   \n",
              "4  0.011244   \n",
              "5  0.011207   \n",
              "6  0.011189   \n",
              "7  0.011174   \n",
              "8  0.011149   \n",
              "9  0.011136   \n",
              "\n",
              "                                                                                                                                                                                                                             sent  \\\n",
              "0                                                                                                                                       свои переживания перекладываю стране которую раздирают части хорошего ждать не приходится   \n",
              "1                                                                                                             ощущение что теряешь время которого мало параллельно не улучшается тебе наваливается сверху разгребать одновременно   \n",
              "2                                              думала что начать инвестировать не знаешь думаю что пол года назад параллельно подушкой делать радует что стабильность деньгах смогла научиться управлять немного своими финансами   \n",
              "3                                                                                                                     смотрю дырявую финансовую подушку безопасности судорожно понимаю что кроме прочего никакого верного решения   \n",
              "4                                                                 знаю что бывают изначально плохо живу бомбой часовым механизмом не предлагаю никаких идей не хочу проживать сил эмоции не отслеживаю не приятно описать не могу   \n",
              "5                                                                                                                    правильно услышала тревожит именно неопределенность решениях внутри семьи отсутствие возможности договорится   \n",
              "6                                                      читаю блекауты теории заговора считаю остаток бюджета сколько хватит денег разных условиях жизни думаю пытаюсь выделить деньги английский прилетают дополнительные расходы   \n",
              "7  последний момент откладывает раньше не таких критический ситуаций могла подождать делать что хотела ссорились понятно что принимал решение позже проще никого не напрягала случалось понимал что поздно начал шевелится смешно   \n",
              "8                     домашнее задание хочу дать возможность разобраться своих эмоциях понять что чувствуете каждый возникать ситуация муж затягивать решением маленькая бытовая ситуация записывать дневник ситуацию свои эмоции   \n",
              "9                                       основной работы большой стресс искать новую хотите вернуться киев не можете решить стоит делать также хочется получить поддержку мужа не можете получить той помощи которую рассчитываете   \n",
              "\n",
              "                                                                  summuries  \n",
              "0                                        Мне не нужно ждать ничего хорошего  \n",
              "1                                     Ощущение что ты теряешь много времени  \n",
              "2                                      Мне кажется что я не знаю что делать  \n",
              "3     Смотрю в дырявой финансовой подушке безопасности понимаю что никакого  \n",
              "4                   Я знаю что происходит изначально не знаю что происходит  \n",
              "5  Неопределенность между решениями внутри семьи невозможность договориться  \n",
              "6                       Считаю сколько денег хватит на разные условия жизни  \n",
              "7                 Последний момент откладывал не такие критические ситуации  \n",
              "8         Мне нужно разобраться с эмоциями каждый из нас возникает ситуация  \n",
              "9                                   Большой стресс хочется вернуться в киев  "
            ],
            "text/html": [
              "\n",
              "  <div id=\"df-45c49488-3dbc-485e-9c77-7e2a5da62336\">\n",
              "    <div class=\"colab-df-container\">\n",
              "      <div>\n",
              "<style scoped>\n",
              "    .dataframe tbody tr th:only-of-type {\n",
              "        vertical-align: middle;\n",
              "    }\n",
              "\n",
              "    .dataframe tbody tr th {\n",
              "        vertical-align: top;\n",
              "    }\n",
              "\n",
              "    .dataframe thead th {\n",
              "        text-align: right;\n",
              "    }\n",
              "</style>\n",
              "<table border=\"1\" class=\"dataframe\">\n",
              "  <thead>\n",
              "    <tr style=\"text-align: right;\">\n",
              "      <th></th>\n",
              "      <th>rank</th>\n",
              "      <th>sent</th>\n",
              "      <th>summuries</th>\n",
              "    </tr>\n",
              "  </thead>\n",
              "  <tbody>\n",
              "    <tr>\n",
              "      <th>0</th>\n",
              "      <td>0.011984</td>\n",
              "      <td>свои переживания перекладываю стране которую раздирают части хорошего ждать не приходится</td>\n",
              "      <td>Мне не нужно ждать ничего хорошего</td>\n",
              "    </tr>\n",
              "    <tr>\n",
              "      <th>1</th>\n",
              "      <td>0.011365</td>\n",
              "      <td>ощущение что теряешь время которого мало параллельно не улучшается тебе наваливается сверху разгребать одновременно</td>\n",
              "      <td>Ощущение что ты теряешь много времени</td>\n",
              "    </tr>\n",
              "    <tr>\n",
              "      <th>2</th>\n",
              "      <td>0.011309</td>\n",
              "      <td>думала что начать инвестировать не знаешь думаю что пол года назад параллельно подушкой делать радует что стабильность деньгах смогла научиться управлять немного своими финансами</td>\n",
              "      <td>Мне кажется что я не знаю что делать</td>\n",
              "    </tr>\n",
              "    <tr>\n",
              "      <th>3</th>\n",
              "      <td>0.011256</td>\n",
              "      <td>смотрю дырявую финансовую подушку безопасности судорожно понимаю что кроме прочего никакого верного решения</td>\n",
              "      <td>Смотрю в дырявой финансовой подушке безопасности понимаю что никакого</td>\n",
              "    </tr>\n",
              "    <tr>\n",
              "      <th>4</th>\n",
              "      <td>0.011244</td>\n",
              "      <td>знаю что бывают изначально плохо живу бомбой часовым механизмом не предлагаю никаких идей не хочу проживать сил эмоции не отслеживаю не приятно описать не могу</td>\n",
              "      <td>Я знаю что происходит изначально не знаю что происходит</td>\n",
              "    </tr>\n",
              "    <tr>\n",
              "      <th>5</th>\n",
              "      <td>0.011207</td>\n",
              "      <td>правильно услышала тревожит именно неопределенность решениях внутри семьи отсутствие возможности договорится</td>\n",
              "      <td>Неопределенность между решениями внутри семьи невозможность договориться</td>\n",
              "    </tr>\n",
              "    <tr>\n",
              "      <th>6</th>\n",
              "      <td>0.011189</td>\n",
              "      <td>читаю блекауты теории заговора считаю остаток бюджета сколько хватит денег разных условиях жизни думаю пытаюсь выделить деньги английский прилетают дополнительные расходы</td>\n",
              "      <td>Считаю сколько денег хватит на разные условия жизни</td>\n",
              "    </tr>\n",
              "    <tr>\n",
              "      <th>7</th>\n",
              "      <td>0.011174</td>\n",
              "      <td>последний момент откладывает раньше не таких критический ситуаций могла подождать делать что хотела ссорились понятно что принимал решение позже проще никого не напрягала случалось понимал что поздно начал шевелится смешно</td>\n",
              "      <td>Последний момент откладывал не такие критические ситуации</td>\n",
              "    </tr>\n",
              "    <tr>\n",
              "      <th>8</th>\n",
              "      <td>0.011149</td>\n",
              "      <td>домашнее задание хочу дать возможность разобраться своих эмоциях понять что чувствуете каждый возникать ситуация муж затягивать решением маленькая бытовая ситуация записывать дневник ситуацию свои эмоции</td>\n",
              "      <td>Мне нужно разобраться с эмоциями каждый из нас возникает ситуация</td>\n",
              "    </tr>\n",
              "    <tr>\n",
              "      <th>9</th>\n",
              "      <td>0.011136</td>\n",
              "      <td>основной работы большой стресс искать новую хотите вернуться киев не можете решить стоит делать также хочется получить поддержку мужа не можете получить той помощи которую рассчитываете</td>\n",
              "      <td>Большой стресс хочется вернуться в киев</td>\n",
              "    </tr>\n",
              "  </tbody>\n",
              "</table>\n",
              "</div>\n",
              "      <button class=\"colab-df-convert\" onclick=\"convertToInteractive('df-45c49488-3dbc-485e-9c77-7e2a5da62336')\"\n",
              "              title=\"Convert this dataframe to an interactive table.\"\n",
              "              style=\"display:none;\">\n",
              "        \n",
              "  <svg xmlns=\"http://www.w3.org/2000/svg\" height=\"24px\"viewBox=\"0 0 24 24\"\n",
              "       width=\"24px\">\n",
              "    <path d=\"M0 0h24v24H0V0z\" fill=\"none\"/>\n",
              "    <path d=\"M18.56 5.44l.94 2.06.94-2.06 2.06-.94-2.06-.94-.94-2.06-.94 2.06-2.06.94zm-11 1L8.5 8.5l.94-2.06 2.06-.94-2.06-.94L8.5 2.5l-.94 2.06-2.06.94zm10 10l.94 2.06.94-2.06 2.06-.94-2.06-.94-.94-2.06-.94 2.06-2.06.94z\"/><path d=\"M17.41 7.96l-1.37-1.37c-.4-.4-.92-.59-1.43-.59-.52 0-1.04.2-1.43.59L10.3 9.45l-7.72 7.72c-.78.78-.78 2.05 0 2.83L4 21.41c.39.39.9.59 1.41.59.51 0 1.02-.2 1.41-.59l7.78-7.78 2.81-2.81c.8-.78.8-2.07 0-2.86zM5.41 20L4 18.59l7.72-7.72 1.47 1.35L5.41 20z\"/>\n",
              "  </svg>\n",
              "      </button>\n",
              "      \n",
              "  <style>\n",
              "    .colab-df-container {\n",
              "      display:flex;\n",
              "      flex-wrap:wrap;\n",
              "      gap: 12px;\n",
              "    }\n",
              "\n",
              "    .colab-df-convert {\n",
              "      background-color: #E8F0FE;\n",
              "      border: none;\n",
              "      border-radius: 50%;\n",
              "      cursor: pointer;\n",
              "      display: none;\n",
              "      fill: #1967D2;\n",
              "      height: 32px;\n",
              "      padding: 0 0 0 0;\n",
              "      width: 32px;\n",
              "    }\n",
              "\n",
              "    .colab-df-convert:hover {\n",
              "      background-color: #E2EBFA;\n",
              "      box-shadow: 0px 1px 2px rgba(60, 64, 67, 0.3), 0px 1px 3px 1px rgba(60, 64, 67, 0.15);\n",
              "      fill: #174EA6;\n",
              "    }\n",
              "\n",
              "    [theme=dark] .colab-df-convert {\n",
              "      background-color: #3B4455;\n",
              "      fill: #D2E3FC;\n",
              "    }\n",
              "\n",
              "    [theme=dark] .colab-df-convert:hover {\n",
              "      background-color: #434B5C;\n",
              "      box-shadow: 0px 1px 3px 1px rgba(0, 0, 0, 0.15);\n",
              "      filter: drop-shadow(0px 1px 2px rgba(0, 0, 0, 0.3));\n",
              "      fill: #FFFFFF;\n",
              "    }\n",
              "  </style>\n",
              "\n",
              "      <script>\n",
              "        const buttonEl =\n",
              "          document.querySelector('#df-45c49488-3dbc-485e-9c77-7e2a5da62336 button.colab-df-convert');\n",
              "        buttonEl.style.display =\n",
              "          google.colab.kernel.accessAllowed ? 'block' : 'none';\n",
              "\n",
              "        async function convertToInteractive(key) {\n",
              "          const element = document.querySelector('#df-45c49488-3dbc-485e-9c77-7e2a5da62336');\n",
              "          const dataTable =\n",
              "            await google.colab.kernel.invokeFunction('convertToInteractive',\n",
              "                                                     [key], {});\n",
              "          if (!dataTable) return;\n",
              "\n",
              "          const docLinkHtml = 'Like what you see? Visit the ' +\n",
              "            '<a target=\"_blank\" href=https://colab.research.google.com/notebooks/data_table.ipynb>data table notebook</a>'\n",
              "            + ' to learn more about interactive tables.';\n",
              "          element.innerHTML = '';\n",
              "          dataTable['output_type'] = 'display_data';\n",
              "          await google.colab.output.renderOutput(dataTable, element);\n",
              "          const docLink = document.createElement('div');\n",
              "          docLink.innerHTML = docLinkHtml;\n",
              "          element.appendChild(docLink);\n",
              "        }\n",
              "      </script>\n",
              "    </div>\n",
              "  </div>\n",
              "  "
            ]
          },
          "metadata": {},
          "execution_count": 233
        }
      ]
    },
    {
      "cell_type": "code",
      "source": [
        "summarize_text(full_cli_text, num_bull_points=3, len_of_point=10)"
      ],
      "metadata": {
        "colab": {
          "base_uri": "https://localhost:8080/",
          "height": 350
        },
        "id": "p1cvXNzaPKuu",
        "outputId": "9573ec65-0840-4d7c-f1e3-187cfb725b6b"
      },
      "execution_count": 236,
      "outputs": [
        {
          "output_type": "stream",
          "name": "stderr",
          "text": [
            "/usr/local/lib/python3.7/dist-packages/ipykernel_launcher.py:2: FutureWarning: The default value of regex will change from True to False in a future version.\n",
            "  \n",
            "/usr/local/lib/python3.7/dist-packages/ipykernel_launcher.py:2: FutureWarning: The default value of regex will change from True to False in a future version.\n",
            "  \n"
          ]
        },
        {
          "output_type": "execute_result",
          "data": {
            "text/plain": [
              "       rank  \\\n",
              "0  0.015605   \n",
              "1  0.014798   \n",
              "2  0.014756   \n",
              "\n",
              "                                                                                                                                                                                 sent  \\\n",
              "0                                                                                           свои переживания перекладываю стране которую раздирают части хорошего ждать не приходится   \n",
              "1  думала что начать инвестировать не знаешь думаю что пол года назад параллельно подушкой делать радует что стабильность деньгах смогла научиться управлять немного своими финансами   \n",
              "2                                                                 ощущение что теряешь время которого мало параллельно не улучшается тебе наваливается сверху разгребать одновременно   \n",
              "\n",
              "                     summuries  \n",
              "0  Мне не нужно ждать хорошего  \n",
              "1    Не знаешь что я думаю что  \n",
              "2   Это чувство что ты теряешь  "
            ],
            "text/html": [
              "\n",
              "  <div id=\"df-22ca2e67-70a3-47d6-b477-a821e6701b05\">\n",
              "    <div class=\"colab-df-container\">\n",
              "      <div>\n",
              "<style scoped>\n",
              "    .dataframe tbody tr th:only-of-type {\n",
              "        vertical-align: middle;\n",
              "    }\n",
              "\n",
              "    .dataframe tbody tr th {\n",
              "        vertical-align: top;\n",
              "    }\n",
              "\n",
              "    .dataframe thead th {\n",
              "        text-align: right;\n",
              "    }\n",
              "</style>\n",
              "<table border=\"1\" class=\"dataframe\">\n",
              "  <thead>\n",
              "    <tr style=\"text-align: right;\">\n",
              "      <th></th>\n",
              "      <th>rank</th>\n",
              "      <th>sent</th>\n",
              "      <th>summuries</th>\n",
              "    </tr>\n",
              "  </thead>\n",
              "  <tbody>\n",
              "    <tr>\n",
              "      <th>0</th>\n",
              "      <td>0.015605</td>\n",
              "      <td>свои переживания перекладываю стране которую раздирают части хорошего ждать не приходится</td>\n",
              "      <td>Мне не нужно ждать хорошего</td>\n",
              "    </tr>\n",
              "    <tr>\n",
              "      <th>1</th>\n",
              "      <td>0.014798</td>\n",
              "      <td>думала что начать инвестировать не знаешь думаю что пол года назад параллельно подушкой делать радует что стабильность деньгах смогла научиться управлять немного своими финансами</td>\n",
              "      <td>Не знаешь что я думаю что</td>\n",
              "    </tr>\n",
              "    <tr>\n",
              "      <th>2</th>\n",
              "      <td>0.014756</td>\n",
              "      <td>ощущение что теряешь время которого мало параллельно не улучшается тебе наваливается сверху разгребать одновременно</td>\n",
              "      <td>Это чувство что ты теряешь</td>\n",
              "    </tr>\n",
              "  </tbody>\n",
              "</table>\n",
              "</div>\n",
              "      <button class=\"colab-df-convert\" onclick=\"convertToInteractive('df-22ca2e67-70a3-47d6-b477-a821e6701b05')\"\n",
              "              title=\"Convert this dataframe to an interactive table.\"\n",
              "              style=\"display:none;\">\n",
              "        \n",
              "  <svg xmlns=\"http://www.w3.org/2000/svg\" height=\"24px\"viewBox=\"0 0 24 24\"\n",
              "       width=\"24px\">\n",
              "    <path d=\"M0 0h24v24H0V0z\" fill=\"none\"/>\n",
              "    <path d=\"M18.56 5.44l.94 2.06.94-2.06 2.06-.94-2.06-.94-.94-2.06-.94 2.06-2.06.94zm-11 1L8.5 8.5l.94-2.06 2.06-.94-2.06-.94L8.5 2.5l-.94 2.06-2.06.94zm10 10l.94 2.06.94-2.06 2.06-.94-2.06-.94-.94-2.06-.94 2.06-2.06.94z\"/><path d=\"M17.41 7.96l-1.37-1.37c-.4-.4-.92-.59-1.43-.59-.52 0-1.04.2-1.43.59L10.3 9.45l-7.72 7.72c-.78.78-.78 2.05 0 2.83L4 21.41c.39.39.9.59 1.41.59.51 0 1.02-.2 1.41-.59l7.78-7.78 2.81-2.81c.8-.78.8-2.07 0-2.86zM5.41 20L4 18.59l7.72-7.72 1.47 1.35L5.41 20z\"/>\n",
              "  </svg>\n",
              "      </button>\n",
              "      \n",
              "  <style>\n",
              "    .colab-df-container {\n",
              "      display:flex;\n",
              "      flex-wrap:wrap;\n",
              "      gap: 12px;\n",
              "    }\n",
              "\n",
              "    .colab-df-convert {\n",
              "      background-color: #E8F0FE;\n",
              "      border: none;\n",
              "      border-radius: 50%;\n",
              "      cursor: pointer;\n",
              "      display: none;\n",
              "      fill: #1967D2;\n",
              "      height: 32px;\n",
              "      padding: 0 0 0 0;\n",
              "      width: 32px;\n",
              "    }\n",
              "\n",
              "    .colab-df-convert:hover {\n",
              "      background-color: #E2EBFA;\n",
              "      box-shadow: 0px 1px 2px rgba(60, 64, 67, 0.3), 0px 1px 3px 1px rgba(60, 64, 67, 0.15);\n",
              "      fill: #174EA6;\n",
              "    }\n",
              "\n",
              "    [theme=dark] .colab-df-convert {\n",
              "      background-color: #3B4455;\n",
              "      fill: #D2E3FC;\n",
              "    }\n",
              "\n",
              "    [theme=dark] .colab-df-convert:hover {\n",
              "      background-color: #434B5C;\n",
              "      box-shadow: 0px 1px 3px 1px rgba(0, 0, 0, 0.15);\n",
              "      filter: drop-shadow(0px 1px 2px rgba(0, 0, 0, 0.3));\n",
              "      fill: #FFFFFF;\n",
              "    }\n",
              "  </style>\n",
              "\n",
              "      <script>\n",
              "        const buttonEl =\n",
              "          document.querySelector('#df-22ca2e67-70a3-47d6-b477-a821e6701b05 button.colab-df-convert');\n",
              "        buttonEl.style.display =\n",
              "          google.colab.kernel.accessAllowed ? 'block' : 'none';\n",
              "\n",
              "        async function convertToInteractive(key) {\n",
              "          const element = document.querySelector('#df-22ca2e67-70a3-47d6-b477-a821e6701b05');\n",
              "          const dataTable =\n",
              "            await google.colab.kernel.invokeFunction('convertToInteractive',\n",
              "                                                     [key], {});\n",
              "          if (!dataTable) return;\n",
              "\n",
              "          const docLinkHtml = 'Like what you see? Visit the ' +\n",
              "            '<a target=\"_blank\" href=https://colab.research.google.com/notebooks/data_table.ipynb>data table notebook</a>'\n",
              "            + ' to learn more about interactive tables.';\n",
              "          element.innerHTML = '';\n",
              "          dataTable['output_type'] = 'display_data';\n",
              "          await google.colab.output.renderOutput(dataTable, element);\n",
              "          const docLink = document.createElement('div');\n",
              "          docLink.innerHTML = docLinkHtml;\n",
              "          element.appendChild(docLink);\n",
              "        }\n",
              "      </script>\n",
              "    </div>\n",
              "  </div>\n",
              "  "
            ]
          },
          "metadata": {},
          "execution_count": 236
        }
      ]
    },
    {
      "cell_type": "markdown",
      "source": [
        "## Visulization"
      ],
      "metadata": {
        "id": "oK8_uBebO2JJ"
      }
    },
    {
      "cell_type": "code",
      "source": [
        "def show_length_difference(df):\n",
        "  print(df)\n",
        "  text_word_count = []\n",
        "  summary_word_count = []\n",
        "\n",
        "  for i in df['sent']:\n",
        "      text_word_count.append(len(i.split()))\n",
        "\n",
        "  for i in df['summuries']:\n",
        "      summary_word_count.append(len(i.split()))\n",
        "\n",
        "  length_df = pd.DataFrame({'sentences':text_word_count, 'summary':summary_word_count})\n",
        "  length_df.hist(bins = df.shape[0])\n",
        "  plt.show()\n"
      ],
      "metadata": {
        "id": "D1fD5Ac0O0RQ"
      },
      "execution_count": 242,
      "outputs": []
    },
    {
      "cell_type": "code",
      "source": [
        "show_length_difference(summarize_text(full_psy_text, num_bull_points=10, len_of_point=10))"
      ],
      "metadata": {
        "colab": {
          "base_uri": "https://localhost:8080/",
          "height": 1000
        },
        "id": "FBof-TrtPkJY",
        "outputId": "427fcf77-7a7b-456d-e092-7956b4dd5479"
      },
      "execution_count": 243,
      "outputs": [
        {
          "output_type": "stream",
          "name": "stderr",
          "text": [
            "/usr/local/lib/python3.7/dist-packages/ipykernel_launcher.py:2: FutureWarning: The default value of regex will change from True to False in a future version.\n",
            "  \n",
            "/usr/local/lib/python3.7/dist-packages/ipykernel_launcher.py:2: FutureWarning: The default value of regex will change from True to False in a future version.\n",
            "  \n"
          ]
        },
        {
          "output_type": "stream",
          "name": "stdout",
          "text": [
            "       rank  \\\n",
            "0  0.049499   \n",
            "1  0.048077   \n",
            "2  0.047891   \n",
            "3  0.047858   \n",
            "4  0.046009   \n",
            "5  0.045446   \n",
            "6  0.044517   \n",
            "7  0.044221   \n",
            "8  0.043576   \n",
            "9  0.042795   \n",
            "\n",
            "                                                                                                                                                                                                          sent  \\\n",
            "0                                                                                                 правильно услышала тревожит именно неопределенность решениях внутри семьи отсутствие возможности договорится   \n",
            "1                                                                                                                                        расскажите подробнее понимаю разные точки зрения какую ситуацию мужем   \n",
            "2                                                                                                                             каждая семья строит свои взаимоотношения единственного верного решения правильно   \n",
            "3  домашнее задание хочу дать возможность разобраться своих эмоциях понять что чувствуете каждый возникать ситуация муж затягивать решением маленькая бытовая ситуация записывать дневник ситуацию свои эмоции   \n",
            "4                    основной работы большой стресс искать новую хотите вернуться киев не можете решить стоит делать также хочется получить поддержку мужа не можете получить той помощи которую рассчитываете   \n",
            "5                                                                                                                                                    давайте выделим вопросы которые услышала продолжим работу   \n",
            "6                                                                                                                                             скажите раньше возникали ситуации муж оттягивал принятие решений   \n",
            "7                                                                                                                                                         расскажите каким запросом пришли нашу первую встречу   \n",
            "8                                                                                                                                         решение задайте вопрос готовы брать ответственность принятые решения   \n",
            "9                                                                                                                                                                   надеюсь что наш разговор приятным полезным   \n",
            "\n",
            "                                       summuries  \n",
            "0  Неопределенность между решениями внутри семьи  \n",
            "1           Скажите мне подробнее какая ситуация  \n",
            "2                Все семьи строят свои отношения  \n",
            "3                  Мне нужно разобраться с эмоци  \n",
            "4                     Большой стресс хочется вер  \n",
            "5                   Давайте посмотрим на вопросы  \n",
            "6                  Если раньше были проблемы муж  \n",
            "7                  Скажи мне какой запрос пришел  \n",
            "8         Вы готовы принимать ответственность за  \n",
            "9            Надеюсь наш разговор будет приятным  \n"
          ]
        },
        {
          "output_type": "display_data",
          "data": {
            "text/plain": [
              "<Figure size 432x288 with 2 Axes>"
            ],
            "image/png": "[encoded data removed]"
          },
          "metadata": {
            "needs_background": "light"
          }
        }
      ]
    },
    {
      "cell_type": "markdown",
      "source": [
        "# Deployment"
      ],
      "metadata": {
        "id": "tI713Td3BaYU"
      }
    },
    {
      "cell_type": "code",
      "source": [
        "class Summarizer():\n",
        "    def __init__(self):\n",
        "        self.conversation_text = None\n",
        "        self.type_of_summary = None\n",
        "        self.amount_of_bullet_points = None\n",
        "        self.max_len_of_point = None\n",
        "        self.cli_psy_all = None\n",
        "        self.summary_list = None\n",
        "\n",
        "    def welcome(self):\n",
        "        print(\"Initializing ...\")\n",
        "        time.sleep(2)\n",
        "        self.conversation_text = str(input(\"Input dialog text: the text should start with \\n \\\"психолог\\\" or \\\"о\\\" to show clients and psycologists replies independently\"))\n",
        "        time.sleep(3)\n",
        "    \n",
        "    def set_settings(self):\n",
        "        self.type_of_summary = str(input(\"Press e or a to perform extractive or abstractive summarization: \\n \"))\n",
        "        self.amount_of_bullet_points = int(input(\"Select how many bullet points to display, \\n perfect number is from 3 to 7: \\n \"))\n",
        "        self.max_len_of_point = int(input(\"Adjust the max length of bullet points, \\n perfect number is from 3 to 20 words: \"))\n",
        "        self.cli_psy_all = str(input(\"Print \\'psy\\', \\'cli\\' or \\'all\\' to consider \\n only psycologist\\'s, client\\'s replies or all of the replies in summarization: \\n \"))\n",
        "\n",
        "    def summarize(self):\n",
        "       list_t = [self.conversation_text]\n",
        "       df_texttext = pd.DataFrame(list_t)\n",
        "       self.summary_list = get_summary_phrases(list_t, extract_summary_t5)\n",
        "       \n",
        "    def show_results(self):\n",
        "        print_n(self.summary_list)\n",
        "        # def show example \n"
      ],
      "metadata": {
        "id": "XcdkckWQBe-E"
      },
      "execution_count": null,
      "outputs": []
    },
    {
      "cell_type": "code",
      "source": [
        ""
      ],
      "metadata": {
        "id": "Nzt1PjOoOGZd"
      },
      "execution_count": null,
      "outputs": []
    },
    {
      "cell_type": "code",
      "source": [
        "s = Summarizer()\n",
        "s.welcome()\n",
        "s.set_settings()\n",
        "s.summarize()\n",
        "s.show_results()\n",
        "\n",
        "# while True:\n",
        "#     s. \n",
        "#     bot.user_input()\n",
        "#     if bot.end_chat:\n",
        "#         break\n",
        "#     if bot.is_greeting == False:\n",
        "#       if bot.is_question == True:\n",
        "#         bot.bot_answer()\n",
        "#       else:\n",
        "#         bot.bot_response() \n",
        "#     else: bot.bot_greet()  "
      ],
      "metadata": {
        "id": "FU2lSl1iDPuw"
      },
      "execution_count": null,
      "outputs": []
    },
    {
      "cell_type": "code",
      "source": [
        "t = 'Психолог: хорошо, тогда мы определились с первым заданием и будем понемногу начинать понимать себя, спасибо за встречу.'\n",
        "list_t = [t]\n",
        "df_texttext = pd.DataFrame(list_t)\n",
        "df_texttext"
      ],
      "metadata": {
        "id": "qe2z94PaJIe5",
        "colab": {
          "base_uri": "https://localhost:8080/",
          "height": 142
        },
        "outputId": "a0932f29-3f54-47e9-f992-b39549cc15be"
      },
      "execution_count": 206,
      "outputs": [
        {
          "output_type": "execute_result",
          "data": {
            "text/plain": [
              "                                                                                                                         0\n",
              "0  Психолог: хорошо, тогда мы определились с первым заданием и будем понемногу начинать понимать себя, спасибо за встречу."
            ],
            "text/html": [
              "\n",
              "  <div id=\"df-2aa5f27a-f387-4705-b135-f55c2547542f\">\n",
              "    <div class=\"colab-df-container\">\n",
              "      <div>\n",
              "<style scoped>\n",
              "    .dataframe tbody tr th:only-of-type {\n",
              "        vertical-align: middle;\n",
              "    }\n",
              "\n",
              "    .dataframe tbody tr th {\n",
              "        vertical-align: top;\n",
              "    }\n",
              "\n",
              "    .dataframe thead th {\n",
              "        text-align: right;\n",
              "    }\n",
              "</style>\n",
              "<table border=\"1\" class=\"dataframe\">\n",
              "  <thead>\n",
              "    <tr style=\"text-align: right;\">\n",
              "      <th></th>\n",
              "      <th>0</th>\n",
              "    </tr>\n",
              "  </thead>\n",
              "  <tbody>\n",
              "    <tr>\n",
              "      <th>0</th>\n",
              "      <td>Психолог: хорошо, тогда мы определились с первым заданием и будем понемногу начинать понимать себя, спасибо за встречу.</td>\n",
              "    </tr>\n",
              "  </tbody>\n",
              "</table>\n",
              "</div>\n",
              "      <button class=\"colab-df-convert\" onclick=\"convertToInteractive('df-2aa5f27a-f387-4705-b135-f55c2547542f')\"\n",
              "              title=\"Convert this dataframe to an interactive table.\"\n",
              "              style=\"display:none;\">\n",
              "        \n",
              "  <svg xmlns=\"http://www.w3.org/2000/svg\" height=\"24px\"viewBox=\"0 0 24 24\"\n",
              "       width=\"24px\">\n",
              "    <path d=\"M0 0h24v24H0V0z\" fill=\"none\"/>\n",
              "    <path d=\"M18.56 5.44l.94 2.06.94-2.06 2.06-.94-2.06-.94-.94-2.06-.94 2.06-2.06.94zm-11 1L8.5 8.5l.94-2.06 2.06-.94-2.06-.94L8.5 2.5l-.94 2.06-2.06.94zm10 10l.94 2.06.94-2.06 2.06-.94-2.06-.94-.94-2.06-.94 2.06-2.06.94z\"/><path d=\"M17.41 7.96l-1.37-1.37c-.4-.4-.92-.59-1.43-.59-.52 0-1.04.2-1.43.59L10.3 9.45l-7.72 7.72c-.78.78-.78 2.05 0 2.83L4 21.41c.39.39.9.59 1.41.59.51 0 1.02-.2 1.41-.59l7.78-7.78 2.81-2.81c.8-.78.8-2.07 0-2.86zM5.41 20L4 18.59l7.72-7.72 1.47 1.35L5.41 20z\"/>\n",
              "  </svg>\n",
              "      </button>\n",
              "      \n",
              "  <style>\n",
              "    .colab-df-container {\n",
              "      display:flex;\n",
              "      flex-wrap:wrap;\n",
              "      gap: 12px;\n",
              "    }\n",
              "\n",
              "    .colab-df-convert {\n",
              "      background-color: #E8F0FE;\n",
              "      border: none;\n",
              "      border-radius: 50%;\n",
              "      cursor: pointer;\n",
              "      display: none;\n",
              "      fill: #1967D2;\n",
              "      height: 32px;\n",
              "      padding: 0 0 0 0;\n",
              "      width: 32px;\n",
              "    }\n",
              "\n",
              "    .colab-df-convert:hover {\n",
              "      background-color: #E2EBFA;\n",
              "      box-shadow: 0px 1px 2px rgba(60, 64, 67, 0.3), 0px 1px 3px 1px rgba(60, 64, 67, 0.15);\n",
              "      fill: #174EA6;\n",
              "    }\n",
              "\n",
              "    [theme=dark] .colab-df-convert {\n",
              "      background-color: #3B4455;\n",
              "      fill: #D2E3FC;\n",
              "    }\n",
              "\n",
              "    [theme=dark] .colab-df-convert:hover {\n",
              "      background-color: #434B5C;\n",
              "      box-shadow: 0px 1px 3px 1px rgba(0, 0, 0, 0.15);\n",
              "      filter: drop-shadow(0px 1px 2px rgba(0, 0, 0, 0.3));\n",
              "      fill: #FFFFFF;\n",
              "    }\n",
              "  </style>\n",
              "\n",
              "      <script>\n",
              "        const buttonEl =\n",
              "          document.querySelector('#df-2aa5f27a-f387-4705-b135-f55c2547542f button.colab-df-convert');\n",
              "        buttonEl.style.display =\n",
              "          google.colab.kernel.accessAllowed ? 'block' : 'none';\n",
              "\n",
              "        async function convertToInteractive(key) {\n",
              "          const element = document.querySelector('#df-2aa5f27a-f387-4705-b135-f55c2547542f');\n",
              "          const dataTable =\n",
              "            await google.colab.kernel.invokeFunction('convertToInteractive',\n",
              "                                                     [key], {});\n",
              "          if (!dataTable) return;\n",
              "\n",
              "          const docLinkHtml = 'Like what you see? Visit the ' +\n",
              "            '<a target=\"_blank\" href=https://colab.research.google.com/notebooks/data_table.ipynb>data table notebook</a>'\n",
              "            + ' to learn more about interactive tables.';\n",
              "          element.innerHTML = '';\n",
              "          dataTable['output_type'] = 'display_data';\n",
              "          await google.colab.output.renderOutput(dataTable, element);\n",
              "          const docLink = document.createElement('div');\n",
              "          docLink.innerHTML = docLinkHtml;\n",
              "          element.appendChild(docLink);\n",
              "        }\n",
              "      </script>\n",
              "    </div>\n",
              "  </div>\n",
              "  "
            ]
          },
          "metadata": {},
          "execution_count": 206
        }
      ]
    }
  ]
}